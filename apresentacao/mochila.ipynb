{
 "cells": [
  {
   "cell_type": "markdown",
   "metadata": {},
   "source": [
    "<hr>\n",
    "\n",
    "## 4. Problema da Mochila Inteira\n",
    "\n",
    "<div style=\"justify\">\n",
    "Dada uma mochila de capacidade 20 litros e um conjunto de 3 itens com tamanhos w_i (em litros) e valores v_i (em reais) associados a cada item i, de acordo com a tabela a seguir, queremos determinar quais e quantos itens devem ser colocados na mochila de modo a maximizar o valor total transportado, respeitando sua capacidade.\n",
    "</div>\n",
    "\n",
    "\n",
    "|   | $x_1$ | $x_2$ | $x_3$ |\n",
    "| ------------- | ------------- | ------------- | ------------- |\n",
    "| $v_i$  | R$ 11,00  | R$ 12,00  | R$ 3,00  |\n",
    "| $w_i$  |  8 | 5 | 4 |\n",
    "\n",
    "<hr>\n",
    "\n",
    "### Variáveis de decisão:\n",
    "\n",
    "- $x_1$: quantidade de itens 1 na mochila;\n",
    "  \n",
    "- $x_2$: quantidade de itens 2 na mochila;\n",
    "  \n",
    "- $x_3$: quantidade de itens 3 na mochila;\n",
    "  \n",
    "- $x_4$: quantidade de itens 4 na mochila;\n",
    "\n",
    "### Função objetivo\n",
    "\n",
    "\\begin{equation}\n",
    "    \\text{Máx }f(x_1,x_2,x_3,x_4) = 11x_1+12x_2+3x_3\n",
    "\\end{equation}\n",
    "\n",
    "### Restrições\n",
    "\n",
    "\\begin{equation}\n",
    "    \\text{s.a. }8x_1+5x_2+4x_3\\leq 20\n",
    "\\end{equation}"
   ]
  },
  {
   "cell_type": "code",
   "execution_count": null,
   "metadata": {
    "vscode": {
     "languageId": "plaintext"
    }
   },
   "outputs": [],
   "source": []
  }
 ],
 "metadata": {
  "language_info": {
   "name": "python"
  }
 },
 "nbformat": 4,
 "nbformat_minor": 2
}
