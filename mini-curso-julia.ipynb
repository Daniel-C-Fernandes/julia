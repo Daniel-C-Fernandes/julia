{
 "cells": [
  {
   "cell_type": "markdown",
   "metadata": {},
   "source": [
    "# Mini-curso Julia\n",
    "\n",
    "<hr>\n",
    "\n",
    "## Para que serve Julia\n",
    "\n",
    "<div align=\"justify\">\n",
    "A linguagem de programação Julia é uma linguagem moderna e poderosa que foi criada para atender aos requisitos da computação numérica de alto desempenho e científica. \n",
    "\n",
    "Seus criadores quiseram reunir na linguagem as principais (melhores) características de outras linguagens:\n",
    "\n",
    "- <b>Ruby</b>;\n",
    "- <b>matlab</b>;\n",
    "- <b>R</b>;\n",
    "- <b>Python</b>;\n",
    "- <b>C</b>.\n",
    "\n",
    "Para saber mais:\n",
    "https://www.youtube.com/watch?v=Xzdg9czOxD8&t=29s\n",
    "\n",
    "### Aqui estão algumas informações sobre Julia:\n",
    "\n",
    "Características Principais:\n",
    "\n",
    "\n",
    "Tipagem Dinâmica: Suas variáveis podem receber qualquer tipo de dado, e sua sintaxe se aproxima mais da linguagem humana do que da linguagem de máquina.\n",
    "\n",
    "Multiparadigma: Suporta diversos paradigmas de programação, como orientação a objetos e programação funcional.\n",
    "\n",
    "Alto Nível: Possui uma sintaxe expressiva e amigável.\n",
    "\n",
    "Gratuita e Open Source: Julia é distribuída sob a licença MIT.\n",
    "\n",
    "Suporte a Unicode e UTF-8: Permite o uso de símbolos matemáticos durante a escrita de programas.\n",
    "Gerenciador de Pacotes Prático: Facilita a instalação e atualização de pacotes.\n",
    "\n",
    "<hr>\n",
    "\n",
    "<b>Aplicações:</b>\n",
    "\n",
    "-Data Science: Julia é usada para análise de dados e descoberta de conhecimento a partir de grandes conjuntos de dados.\n",
    "Machine Learning: Possui pacotes poderosos para criação de modelos de aprendizado de máquina.\n",
    "\n",
    "Computação Científica: Ideal para construir modelos matemáticos e soluções numéricas.\n",
    "\n",
    "Desenvolvimento Geral: Pode ser aplicada no desenvolvimento de aplicações web, desktop e outras áreas.\n",
    "Em resumo, Julia é uma linguagem versátil que combina alta performance com uma sintaxe amigável, tornando-a uma escolha popular entre cientistas de dados, desenvolvedores e entusiastas da programação.\n",
    "</div>\n",
    "<hr>"
   ]
  },
  {
   "cell_type": "markdown",
   "metadata": {},
   "source": [
    "# Visão geral sobre linguagens de programação\n",
    "\n",
    "Qual a melhor linguagem de programação?\n",
    "\n",
    "https://www.youtube.com/watch?v=DjUB-yVWT2A\n",
    "\n",
    "<hr>"
   ]
  },
  {
   "cell_type": "markdown",
   "metadata": {},
   "source": [
    "# Instalação e Configuração do Sistema:\n",
    "\n",
    "```\n",
    "winget install julia -s msstore\n",
    "```\n",
    "\n",
    "```\n",
    "winget install --id=Anaconda.Anaconda3  -e\n",
    "```\n",
    "\n",
    "\n",
    "Inicializar:\n",
    "```\n",
    "jupyter-notebook\n",
    "```\n",
    "\n",
    "ou\n",
    "```\n",
    "jupyter-lab\n",
    "```\n",
    "\n",
    "```\n",
    "julia\n",
    "```\n",
    "<hr>\n",
    "## Integrar Anaconda e Julia\n",
    "\n",
    "```\n",
    "using Pkg\n",
    "```\n",
    "\n",
    "```\n",
    "Pkg.add(\"IJulia\")\n",
    "```"
   ]
  },
  {
   "cell_type": "markdown",
   "metadata": {},
   "source": [
    "<hr>\n",
    "\n",
    "# Operações Matemáticas Básicas:\n",
    "\n",
    "## Utilizando Julia como calculadora\n",
    "\n",
    "\n",
    "## Expressões\n",
    "\n",
    "### Soma, Subtração, Multiplicação e Divisão\n",
    "\n",
    "Converter Temperaturas (F em C)\n",
    "\n",
    "\\begin{equation}\n",
    "\\frac{C}{5}=\\frac{F-32}{9}\n",
    "\\end{equation}\n",
    "\n",
    "\n",
    "<br><br>\n",
    "\n",
    "<div align=\"center\">\n",
    "\n",
    "![Conversão F-C](https://raw.githubusercontent.com/Daniel-C-Fernandes/julia/main/f-c.png)\n",
    "\n",
    "</div>"
   ]
  },
  {
   "cell_type": "markdown",
   "metadata": {},
   "source": [
    "Para isso, utilize uma variável $F$ para converter farenheits em celsius:"
   ]
  },
  {
   "cell_type": "code",
   "execution_count": null,
   "metadata": {},
   "outputs": [],
   "source": [
    "F = 72"
   ]
  },
  {
   "cell_type": "code",
   "execution_count": null,
   "metadata": {},
   "outputs": [],
   "source": [
    "# Converta F utilizando as 4 operações:\n",
    "C = "
   ]
  },
  {
   "cell_type": "markdown",
   "metadata": {},
   "source": [
    "Outro exemplo de expressão para testar:\n",
    "\n",
    "\\begin{equation}\n",
    "16\\cdot\\left(\\frac{3}{2}\\right)^2\\cdot \\sqrt{25}\\cdot \\sqrt[3]{27}-\\frac{(33+15)}{2}\n",
    "\\end{equation}"
   ]
  },
  {
   "cell_type": "code",
   "execution_count": null,
   "metadata": {},
   "outputs": [],
   "source": [
    "# Realize o cálculo da expressão acima:\n"
   ]
  },
  {
   "cell_type": "markdown",
   "metadata": {},
   "source": [
    "<hr>"
   ]
  },
  {
   "cell_type": "markdown",
   "metadata": {},
   "source": [
    "# Vetores e Matrizes\n",
    "\n",
    "## Criação e manipulação de vetores e matrizes."
   ]
  },
  {
   "cell_type": "code",
   "execution_count": 15,
   "metadata": {},
   "outputs": [
    {
     "data": {
      "text/plain": [
       "3-element Vector{Int64}:\n",
       " 1\n",
       " 2\n",
       " 3"
      ]
     },
     "execution_count": 15,
     "metadata": {},
     "output_type": "execute_result"
    }
   ],
   "source": [
    "u = [1,2,3]"
   ]
  },
  {
   "cell_type": "code",
   "execution_count": 16,
   "metadata": {},
   "outputs": [
    {
     "data": {
      "text/plain": [
       "3-element Vector{Int64}:\n",
       " 5\n",
       " 2\n",
       " 3"
      ]
     },
     "execution_count": 16,
     "metadata": {},
     "output_type": "execute_result"
    }
   ],
   "source": [
    "v = [5,2,3]"
   ]
  },
  {
   "cell_type": "markdown",
   "metadata": {},
   "source": [
    "### Operações entre vetores:"
   ]
  },
  {
   "cell_type": "code",
   "execution_count": 17,
   "metadata": {},
   "outputs": [
    {
     "data": {
      "text/plain": [
       "3-element Vector{Int64}:\n",
       " 6\n",
       " 4\n",
       " 6"
      ]
     },
     "execution_count": 17,
     "metadata": {},
     "output_type": "execute_result"
    }
   ],
   "source": [
    "u + v"
   ]
  },
  {
   "cell_type": "code",
   "execution_count": 18,
   "metadata": {},
   "outputs": [
    {
     "data": {
      "text/plain": [
       "3-element Vector{Int64}:\n",
       " -4\n",
       "  0\n",
       "  0"
      ]
     },
     "execution_count": 18,
     "metadata": {},
     "output_type": "execute_result"
    }
   ],
   "source": [
    "u - v"
   ]
  },
  {
   "cell_type": "code",
   "execution_count": null,
   "metadata": {},
   "outputs": [],
   "source": [
    "u * v"
   ]
  },
  {
   "cell_type": "markdown",
   "metadata": {},
   "source": [
    "Por que surgiu erro nessa operação?\n",
    "\n",
    "Como pederíamos fazer para realizar essa operação?"
   ]
  },
  {
   "cell_type": "code",
   "execution_count": 21,
   "metadata": {},
   "outputs": [
    {
     "name": "stdout",
     "output_type": "stream",
     "text": [
      "1 + 5 = 6"
     ]
    }
   ],
   "source": [
    "print(u[1], \" + \", v[1], \" = \", u[1]+v[1])"
   ]
  },
  {
   "cell_type": "code",
   "execution_count": 22,
   "metadata": {},
   "outputs": [
    {
     "data": {
      "text/plain": [
       "3-element Vector{Int64}:\n",
       " 6\n",
       " 4\n",
       " 6"
      ]
     },
     "execution_count": 22,
     "metadata": {},
     "output_type": "execute_result"
    }
   ],
   "source": [
    "# Quem sabe assim:\n",
    "[\n",
    "    u[1]+v[1];\n",
    "    u[2]+v[2];\n",
    "    u[3]+v[3];\n",
    "]"
   ]
  },
  {
   "cell_type": "markdown",
   "metadata": {},
   "source": [
    "Mas em Julia lang existe uma maneira mais prática:\n",
    "\n",
    "(ponto operação)"
   ]
  },
  {
   "cell_type": "code",
   "execution_count": null,
   "metadata": {},
   "outputs": [],
   "source": []
  },
  {
   "cell_type": "markdown",
   "metadata": {},
   "source": [
    "Observe o exemplo de potenciação do vetor:"
   ]
  },
  {
   "cell_type": "code",
   "execution_count": 24,
   "metadata": {},
   "outputs": [
    {
     "data": {
      "text/plain": [
       "3-element Vector{Int64}:\n",
       " 1\n",
       " 4\n",
       " 9"
      ]
     },
     "execution_count": 24,
     "metadata": {},
     "output_type": "execute_result"
    }
   ],
   "source": [
    "u^2"
   ]
  },
  {
   "cell_type": "markdown",
   "metadata": {},
   "source": [
    "## Operações matriciais"
   ]
  },
  {
   "cell_type": "code",
   "execution_count": null,
   "metadata": {},
   "outputs": [],
   "source": []
  },
  {
   "cell_type": "code",
   "execution_count": null,
   "metadata": {},
   "outputs": [],
   "source": []
  },
  {
   "cell_type": "code",
   "execution_count": null,
   "metadata": {},
   "outputs": [],
   "source": []
  },
  {
   "cell_type": "code",
   "execution_count": null,
   "metadata": {},
   "outputs": [],
   "source": []
  },
  {
   "cell_type": "markdown",
   "metadata": {},
   "source": [
    "# Pacotes e Módulos\n",
    "\n",
    "- Gerenciamento de pacotes com Pkg.\n",
    "- Criação e uso de módulos."
   ]
  },
  {
   "cell_type": "markdown",
   "metadata": {},
   "source": [
    "Manipulação Simbólica"
   ]
  },
  {
   "cell_type": "markdown",
   "metadata": {},
   "source": []
  },
  {
   "cell_type": "markdown",
   "metadata": {},
   "source": []
  },
  {
   "cell_type": "markdown",
   "metadata": {},
   "source": [
    "## Divisões"
   ]
  },
  {
   "cell_type": "code",
   "execution_count": null,
   "metadata": {},
   "outputs": [],
   "source": [
    "## Frações"
   ]
  },
  {
   "cell_type": "code",
   "execution_count": null,
   "metadata": {},
   "outputs": [],
   "source": [
    "## Arredondamento"
   ]
  },
  {
   "cell_type": "code",
   "execution_count": null,
   "metadata": {},
   "outputs": [],
   "source": [
    "## Números Complexos"
   ]
  },
  {
   "cell_type": "code",
   "execution_count": 7,
   "metadata": {},
   "outputs": [
    {
     "data": {
      "text/plain": [
       "100.0"
      ]
     },
     "execution_count": 7,
     "metadata": {},
     "output_type": "execute_result"
    }
   ],
   "source": [
    "1e2"
   ]
  },
  {
   "cell_type": "markdown",
   "metadata": {},
   "source": [
    "<hr>"
   ]
  },
  {
   "cell_type": "markdown",
   "metadata": {},
   "source": []
  },
  {
   "cell_type": "markdown",
   "metadata": {},
   "source": [
    "Pacotes e Módulos\n",
    "Gerenciamento de pacotes com Pkg.\n",
    "Criação e uso de módulos.\n",
    "Importação de funções externas."
   ]
  },
  {
   "cell_type": "markdown",
   "metadata": {},
   "source": [
    "Condicionais (if, else, elseif).\n",
    "Laços de repetição (for, while)."
   ]
  },
  {
   "cell_type": "code",
   "execution_count": null,
   "metadata": {},
   "outputs": [],
   "source": [
    "Aplicações Práticas\n",
    "Resolvendo problemas matemáticos."
   ]
  },
  {
   "cell_type": "markdown",
   "metadata": {},
   "source": []
  },
  {
   "cell_type": "markdown",
   "metadata": {},
   "source": [
    "Lembre-se de praticar e explorar mais recursos da linguagem. Julia é uma ferramenta poderosa para cientistas de dados, engenheiros e pesquisadores. Divirta-se programando! 🚀🔍📊"
   ]
  },
  {
   "cell_type": "markdown",
   "metadata": {},
   "source": [
    "<hr>\n",
    "\n",
    "\n",
    "# Funções"
   ]
  },
  {
   "cell_type": "markdown",
   "metadata": {},
   "source": [
    "Vamos estabelecer então duas funções matemáticas para que sejam realizadas essas conversões sem que seja necessário escrevê-las todas as vezes:"
   ]
  },
  {
   "cell_type": "code",
   "execution_count": null,
   "metadata": {},
   "outputs": [],
   "source": [
    "f(x)=5/9*(x-32) # Farenheit --> Celsius"
   ]
  },
  {
   "cell_type": "code",
   "execution_count": null,
   "metadata": {},
   "outputs": [],
   "source": [
    "f(72)"
   ]
  },
  {
   "cell_type": "code",
   "execution_count": null,
   "metadata": {},
   "outputs": [],
   "source": [
    "g(x) = ? # Celsius --> Farenheit"
   ]
  },
  {
   "cell_type": "code",
   "execution_count": null,
   "metadata": {},
   "outputs": [],
   "source": [
    "g(22)"
   ]
  },
  {
   "cell_type": "markdown",
   "metadata": {},
   "source": [
    "<hr>\n",
    "\n",
    "Isso pode ser realizado por funções de linguagem de programação também:"
   ]
  },
  {
   "cell_type": "code",
   "execution_count": null,
   "metadata": {},
   "outputs": [],
   "source": [
    "function f_to_c(F)\n",
    "    return 5/9*(F-32)\n",
    "end"
   ]
  },
  {
   "cell_type": "code",
   "execution_count": null,
   "metadata": {},
   "outputs": [],
   "source": [
    "f_to_c(72)"
   ]
  },
  {
   "cell_type": "markdown",
   "metadata": {},
   "source": [
    "<hr>"
   ]
  },
  {
   "cell_type": "markdown",
   "metadata": {},
   "source": [
    "Gráficos com Plots.jl\n",
    "Visualização de dados.\n",
    "Plotagem de gráficos simples.\n",
    "Personalização e formatação."
   ]
  },
  {
   "cell_type": "code",
   "execution_count": null,
   "metadata": {},
   "outputs": [],
   "source": []
  }
 ],
 "metadata": {
  "kernelspec": {
   "display_name": "Julia 1.9.3",
   "language": "julia",
   "name": "julia-1.9"
  },
  "language_info": {
   "file_extension": ".jl",
   "mimetype": "application/julia",
   "name": "julia",
   "version": "1.9.3"
  }
 },
 "nbformat": 4,
 "nbformat_minor": 2
}
