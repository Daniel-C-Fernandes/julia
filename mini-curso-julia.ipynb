{
 "cells": [
  {
   "cell_type": "markdown",
   "metadata": {},
   "source": [
    "# Mini-curso Julia\n",
    "\n",
    "<hr>\n",
    "\n",
    "## Para que serve Julia\n",
    "\n",
    "<div align=\"justify\">\n",
    "A linguagem de programação Julia é uma linguagem moderna e poderosa que foi criada para atender aos requisitos da computação numérica de alto desempenho e científica. \n",
    "\n",
    "Seus criadores quiseram reunir na linguagem as principais (melhores) características de outras linguagens:\n",
    "\n",
    "- <b>Ruby</b>;\n",
    "- <b>matlab</b>;\n",
    "- <b>R</b>;\n",
    "- <b>Python</b>;\n",
    "- <b>C</b>.\n",
    "\n",
    "Para saber mais:\n",
    "https://www.youtube.com/watch?v=Xzdg9czOxD8&t=29s\n",
    "\n",
    "### Aqui estão algumas informações sobre Julia:\n",
    "\n",
    "Características Principais:\n",
    "\n",
    "\n",
    "Tipagem Dinâmica: Suas variáveis podem receber qualquer tipo de dado, e sua sintaxe se aproxima mais da linguagem humana do que da linguagem de máquina.\n",
    "\n",
    "Multiparadigma: Suporta diversos paradigmas de programação, como orientação a objetos e programação funcional.\n",
    "\n",
    "Alto Nível: Possui uma sintaxe expressiva e amigável.\n",
    "\n",
    "Gratuita e Open Source: Julia é distribuída sob a licença MIT.\n",
    "\n",
    "Suporte a Unicode e UTF-8: Permite o uso de símbolos matemáticos durante a escrita de programas.\n",
    "Gerenciador de Pacotes Prático: Facilita a instalação e atualização de pacotes.\n",
    "\n",
    "<hr>\n",
    "\n",
    "<b>Aplicações:</b>\n",
    "\n",
    "-Data Science: Julia é usada para análise de dados e descoberta de conhecimento a partir de grandes conjuntos de dados.\n",
    "Machine Learning: Possui pacotes poderosos para criação de modelos de aprendizado de máquina.\n",
    "\n",
    "Computação Científica: Ideal para construir modelos matemáticos e soluções numéricas.\n",
    "\n",
    "Desenvolvimento Geral: Pode ser aplicada no desenvolvimento de aplicações web, desktop e outras áreas.\n",
    "Em resumo, Julia é uma linguagem versátil que combina alta performance com uma sintaxe amigável, tornando-a uma escolha popular entre cientistas de dados, desenvolvedores e entusiastas da programação.\n",
    "</div>\n",
    "<hr>"
   ]
  },
  {
   "cell_type": "markdown",
   "metadata": {},
   "source": [
    "# Visão geral sobre linguagens de programação\n",
    "\n",
    "Qual a melhor linguagem de programação?\n",
    "\n",
    "https://www.youtube.com/watch?v=DjUB-yVWT2A\n",
    "\n",
    "<hr>"
   ]
  },
  {
   "cell_type": "markdown",
   "metadata": {},
   "source": [
    "# Instalação e Configuração do Sistema:\n",
    "\n",
    "```\n",
    "winget install julia -s msstore\n",
    "```\n",
    "\n",
    "```\n",
    "winget install --id=Anaconda.Anaconda3  -e\n",
    "```\n",
    "\n",
    "\n",
    "Inicializar:\n",
    "```\n",
    "jupyter-notebook\n",
    "```\n",
    "\n",
    "ou\n",
    "```\n",
    "jupyter-lab\n",
    "```\n",
    "\n",
    "```\n",
    "julia\n",
    "```\n",
    "<hr>\n",
    "## Integrar Anaconda e Julia\n",
    "\n",
    "```\n",
    "using Pkg\n",
    "```\n",
    "\n",
    "```\n",
    "Pkg.add(\"IJulia\")\n",
    "```"
   ]
  },
  {
   "cell_type": "markdown",
   "metadata": {},
   "source": [
    "<hr>\n",
    "\n",
    "# Operações Matemáticas Básicas:\n",
    "\n",
    "## Utilizando Julia como calculadora\n",
    "\n",
    "\n",
    "## Expressões\n",
    "\n",
    "### Soma, Subtração, Multiplicação e Divisão\n",
    "\n",
    "Converter Temperaturas (F em C)\n",
    "\n",
    "\\begin{equation}\n",
    "\\frac{C}{5}=\\frac{F-32}{9}\n",
    "\\end{equation}\n",
    "\n",
    "\n",
    "<br><br>\n",
    "\n",
    "<div align=\"center\">\n",
    "\n",
    "![Conversão F-C](https://raw.githubusercontent.com/Daniel-C-Fernandes/julia/main/f-c.png)\n",
    "\n",
    "</div>"
   ]
  },
  {
   "cell_type": "markdown",
   "metadata": {},
   "source": [
    "Para isso, utilize uma variável $F$ para converter farenheits em celsius:"
   ]
  },
  {
   "cell_type": "code",
   "execution_count": null,
   "metadata": {},
   "outputs": [],
   "source": [
    "F = 72"
   ]
  },
  {
   "cell_type": "code",
   "execution_count": null,
   "metadata": {},
   "outputs": [],
   "source": [
    "# Converta F utilizando as 4 operações:\n",
    "C = "
   ]
  },
  {
   "cell_type": "markdown",
   "metadata": {},
   "source": [
    "Outro exemplo de expressão para testar:\n",
    "\n",
    "\\begin{equation}\n",
    "16\\cdot\\left(\\frac{3}{2}\\right)^2\\cdot \\sqrt{25}\\cdot \\sqrt[3]{27}-\\frac{(33+15)}{2}\n",
    "\\end{equation}"
   ]
  },
  {
   "cell_type": "code",
   "execution_count": null,
   "metadata": {},
   "outputs": [],
   "source": [
    "# Realize o cálculo da expressão acima:\n"
   ]
  },
  {
   "cell_type": "markdown",
   "metadata": {},
   "source": [
    "<hr>"
   ]
  },
  {
   "cell_type": "markdown",
   "metadata": {},
   "source": [
    "# Vetores e Matrizes\n",
    "\n",
    "## Criação e manipulação de vetores e matrizes."
   ]
  },
  {
   "cell_type": "code",
   "execution_count": null,
   "metadata": {},
   "outputs": [],
   "source": [
    "u = "
   ]
  },
  {
   "cell_type": "code",
   "execution_count": null,
   "metadata": {},
   "outputs": [],
   "source": [
    "v = "
   ]
  },
  {
   "cell_type": "markdown",
   "metadata": {},
   "source": [
    "### Operações entre vetores:"
   ]
  },
  {
   "cell_type": "code",
   "execution_count": null,
   "metadata": {},
   "outputs": [],
   "source": [
    "# Soma de Vetores\n"
   ]
  },
  {
   "cell_type": "code",
   "execution_count": null,
   "metadata": {},
   "outputs": [],
   "source": [
    "# Subtração de Vetores\n"
   ]
  },
  {
   "cell_type": "code",
   "execution_count": null,
   "metadata": {},
   "outputs": [],
   "source": [
    "# Multiplicação de Vetores\n"
   ]
  },
  {
   "cell_type": "markdown",
   "metadata": {},
   "source": [
    "Por que surgiu erro nessa operação?\n",
    "\n",
    "Como pederíamos fazer para realizar essa operação?\n",
    "\n",
    "Alguém lembra de <i>Produto Escalar</i>?"
   ]
  },
  {
   "cell_type": "code",
   "execution_count": null,
   "metadata": {},
   "outputs": [],
   "source": [
    "# Acesso a cada valor dos vetores"
   ]
  },
  {
   "cell_type": "code",
   "execution_count": null,
   "metadata": {},
   "outputs": [],
   "source": [
    "# Quem sabe somando cada um?\n"
   ]
  },
  {
   "cell_type": "markdown",
   "metadata": {},
   "source": [
    "Mas em Julia lang existe uma maneira mais prática:\n",
    "\n",
    "(ponto operação)"
   ]
  },
  {
   "cell_type": "code",
   "execution_count": null,
   "metadata": {},
   "outputs": [],
   "source": []
  },
  {
   "cell_type": "markdown",
   "metadata": {},
   "source": [
    "Observe o exemplo de potenciação do vetor:"
   ]
  },
  {
   "cell_type": "code",
   "execution_count": null,
   "metadata": {},
   "outputs": [],
   "source": [
    "u^2"
   ]
  },
  {
   "cell_type": "markdown",
   "metadata": {},
   "source": [
    "Podemos inclusive criar uma função de linguagem e aplicá-la a todos os elementos da matriz de forma automática (sem utilizar estruturas de repetição):"
   ]
  },
  {
   "cell_type": "code",
   "execution_count": null,
   "metadata": {},
   "outputs": [],
   "source": []
  },
  {
   "cell_type": "code",
   "execution_count": null,
   "metadata": {},
   "outputs": [],
   "source": [
    "crazy.([2 5 -3])"
   ]
  },
  {
   "cell_type": "markdown",
   "metadata": {},
   "source": [
    "## Operações matriciais"
   ]
  },
  {
   "cell_type": "code",
   "execution_count": null,
   "metadata": {},
   "outputs": [],
   "source": [
    "A = [\n",
    "    1 2 3;\n",
    "    3 4 5\n",
    "]"
   ]
  },
  {
   "cell_type": "code",
   "execution_count": null,
   "metadata": {},
   "outputs": [],
   "source": [
    "u"
   ]
  },
  {
   "cell_type": "code",
   "execution_count": null,
   "metadata": {},
   "outputs": [],
   "source": [
    "# Multiplicação entre a matriz A e o vetor u\n"
   ]
  },
  {
   "cell_type": "code",
   "execution_count": null,
   "metadata": {},
   "outputs": [],
   "source": [
    "C = [1 2 3]"
   ]
  },
  {
   "cell_type": "code",
   "execution_count": null,
   "metadata": {},
   "outputs": [],
   "source": [
    "# Multiplicação entre a matriz A e a matriz c\n"
   ]
  },
  {
   "cell_type": "markdown",
   "metadata": {},
   "source": [
    "## Sistemas Lineares\n",
    "\n",
    "Exemplo:\n",
    "\n",
    "Resolver o sistema:\\\n",
    "\n",
    "\\begin{equation}\n",
    "\\left\\{\\begin{matrix}\n",
    "5x & + & 3y & = & 121 \\\\\n",
    "-2x & +& 4y & = & 66\n",
    "\\end{matrix}\\right.\n",
    "\\end{equation}"
   ]
  },
  {
   "cell_type": "code",
   "execution_count": null,
   "metadata": {},
   "outputs": [],
   "source": []
  },
  {
   "cell_type": "markdown",
   "metadata": {},
   "source": [
    "# Pacotes e Módulos\n",
    "\n",
    "- Gerenciamento de pacotes com Pkg.\n",
    "- Criação e uso de módulos."
   ]
  },
  {
   "cell_type": "markdown",
   "metadata": {},
   "source": [
    "```\n",
    "using Pkg\n",
    "```\n",
    "\n",
    "```\n",
    "Pkg.add(\"Package Name\")\n",
    "```"
   ]
  },
  {
   "cell_type": "markdown",
   "metadata": {},
   "source": [
    "## Manipulação Simbólica"
   ]
  },
  {
   "cell_type": "code",
   "execution_count": 39,
   "metadata": {},
   "outputs": [
    {
     "ename": "InterruptException",
     "evalue": "InterruptException:",
     "output_type": "error",
     "traceback": [
      "InterruptException:",
      "",
      "Stacktrace:",
      " [1] flush(io::IJulia.IJuliaStdio{Base.PipeEndpoint})",
      "   @ IJulia ~/.julia/packages/IJulia/Vo51o/src/stdio.jl:277",
      " [2] flush_all()",
      "   @ IJulia ~/.julia/packages/IJulia/Vo51o/src/stdio.jl:259",
      " [3] execute_request(socket::ZMQ.Socket, msg::IJulia.Msg)",
      "   @ IJulia ~/.julia/packages/IJulia/Vo51o/src/execute_request.jl:105",
      " [4] #invokelatest#2",
      "   @ ./essentials.jl:819 [inlined]",
      " [5] invokelatest",
      "   @ ./essentials.jl:816 [inlined]",
      " [6] eventloop(socket::ZMQ.Socket)",
      "   @ IJulia ~/.julia/packages/IJulia/Vo51o/src/eventloop.jl:8",
      " [7] (::IJulia.var\"#15#18\")()",
      "   @ IJulia ./task.jl:514"
     ]
    }
   ],
   "source": [
    "# Pacote Symbolics\n",
    "using Symbolics"
   ]
  },
  {
   "cell_type": "markdown",
   "metadata": {},
   "source": []
  },
  {
   "cell_type": "markdown",
   "metadata": {},
   "source": []
  },
  {
   "cell_type": "markdown",
   "metadata": {},
   "source": []
  },
  {
   "cell_type": "markdown",
   "metadata": {},
   "source": []
  },
  {
   "cell_type": "markdown",
   "metadata": {},
   "source": []
  },
  {
   "cell_type": "markdown",
   "metadata": {},
   "source": [
    "## Divisões"
   ]
  },
  {
   "cell_type": "code",
   "execution_count": null,
   "metadata": {},
   "outputs": [],
   "source": [
    "## Frações"
   ]
  },
  {
   "cell_type": "code",
   "execution_count": null,
   "metadata": {},
   "outputs": [],
   "source": [
    "## Arredondamento"
   ]
  },
  {
   "cell_type": "code",
   "execution_count": null,
   "metadata": {},
   "outputs": [],
   "source": [
    "## Números Complexos"
   ]
  },
  {
   "cell_type": "code",
   "execution_count": 7,
   "metadata": {},
   "outputs": [
    {
     "data": {
      "text/plain": [
       "100.0"
      ]
     },
     "execution_count": 7,
     "metadata": {},
     "output_type": "execute_result"
    }
   ],
   "source": [
    "1e2"
   ]
  },
  {
   "cell_type": "markdown",
   "metadata": {},
   "source": [
    "<hr>"
   ]
  },
  {
   "cell_type": "markdown",
   "metadata": {},
   "source": []
  },
  {
   "cell_type": "markdown",
   "metadata": {},
   "source": [
    "Pacotes e Módulos\n",
    "Gerenciamento de pacotes com Pkg.\n",
    "Criação e uso de módulos.\n",
    "Importação de funções externas."
   ]
  },
  {
   "cell_type": "markdown",
   "metadata": {},
   "source": [
    "Condicionais (if, else, elseif).\n",
    "Laços de repetição (for, while)."
   ]
  },
  {
   "cell_type": "code",
   "execution_count": null,
   "metadata": {},
   "outputs": [],
   "source": [
    "Aplicações Práticas\n",
    "Resolvendo problemas matemáticos."
   ]
  },
  {
   "cell_type": "markdown",
   "metadata": {},
   "source": []
  },
  {
   "cell_type": "markdown",
   "metadata": {},
   "source": [
    "Lembre-se de praticar e explorar mais recursos da linguagem. Julia é uma ferramenta poderosa para cientistas de dados, engenheiros e pesquisadores. Divirta-se programando! 🚀🔍📊"
   ]
  },
  {
   "cell_type": "markdown",
   "metadata": {},
   "source": [
    "<hr>\n",
    "\n",
    "\n",
    "# Funções"
   ]
  },
  {
   "cell_type": "markdown",
   "metadata": {},
   "source": [
    "Vamos estabelecer então duas funções matemáticas para que sejam realizadas essas conversões sem que seja necessário escrevê-las todas as vezes:"
   ]
  },
  {
   "cell_type": "code",
   "execution_count": null,
   "metadata": {},
   "outputs": [],
   "source": [
    "f(x)=5/9*(x-32) # Farenheit --> Celsius"
   ]
  },
  {
   "cell_type": "code",
   "execution_count": null,
   "metadata": {},
   "outputs": [],
   "source": [
    "f(72)"
   ]
  },
  {
   "cell_type": "code",
   "execution_count": null,
   "metadata": {},
   "outputs": [],
   "source": [
    "g(x) = ? # Celsius --> Farenheit"
   ]
  },
  {
   "cell_type": "code",
   "execution_count": null,
   "metadata": {},
   "outputs": [],
   "source": [
    "g(22)"
   ]
  },
  {
   "cell_type": "markdown",
   "metadata": {},
   "source": [
    "<hr>\n",
    "\n",
    "Isso pode ser realizado por funções de linguagem de programação também:"
   ]
  },
  {
   "cell_type": "code",
   "execution_count": null,
   "metadata": {},
   "outputs": [],
   "source": [
    "function f_to_c(F)\n",
    "    return 5/9*(F-32)\n",
    "end"
   ]
  },
  {
   "cell_type": "code",
   "execution_count": null,
   "metadata": {},
   "outputs": [],
   "source": [
    "f_to_c(72)"
   ]
  },
  {
   "cell_type": "markdown",
   "metadata": {},
   "source": [
    "<hr>"
   ]
  },
  {
   "cell_type": "markdown",
   "metadata": {},
   "source": [
    "Gráficos com Plots.jl\n",
    "Visualização de dados.\n",
    "Plotagem de gráficos simples.\n",
    "Personalização e formatação."
   ]
  },
  {
   "cell_type": "code",
   "execution_count": null,
   "metadata": {},
   "outputs": [],
   "source": []
  }
 ],
 "metadata": {
  "kernelspec": {
   "display_name": "Julia 1.9.3",
   "language": "julia",
   "name": "julia-1.9"
  },
  "language_info": {
   "file_extension": ".jl",
   "mimetype": "application/julia",
   "name": "julia",
   "version": "1.9.3"
  }
 },
 "nbformat": 4,
 "nbformat_minor": 2
}
