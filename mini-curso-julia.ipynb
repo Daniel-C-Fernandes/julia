{
 "cells": [
  {
   "cell_type": "markdown",
   "metadata": {},
   "source": [
    "# Mini-curso Julia\n",
    "\n",
    "<hr>\n",
    "\n",
    "## Para que serve Julia\n",
    "\n",
    "<div align=\"justify\">\n",
    "A linguagem de programação Julia é uma linguagem moderna e poderosa que foi criada para atender aos requisitos da computação numérica de alto desempenho e científica. \n",
    "\n",
    "Seus criadores quiseram reunir na linguagem as principais (melhores) características de outras linguagens:\n",
    "\n",
    "- <b>Ruby</b>;\n",
    "- <b>matlab</b>;\n",
    "- <b>R</b>;\n",
    "- <b>Python</b>;\n",
    "- <b>C</b>.\n",
    "\n",
    "Para saber mais:\n",
    "https://www.youtube.com/watch?v=Xzdg9czOxD8&t=29s\n",
    "\n",
    "### Aqui estão algumas informações sobre Julia:\n",
    "\n",
    "Características Principais:\n",
    "\n",
    "\n",
    "Tipagem Dinâmica: Suas variáveis podem receber qualquer tipo de dado, e sua sintaxe se aproxima mais da linguagem humana do que da linguagem de máquina.\n",
    "\n",
    "Multiparadigma: Suporta diversos paradigmas de programação, como orientação a objetos e programação funcional.\n",
    "\n",
    "Alto Nível: Possui uma sintaxe expressiva e amigável.\n",
    "\n",
    "Gratuita e Open Source: Julia é distribuída sob a licença MIT.\n",
    "\n",
    "Suporte a Unicode e UTF-8: Permite o uso de símbolos matemáticos durante a escrita de programas.\n",
    "Gerenciador de Pacotes Prático: Facilita a instalação e atualização de pacotes.\n",
    "\n",
    "<hr>\n",
    "\n",
    "<b>Aplicações:</b>\n",
    "\n",
    "-Data Science: Julia é usada para análise de dados e descoberta de conhecimento a partir de grandes conjuntos de dados.\n",
    "Machine Learning: Possui pacotes poderosos para criação de modelos de aprendizado de máquina.\n",
    "\n",
    "Computação Científica: Ideal para construir modelos matemáticos e soluções numéricas.\n",
    "\n",
    "Desenvolvimento Geral: Pode ser aplicada no desenvolvimento de aplicações web, desktop e outras áreas.\n",
    "Em resumo, Julia é uma linguagem versátil que combina alta performance com uma sintaxe amigável, tornando-a uma escolha popular entre cientistas de dados, desenvolvedores e entusiastas da programação.\n",
    "</div>\n",
    "<hr>"
   ]
  },
  {
   "cell_type": "markdown",
   "metadata": {},
   "source": [
    "# Visão geral sobre linguagens de programação\n",
    "\n",
    "Qual a melhor linguagem de programação?\n",
    "\n",
    "https://www.youtube.com/watch?v=DjUB-yVWT2A\n",
    "\n",
    "<hr>"
   ]
  },
  {
   "cell_type": "markdown",
   "metadata": {},
   "source": [
    "# Instalação e Configuração do Sistema:\n",
    "\n",
    "```\n",
    "winget install julia -s msstore\n",
    "```\n",
    "\n",
    "```\n",
    "winget install --id=Anaconda.Anaconda3  -e\n",
    "```\n",
    "\n",
    "\n",
    "Inicializar:\n",
    "```\n",
    "jupyter-notebook\n",
    "```\n",
    "\n",
    "ou\n",
    "```\n",
    "jupyter-lab\n",
    "```\n",
    "\n",
    "```\n",
    "julia\n",
    "```\n",
    "\n",
    "## Integrar Anaconda e Julia\n",
    "```\n",
    "using Pkg\n",
    "```\n",
    "\n",
    "```\n",
    "Pkg.add(\"IJulia\")\n",
    "```"
   ]
  },
  {
   "cell_type": "markdown",
   "metadata": {},
   "source": [
    "<hr>\n",
    "\n",
    "# Operações Matemáticas Básicas:\n",
    "\n",
    "## Utilizando Julia como calculadora\n",
    "\n",
    "\n",
    "## Expressões\n",
    "\n",
    "### Soma, Subtração, Multiplicação e Divisão\n",
    "\n",
    "Converter Temperaturas (F em C)\n",
    "\n",
    "\\begin{equation}\n",
    "\\frac{C}{5}=\\frac{F-32}{9}\n",
    "\\end{equation}\n",
    "\n",
    "\n",
    "![Conversão F-C](https://github.com/Daniel-C-Fernandes/julia/blob/main/f-c.png)\n"
   ]
  },
  {
   "cell_type": "markdown",
   "metadata": {},
   "source": [
    "Para isso, utilize uma variável $F$ para converter farenheits em celsius:"
   ]
  },
  {
   "cell_type": "code",
   "execution_count": 1,
   "metadata": {},
   "outputs": [
    {
     "data": {
      "text/plain": [
       "72"
      ]
     },
     "execution_count": 1,
     "metadata": {},
     "output_type": "execute_result"
    }
   ],
   "source": [
    "F = 72"
   ]
  },
  {
   "cell_type": "code",
   "execution_count": null,
   "metadata": {},
   "outputs": [],
   "source": [
    "# Converta F utilizando as 4 operações:\n",
    "C = "
   ]
  },
  {
   "cell_type": "markdown",
   "metadata": {},
   "source": [
    "<hr>"
   ]
  }
 ],
 "metadata": {
  "kernelspec": {
   "display_name": "Julia 1.9.3",
   "language": "julia",
   "name": "julia-1.9"
  },
  "language_info": {
   "file_extension": ".jl",
   "mimetype": "application/julia",
   "name": "julia",
   "version": "1.9.3"
  }
 },
 "nbformat": 4,
 "nbformat_minor": 2
}
