{
 "cells": [
  {
   "cell_type": "markdown",
   "metadata": {},
   "source": [
    "# Mini-curso Julia lang\n",
    "\n",
    "<hr>\n",
    "\n",
    "## Para que serve Julia\n",
    "\n",
    "<div align=\"justify\">\n",
    "A linguagem de programação Julia é uma linguagem moderna e poderosa que foi criada para atender aos requisitos da computação numérica de alto desempenho e científica. \n",
    "\n",
    "Seus criadores quiseram reunir na linguagem as principais (melhores) características de outras linguagens:\n",
    "\n",
    "- <b>Ruby</b>;\n",
    "- <b>matlab</b>;\n",
    "- <b>R</b>;\n",
    "- <b>Python</b>;\n",
    "- <b>C</b>.\n",
    "\n",
    "Para saber mais:\n",
    "https://www.youtube.com/watch?v=Xzdg9czOxD8&t=29s\n",
    "\n",
    "### Aqui estão algumas informações sobre Julia:\n",
    "\n",
    "Características Principais:\n",
    "\n",
    "\n",
    "Tipagem Dinâmica: Suas variáveis podem receber qualquer tipo de dado, e sua sintaxe se aproxima mais da linguagem humana do que da linguagem de máquina.\n",
    "\n",
    "Multiparadigma: Suporta diversos paradigmas de programação, como orientação a objetos e programação funcional.\n",
    "\n",
    "Alto Nível: Possui uma sintaxe expressiva e amigável.\n",
    "\n",
    "Gratuita e Open Source: Julia é distribuída sob a licença MIT.\n",
    "\n",
    "Suporte a Unicode e UTF-8: Permite o uso de símbolos matemáticos durante a escrita de programas.\n",
    "Gerenciador de Pacotes Prático: Facilita a instalação e atualização de pacotes.\n",
    "\n",
    "<hr>\n",
    "\n",
    "<b>Aplicações:</b>\n",
    "\n",
    "-Data Science: Julia é usada para análise de dados e descoberta de conhecimento a partir de grandes conjuntos de dados.\n",
    "Machine Learning: Possui pacotes poderosos para criação de modelos de aprendizado de máquina.\n",
    "\n",
    "Computação Científica: Ideal para construir modelos matemáticos e soluções numéricas.\n",
    "\n",
    "Desenvolvimento Geral: Pode ser aplicada no desenvolvimento de aplicações web, desktop e outras áreas.\n",
    "Em resumo, Julia é uma linguagem versátil que combina alta performance com uma sintaxe amigável, tornando-a uma escolha popular entre cientistas de dados, desenvolvedores e entusiastas da programação.\n",
    "</div>\n",
    "<hr>"
   ]
  },
  {
   "cell_type": "markdown",
   "metadata": {},
   "source": [
    "# Visão geral sobre linguagens de programação\n",
    "\n",
    "Qual a melhor linguagem de programação?\n",
    "\n",
    "https://www.youtube.com/watch?v=DjUB-yVWT2A\n",
    "\n",
    "<hr>"
   ]
  },
  {
   "cell_type": "markdown",
   "metadata": {},
   "source": [
    "# Instalação e Configuração do Sistema:\n",
    "\n",
    "```\n",
    "winget install julia -s msstore\n",
    "```\n",
    "\n",
    "```\n",
    "winget install --id=Anaconda.Anaconda3  -e\n",
    "```\n",
    "\n",
    "\n",
    "Inicializar:\n",
    "```\n",
    "jupyter-notebook\n",
    "```\n",
    "\n",
    "ou\n",
    "```\n",
    "jupyter-lab\n",
    "```\n",
    "\n",
    "```\n",
    "julia\n",
    "```\n",
    "<hr>\n",
    "\n",
    "## Integrar Anaconda e Julia\n",
    "\n",
    "```\n",
    "using Pkg\n",
    "```\n",
    "\n",
    "```\n",
    "Pkg.add(\"IJulia\")\n",
    "```"
   ]
  },
  {
   "cell_type": "markdown",
   "metadata": {},
   "source": [
    "<hr>\n",
    "\n",
    "Primeiros passos com Julia lang:\n",
    "\n",
    "Executar comandos utilizando:\n",
    "\n",
    "- Prompt\n",
    "- Arquivo salvo com extensão .jl"
   ]
  },
  {
   "cell_type": "code",
   "execution_count": null,
   "metadata": {},
   "outputs": [],
   "source": [
    "println(\"Hello world!!\")"
   ]
  },
  {
   "cell_type": "markdown",
   "metadata": {},
   "source": [
    "<hr>\n",
    "\n",
    "# Operações Matemáticas Básicas:\n",
    "\n",
    "## Utilizando Julia como calculadora\n",
    "\n",
    "\n",
    "## Expressões\n",
    "\n",
    "### Soma, Subtração, Multiplicação e Divisão\n"
   ]
  },
  {
   "cell_type": "markdown",
   "metadata": {},
   "source": [
    "Outro exemplo de expressão para testar:\n",
    "\n",
    "\\begin{equation}\n",
    "16\\cdot\\left(\\frac{3}{2}\\right)^2\\cdot \\sqrt{25}\\cdot \\sqrt[3]{27}-\\frac{(33+15)}{2} + sin \\left ( \\frac{4}{3}\\pi \\right )\n",
    "\\end{equation}"
   ]
  },
  {
   "cell_type": "code",
   "execution_count": null,
   "metadata": {},
   "outputs": [],
   "source": [
    "# Realize o cálculo da expressão acima:\n"
   ]
  },
  {
   "cell_type": "markdown",
   "metadata": {},
   "source": [
    "#### Aplicação:\n",
    "Converter Temperaturas (F em C)\n",
    "\n",
    "\\begin{equation}\n",
    "\\frac{C}{5}=\\frac{F-32}{9}\n",
    "\\end{equation}\n",
    "\n",
    "\n",
    "<br><br>\n",
    "\n",
    "<div align=\"center\">\n",
    "\n",
    "![Conversão F-C](https://raw.githubusercontent.com/Daniel-C-Fernandes/julia/main/f-c.png)\n",
    "\n",
    "</div>\n",
    "\n",
    "Para isso, utilize uma variável $F$ para converter farenheits em celsius:"
   ]
  },
  {
   "cell_type": "code",
   "execution_count": null,
   "metadata": {},
   "outputs": [],
   "source": [
    "F = 72"
   ]
  },
  {
   "cell_type": "code",
   "execution_count": null,
   "metadata": {},
   "outputs": [],
   "source": [
    "# Converta F utilizando as 4 operações:\n",
    "C = "
   ]
  },
  {
   "cell_type": "markdown",
   "metadata": {},
   "source": [
    "<hr>\n",
    "\n",
    "\n",
    "# Funções Matemáticas\n",
    "\n",
    "Vamos estabelecer então duas funções matemáticas para que sejam realizadas essas conversões sem que seja necessário escrevê-las todas as vezes:"
   ]
  },
  {
   "cell_type": "code",
   "execution_count": null,
   "metadata": {},
   "outputs": [],
   "source": [
    "f(x)=5/9*(x-32) # Farenheit --> Celsius"
   ]
  },
  {
   "cell_type": "code",
   "execution_count": null,
   "metadata": {},
   "outputs": [],
   "source": [
    "f(72)"
   ]
  },
  {
   "cell_type": "code",
   "execution_count": null,
   "metadata": {},
   "outputs": [],
   "source": [
    "g(x) = ? # Celsius --> Farenheit"
   ]
  },
  {
   "cell_type": "code",
   "execution_count": null,
   "metadata": {},
   "outputs": [],
   "source": [
    "g(22)"
   ]
  },
  {
   "cell_type": "markdown",
   "metadata": {},
   "source": [
    "<hr>\n",
    "\n",
    "# Pacotes e Módulos\n",
    "\n",
    "- Gerenciamento de pacotes com Pkg.\n",
    "- Criação e uso de módulos."
   ]
  },
  {
   "cell_type": "markdown",
   "metadata": {},
   "source": [
    "```\n",
    "using Pkg\n",
    "```\n",
    "\n",
    "```\n",
    "Pkg.add(\"Package Name\")\n",
    "```"
   ]
  },
  {
   "cell_type": "code",
   "execution_count": null,
   "metadata": {},
   "outputs": [],
   "source": [
    "# Pacote para traçar os gráficos"
   ]
  },
  {
   "cell_type": "code",
   "execution_count": null,
   "metadata": {},
   "outputs": [],
   "source": [
    "# x + y = 6"
   ]
  },
  {
   "cell_type": "code",
   "execution_count": null,
   "metadata": {},
   "outputs": [],
   "source": [
    "# x - y = 2"
   ]
  },
  {
   "cell_type": "code",
   "execution_count": null,
   "metadata": {},
   "outputs": [],
   "source": [
    "# -x + 2y = 6 "
   ]
  },
  {
   "cell_type": "markdown",
   "metadata": {},
   "source": [
    "$% framestyle=:origin $"
   ]
  },
  {
   "cell_type": "markdown",
   "metadata": {},
   "source": [
    "<hr>\n",
    "\n",
    "# Otimização\n",
    "\n",
    "Exemplo:\n",
    "\n",
    "\\begin{equation}\n",
    "    \\text{Max }z=2x+3y\n",
    "\\end{equation}\n",
    "\n",
    "\\begin{equation}\n",
    "    \\text{s.a}\\left\\{\\begin{matrix}\n",
    "        x + y & \\leq & 6\\\\\n",
    "        -x + 2y & \\leq & 6\\\\\n",
    "        x - y & \\leq & 2\n",
    "\\end{matrix}\\right.\n",
    "\\end{equation}"
   ]
  },
  {
   "cell_type": "code",
   "execution_count": null,
   "metadata": {},
   "outputs": [],
   "source": [
    "## Estabelecer o modelo para otimização"
   ]
  },
  {
   "cell_type": "code",
   "execution_count": null,
   "metadata": {},
   "outputs": [],
   "source": [
    "## Configurar as variáveis"
   ]
  },
  {
   "cell_type": "code",
   "execution_count": null,
   "metadata": {},
   "outputs": [],
   "source": [
    "## Restrições"
   ]
  },
  {
   "cell_type": "code",
   "execution_count": null,
   "metadata": {},
   "outputs": [],
   "source": [
    "# Mostrar o modelo"
   ]
  },
  {
   "cell_type": "code",
   "execution_count": null,
   "metadata": {},
   "outputs": [],
   "source": [
    "# Otimizar o modelo"
   ]
  },
  {
   "cell_type": "code",
   "execution_count": null,
   "metadata": {},
   "outputs": [],
   "source": [
    "# saídas"
   ]
  },
  {
   "cell_type": "markdown",
   "metadata": {},
   "source": [
    "<hr>"
   ]
  },
  {
   "cell_type": "markdown",
   "metadata": {},
   "source": [
    "\\begin{equation}\n",
    "    \\text{Max }z=\\sum_{i=1}^{10} i^2 x_i\n",
    "\\end{equation}\n",
    "\n",
    "\\begin{equation}\n",
    "    \\text{s.a }\n",
    "        \\sum_{1}^{10} a_{ij}x_i \\leq b_i\n",
    "\\end{equation}\n",
    "\n",
    "<hr>"
   ]
  },
  {
   "cell_type": "code",
   "execution_count": 1,
   "metadata": {},
   "outputs": [
    {
     "data": {
      "text/plain": [
       "4×10 Matrix{Int64}:\n",
       "  1  5  12  2  -3  4  -2   9  11   3\n",
       " 11  4  12  2  -3  4  -2   9  13   2\n",
       "  3  1   0  2   3  0   1  -5  21  14\n",
       " -1  0   0  0   0  0   0   0   1   4"
      ]
     },
     "execution_count": 1,
     "metadata": {},
     "output_type": "execute_result"
    }
   ],
   "source": [
    "A = [\n",
    "    1 5 12 2 -3 4 -2 9 11 3;\n",
    "    11 4 12 2 -3 4 -2 9 13 2;\n",
    "    3 1 0 2 3 0 1 -5 21 14;\n",
    "    -1 0 0 0 0 0 0 0 1 4;\n",
    "]"
   ]
  }
 ],
 "metadata": {
  "kernelspec": {
   "display_name": "Julia 1.9.3",
   "language": "julia",
   "name": "julia-1.9"
  },
  "language_info": {
   "file_extension": ".jl",
   "mimetype": "application/julia",
   "name": "julia",
   "version": "1.9.3"
  }
 },
 "nbformat": 4,
 "nbformat_minor": 2
}
