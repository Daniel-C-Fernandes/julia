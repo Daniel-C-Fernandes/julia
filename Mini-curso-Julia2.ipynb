{
 "cells": [
  {
   "cell_type": "markdown",
   "metadata": {},
   "source": [
    "# Mini-curso Julia\n",
    "\n",
    "# Utilizando Julia como calculadora\n",
    "\n"
   ]
  },
  {
   "cell_type": "markdown",
   "metadata": {},
   "source": [
    "## Expressões\n",
    "\n",
    "### Soma, Subtração, Multiplicação e Divisão\n",
    "\n",
    "#### Aplicação:\n",
    "Converter Temperaturas (F em C)\n",
    "\n",
    "\\begin{equation}\n",
    "\\frac{C}{5}=\\frac{F-32}{9}\n",
    "\\end{equation}\n",
    "\n",
    "\n",
    "<br><br>\n",
    "\n",
    "<div align=\"center\">\n",
    "\n",
    "![Conversão F-C](https://raw.githubusercontent.com/Daniel-C-Fernandes/julia/main/f-c.png)\n",
    "\n",
    "</div>\n",
    "\n",
    "Para isso, utilize uma variável $F$ para converter farenheits em celsius:"
   ]
  },
  {
   "cell_type": "code",
   "execution_count": 51,
   "metadata": {},
   "outputs": [
    {
     "data": {
      "text/plain": [
       "21.11111111111111"
      ]
     },
     "execution_count": 51,
     "metadata": {},
     "output_type": "execute_result"
    }
   ],
   "source": [
    "# F=72\n",
    "C=5/9*(70-32)"
   ]
  },
  {
   "cell_type": "code",
   "execution_count": 52,
   "metadata": {},
   "outputs": [
    {
     "data": {
      "text/plain": [
       "68.0"
      ]
     },
     "execution_count": 52,
     "metadata": {},
     "output_type": "execute_result"
    }
   ],
   "source": [
    "# C=20\n",
    "F=9/5*20+32"
   ]
  },
  {
   "cell_type": "markdown",
   "metadata": {},
   "source": [
    "<hr>\n",
    "\n",
    "\n",
    "# Funções Matemáticas\n",
    "\n",
    "Vamos estabelecer então duas funções matemáticas para que sejam realizadas essas conversões sem que seja necessário escrevê-las todas as vezes:"
   ]
  },
  {
   "cell_type": "code",
   "execution_count": 53,
   "metadata": {},
   "outputs": [
    {
     "data": {
      "text/plain": [
       "f (generic function with 1 method)"
      ]
     },
     "execution_count": 53,
     "metadata": {},
     "output_type": "execute_result"
    }
   ],
   "source": [
    "f(x)=5/9*(x-32) # Farenheit --> Celsius\n",
    "f(x)=9/5*x+32 # Celsius --> Farenheit"
   ]
  },
  {
   "cell_type": "code",
   "execution_count": 54,
   "metadata": {},
   "outputs": [
    {
     "data": {
      "text/plain": [
       "158.0"
      ]
     },
     "execution_count": 54,
     "metadata": {},
     "output_type": "execute_result"
    }
   ],
   "source": [
    "f(70)"
   ]
  },
  {
   "cell_type": "code",
   "execution_count": 55,
   "metadata": {},
   "outputs": [
    {
     "data": {
      "text/plain": [
       "68.0"
      ]
     },
     "execution_count": 55,
     "metadata": {},
     "output_type": "execute_result"
    }
   ],
   "source": [
    "f(20)"
   ]
  },
  {
   "cell_type": "markdown",
   "metadata": {},
   "source": [
    "## Divisões"
   ]
  },
  {
   "cell_type": "code",
   "execution_count": 56,
   "metadata": {},
   "outputs": [
    {
     "data": {
      "text/plain": [
       "2.3333333333333335"
      ]
     },
     "execution_count": 56,
     "metadata": {},
     "output_type": "execute_result"
    }
   ],
   "source": [
    "7/3"
   ]
  },
  {
   "cell_type": "code",
   "execution_count": 57,
   "metadata": {},
   "outputs": [
    {
     "data": {
      "text/plain": [
       "1"
      ]
     },
     "execution_count": 57,
     "metadata": {},
     "output_type": "execute_result"
    }
   ],
   "source": [
    "7%3"
   ]
  },
  {
   "cell_type": "code",
   "execution_count": 58,
   "metadata": {},
   "outputs": [
    {
     "data": {
      "text/plain": [
       "2"
      ]
     },
     "execution_count": 58,
     "metadata": {},
     "output_type": "execute_result"
    }
   ],
   "source": [
    "7÷3 # alt 246"
   ]
  },
  {
   "cell_type": "markdown",
   "metadata": {},
   "source": [
    "## Frações"
   ]
  },
  {
   "cell_type": "code",
   "execution_count": 59,
   "metadata": {},
   "outputs": [
    {
     "data": {
      "text/plain": [
       "29//21"
      ]
     },
     "execution_count": 59,
     "metadata": {},
     "output_type": "execute_result"
    }
   ],
   "source": [
    "2//3+5//7"
   ]
  },
  {
   "cell_type": "markdown",
   "metadata": {},
   "source": [
    "#### Raízes quadradas, cúbicas e superiores\n",
    "\n",
    "\\begin{equation}\n",
    "\\sqrt{2}\n",
    "\\end{equation}"
   ]
  },
  {
   "cell_type": "code",
   "execution_count": 60,
   "metadata": {},
   "outputs": [
    {
     "data": {
      "text/plain": [
       "1.4142135623730951"
      ]
     },
     "execution_count": 60,
     "metadata": {},
     "output_type": "execute_result"
    }
   ],
   "source": [
    "sqrt(2)"
   ]
  },
  {
   "cell_type": "code",
   "execution_count": 61,
   "metadata": {},
   "outputs": [
    {
     "data": {
      "text/plain": [
       "1.4142135623730951"
      ]
     },
     "execution_count": 61,
     "metadata": {},
     "output_type": "execute_result"
    }
   ],
   "source": [
    "2^(1/2)"
   ]
  },
  {
   "cell_type": "code",
   "execution_count": 62,
   "metadata": {},
   "outputs": [
    {
     "data": {
      "text/plain": [
       "3.0"
      ]
     },
     "execution_count": 62,
     "metadata": {},
     "output_type": "execute_result"
    }
   ],
   "source": [
    "cbrt(27)"
   ]
  },
  {
   "cell_type": "code",
   "execution_count": 63,
   "metadata": {},
   "outputs": [
    {
     "data": {
      "text/plain": [
       "2.0912791051825463"
      ]
     },
     "execution_count": 63,
     "metadata": {},
     "output_type": "execute_result"
    }
   ],
   "source": [
    "40^(1/5)"
   ]
  },
  {
   "cell_type": "markdown",
   "metadata": {},
   "source": [
    "# Constantes (da matemática):\n",
    "\n",
    "$\\pi$\n",
    "\n",
    "$e$"
   ]
  },
  {
   "cell_type": "code",
   "execution_count": 64,
   "metadata": {},
   "outputs": [
    {
     "data": {
      "text/plain": [
       "π = 3.1415926535897..."
      ]
     },
     "execution_count": 64,
     "metadata": {},
     "output_type": "execute_result"
    }
   ],
   "source": [
    "pi"
   ]
  },
  {
   "cell_type": "code",
   "execution_count": 65,
   "metadata": {},
   "outputs": [
    {
     "data": {
      "text/plain": [
       "2.718281828459045"
      ]
     },
     "execution_count": 65,
     "metadata": {},
     "output_type": "execute_result"
    }
   ],
   "source": [
    "exp(1)"
   ]
  },
  {
   "cell_type": "markdown",
   "metadata": {},
   "source": [
    "## Arredondamentos de números decimais"
   ]
  },
  {
   "cell_type": "code",
   "execution_count": 66,
   "metadata": {},
   "outputs": [
    {
     "data": {
      "text/plain": [
       "3.14"
      ]
     },
     "execution_count": 66,
     "metadata": {},
     "output_type": "execute_result"
    }
   ],
   "source": [
    "round(pi, digits=2)"
   ]
  },
  {
   "cell_type": "code",
   "execution_count": 67,
   "metadata": {},
   "outputs": [
    {
     "data": {
      "text/plain": [
       "3.14"
      ]
     },
     "execution_count": 67,
     "metadata": {},
     "output_type": "execute_result"
    }
   ],
   "source": [
    "trunc(pi, digits=2)"
   ]
  },
  {
   "cell_type": "code",
   "execution_count": 68,
   "metadata": {},
   "outputs": [
    {
     "data": {
      "text/plain": [
       "3.0"
      ]
     },
     "execution_count": 68,
     "metadata": {},
     "output_type": "execute_result"
    }
   ],
   "source": [
    "floor(pi)"
   ]
  },
  {
   "cell_type": "code",
   "execution_count": 69,
   "metadata": {},
   "outputs": [
    {
     "data": {
      "text/plain": [
       "4.0"
      ]
     },
     "execution_count": 69,
     "metadata": {},
     "output_type": "execute_result"
    }
   ],
   "source": [
    "ceil(pi)"
   ]
  },
  {
   "cell_type": "markdown",
   "metadata": {},
   "source": [
    "# Números complexos e Números grandes"
   ]
  },
  {
   "cell_type": "code",
   "execution_count": 70,
   "metadata": {},
   "outputs": [
    {
     "data": {
      "text/plain": [
       "Complex{Int64}"
      ]
     },
     "execution_count": 70,
     "metadata": {},
     "output_type": "execute_result"
    }
   ],
   "source": [
    "k=2+5im\n",
    "typeof(k)"
   ]
  },
  {
   "cell_type": "code",
   "execution_count": 71,
   "metadata": {},
   "outputs": [
    {
     "data": {
      "text/plain": [
       "1.125899906842624e15"
      ]
     },
     "execution_count": 71,
     "metadata": {},
     "output_type": "execute_result"
    }
   ],
   "source": [
    "num=2.0^50"
   ]
  },
  {
   "cell_type": "code",
   "execution_count": 72,
   "metadata": {},
   "outputs": [
    {
     "data": {
      "text/plain": [
       "1000.0"
      ]
     },
     "execution_count": 72,
     "metadata": {},
     "output_type": "execute_result"
    }
   ],
   "source": [
    "1e3"
   ]
  },
  {
   "cell_type": "code",
   "execution_count": 73,
   "metadata": {},
   "outputs": [
    {
     "data": {
      "text/plain": [
       "1.0e19"
      ]
     },
     "execution_count": 73,
     "metadata": {},
     "output_type": "execute_result"
    }
   ],
   "source": [
    "1e19"
   ]
  },
  {
   "cell_type": "markdown",
   "metadata": {},
   "source": []
  },
  {
   "cell_type": "code",
   "execution_count": 23,
   "metadata": {},
   "outputs": [],
   "source": [
    "using Plots"
   ]
  },
  {
   "cell_type": "code",
   "execution_count": 75,
   "metadata": {},
   "outputs": [
    {
     "data": {
      "text/plain": [
       "g (generic function with 1 method)"
      ]
     },
     "execution_count": 75,
     "metadata": {},
     "output_type": "execute_result"
    }
   ],
   "source": [
    "g(x)=sin(3x^2 - 2x^3)"
   ]
  },
  {
   "cell_type": "code",
   "execution_count": 76,
   "metadata": {},
   "outputs": [
    {
     "data": {
      "image/png": "[encoded data removed]",
      "image/svg+xml": [
       "<?xml version=\"1.0\" encoding=\"utf-8\"?>\n",
       "<svg xmlns=\"http://www.w3.org/2000/svg\" xmlns:xlink=\"http://www.w3.org/1999/xlink\" width=\"600\" height=\"400\" viewBox=\"0 0 2400 1600\">\n",
       "<defs>\n",
       "  <clipPath id=\"clip910\">\n",
       "    <rect x=\"0\" y=\"0\" width=\"2400\" height=\"1600\"/>\n",
       "  </clipPath>\n",
       "</defs>\n",
       "<path clip-path=\"url(#clip910)\" d=\"M0 1600 L2400 1600 L2400 0 L0 0  Z\" fill=\"#ffffff\" fill-rule=\"evenodd\" fill-opacity=\"1\"/>\n",
       "<defs>\n",
       "  <clipPath id=\"clip911\">\n",
       "    <rect x=\"480\" y=\"0\" width=\"1681\" height=\"1600\"/>\n",
       "  </clipPath>\n",
       "</defs>\n",
       "<path clip-path=\"url(#clip910)\" d=\"M193.936 1486.45 L2352.76 1486.45 L2352.76 47.2441 L193.936 47.2441  Z\" fill=\"#ffffff\" fill-rule=\"evenodd\" fill-opacity=\"1\"/>\n",
       "<defs>\n",
       "  <clipPath id=\"clip912\">\n",
       "    <rect x=\"193\" y=\"47\" width=\"2160\" height=\"1440\"/>\n",
       "  </clipPath>\n",
       "</defs>\n",
       "<polyline clip-path=\"url(#clip912)\" style=\"stroke:#000000; stroke-linecap:round; stroke-linejoin:round; stroke-width:2; stroke-opacity:0.1; fill:none\" points=\"255.035,1486.45 255.035,47.2441 \"/>\n",
       "<polyline clip-path=\"url(#clip912)\" style=\"stroke:#000000; stroke-linecap:round; stroke-linejoin:round; stroke-width:2; stroke-opacity:0.1; fill:none\" points=\"594.472,1486.45 594.472,47.2441 \"/>\n",
       "<polyline clip-path=\"url(#clip912)\" style=\"stroke:#000000; stroke-linecap:round; stroke-linejoin:round; stroke-width:2; stroke-opacity:0.1; fill:none\" points=\"1273.35,1486.45 1273.35,47.2441 \"/>\n",
       "<polyline clip-path=\"url(#clip912)\" style=\"stroke:#000000; stroke-linecap:round; stroke-linejoin:round; stroke-width:2; stroke-opacity:0.1; fill:none\" points=\"1612.78,1486.45 1612.78,47.2441 \"/>\n",
       "<polyline clip-path=\"url(#clip912)\" style=\"stroke:#000000; stroke-linecap:round; stroke-linejoin:round; stroke-width:2; stroke-opacity:0.1; fill:none\" points=\"1952.22,1486.45 1952.22,47.2441 \"/>\n",
       "<polyline clip-path=\"url(#clip912)\" style=\"stroke:#000000; stroke-linecap:round; stroke-linejoin:round; stroke-width:2; stroke-opacity:0.1; fill:none\" points=\"2291.66,1486.45 2291.66,47.2441 \"/>\n",
       "<polyline clip-path=\"url(#clip910)\" style=\"stroke:#000000; stroke-linecap:round; stroke-linejoin:round; stroke-width:4; stroke-opacity:1; fill:none\" points=\"193.936,766.847 2352.76,766.847 \"/>\n",
       "<polyline clip-path=\"url(#clip910)\" style=\"stroke:#000000; stroke-linecap:round; stroke-linejoin:round; stroke-width:4; stroke-opacity:1; fill:none\" points=\"255.035,785.744 255.035,747.949 \"/>\n",
       "<polyline clip-path=\"url(#clip910)\" style=\"stroke:#000000; stroke-linecap:round; stroke-linejoin:round; stroke-width:4; stroke-opacity:1; fill:none\" points=\"594.472,785.744 594.472,747.949 \"/>\n",
       "<polyline clip-path=\"url(#clip910)\" style=\"stroke:#000000; stroke-linecap:round; stroke-linejoin:round; stroke-width:4; stroke-opacity:1; fill:none\" points=\"1273.35,785.744 1273.35,747.949 \"/>\n",
       "<polyline clip-path=\"url(#clip910)\" style=\"stroke:#000000; stroke-linecap:round; stroke-linejoin:round; stroke-width:4; stroke-opacity:1; fill:none\" points=\"1612.78,785.744 1612.78,747.949 \"/>\n",
       "<polyline clip-path=\"url(#clip910)\" style=\"stroke:#000000; stroke-linecap:round; stroke-linejoin:round; stroke-width:4; stroke-opacity:1; fill:none\" points=\"1952.22,785.744 1952.22,747.949 \"/>\n",
       "<polyline clip-path=\"url(#clip910)\" style=\"stroke:#000000; stroke-linecap:round; stroke-linejoin:round; stroke-width:4; stroke-opacity:1; fill:none\" points=\"2291.66,785.744 2291.66,747.949 \"/>\n",
       "<path clip-path=\"url(#clip910)\" d=\"M224.977 812.418 L254.653 812.418 L254.653 816.353 L224.977 816.353 L224.977 812.418 Z\" fill=\"#000000\" fill-rule=\"nonzero\" fill-opacity=\"1\" /><path clip-path=\"url(#clip910)\" d=\"M268.773 825.312 L285.092 825.312 L285.092 829.247 L263.148 829.247 L263.148 825.312 Q265.81 822.557 270.393 817.927 Q275 813.275 276.18 811.932 Q278.426 809.409 279.305 807.673 Q280.208 805.914 280.208 804.224 Q280.208 801.469 278.264 799.733 Q276.342 797.997 273.241 797.997 Q271.042 797.997 268.588 798.761 Q266.157 799.525 263.38 801.076 L263.38 796.353 Q266.204 795.219 268.657 794.64 Q271.111 794.062 273.148 794.062 Q278.518 794.062 281.713 796.747 Q284.907 799.432 284.907 803.923 Q284.907 806.052 284.097 807.974 Q283.31 809.872 281.204 812.464 Q280.625 813.136 277.523 816.353 Q274.421 819.548 268.773 825.312 Z\" fill=\"#000000\" fill-rule=\"nonzero\" fill-opacity=\"1\" /><path clip-path=\"url(#clip910)\" d=\"M564.229 812.418 L593.905 812.418 L593.905 816.353 L564.229 816.353 L564.229 812.418 Z\" fill=\"#000000\" fill-rule=\"nonzero\" fill-opacity=\"1\" /><path clip-path=\"url(#clip910)\" d=\"M604.807 825.312 L612.446 825.312 L612.446 798.946 L604.136 800.613 L604.136 796.353 L612.4 794.687 L617.076 794.687 L617.076 825.312 L624.715 825.312 L624.715 829.247 L604.807 829.247 L604.807 825.312 Z\" fill=\"#000000\" fill-rule=\"nonzero\" fill-opacity=\"1\" /><path clip-path=\"url(#clip910)\" d=\"M1263.73 825.312 L1271.37 825.312 L1271.37 798.946 L1263.06 800.613 L1263.06 796.353 L1271.32 794.687 L1276 794.687 L1276 825.312 L1283.64 825.312 L1283.64 829.247 L1263.73 829.247 L1263.73 825.312 Z\" fill=\"#000000\" fill-rule=\"nonzero\" fill-opacity=\"1\" /><path clip-path=\"url(#clip910)\" d=\"M1607.44 825.312 L1623.76 825.312 L1623.76 829.247 L1601.81 829.247 L1601.81 825.312 Q1604.47 822.557 1609.06 817.927 Q1613.66 813.275 1614.84 811.932 Q1617.09 809.409 1617.97 807.673 Q1618.87 805.914 1618.87 804.224 Q1618.87 801.469 1616.93 799.733 Q1615.01 797.997 1611.9 797.997 Q1609.7 797.997 1607.25 798.761 Q1604.82 799.525 1602.04 801.076 L1602.04 796.353 Q1604.87 795.219 1607.32 794.64 Q1609.77 794.062 1611.81 794.062 Q1617.18 794.062 1620.38 796.747 Q1623.57 799.432 1623.57 803.923 Q1623.57 806.052 1622.76 807.974 Q1621.97 809.872 1619.87 812.464 Q1619.29 813.136 1616.19 816.353 Q1613.08 819.548 1607.44 825.312 Z\" fill=\"#000000\" fill-rule=\"nonzero\" fill-opacity=\"1\" /><path clip-path=\"url(#clip910)\" d=\"M1956.47 810.613 Q1959.82 811.33 1961.7 813.599 Q1963.6 815.867 1963.6 819.201 Q1963.6 824.316 1960.08 827.117 Q1956.56 829.918 1950.08 829.918 Q1947.9 829.918 1945.59 829.478 Q1943.3 829.062 1940.84 828.205 L1940.84 823.691 Q1942.79 824.825 1945.1 825.404 Q1947.42 825.983 1949.94 825.983 Q1954.34 825.983 1956.63 824.247 Q1958.94 822.511 1958.94 819.201 Q1958.94 816.145 1956.79 814.432 Q1954.66 812.696 1950.84 812.696 L1946.82 812.696 L1946.82 808.853 L1951.03 808.853 Q1954.48 808.853 1956.31 807.488 Q1958.13 806.099 1958.13 803.506 Q1958.13 800.844 1956.24 799.432 Q1954.36 797.997 1950.84 797.997 Q1948.92 797.997 1946.72 798.414 Q1944.52 798.83 1941.88 799.71 L1941.88 795.543 Q1944.55 794.802 1946.86 794.432 Q1949.2 794.062 1951.26 794.062 Q1956.58 794.062 1959.69 796.492 Q1962.79 798.9 1962.79 803.02 Q1962.79 805.89 1961.14 807.881 Q1959.5 809.849 1956.47 810.613 Z\" fill=\"#000000\" fill-rule=\"nonzero\" fill-opacity=\"1\" /><path clip-path=\"url(#clip910)\" d=\"M2294.67 798.761 L2282.86 817.21 L2294.67 817.21 L2294.67 798.761 M2293.44 794.687 L2299.32 794.687 L2299.32 817.21 L2304.25 817.21 L2304.25 821.099 L2299.32 821.099 L2299.32 829.247 L2294.67 829.247 L2294.67 821.099 L2279.06 821.099 L2279.06 816.585 L2293.44 794.687 Z\" fill=\"#000000\" fill-rule=\"nonzero\" fill-opacity=\"1\" /><polyline clip-path=\"url(#clip912)\" style=\"stroke:#000000; stroke-linecap:round; stroke-linejoin:round; stroke-width:2; stroke-opacity:0.1; fill:none\" points=\"193.936,1445.72 2352.76,1445.72 \"/>\n",
       "<polyline clip-path=\"url(#clip912)\" style=\"stroke:#000000; stroke-linecap:round; stroke-linejoin:round; stroke-width:2; stroke-opacity:0.1; fill:none\" points=\"193.936,1106.28 2352.76,1106.28 \"/>\n",
       "<polyline clip-path=\"url(#clip912)\" style=\"stroke:#000000; stroke-linecap:round; stroke-linejoin:round; stroke-width:2; stroke-opacity:0.1; fill:none\" points=\"193.936,427.411 2352.76,427.411 \"/>\n",
       "<polyline clip-path=\"url(#clip912)\" style=\"stroke:#000000; stroke-linecap:round; stroke-linejoin:round; stroke-width:2; stroke-opacity:0.1; fill:none\" points=\"193.936,87.9762 2352.76,87.9762 \"/>\n",
       "<polyline clip-path=\"url(#clip910)\" style=\"stroke:#000000; stroke-linecap:round; stroke-linejoin:round; stroke-width:4; stroke-opacity:1; fill:none\" points=\"933.909,1486.45 933.909,47.2441 \"/>\n",
       "<polyline clip-path=\"url(#clip910)\" style=\"stroke:#000000; stroke-linecap:round; stroke-linejoin:round; stroke-width:4; stroke-opacity:1; fill:none\" points=\"915.011,1445.72 952.806,1445.72 \"/>\n",
       "<polyline clip-path=\"url(#clip910)\" style=\"stroke:#000000; stroke-linecap:round; stroke-linejoin:round; stroke-width:4; stroke-opacity:1; fill:none\" points=\"915.011,1106.28 952.806,1106.28 \"/>\n",
       "<polyline clip-path=\"url(#clip910)\" style=\"stroke:#000000; stroke-linecap:round; stroke-linejoin:round; stroke-width:4; stroke-opacity:1; fill:none\" points=\"915.011,427.411 952.806,427.411 \"/>\n",
       "<polyline clip-path=\"url(#clip910)\" style=\"stroke:#000000; stroke-linecap:round; stroke-linejoin:round; stroke-width:4; stroke-opacity:1; fill:none\" points=\"915.011,87.9762 952.806,87.9762 \"/>\n",
       "<path clip-path=\"url(#clip910)\" d=\"M790.965 1446.17 L820.641 1446.17 L820.641 1450.1 L790.965 1450.1 L790.965 1446.17 Z\" fill=\"#000000\" fill-rule=\"nonzero\" fill-opacity=\"1\" /><path clip-path=\"url(#clip910)\" d=\"M831.543 1459.06 L839.182 1459.06 L839.182 1432.7 L830.872 1434.36 L830.872 1430.1 L839.136 1428.44 L843.812 1428.44 L843.812 1459.06 L851.451 1459.06 L851.451 1463 L831.543 1463 L831.543 1459.06 Z\" fill=\"#000000\" fill-rule=\"nonzero\" fill-opacity=\"1\" /><path clip-path=\"url(#clip910)\" d=\"M860.895 1457.12 L865.779 1457.12 L865.779 1463 L860.895 1463 L860.895 1457.12 Z\" fill=\"#000000\" fill-rule=\"nonzero\" fill-opacity=\"1\" /><path clip-path=\"url(#clip910)\" d=\"M885.964 1431.52 Q882.353 1431.52 880.525 1435.08 Q878.719 1438.62 878.719 1445.75 Q878.719 1452.86 880.525 1456.42 Q882.353 1459.96 885.964 1459.96 Q889.599 1459.96 891.404 1456.42 Q893.233 1452.86 893.233 1445.75 Q893.233 1438.62 891.404 1435.08 Q889.599 1431.52 885.964 1431.52 M885.964 1427.81 Q891.775 1427.81 894.83 1432.42 Q897.909 1437 897.909 1445.75 Q897.909 1454.48 894.83 1459.09 Q891.775 1463.67 885.964 1463.67 Q880.154 1463.67 877.076 1459.09 Q874.02 1454.48 874.02 1445.75 Q874.02 1437 877.076 1432.42 Q880.154 1427.81 885.964 1427.81 Z\" fill=\"#000000\" fill-rule=\"nonzero\" fill-opacity=\"1\" /><path clip-path=\"url(#clip910)\" d=\"M791.96 1106.73 L821.636 1106.73 L821.636 1110.67 L791.96 1110.67 L791.96 1106.73 Z\" fill=\"#000000\" fill-rule=\"nonzero\" fill-opacity=\"1\" /><path clip-path=\"url(#clip910)\" d=\"M841.729 1092.08 Q838.118 1092.08 836.289 1095.65 Q834.483 1099.19 834.483 1106.32 Q834.483 1113.42 836.289 1116.99 Q838.118 1120.53 841.729 1120.53 Q845.363 1120.53 847.168 1116.99 Q848.997 1113.42 848.997 1106.32 Q848.997 1099.19 847.168 1095.65 Q845.363 1092.08 841.729 1092.08 M841.729 1088.38 Q847.539 1088.38 850.594 1092.98 Q853.673 1097.57 853.673 1106.32 Q853.673 1115.04 850.594 1119.65 Q847.539 1124.23 841.729 1124.23 Q835.918 1124.23 832.84 1119.65 Q829.784 1115.04 829.784 1106.32 Q829.784 1097.57 832.84 1092.98 Q835.918 1088.38 841.729 1088.38 Z\" fill=\"#000000\" fill-rule=\"nonzero\" fill-opacity=\"1\" /><path clip-path=\"url(#clip910)\" d=\"M861.891 1117.68 L866.775 1117.68 L866.775 1123.56 L861.891 1123.56 L861.891 1117.68 Z\" fill=\"#000000\" fill-rule=\"nonzero\" fill-opacity=\"1\" /><path clip-path=\"url(#clip910)\" d=\"M877.006 1089 L895.363 1089 L895.363 1092.94 L881.289 1092.94 L881.289 1101.41 Q882.307 1101.06 883.326 1100.9 Q884.344 1100.71 885.363 1100.71 Q891.15 1100.71 894.529 1103.89 Q897.909 1107.06 897.909 1112.47 Q897.909 1118.05 894.437 1121.15 Q890.964 1124.23 884.645 1124.23 Q882.469 1124.23 880.201 1123.86 Q877.955 1123.49 875.548 1122.75 L875.548 1118.05 Q877.631 1119.19 879.853 1119.74 Q882.076 1120.3 884.552 1120.3 Q888.557 1120.3 890.895 1118.19 Q893.233 1116.09 893.233 1112.47 Q893.233 1108.86 890.895 1106.76 Q888.557 1104.65 884.552 1104.65 Q882.677 1104.65 880.802 1105.07 Q878.951 1105.48 877.006 1106.36 L877.006 1089 Z\" fill=\"#000000\" fill-rule=\"nonzero\" fill-opacity=\"1\" /><path clip-path=\"url(#clip910)\" d=\"M841.729 413.21 Q838.118 413.21 836.289 416.775 Q834.483 420.317 834.483 427.446 Q834.483 434.553 836.289 438.117 Q838.118 441.659 841.729 441.659 Q845.363 441.659 847.168 438.117 Q848.997 434.553 848.997 427.446 Q848.997 420.317 847.168 416.775 Q845.363 413.21 841.729 413.21 M841.729 409.506 Q847.539 409.506 850.594 414.113 Q853.673 418.696 853.673 427.446 Q853.673 436.173 850.594 440.779 Q847.539 445.363 841.729 445.363 Q835.918 445.363 832.84 440.779 Q829.784 436.173 829.784 427.446 Q829.784 418.696 832.84 414.113 Q835.918 409.506 841.729 409.506 Z\" fill=\"#000000\" fill-rule=\"nonzero\" fill-opacity=\"1\" /><path clip-path=\"url(#clip910)\" d=\"M861.891 438.812 L866.775 438.812 L866.775 444.691 L861.891 444.691 L861.891 438.812 Z\" fill=\"#000000\" fill-rule=\"nonzero\" fill-opacity=\"1\" /><path clip-path=\"url(#clip910)\" d=\"M877.006 410.131 L895.363 410.131 L895.363 414.067 L881.289 414.067 L881.289 422.539 Q882.307 422.192 883.326 422.03 Q884.344 421.844 885.363 421.844 Q891.15 421.844 894.529 425.016 Q897.909 428.187 897.909 433.604 Q897.909 439.182 894.437 442.284 Q890.964 445.363 884.645 445.363 Q882.469 445.363 880.201 444.992 Q877.955 444.622 875.548 443.881 L875.548 439.182 Q877.631 440.317 879.853 440.872 Q882.076 441.428 884.552 441.428 Q888.557 441.428 890.895 439.321 Q893.233 437.215 893.233 433.604 Q893.233 429.992 890.895 427.886 Q888.557 425.78 884.552 425.78 Q882.677 425.78 880.802 426.196 Q878.951 426.613 877.006 427.493 L877.006 410.131 Z\" fill=\"#000000\" fill-rule=\"nonzero\" fill-opacity=\"1\" /><path clip-path=\"url(#clip910)\" d=\"M831.543 101.321 L839.182 101.321 L839.182 74.9555 L830.872 76.6221 L830.872 72.3629 L839.136 70.6962 L843.812 70.6962 L843.812 101.321 L851.451 101.321 L851.451 105.256 L831.543 105.256 L831.543 101.321 Z\" fill=\"#000000\" fill-rule=\"nonzero\" fill-opacity=\"1\" /><path clip-path=\"url(#clip910)\" d=\"M860.895 99.3766 L865.779 99.3766 L865.779 105.256 L860.895 105.256 L860.895 99.3766 Z\" fill=\"#000000\" fill-rule=\"nonzero\" fill-opacity=\"1\" /><path clip-path=\"url(#clip910)\" d=\"M885.964 73.7749 Q882.353 73.7749 880.525 77.3397 Q878.719 80.8814 878.719 88.011 Q878.719 95.1174 880.525 98.6822 Q882.353 102.224 885.964 102.224 Q889.599 102.224 891.404 98.6822 Q893.233 95.1174 893.233 88.011 Q893.233 80.8814 891.404 77.3397 Q889.599 73.7749 885.964 73.7749 M885.964 70.0712 Q891.775 70.0712 894.83 74.6777 Q897.909 79.261 897.909 88.011 Q897.909 96.7378 894.83 101.344 Q891.775 105.928 885.964 105.928 Q880.154 105.928 877.076 101.344 Q874.02 96.7378 874.02 88.011 Q874.02 79.261 877.076 74.6777 Q880.154 70.0712 885.964 70.0712 Z\" fill=\"#000000\" fill-rule=\"nonzero\" fill-opacity=\"1\" /><polyline clip-path=\"url(#clip912)\" style=\"stroke:#009af9; stroke-linecap:round; stroke-linejoin:round; stroke-width:4; stroke-opacity:1; fill:none\" points=\"255.035,582.937 255.863,526.341 256.692,471.707 257.521,419.443 258.35,369.931 258.764,346.321 259.178,323.531 259.593,301.604 260.007,280.576 260.421,260.486 260.836,241.369 261.25,223.256 261.664,206.18 262.079,190.168 262.493,175.247 262.908,161.443 263.322,148.776 263.736,137.268 264.151,126.935 264.565,117.794 264.979,109.857 265.394,103.135 265.808,97.6373 266.222,93.3698 266.637,90.3366 267.051,88.5393 267.465,87.9775 267.88,88.6482 268.294,90.5465 269.252,99.5895 270.21,115.016 271.168,136.632 272.126,164.188 273.083,197.38 274.041,235.854 274.999,279.213 275.957,327.014 276.915,378.783 277.873,434.011 278.83,492.165 279.788,552.692 281.704,678.575 283.62,807.026 284.577,870.767 285.535,933.43 286.493,994.467 287.451,1053.35 288.409,1109.59 289.367,1162.7 290.325,1212.25 291.282,1257.83 292.24,1299.09 293.198,1335.7 294.156,1367.39 295.114,1393.91 296.072,1415.1 297.029,1430.8 297.987,1440.94 298.945,1445.46 299.903,1444.37 300.861,1437.72 301.819,1425.6 302.776,1408.17 303.734,1385.58 304.692,1358.08 305.65,1325.91 306.608,1289.37 307.566,1248.78 308.523,1204.49 309.481,1156.88 310.439,1106.34 311.397,1053.3 312.355,998.17 313.313,941.403 314.27,883.445 316.186,765.758 318.102,648.696 319.06,591.494 320.018,535.739 320.975,481.833 321.933,430.158 322.891,381.076 323.849,334.923 324.807,292.013 325.765,252.629 326.722,217.028 327.68,185.433 328.638,158.038 329.596,135.005 330.554,116.46 331.512,102.5 332.469,93.1854 333.427,88.5443 334.385,88.5726 335.343,93.2334 336.301,102.459 337.259,116.151 338.216,134.181 339.174,156.396 340.132,182.614 341.09,212.63 342.048,246.215 343.006,283.12 343.964,323.079 344.921,365.808 345.879,411.008 346.837,458.37 347.795,507.573 348.753,558.289 350.668,662.929 352.584,769.6 354.5,875.637 356.415,978.457 357.373,1027.89 358.331,1075.63 359.289,1121.39 360.247,1164.91 361.205,1205.97 362.162,1244.33 363.12,1279.79 364.078,1312.17 365.036,1341.31 365.994,1367.06 366.952,1389.31 367.91,1407.95 368.867,1422.91 369.825,1434.14 370.783,1441.6 371.741,1445.29 372.699,1445.21 373.657,1441.39 374.614,1433.89 375.572,1422.77 376.53,1408.14 377.488,1390.09 378.446,1368.75 379.404,1344.27 380.361,1316.8 381.319,1286.51 382.277,1253.58 383.235,1218.21 384.193,1180.6 385.151,1140.96 386.108,1099.53 387.066,1056.51 388.982,966.68 390.898,873.365 393.2,759.291 395.503,646.203 396.654,591.014 397.805,537.229 398.956,485.205 400.108,435.277 400.683,411.2 401.259,387.765 401.834,365.008 402.41,342.963 403.561,301.144 404.713,262.554 405.288,244.541 405.864,227.416 406.439,211.203 407.015,195.923 407.591,181.597 408.166,168.242 408.742,155.877 409.318,144.514 409.893,134.167 410.469,124.848 411.044,116.565 411.62,109.327 412.196,103.139 412.771,98.0063 413.347,93.9305 413.923,90.9125 414.498,88.9516 415.074,88.0452 415.649,88.189 416.225,89.3773 416.801,91.6026 417.376,94.856 417.952,99.127 418.527,104.404 419.103,110.673 419.679,117.919 420.254,126.127 420.83,135.278 421.406,145.354 421.981,156.336 422.557,168.201 423.132,180.927 424.284,208.869 425.435,239.962 426.011,256.624 426.586,273.991 427.162,292.036 427.737,310.728 428.889,349.932 430.04,391.354 431.191,434.735 432.342,479.811 433.494,526.313 434.645,573.966 435.796,622.497 436.947,671.632 439.25,770.626 441.552,868.814 442.704,916.963 443.855,964.156 445.006,1010.16 446.157,1054.75 447.309,1097.71 448.46,1138.85 449.611,1177.98 450.762,1214.92 451.914,1249.52 453.065,1281.64 454.216,1311.14 455.367,1337.92 456.519,1361.87 457.67,1382.91 458.821,1400.98 459.972,1416.03 461.123,1428.01 462.275,1436.92 463.426,1442.74 464.577,1445.48 465.551,1445.41 466.524,1443.18 467.497,1438.82 468.471,1432.37 469.444,1423.85 470.417,1413.32 471.391,1400.84 472.364,1386.45 473.337,1370.23 474.311,1352.24 475.284,1332.55 476.258,1311.24 477.231,1288.39 478.204,1264.08 479.178,1238.4 480.151,1211.44 481.124,1183.28 482.098,1154.03 483.071,1123.78 484.044,1092.62 485.991,1027.97 487.938,960.874 491.831,822.49 495.725,683.629 497.672,615.847 499.618,550.069 501.565,486.923 503.512,426.985 504.485,398.385 505.458,370.781 506.432,344.227 507.405,318.779 508.378,294.485 509.352,271.391 510.325,249.539 511.299,228.968 512.272,209.712 513.245,191.802 514.219,175.264 515.192,160.122 516.165,146.396 517.139,134.1 518.112,123.248 519.085,113.847 520.059,105.903 521.032,99.4172 522.006,94.3884 522.979,90.8112 523.952,88.6776 524.926,87.9763 525.899,88.693 526.872,90.8108 527.93,94.6755 528.987,100.141 530.044,107.175 531.102,115.741 532.159,125.801 533.216,137.312 534.274,150.23 535.331,164.509 536.388,180.097 537.446,196.944 538.503,214.995 539.56,234.196 540.618,254.489 541.675,275.815 542.733,298.115 543.79,321.328 545.905,370.245 548.019,422.065 550.134,476.283 552.249,532.39 556.478,648.276 560.707,765.831 562.822,824.086 564.937,881.423 567.051,937.443 569.166,991.776 571.281,1044.08 573.395,1094.04 575.51,1141.38 577.625,1185.85 579.74,1227.22 581.854,1265.32 582.912,1283.08 583.969,1299.97 585.026,1315.97 586.084,1331.07 587.141,1345.25 588.198,1358.5 589.256,1370.83 590.313,1382.21 591.37,1392.65 592.428,1402.15 593.485,1410.7 594.542,1418.31 596.492,1429.87 598.441,1438.25 600.391,1443.49 602.341,1445.65 604.29,1444.8 606.24,1441.02 608.189,1434.41 610.139,1425.07 612.088,1413.11 614.038,1398.64 615.987,1381.81 617.937,1362.74 619.887,1341.57 621.836,1318.44 623.786,1293.49 625.735,1266.87 627.685,1238.72 629.634,1209.19 631.584,1178.43 633.533,1146.58 637.433,1080.18 641.332,1011.1 649.13,869.042 656.928,727.939 661.108,654.907 665.289,584.739 667.379,550.94 669.469,518.096 671.559,486.271 673.649,455.523 675.739,425.901 677.829,397.451 679.919,370.208 682.01,344.204 684.1,319.464 686.19,296.008 688.28,273.849 690.37,252.996 692.46,233.454 694.55,215.222 696.64,198.295 698.731,182.664 700.821,168.318 702.911,155.241 705.001,143.414 707.091,132.815 709.181,123.42 711.271,115.203 713.362,108.136 715.452,102.187 717.542,97.3247 719.632,93.5163 721.722,90.7271 723.812,88.9215 726.234,88.0117 728.655,88.3162 731.077,89.7768 733.499,92.3348 735.92,95.9314 738.342,100.508 740.763,106.006 743.185,112.368 748.028,127.455 752.872,145.327 757.715,165.557 762.558,187.745 772.245,236.518 781.931,288.971 791.617,342.882 801.304,396.463 809.912,442.673 818.52,486.782 827.129,528.241 835.737,566.661 840.041,584.645 844.345,601.782 848.649,618.055 852.953,633.454 857.257,647.971 861.561,661.606 865.865,674.359 870.17,686.234 877.718,704.963 885.267,721.063 892.815,734.6 900.364,745.649 907.913,754.292 915.461,760.613 923.01,764.702 930.558,766.647 938.788,766.43 947.018,763.887 955.248,759.135 963.478,752.29 971.708,743.47 979.938,732.796 988.168,720.388 996.398,706.374 1004.68,690.785 1012.96,673.838 1021.24,655.672 1029.51,636.433 1046.07,595.337 1062.63,551.781 1080.94,502.279 1099.24,452.978 1117.55,405.442 1135.86,361.04 1144.57,341.35 1153.28,322.721 1161.98,305.235 1170.69,288.954 1179.4,273.93 1188.11,260.195 1196.82,247.773 1205.53,236.674 1214.59,226.541 1223.64,217.838 1232.7,210.561 1241.75,204.706 1250.81,200.279 1259.86,197.293 1268.92,195.782 1277.98,195.804 1285.6,197.07 1293.22,199.55 1300.84,203.331 1308.47,208.524 1316.09,215.262 1323.71,223.703 1331.34,234.03 1338.96,246.454 1343.61,255.17 1348.27,264.813 1352.92,275.446 1357.57,287.133 1362.23,299.942 1366.88,313.943 1371.53,329.207 1376.19,345.807 1380.84,363.815 1385.49,383.303 1390.15,404.341 1394.8,426.996 1399.45,451.33 1404.11,477.399 1408.76,505.25 1413.41,534.922 1417.67,563.723 1421.94,594.08 1426.2,625.989 1430.46,659.433 1434.73,694.376 1438.99,730.766 1443.25,768.53 1447.51,807.572 1456.04,888.981 1464.57,973.697 1473.09,1059.93 1481.62,1145.34 1485.55,1183.73 1489.49,1221 1493.43,1256.8 1497.36,1290.77 1501.3,1322.49 1505.24,1351.56 1507.21,1364.97 1509.17,1377.55 1511.14,1389.25 1513.11,1400 1515.08,1409.77 1517.05,1418.48 1519.02,1426.09 1520.99,1432.53 1522.95,1437.76 1524.92,1441.72 1526.89,1444.35 1528.86,1445.61 1530.83,1445.44 1532.8,1443.81 1534.77,1440.65 1536.73,1435.94 1538.7,1429.63 1540.67,1421.69 1542.64,1412.08 1544.61,1400.78 1546.6,1387.59 1548.6,1372.62 1550.59,1355.87 1552.58,1337.32 1554.58,1316.97 1556.57,1294.84 1558.57,1270.93 1560.56,1245.28 1562.55,1217.91 1564.55,1188.86 1566.54,1158.18 1568.54,1125.92 1570.53,1092.17 1572.52,1056.98 1574.52,1020.45 1576.51,982.679 1578.51,943.77 1580.5,903.841 1582.49,863.021 1584.49,821.446 1588.48,736.64 1592.46,650.721 1596.45,565.138 1600.44,481.465 1602.43,440.867 1604.43,401.383 1606.42,363.235 1608.42,326.648 1610.65,287.777 1612.89,251.467 1615.12,218.031 1617.36,187.778 1618.47,173.939 1619.59,161.007 1620.71,149.018 1621.82,138.007 1622.94,128.007 1624.06,119.05 1625.18,111.168 1626.29,104.39 1627.41,98.7454 1628.53,94.2598 1629.65,90.9586 1630.76,88.865 1631.88,88.0001 1633,88.3831 1634.12,90.031 1635.23,92.9587 1636.35,97.1785 1637.47,102.7 1638.59,109.531 1639.7,117.677 1640.82,127.138 1641.94,137.914 1643.05,150.002 1644.17,163.393 1645.29,178.08 1646.41,194.047 1647.52,211.279 1648.64,229.756 1649.76,249.455 1650.88,270.349 1651.99,292.409 1653.11,315.602 1654.23,339.89 1655.35,365.234 1656.46,391.59 1657.58,418.91 1658.7,447.144 1659.82,476.238 1660.93,506.134 1662.05,536.772 1664.28,600.016 1666.52,665.42 1668.75,732.388 1670.99,800.282 1673.22,868.426 1675.46,936.109 1677.69,1002.6 1679.93,1067.14 1680.94,1095.54 1681.95,1123.31 1682.97,1150.38 1683.98,1176.68 1684.99,1202.14 1686,1226.69 1687.02,1250.27 1688.03,1272.8 1689.04,1294.22 1690.05,1314.47 1691.07,1333.48 1692.08,1351.19 1693.09,1367.54 1694.1,1382.48 1695.12,1395.95 1696.13,1407.91 1697.14,1418.3 1698.15,1427.09 1699.17,1434.22 1700.18,1439.67 1701.19,1443.4 1702.2,1445.38 1703.22,1445.59 1704.23,1444 1705.24,1440.6 1706.25,1435.39 1707.27,1428.35 1708.28,1419.48 1709.29,1408.8 1710.3,1396.3 1711.32,1382 1712.33,1365.93 1713.34,1348.11 1714.35,1328.58 1715.37,1307.37 1716.38,1284.52 1717.39,1260.08 1718.4,1234.12 1719.42,1206.69 1720.43,1177.85 1721.44,1147.69 1722.45,1116.27 1723.47,1083.68 1724.48,1050.01 1725.49,1015.34 1726.5,979.792 1727.52,943.451 1728.53,906.428 1732.58,753.792 1736.63,599.739 1738.65,524.749 1740.68,452.528 1741.69,417.788 1742.7,384.136 1743.72,351.702 1744.73,320.614 1745.89,286.831 1747.05,255.155 1748.21,225.763 1749.37,198.819 1750.53,174.483 1751.68,152.902 1752.84,134.215 1754,118.546 1755.16,106.008 1756.32,96.7004 1757.48,90.7063 1758.64,88.0945 1759.22,88.0739 1759.8,88.917 1760.38,90.6278 1760.96,93.2089 1761.54,96.6619 1762.12,100.987 1762.7,106.184 1763.28,112.251 1763.86,119.185 1764.44,126.982 1765.02,135.635 1765.6,145.139 1766.75,166.665 1767.91,191.481 1769.07,219.492 1770.23,250.578 1771.39,284.604 1772.55,321.413 1773.71,360.832 1774.87,402.668 1776.03,446.71 1777.19,492.731 1778.35,540.488 1779.51,589.724 1780.67,640.169 1781.83,691.538 1784.14,795.865 1786.46,900.253 1787.62,951.677 1788.78,1002.16 1789.94,1051.37 1791.1,1099.01 1792.26,1144.74 1793.42,1188.26 1794.58,1229.26 1795.74,1267.47 1796.9,1302.6 1798.05,1334.39 1798.63,1348.96 1799.21,1362.6 1799.79,1375.29 1800.37,1387 1800.95,1397.71 1801.53,1407.4 1802.11,1416.03 1802.69,1423.6 1803.27,1430.08 1803.85,1435.46 1804.43,1439.73 1805.01,1442.86 1805.59,1444.85 1806.17,1445.69 1806.75,1445.37 1807.33,1443.88 1807.91,1441.23 1808.49,1437.41 1809.07,1432.42 1809.65,1426.26 1810.23,1418.94 1810.81,1410.47 1811.39,1400.85 1811.97,1390.09 1812.55,1378.21 1813.13,1365.23 1813.7,1351.16 1814.28,1336.01 1814.86,1319.82 1815.44,1302.61 1816.02,1284.4 1816.6,1265.22 1817.18,1245.1 1817.76,1224.07 1818.34,1202.16 1818.92,1179.42 1819.99,1135.23 1821.07,1088.54 1822.14,1039.65 1823.21,988.844 1824.29,936.436 1825.36,882.755 1826.44,828.143 1827.51,772.954 1829.66,662.305 1831.8,553.787 1832.88,501.269 1833.95,450.411 1835.02,401.583 1836.1,355.142 1836.63,332.927 1837.17,311.439 1837.71,290.719 1838.24,270.807 1838.78,251.742 1839.32,233.563 1839.85,216.305 1840.39,200.005 1840.93,184.696 1841.46,170.409 1842,157.177 1842.54,145.026 1843.07,133.986 1843.61,124.08 1844.15,115.332 1844.68,107.764 1845.22,101.396 1845.76,96.2431 1846.29,92.322 1846.83,89.6453 1847.37,88.2236 1847.9,88.0654 1848.44,89.1768 1848.98,91.5614 1849.51,95.2206 1850.05,100.153 1850.59,106.356 1851.12,113.822 1851.66,122.544 1852.2,132.51 1852.73,143.707 1853.27,156.119 1853.81,169.727 1854.34,184.511 1854.88,200.446 1855.42,217.508 1855.95,235.667 1856.49,254.893 1857.03,275.154 1857.56,296.413 1858.1,318.633 1858.64,341.774 1859.17,365.795 1859.71,390.651 1860.25,416.296 1860.78,442.683 1861.32,469.76 1861.86,497.477 1862.93,554.616 1864,613.652 1865.08,674.117 1866.15,735.527 1868.3,859.156 1870.44,980.414 1871.52,1038.85 1872.59,1095.14 1873.66,1148.77 1874.74,1199.26 1875.27,1223.18 1875.81,1246.14 1876.35,1268.09 1876.88,1288.97 1877.42,1308.73 1877.96,1327.33 1878.49,1344.72 1879.03,1360.85 1879.57,1375.69 1880.1,1389.19 1880.64,1401.32 1881.18,1412.04 1881.71,1421.33 1882.25,1429.16 1882.79,1435.49 1883.32,1440.33 1883.86,1443.63 1884.4,1445.4 1884.93,1445.62 1885.47,1444.28 1886.01,1441.38 1886.54,1436.91 1887.08,1430.89 1887.62,1423.32 1888.15,1414.36 1888.68,1403.9 1889.2,1391.99 1889.73,1378.63 1890.26,1363.85 1890.79,1347.68 1891.32,1330.16 1891.85,1311.3 1892.38,1291.16 1892.91,1269.78 1893.44,1247.19 1893.97,1223.46 1894.5,1198.62 1895.02,1172.73 1895.55,1145.85 1896.08,1118.04 1897.14,1059.87 1898.2,998.744 1899.26,935.231 1900.32,869.92 1902.43,736.4 1904.55,603.337 1905.61,538.629 1906.67,476.013 1907.72,416.136 1908.78,359.624 1909.31,332.819 1909.84,307.078 1910.37,282.471 1910.9,259.066 1911.43,236.928 1911.96,216.118 1912.49,196.696 1913.01,178.718 1913.54,162.237 1914.07,147.3 1914.6,133.954 1915.13,122.24 1915.66,112.195 1916.19,103.852 1916.72,97.2408 1917.25,92.3855 1917.78,89.3061 1918.31,88.0181 1918.83,88.5322 1919.36,90.8543 1919.89,94.9858 1920.42,100.923 1920.95,108.657 1921.48,118.174 1922.01,129.456 1922.54,142.479 1923.07,157.216 1923.6,173.632 1924.13,191.69 1924.65,211.346 1925.18,232.555 1925.71,255.262 1926.24,279.411 1926.77,304.942 1927.3,331.788 1927.83,359.881 1928.36,389.147 1928.89,419.509 1929.42,450.885 1929.95,483.192 1931,550.243 1932.06,619.93 1933.12,691.476 1934.18,764.076 1935.24,836.9 1936.3,909.106 1937.35,979.847 1938.41,1048.28 1938.94,1081.38 1939.47,1113.58 1940,1144.81 1940.53,1174.96 1941.06,1203.93 1941.59,1231.64 1942.12,1257.99 1942.64,1282.91 1943.17,1306.31 1943.7,1328.12 1944.23,1348.26 1944.76,1366.66 1945.29,1383.27 1945.82,1398.02 1946.35,1410.87 1946.88,1421.76 1947.41,1430.66 1947.94,1437.52 1948.46,1442.33 1948.99,1445.05 1949.52,1445.67 1950.05,1444.19 1950.58,1440.59 1951.11,1434.88 1951.64,1427.07 1952.17,1417.18 1952.7,1405.22 1953.23,1391.23 1953.76,1375.25 1954.29,1357.32 1954.81,1337.49 1955.34,1315.8 1955.86,1293.05 1956.37,1268.67 1956.88,1242.74 1957.4,1215.33 1957.91,1186.52 1958.43,1156.4 1958.94,1125.04 1959.45,1092.55 1960.48,1024.53 1961.51,953.161 1962.54,879.297 1963.56,803.844 1964.59,727.741 1965.62,651.942 1966.65,577.412 1967.67,505.111 1968.19,470.093 1968.7,435.984 1969.21,402.897 1969.73,370.942 1970.24,340.229 1970.75,310.86 1971.27,282.937 1971.78,256.555 1972.3,231.807 1972.81,208.78 1973.32,187.556 1973.84,168.211 1974.35,150.817 1974.86,135.437 1975.38,122.13 1975.89,110.949 1976.41,101.938 1976.92,95.136 1977.43,90.5728 1977.95,88.2726 1978.46,88.2512 1978.97,90.5172 1979.49,95.0713 1980,101.906 1980.52,111.008 1981.03,122.352 1981.54,135.909 1982.06,151.641 1982.57,169.502 1983.08,189.437 1983.6,211.385 1984.11,235.279 1984.63,261.042 1985.14,288.591 1985.65,317.838 1986.17,348.686 1986.68,381.033 1987.19,414.771 1987.71,449.786 1988.22,485.96 1989.25,561.285 1990.28,639.706 1991.3,720.128 1992.33,801.41 1993.36,882.39 1994.39,961.893 1995.41,1038.75 1996.44,1111.82 1996.95,1146.6 1997.47,1180.01 1997.98,1211.95 1998.5,1242.27 1999.01,1270.88 1999.52,1297.64 2000.04,1322.47 2000.55,1345.25 2001.06,1365.89 2001.58,1384.32 2002.09,1400.44 2002.61,1414.2 2003.12,1425.54 2003.63,1434.39 2004.15,1440.73 2004.66,1444.51 2005.17,1445.72 2005.69,1444.33 2006.2,1440.35 2006.72,1433.78 2007.23,1424.63 2007.74,1412.94 2008.26,1398.74 2008.77,1382.08 2009.28,1363 2009.8,1341.59 2010.31,1317.91 2010.83,1292.04 2011.34,1264.09 2011.85,1234.15 2012.37,1202.34 2012.88,1168.77 2013.39,1133.57 2013.91,1096.87 2014.42,1058.82 2014.93,1019.56 2015.96,938.044 2016.99,853.588 2018.02,767.537 2019.04,681.277 2020.07,596.208 2021.1,513.731 2021.63,472.909 2022.15,433.309 2022.68,395.109 2023.21,358.479 2023.73,323.584 2024.26,290.584 2024.79,259.629 2025.31,230.863 2025.84,204.42 2026.37,180.425 2026.89,158.993 2027.42,140.227 2027.95,124.222 2028.47,111.057 2029,100.801 2029.53,93.5119 2030.05,89.2312 2030.58,87.9895 2031.11,89.8028 2031.63,94.6739 2032.16,102.592 2032.69,113.53 2033.21,127.451 2033.74,144.302 2034.27,164.014 2034.79,186.509 2035.32,211.693 2035.85,239.459 2036.37,269.689 2036.9,302.251 2037.43,337.002 2037.95,373.788 2038.48,412.447 2039.01,452.803 2039.53,494.674 2040.06,537.869 2041.11,627.43 2042.16,719.828 2043.22,813.329 2044.27,906.162 2044.8,951.77 2045.32,996.544 2045.85,1040.27 2046.38,1082.72 2046.9,1123.7 2047.43,1163 2047.96,1200.42 2048.48,1235.78 2049.01,1268.89 2049.54,1299.59 2050.06,1327.72 2050.59,1353.12 2051.12,1375.68 2051.64,1395.25 2052.17,1411.75 2052.7,1425.07 2053.22,1435.14 2053.75,1441.89 2054.28,1445.29 2054.8,1445.3 2055.33,1441.91 2055.86,1435.13 2056.38,1424.97 2056.91,1411.49 2057.44,1394.73 2057.96,1374.78 2058.49,1351.71 2059.02,1325.64 2059.54,1296.69 2060.07,1264.99 2060.6,1230.71 2061.12,1194.01 2061.65,1155.06 2062.18,1114.07 2062.7,1071.24 2063.23,1026.78 2064.28,933.892 2065.34,837.312 2066.39,739.038 2067.44,641.129 2067.97,592.96 2068.5,545.658 2069.02,499.479 2069.55,454.671 2070.08,411.48 2070.6,370.141 2071.13,330.882 2071.66,293.922 2072.18,259.468 2072.71,227.714 2073.24,198.841 2073.76,173.015 2074.29,150.388 2074.82,131.093 2075.34,115.246 2075.87,102.946 2076.4,94.2734 2076.92,89.2866 2077.45,88.026 2077.98,90.5109 2078.5,96.7403 2079.03,106.692 2079.56,120.323 2080.08,137.57 2080.61,158.348 2081.14,182.554 2081.66,210.062 2082.19,240.729 2082.72,274.393 2083.24,310.874 2083.77,349.974 2084.3,391.481 2084.82,435.166 2085.35,480.788 2085.88,528.093 2086.4,576.816 2087.46,677.408 2088.51,780.278 2089.66,892.799 2090.82,1002.08 2091.39,1054.54 2091.97,1105.03 2092.55,1153.21 2093.12,1198.72 2093.7,1241.23 2094.28,1280.42 2094.86,1316.01 2095.43,1347.72 2096.01,1375.33 2096.59,1398.61 2097.16,1417.38 2097.74,1431.49 2098.32,1440.83 2098.89,1445.3 2099.47,1444.86 2100.05,1439.5 2100.62,1429.23 2101.2,1414.11 2101.78,1394.24 2102.36,1369.75 2102.93,1340.79 2103.51,1307.57 2104.09,1270.31 2104.66,1229.29 2105.24,1184.78 2105.82,1137.11 2106.39,1086.62 2106.97,1033.68 2107.55,978.684 2108.13,922.029 2108.7,864.138 2109.28,805.445 2110.43,687.422 2111.59,571.534 2112.16,515.504 2112.74,461.333 2113.32,409.441 2113.9,360.237 2114.47,314.11 2115.05,271.426 2115.63,232.529 2116.2,197.733 2116.78,167.325 2117.36,141.557 2117.93,120.647 2118.51,104.775 2119.09,94.0848 2119.67,88.6779 2120.24,88.6159 2120.82,93.9178 2121.4,104.56 2121.97,120.478 2122.55,141.562 2123.13,167.662 2123.7,198.587 2124.28,234.105 2124.86,273.947 2125.44,317.807 2126.01,365.344 2126.59,416.187 2127.17,469.933 2127.74,526.157 2128.9,644.216 2130.05,766.556 2131.21,889.186 2132.36,1008.06 2132.94,1064.84 2133.51,1119.2 2134.09,1170.69 2134.67,1218.86 2135.24,1263.3 2135.82,1303.62 2136.4,1339.46 2136.98,1370.52 2137.55,1396.5 2138.13,1417.18 2138.71,1432.35 2139.28,1441.88 2139.86,1445.65 2140.44,1443.62 2141.01,1435.79 2141.59,1422.2 2142.17,1402.94 2142.74,1378.18 2143.32,1348.09 2143.9,1312.93 2144.48,1272.98 2145.05,1228.58 2145.63,1180.1 2146.21,1127.94 2146.78,1072.56 2147.36,1014.42 2147.94,954.039 2148.51,891.936 2149.67,764.753 2150.82,637.36 2151.4,575.007 2151.98,514.301 2152.55,455.793 2153.13,400.016 2153.71,347.483 2154.28,298.68 2154.86,254.06 2155.44,214.044 2156.02,179.011 2156.59,149.298 2157.17,125.193 2157.75,106.937 2158.32,94.7168 2158.9,88.6655 2159.48,88.8594 2160.05,95.318 2160.63,108.002 2161.21,126.816 2161.79,151.604 2162.36,182.155 2163.2,236.245 2164.04,300.912 2164.88,374.924 2165.71,456.854 2166.55,545.104 2167.39,637.936 2168.23,733.508 2169.07,829.905 2169.91,925.182 2170.74,1017.4 2171.58,1104.67 2172.42,1185.17 2173.26,1257.24 2174.1,1319.35 2174.93,1370.16 2175.77,1408.58 2176.61,1433.75 2177.45,1445.07 2178.29,1442.25 2179.13,1425.28 2179.96,1394.44 2180.8,1350.33 2181.64,1293.8 2182.48,1226.01 2183.32,1148.33 2184.15,1062.39 2184.99,969.977 2185.83,873.055 2186.67,773.692 2187.51,674.023 2188.35,576.212 2189.18,482.395 2190.02,394.64 2190.86,314.899 2191.7,244.961 2192.54,186.415 2193.37,140.61 2194.21,108.621 2195.05,91.2267 2195.89,88.883 2196.73,101.714 2197.57,129.502 2198.4,171.692 2199.24,227.399 2200.08,295.421 2200.92,374.27 2201.76,462.197 2202.59,557.232 2203.43,657.226 2204.27,759.9 2205.11,862.893 2205.95,963.82 2206.79,1060.33 2207.62,1150.14 2208.46,1231.12 2209.3,1301.34 2210.14,1359.09 2210.98,1402.95 2211.81,1431.81 2212.65,1444.92 2213.49,1441.9 2214.33,1422.73 2215.17,1387.82 2216,1337.92 2216.84,1274.16 2217.68,1198.03 2218.52,1111.33 2219.36,1016.1 2220.2,914.637 2221.03,809.402 2221.87,702.961 2222.71,597.933 2223.55,496.92 2224.39,402.447 2225.22,316.895 2226.06,242.438 2226.9,180.993 2227.74,134.16 2228.58,103.187 2229.42,88.9271 2230.25,91.8194 2231.09,111.868 2231.93,148.64 2232.77,201.271 2233.61,268.485 2234.44,348.616 2235.28,439.658 2236.12,539.303 2236.96,645.003 2237.8,754.034 2238.64,863.563 2239.47,970.722 2240.31,1072.69 2241.15,1166.75 2241.99,1250.38 2242.83,1321.32 2243.66,1377.62 2244.5,1417.72 2245.34,1440.47 2246.18,1445.18 2247.02,1431.65 2247.86,1400.16 2248.69,1351.47 2249.53,1286.84 2250.37,1207.96 2251.21,1116.91 2252.05,1016.14 2252.88,908.362 2253.72,796.53 2254.56,683.712 2255.4,573.033 2256.24,467.579 2257.07,370.315 2257.91,283.999 2258.75,211.101 2259.59,153.733 2260.43,113.582 2261.27,91.8608 2262.1,89.2687 2262.94,105.964 2263.78,141.555 2264.62,195.105 2265.46,265.156 2266.29,349.762 2267.13,446.543 2267.97,552.746 2268.81,665.326 2269.65,781.03 2270.34,875.945 2271.02,968.82 2271.37,1013.91 2271.71,1057.81 2272.05,1100.28 2272.4,1141.13 2272.74,1180.14 2273.09,1217.11 2273.43,1251.85 2273.77,1284.2 2274.12,1313.97 2274.46,1341.03 2274.81,1365.22 2275.15,1386.42 2275.49,1404.53 2275.84,1419.43 2276.18,1431.06 2276.53,1439.34 2276.7,1442.22 2276.87,1444.24 2277.04,1445.4 2277.21,1445.71 2277.39,1445.16 2277.56,1443.75 2277.73,1441.48 2277.9,1438.35 2278.24,1429.55 2278.59,1417.37 2278.93,1401.88 2279.28,1383.15 2279.62,1361.26 2279.96,1336.33 2280.31,1308.47 2280.65,1277.82 2281,1244.54 2281.34,1208.79 2281.68,1170.75 2282.03,1130.6 2282.37,1088.57 2282.72,1044.85 2283.06,999.669 2283.4,953.259 2284.09,857.71 2284.78,760.165 2285.47,662.644 2286.15,567.177 2286.5,520.84 2286.84,475.762 2287.19,432.18 2287.53,390.326 2287.87,350.422 2288.22,312.682 2288.56,277.307 2288.91,244.488 2289.25,214.403 2289.59,187.215 2289.94,163.073 2290.28,142.111 2290.63,124.444 2290.97,110.173 2291.31,99.3785 2291.66,92.1251 \"/>\n",
       "<path clip-path=\"url(#clip910)\" d=\"M265.897 1438.47 L534.209 1438.47 L534.209 1334.79 L265.897 1334.79  Z\" fill=\"#ffffff\" fill-rule=\"evenodd\" fill-opacity=\"1\"/>\n",
       "<polyline clip-path=\"url(#clip910)\" style=\"stroke:#000000; stroke-linecap:round; stroke-linejoin:round; stroke-width:4; stroke-opacity:1; fill:none\" points=\"265.897,1438.47 534.209,1438.47 534.209,1334.79 265.897,1334.79 265.897,1438.47 \"/>\n",
       "<polyline clip-path=\"url(#clip910)\" style=\"stroke:#009af9; stroke-linecap:round; stroke-linejoin:round; stroke-width:4; stroke-opacity:1; fill:none\" points=\"289.884,1386.63 433.805,1386.63 \"/>\n",
       "<path clip-path=\"url(#clip910)\" d=\"M471.634 1406.32 Q469.829 1410.95 468.116 1412.36 Q466.403 1413.78 463.532 1413.78 L460.13 1413.78 L460.13 1410.21 L462.63 1410.21 Q464.389 1410.21 465.361 1409.38 Q466.333 1408.54 467.514 1405.44 L468.278 1403.5 L457.792 1377.99 L462.306 1377.99 L470.407 1398.27 L478.509 1377.99 L483.023 1377.99 L471.634 1406.32 Z\" fill=\"#000000\" fill-rule=\"nonzero\" fill-opacity=\"1\" /><path clip-path=\"url(#clip910)\" d=\"M490.315 1399.98 L497.954 1399.98 L497.954 1373.61 L489.643 1375.28 L489.643 1371.02 L497.907 1369.35 L502.583 1369.35 L502.583 1399.98 L510.222 1399.98 L510.222 1403.91 L490.315 1403.91 L490.315 1399.98 Z\" fill=\"#000000\" fill-rule=\"nonzero\" fill-opacity=\"1\" /></svg>\n"
      ],
      "text/html": [
       "<?xml version=\"1.0\" encoding=\"utf-8\"?>\n",
       "<svg xmlns=\"http://www.w3.org/2000/svg\" xmlns:xlink=\"http://www.w3.org/1999/xlink\" width=\"600\" height=\"400\" viewBox=\"0 0 2400 1600\">\n",
       "<defs>\n",
       "  <clipPath id=\"clip960\">\n",
       "    <rect x=\"0\" y=\"0\" width=\"2400\" height=\"1600\"/>\n",
       "  </clipPath>\n",
       "</defs>\n",
       "<path clip-path=\"url(#clip960)\" d=\"M0 1600 L2400 1600 L2400 0 L0 0  Z\" fill=\"#ffffff\" fill-rule=\"evenodd\" fill-opacity=\"1\"/>\n",
       "<defs>\n",
       "  <clipPath id=\"clip961\">\n",
       "    <rect x=\"480\" y=\"0\" width=\"1681\" height=\"1600\"/>\n",
       "  </clipPath>\n",
       "</defs>\n",
       "<path clip-path=\"url(#clip960)\" d=\"M193.936 1486.45 L2352.76 1486.45 L2352.76 47.2441 L193.936 47.2441  Z\" fill=\"#ffffff\" fill-rule=\"evenodd\" fill-opacity=\"1\"/>\n",
       "<defs>\n",
       "  <clipPath id=\"clip962\">\n",
       "    <rect x=\"193\" y=\"47\" width=\"2160\" height=\"1440\"/>\n",
       "  </clipPath>\n",
       "</defs>\n",
       "<polyline clip-path=\"url(#clip962)\" style=\"stroke:#000000; stroke-linecap:round; stroke-linejoin:round; stroke-width:2; stroke-opacity:0.1; fill:none\" points=\"255.035,1486.45 255.035,47.2441 \"/>\n",
       "<polyline clip-path=\"url(#clip962)\" style=\"stroke:#000000; stroke-linecap:round; stroke-linejoin:round; stroke-width:2; stroke-opacity:0.1; fill:none\" points=\"594.472,1486.45 594.472,47.2441 \"/>\n",
       "<polyline clip-path=\"url(#clip962)\" style=\"stroke:#000000; stroke-linecap:round; stroke-linejoin:round; stroke-width:2; stroke-opacity:0.1; fill:none\" points=\"1273.35,1486.45 1273.35,47.2441 \"/>\n",
       "<polyline clip-path=\"url(#clip962)\" style=\"stroke:#000000; stroke-linecap:round; stroke-linejoin:round; stroke-width:2; stroke-opacity:0.1; fill:none\" points=\"1612.78,1486.45 1612.78,47.2441 \"/>\n",
       "<polyline clip-path=\"url(#clip962)\" style=\"stroke:#000000; stroke-linecap:round; stroke-linejoin:round; stroke-width:2; stroke-opacity:0.1; fill:none\" points=\"1952.22,1486.45 1952.22,47.2441 \"/>\n",
       "<polyline clip-path=\"url(#clip962)\" style=\"stroke:#000000; stroke-linecap:round; stroke-linejoin:round; stroke-width:2; stroke-opacity:0.1; fill:none\" points=\"2291.66,1486.45 2291.66,47.2441 \"/>\n",
       "<polyline clip-path=\"url(#clip960)\" style=\"stroke:#000000; stroke-linecap:round; stroke-linejoin:round; stroke-width:4; stroke-opacity:1; fill:none\" points=\"193.936,766.847 2352.76,766.847 \"/>\n",
       "<polyline clip-path=\"url(#clip960)\" style=\"stroke:#000000; stroke-linecap:round; stroke-linejoin:round; stroke-width:4; stroke-opacity:1; fill:none\" points=\"255.035,785.744 255.035,747.949 \"/>\n",
       "<polyline clip-path=\"url(#clip960)\" style=\"stroke:#000000; stroke-linecap:round; stroke-linejoin:round; stroke-width:4; stroke-opacity:1; fill:none\" points=\"594.472,785.744 594.472,747.949 \"/>\n",
       "<polyline clip-path=\"url(#clip960)\" style=\"stroke:#000000; stroke-linecap:round; stroke-linejoin:round; stroke-width:4; stroke-opacity:1; fill:none\" points=\"1273.35,785.744 1273.35,747.949 \"/>\n",
       "<polyline clip-path=\"url(#clip960)\" style=\"stroke:#000000; stroke-linecap:round; stroke-linejoin:round; stroke-width:4; stroke-opacity:1; fill:none\" points=\"1612.78,785.744 1612.78,747.949 \"/>\n",
       "<polyline clip-path=\"url(#clip960)\" style=\"stroke:#000000; stroke-linecap:round; stroke-linejoin:round; stroke-width:4; stroke-opacity:1; fill:none\" points=\"1952.22,785.744 1952.22,747.949 \"/>\n",
       "<polyline clip-path=\"url(#clip960)\" style=\"stroke:#000000; stroke-linecap:round; stroke-linejoin:round; stroke-width:4; stroke-opacity:1; fill:none\" points=\"2291.66,785.744 2291.66,747.949 \"/>\n",
       "<path clip-path=\"url(#clip960)\" d=\"M224.977 812.418 L254.653 812.418 L254.653 816.353 L224.977 816.353 L224.977 812.418 Z\" fill=\"#000000\" fill-rule=\"nonzero\" fill-opacity=\"1\" /><path clip-path=\"url(#clip960)\" d=\"M268.773 825.312 L285.092 825.312 L285.092 829.247 L263.148 829.247 L263.148 825.312 Q265.81 822.557 270.393 817.927 Q275 813.275 276.18 811.932 Q278.426 809.409 279.305 807.673 Q280.208 805.914 280.208 804.224 Q280.208 801.469 278.264 799.733 Q276.342 797.997 273.241 797.997 Q271.042 797.997 268.588 798.761 Q266.157 799.525 263.38 801.076 L263.38 796.353 Q266.204 795.219 268.657 794.64 Q271.111 794.062 273.148 794.062 Q278.518 794.062 281.713 796.747 Q284.907 799.432 284.907 803.923 Q284.907 806.052 284.097 807.974 Q283.31 809.872 281.204 812.464 Q280.625 813.136 277.523 816.353 Q274.421 819.548 268.773 825.312 Z\" fill=\"#000000\" fill-rule=\"nonzero\" fill-opacity=\"1\" /><path clip-path=\"url(#clip960)\" d=\"M564.229 812.418 L593.905 812.418 L593.905 816.353 L564.229 816.353 L564.229 812.418 Z\" fill=\"#000000\" fill-rule=\"nonzero\" fill-opacity=\"1\" /><path clip-path=\"url(#clip960)\" d=\"M604.807 825.312 L612.446 825.312 L612.446 798.946 L604.136 800.613 L604.136 796.353 L612.4 794.687 L617.076 794.687 L617.076 825.312 L624.715 825.312 L624.715 829.247 L604.807 829.247 L604.807 825.312 Z\" fill=\"#000000\" fill-rule=\"nonzero\" fill-opacity=\"1\" /><path clip-path=\"url(#clip960)\" d=\"M1263.73 825.312 L1271.37 825.312 L1271.37 798.946 L1263.06 800.613 L1263.06 796.353 L1271.32 794.687 L1276 794.687 L1276 825.312 L1283.64 825.312 L1283.64 829.247 L1263.73 829.247 L1263.73 825.312 Z\" fill=\"#000000\" fill-rule=\"nonzero\" fill-opacity=\"1\" /><path clip-path=\"url(#clip960)\" d=\"M1607.44 825.312 L1623.76 825.312 L1623.76 829.247 L1601.81 829.247 L1601.81 825.312 Q1604.47 822.557 1609.06 817.927 Q1613.66 813.275 1614.84 811.932 Q1617.09 809.409 1617.97 807.673 Q1618.87 805.914 1618.87 804.224 Q1618.87 801.469 1616.93 799.733 Q1615.01 797.997 1611.9 797.997 Q1609.7 797.997 1607.25 798.761 Q1604.82 799.525 1602.04 801.076 L1602.04 796.353 Q1604.87 795.219 1607.32 794.64 Q1609.77 794.062 1611.81 794.062 Q1617.18 794.062 1620.38 796.747 Q1623.57 799.432 1623.57 803.923 Q1623.57 806.052 1622.76 807.974 Q1621.97 809.872 1619.87 812.464 Q1619.29 813.136 1616.19 816.353 Q1613.08 819.548 1607.44 825.312 Z\" fill=\"#000000\" fill-rule=\"nonzero\" fill-opacity=\"1\" /><path clip-path=\"url(#clip960)\" d=\"M1956.47 810.613 Q1959.82 811.33 1961.7 813.599 Q1963.6 815.867 1963.6 819.201 Q1963.6 824.316 1960.08 827.117 Q1956.56 829.918 1950.08 829.918 Q1947.9 829.918 1945.59 829.478 Q1943.3 829.062 1940.84 828.205 L1940.84 823.691 Q1942.79 824.825 1945.1 825.404 Q1947.42 825.983 1949.94 825.983 Q1954.34 825.983 1956.63 824.247 Q1958.94 822.511 1958.94 819.201 Q1958.94 816.145 1956.79 814.432 Q1954.66 812.696 1950.84 812.696 L1946.82 812.696 L1946.82 808.853 L1951.03 808.853 Q1954.48 808.853 1956.31 807.488 Q1958.13 806.099 1958.13 803.506 Q1958.13 800.844 1956.24 799.432 Q1954.36 797.997 1950.84 797.997 Q1948.92 797.997 1946.72 798.414 Q1944.52 798.83 1941.88 799.71 L1941.88 795.543 Q1944.55 794.802 1946.86 794.432 Q1949.2 794.062 1951.26 794.062 Q1956.58 794.062 1959.69 796.492 Q1962.79 798.9 1962.79 803.02 Q1962.79 805.89 1961.14 807.881 Q1959.5 809.849 1956.47 810.613 Z\" fill=\"#000000\" fill-rule=\"nonzero\" fill-opacity=\"1\" /><path clip-path=\"url(#clip960)\" d=\"M2294.67 798.761 L2282.86 817.21 L2294.67 817.21 L2294.67 798.761 M2293.44 794.687 L2299.32 794.687 L2299.32 817.21 L2304.25 817.21 L2304.25 821.099 L2299.32 821.099 L2299.32 829.247 L2294.67 829.247 L2294.67 821.099 L2279.06 821.099 L2279.06 816.585 L2293.44 794.687 Z\" fill=\"#000000\" fill-rule=\"nonzero\" fill-opacity=\"1\" /><polyline clip-path=\"url(#clip962)\" style=\"stroke:#000000; stroke-linecap:round; stroke-linejoin:round; stroke-width:2; stroke-opacity:0.1; fill:none\" points=\"193.936,1445.72 2352.76,1445.72 \"/>\n",
       "<polyline clip-path=\"url(#clip962)\" style=\"stroke:#000000; stroke-linecap:round; stroke-linejoin:round; stroke-width:2; stroke-opacity:0.1; fill:none\" points=\"193.936,1106.28 2352.76,1106.28 \"/>\n",
       "<polyline clip-path=\"url(#clip962)\" style=\"stroke:#000000; stroke-linecap:round; stroke-linejoin:round; stroke-width:2; stroke-opacity:0.1; fill:none\" points=\"193.936,427.411 2352.76,427.411 \"/>\n",
       "<polyline clip-path=\"url(#clip962)\" style=\"stroke:#000000; stroke-linecap:round; stroke-linejoin:round; stroke-width:2; stroke-opacity:0.1; fill:none\" points=\"193.936,87.9762 2352.76,87.9762 \"/>\n",
       "<polyline clip-path=\"url(#clip960)\" style=\"stroke:#000000; stroke-linecap:round; stroke-linejoin:round; stroke-width:4; stroke-opacity:1; fill:none\" points=\"933.909,1486.45 933.909,47.2441 \"/>\n",
       "<polyline clip-path=\"url(#clip960)\" style=\"stroke:#000000; stroke-linecap:round; stroke-linejoin:round; stroke-width:4; stroke-opacity:1; fill:none\" points=\"915.011,1445.72 952.806,1445.72 \"/>\n",
       "<polyline clip-path=\"url(#clip960)\" style=\"stroke:#000000; stroke-linecap:round; stroke-linejoin:round; stroke-width:4; stroke-opacity:1; fill:none\" points=\"915.011,1106.28 952.806,1106.28 \"/>\n",
       "<polyline clip-path=\"url(#clip960)\" style=\"stroke:#000000; stroke-linecap:round; stroke-linejoin:round; stroke-width:4; stroke-opacity:1; fill:none\" points=\"915.011,427.411 952.806,427.411 \"/>\n",
       "<polyline clip-path=\"url(#clip960)\" style=\"stroke:#000000; stroke-linecap:round; stroke-linejoin:round; stroke-width:4; stroke-opacity:1; fill:none\" points=\"915.011,87.9762 952.806,87.9762 \"/>\n",
       "<path clip-path=\"url(#clip960)\" d=\"M790.965 1446.17 L820.641 1446.17 L820.641 1450.1 L790.965 1450.1 L790.965 1446.17 Z\" fill=\"#000000\" fill-rule=\"nonzero\" fill-opacity=\"1\" /><path clip-path=\"url(#clip960)\" d=\"M831.543 1459.06 L839.182 1459.06 L839.182 1432.7 L830.872 1434.36 L830.872 1430.1 L839.136 1428.44 L843.812 1428.44 L843.812 1459.06 L851.451 1459.06 L851.451 1463 L831.543 1463 L831.543 1459.06 Z\" fill=\"#000000\" fill-rule=\"nonzero\" fill-opacity=\"1\" /><path clip-path=\"url(#clip960)\" d=\"M860.895 1457.12 L865.779 1457.12 L865.779 1463 L860.895 1463 L860.895 1457.12 Z\" fill=\"#000000\" fill-rule=\"nonzero\" fill-opacity=\"1\" /><path clip-path=\"url(#clip960)\" d=\"M885.964 1431.52 Q882.353 1431.52 880.525 1435.08 Q878.719 1438.62 878.719 1445.75 Q878.719 1452.86 880.525 1456.42 Q882.353 1459.96 885.964 1459.96 Q889.599 1459.96 891.404 1456.42 Q893.233 1452.86 893.233 1445.75 Q893.233 1438.62 891.404 1435.08 Q889.599 1431.52 885.964 1431.52 M885.964 1427.81 Q891.775 1427.81 894.83 1432.42 Q897.909 1437 897.909 1445.75 Q897.909 1454.48 894.83 1459.09 Q891.775 1463.67 885.964 1463.67 Q880.154 1463.67 877.076 1459.09 Q874.02 1454.48 874.02 1445.75 Q874.02 1437 877.076 1432.42 Q880.154 1427.81 885.964 1427.81 Z\" fill=\"#000000\" fill-rule=\"nonzero\" fill-opacity=\"1\" /><path clip-path=\"url(#clip960)\" d=\"M791.96 1106.73 L821.636 1106.73 L821.636 1110.67 L791.96 1110.67 L791.96 1106.73 Z\" fill=\"#000000\" fill-rule=\"nonzero\" fill-opacity=\"1\" /><path clip-path=\"url(#clip960)\" d=\"M841.729 1092.08 Q838.118 1092.08 836.289 1095.65 Q834.483 1099.19 834.483 1106.32 Q834.483 1113.42 836.289 1116.99 Q838.118 1120.53 841.729 1120.53 Q845.363 1120.53 847.168 1116.99 Q848.997 1113.42 848.997 1106.32 Q848.997 1099.19 847.168 1095.65 Q845.363 1092.08 841.729 1092.08 M841.729 1088.38 Q847.539 1088.38 850.594 1092.98 Q853.673 1097.57 853.673 1106.32 Q853.673 1115.04 850.594 1119.65 Q847.539 1124.23 841.729 1124.23 Q835.918 1124.23 832.84 1119.65 Q829.784 1115.04 829.784 1106.32 Q829.784 1097.57 832.84 1092.98 Q835.918 1088.38 841.729 1088.38 Z\" fill=\"#000000\" fill-rule=\"nonzero\" fill-opacity=\"1\" /><path clip-path=\"url(#clip960)\" d=\"M861.891 1117.68 L866.775 1117.68 L866.775 1123.56 L861.891 1123.56 L861.891 1117.68 Z\" fill=\"#000000\" fill-rule=\"nonzero\" fill-opacity=\"1\" /><path clip-path=\"url(#clip960)\" d=\"M877.006 1089 L895.363 1089 L895.363 1092.94 L881.289 1092.94 L881.289 1101.41 Q882.307 1101.06 883.326 1100.9 Q884.344 1100.71 885.363 1100.71 Q891.15 1100.71 894.529 1103.89 Q897.909 1107.06 897.909 1112.47 Q897.909 1118.05 894.437 1121.15 Q890.964 1124.23 884.645 1124.23 Q882.469 1124.23 880.201 1123.86 Q877.955 1123.49 875.548 1122.75 L875.548 1118.05 Q877.631 1119.19 879.853 1119.74 Q882.076 1120.3 884.552 1120.3 Q888.557 1120.3 890.895 1118.19 Q893.233 1116.09 893.233 1112.47 Q893.233 1108.86 890.895 1106.76 Q888.557 1104.65 884.552 1104.65 Q882.677 1104.65 880.802 1105.07 Q878.951 1105.48 877.006 1106.36 L877.006 1089 Z\" fill=\"#000000\" fill-rule=\"nonzero\" fill-opacity=\"1\" /><path clip-path=\"url(#clip960)\" d=\"M841.729 413.21 Q838.118 413.21 836.289 416.775 Q834.483 420.317 834.483 427.446 Q834.483 434.553 836.289 438.117 Q838.118 441.659 841.729 441.659 Q845.363 441.659 847.168 438.117 Q848.997 434.553 848.997 427.446 Q848.997 420.317 847.168 416.775 Q845.363 413.21 841.729 413.21 M841.729 409.506 Q847.539 409.506 850.594 414.113 Q853.673 418.696 853.673 427.446 Q853.673 436.173 850.594 440.779 Q847.539 445.363 841.729 445.363 Q835.918 445.363 832.84 440.779 Q829.784 436.173 829.784 427.446 Q829.784 418.696 832.84 414.113 Q835.918 409.506 841.729 409.506 Z\" fill=\"#000000\" fill-rule=\"nonzero\" fill-opacity=\"1\" /><path clip-path=\"url(#clip960)\" d=\"M861.891 438.812 L866.775 438.812 L866.775 444.691 L861.891 444.691 L861.891 438.812 Z\" fill=\"#000000\" fill-rule=\"nonzero\" fill-opacity=\"1\" /><path clip-path=\"url(#clip960)\" d=\"M877.006 410.131 L895.363 410.131 L895.363 414.067 L881.289 414.067 L881.289 422.539 Q882.307 422.192 883.326 422.03 Q884.344 421.844 885.363 421.844 Q891.15 421.844 894.529 425.016 Q897.909 428.187 897.909 433.604 Q897.909 439.182 894.437 442.284 Q890.964 445.363 884.645 445.363 Q882.469 445.363 880.201 444.992 Q877.955 444.622 875.548 443.881 L875.548 439.182 Q877.631 440.317 879.853 440.872 Q882.076 441.428 884.552 441.428 Q888.557 441.428 890.895 439.321 Q893.233 437.215 893.233 433.604 Q893.233 429.992 890.895 427.886 Q888.557 425.78 884.552 425.78 Q882.677 425.78 880.802 426.196 Q878.951 426.613 877.006 427.493 L877.006 410.131 Z\" fill=\"#000000\" fill-rule=\"nonzero\" fill-opacity=\"1\" /><path clip-path=\"url(#clip960)\" d=\"M831.543 101.321 L839.182 101.321 L839.182 74.9555 L830.872 76.6221 L830.872 72.3629 L839.136 70.6962 L843.812 70.6962 L843.812 101.321 L851.451 101.321 L851.451 105.256 L831.543 105.256 L831.543 101.321 Z\" fill=\"#000000\" fill-rule=\"nonzero\" fill-opacity=\"1\" /><path clip-path=\"url(#clip960)\" d=\"M860.895 99.3766 L865.779 99.3766 L865.779 105.256 L860.895 105.256 L860.895 99.3766 Z\" fill=\"#000000\" fill-rule=\"nonzero\" fill-opacity=\"1\" /><path clip-path=\"url(#clip960)\" d=\"M885.964 73.7749 Q882.353 73.7749 880.525 77.3397 Q878.719 80.8814 878.719 88.011 Q878.719 95.1174 880.525 98.6822 Q882.353 102.224 885.964 102.224 Q889.599 102.224 891.404 98.6822 Q893.233 95.1174 893.233 88.011 Q893.233 80.8814 891.404 77.3397 Q889.599 73.7749 885.964 73.7749 M885.964 70.0712 Q891.775 70.0712 894.83 74.6777 Q897.909 79.261 897.909 88.011 Q897.909 96.7378 894.83 101.344 Q891.775 105.928 885.964 105.928 Q880.154 105.928 877.076 101.344 Q874.02 96.7378 874.02 88.011 Q874.02 79.261 877.076 74.6777 Q880.154 70.0712 885.964 70.0712 Z\" fill=\"#000000\" fill-rule=\"nonzero\" fill-opacity=\"1\" /><polyline clip-path=\"url(#clip962)\" style=\"stroke:#009af9; stroke-linecap:round; stroke-linejoin:round; stroke-width:4; stroke-opacity:1; fill:none\" points=\"255.035,582.937 255.863,526.341 256.692,471.707 257.521,419.443 258.35,369.931 258.764,346.321 259.178,323.531 259.593,301.604 260.007,280.576 260.421,260.486 260.836,241.369 261.25,223.256 261.664,206.18 262.079,190.168 262.493,175.247 262.908,161.443 263.322,148.776 263.736,137.268 264.151,126.935 264.565,117.794 264.979,109.857 265.394,103.135 265.808,97.6373 266.222,93.3698 266.637,90.3366 267.051,88.5393 267.465,87.9775 267.88,88.6482 268.294,90.5465 269.252,99.5895 270.21,115.016 271.168,136.632 272.126,164.188 273.083,197.38 274.041,235.854 274.999,279.213 275.957,327.014 276.915,378.783 277.873,434.011 278.83,492.165 279.788,552.692 281.704,678.575 283.62,807.026 284.577,870.767 285.535,933.43 286.493,994.467 287.451,1053.35 288.409,1109.59 289.367,1162.7 290.325,1212.25 291.282,1257.83 292.24,1299.09 293.198,1335.7 294.156,1367.39 295.114,1393.91 296.072,1415.1 297.029,1430.8 297.987,1440.94 298.945,1445.46 299.903,1444.37 300.861,1437.72 301.819,1425.6 302.776,1408.17 303.734,1385.58 304.692,1358.08 305.65,1325.91 306.608,1289.37 307.566,1248.78 308.523,1204.49 309.481,1156.88 310.439,1106.34 311.397,1053.3 312.355,998.17 313.313,941.403 314.27,883.445 316.186,765.758 318.102,648.696 319.06,591.494 320.018,535.739 320.975,481.833 321.933,430.158 322.891,381.076 323.849,334.923 324.807,292.013 325.765,252.629 326.722,217.028 327.68,185.433 328.638,158.038 329.596,135.005 330.554,116.46 331.512,102.5 332.469,93.1854 333.427,88.5443 334.385,88.5726 335.343,93.2334 336.301,102.459 337.259,116.151 338.216,134.181 339.174,156.396 340.132,182.614 341.09,212.63 342.048,246.215 343.006,283.12 343.964,323.079 344.921,365.808 345.879,411.008 346.837,458.37 347.795,507.573 348.753,558.289 350.668,662.929 352.584,769.6 354.5,875.637 356.415,978.457 357.373,1027.89 358.331,1075.63 359.289,1121.39 360.247,1164.91 361.205,1205.97 362.162,1244.33 363.12,1279.79 364.078,1312.17 365.036,1341.31 365.994,1367.06 366.952,1389.31 367.91,1407.95 368.867,1422.91 369.825,1434.14 370.783,1441.6 371.741,1445.29 372.699,1445.21 373.657,1441.39 374.614,1433.89 375.572,1422.77 376.53,1408.14 377.488,1390.09 378.446,1368.75 379.404,1344.27 380.361,1316.8 381.319,1286.51 382.277,1253.58 383.235,1218.21 384.193,1180.6 385.151,1140.96 386.108,1099.53 387.066,1056.51 388.982,966.68 390.898,873.365 393.2,759.291 395.503,646.203 396.654,591.014 397.805,537.229 398.956,485.205 400.108,435.277 400.683,411.2 401.259,387.765 401.834,365.008 402.41,342.963 403.561,301.144 404.713,262.554 405.288,244.541 405.864,227.416 406.439,211.203 407.015,195.923 407.591,181.597 408.166,168.242 408.742,155.877 409.318,144.514 409.893,134.167 410.469,124.848 411.044,116.565 411.62,109.327 412.196,103.139 412.771,98.0063 413.347,93.9305 413.923,90.9125 414.498,88.9516 415.074,88.0452 415.649,88.189 416.225,89.3773 416.801,91.6026 417.376,94.856 417.952,99.127 418.527,104.404 419.103,110.673 419.679,117.919 420.254,126.127 420.83,135.278 421.406,145.354 421.981,156.336 422.557,168.201 423.132,180.927 424.284,208.869 425.435,239.962 426.011,256.624 426.586,273.991 427.162,292.036 427.737,310.728 428.889,349.932 430.04,391.354 431.191,434.735 432.342,479.811 433.494,526.313 434.645,573.966 435.796,622.497 436.947,671.632 439.25,770.626 441.552,868.814 442.704,916.963 443.855,964.156 445.006,1010.16 446.157,1054.75 447.309,1097.71 448.46,1138.85 449.611,1177.98 450.762,1214.92 451.914,1249.52 453.065,1281.64 454.216,1311.14 455.367,1337.92 456.519,1361.87 457.67,1382.91 458.821,1400.98 459.972,1416.03 461.123,1428.01 462.275,1436.92 463.426,1442.74 464.577,1445.48 465.551,1445.41 466.524,1443.18 467.497,1438.82 468.471,1432.37 469.444,1423.85 470.417,1413.32 471.391,1400.84 472.364,1386.45 473.337,1370.23 474.311,1352.24 475.284,1332.55 476.258,1311.24 477.231,1288.39 478.204,1264.08 479.178,1238.4 480.151,1211.44 481.124,1183.28 482.098,1154.03 483.071,1123.78 484.044,1092.62 485.991,1027.97 487.938,960.874 491.831,822.49 495.725,683.629 497.672,615.847 499.618,550.069 501.565,486.923 503.512,426.985 504.485,398.385 505.458,370.781 506.432,344.227 507.405,318.779 508.378,294.485 509.352,271.391 510.325,249.539 511.299,228.968 512.272,209.712 513.245,191.802 514.219,175.264 515.192,160.122 516.165,146.396 517.139,134.1 518.112,123.248 519.085,113.847 520.059,105.903 521.032,99.4172 522.006,94.3884 522.979,90.8112 523.952,88.6776 524.926,87.9763 525.899,88.693 526.872,90.8108 527.93,94.6755 528.987,100.141 530.044,107.175 531.102,115.741 532.159,125.801 533.216,137.312 534.274,150.23 535.331,164.509 536.388,180.097 537.446,196.944 538.503,214.995 539.56,234.196 540.618,254.489 541.675,275.815 542.733,298.115 543.79,321.328 545.905,370.245 548.019,422.065 550.134,476.283 552.249,532.39 556.478,648.276 560.707,765.831 562.822,824.086 564.937,881.423 567.051,937.443 569.166,991.776 571.281,1044.08 573.395,1094.04 575.51,1141.38 577.625,1185.85 579.74,1227.22 581.854,1265.32 582.912,1283.08 583.969,1299.97 585.026,1315.97 586.084,1331.07 587.141,1345.25 588.198,1358.5 589.256,1370.83 590.313,1382.21 591.37,1392.65 592.428,1402.15 593.485,1410.7 594.542,1418.31 596.492,1429.87 598.441,1438.25 600.391,1443.49 602.341,1445.65 604.29,1444.8 606.24,1441.02 608.189,1434.41 610.139,1425.07 612.088,1413.11 614.038,1398.64 615.987,1381.81 617.937,1362.74 619.887,1341.57 621.836,1318.44 623.786,1293.49 625.735,1266.87 627.685,1238.72 629.634,1209.19 631.584,1178.43 633.533,1146.58 637.433,1080.18 641.332,1011.1 649.13,869.042 656.928,727.939 661.108,654.907 665.289,584.739 667.379,550.94 669.469,518.096 671.559,486.271 673.649,455.523 675.739,425.901 677.829,397.451 679.919,370.208 682.01,344.204 684.1,319.464 686.19,296.008 688.28,273.849 690.37,252.996 692.46,233.454 694.55,215.222 696.64,198.295 698.731,182.664 700.821,168.318 702.911,155.241 705.001,143.414 707.091,132.815 709.181,123.42 711.271,115.203 713.362,108.136 715.452,102.187 717.542,97.3247 719.632,93.5163 721.722,90.7271 723.812,88.9215 726.234,88.0117 728.655,88.3162 731.077,89.7768 733.499,92.3348 735.92,95.9314 738.342,100.508 740.763,106.006 743.185,112.368 748.028,127.455 752.872,145.327 757.715,165.557 762.558,187.745 772.245,236.518 781.931,288.971 791.617,342.882 801.304,396.463 809.912,442.673 818.52,486.782 827.129,528.241 835.737,566.661 840.041,584.645 844.345,601.782 848.649,618.055 852.953,633.454 857.257,647.971 861.561,661.606 865.865,674.359 870.17,686.234 877.718,704.963 885.267,721.063 892.815,734.6 900.364,745.649 907.913,754.292 915.461,760.613 923.01,764.702 930.558,766.647 938.788,766.43 947.018,763.887 955.248,759.135 963.478,752.29 971.708,743.47 979.938,732.796 988.168,720.388 996.398,706.374 1004.68,690.785 1012.96,673.838 1021.24,655.672 1029.51,636.433 1046.07,595.337 1062.63,551.781 1080.94,502.279 1099.24,452.978 1117.55,405.442 1135.86,361.04 1144.57,341.35 1153.28,322.721 1161.98,305.235 1170.69,288.954 1179.4,273.93 1188.11,260.195 1196.82,247.773 1205.53,236.674 1214.59,226.541 1223.64,217.838 1232.7,210.561 1241.75,204.706 1250.81,200.279 1259.86,197.293 1268.92,195.782 1277.98,195.804 1285.6,197.07 1293.22,199.55 1300.84,203.331 1308.47,208.524 1316.09,215.262 1323.71,223.703 1331.34,234.03 1338.96,246.454 1343.61,255.17 1348.27,264.813 1352.92,275.446 1357.57,287.133 1362.23,299.942 1366.88,313.943 1371.53,329.207 1376.19,345.807 1380.84,363.815 1385.49,383.303 1390.15,404.341 1394.8,426.996 1399.45,451.33 1404.11,477.399 1408.76,505.25 1413.41,534.922 1417.67,563.723 1421.94,594.08 1426.2,625.989 1430.46,659.433 1434.73,694.376 1438.99,730.766 1443.25,768.53 1447.51,807.572 1456.04,888.981 1464.57,973.697 1473.09,1059.93 1481.62,1145.34 1485.55,1183.73 1489.49,1221 1493.43,1256.8 1497.36,1290.77 1501.3,1322.49 1505.24,1351.56 1507.21,1364.97 1509.17,1377.55 1511.14,1389.25 1513.11,1400 1515.08,1409.77 1517.05,1418.48 1519.02,1426.09 1520.99,1432.53 1522.95,1437.76 1524.92,1441.72 1526.89,1444.35 1528.86,1445.61 1530.83,1445.44 1532.8,1443.81 1534.77,1440.65 1536.73,1435.94 1538.7,1429.63 1540.67,1421.69 1542.64,1412.08 1544.61,1400.78 1546.6,1387.59 1548.6,1372.62 1550.59,1355.87 1552.58,1337.32 1554.58,1316.97 1556.57,1294.84 1558.57,1270.93 1560.56,1245.28 1562.55,1217.91 1564.55,1188.86 1566.54,1158.18 1568.54,1125.92 1570.53,1092.17 1572.52,1056.98 1574.52,1020.45 1576.51,982.679 1578.51,943.77 1580.5,903.841 1582.49,863.021 1584.49,821.446 1588.48,736.64 1592.46,650.721 1596.45,565.138 1600.44,481.465 1602.43,440.867 1604.43,401.383 1606.42,363.235 1608.42,326.648 1610.65,287.777 1612.89,251.467 1615.12,218.031 1617.36,187.778 1618.47,173.939 1619.59,161.007 1620.71,149.018 1621.82,138.007 1622.94,128.007 1624.06,119.05 1625.18,111.168 1626.29,104.39 1627.41,98.7454 1628.53,94.2598 1629.65,90.9586 1630.76,88.865 1631.88,88.0001 1633,88.3831 1634.12,90.031 1635.23,92.9587 1636.35,97.1785 1637.47,102.7 1638.59,109.531 1639.7,117.677 1640.82,127.138 1641.94,137.914 1643.05,150.002 1644.17,163.393 1645.29,178.08 1646.41,194.047 1647.52,211.279 1648.64,229.756 1649.76,249.455 1650.88,270.349 1651.99,292.409 1653.11,315.602 1654.23,339.89 1655.35,365.234 1656.46,391.59 1657.58,418.91 1658.7,447.144 1659.82,476.238 1660.93,506.134 1662.05,536.772 1664.28,600.016 1666.52,665.42 1668.75,732.388 1670.99,800.282 1673.22,868.426 1675.46,936.109 1677.69,1002.6 1679.93,1067.14 1680.94,1095.54 1681.95,1123.31 1682.97,1150.38 1683.98,1176.68 1684.99,1202.14 1686,1226.69 1687.02,1250.27 1688.03,1272.8 1689.04,1294.22 1690.05,1314.47 1691.07,1333.48 1692.08,1351.19 1693.09,1367.54 1694.1,1382.48 1695.12,1395.95 1696.13,1407.91 1697.14,1418.3 1698.15,1427.09 1699.17,1434.22 1700.18,1439.67 1701.19,1443.4 1702.2,1445.38 1703.22,1445.59 1704.23,1444 1705.24,1440.6 1706.25,1435.39 1707.27,1428.35 1708.28,1419.48 1709.29,1408.8 1710.3,1396.3 1711.32,1382 1712.33,1365.93 1713.34,1348.11 1714.35,1328.58 1715.37,1307.37 1716.38,1284.52 1717.39,1260.08 1718.4,1234.12 1719.42,1206.69 1720.43,1177.85 1721.44,1147.69 1722.45,1116.27 1723.47,1083.68 1724.48,1050.01 1725.49,1015.34 1726.5,979.792 1727.52,943.451 1728.53,906.428 1732.58,753.792 1736.63,599.739 1738.65,524.749 1740.68,452.528 1741.69,417.788 1742.7,384.136 1743.72,351.702 1744.73,320.614 1745.89,286.831 1747.05,255.155 1748.21,225.763 1749.37,198.819 1750.53,174.483 1751.68,152.902 1752.84,134.215 1754,118.546 1755.16,106.008 1756.32,96.7004 1757.48,90.7063 1758.64,88.0945 1759.22,88.0739 1759.8,88.917 1760.38,90.6278 1760.96,93.2089 1761.54,96.6619 1762.12,100.987 1762.7,106.184 1763.28,112.251 1763.86,119.185 1764.44,126.982 1765.02,135.635 1765.6,145.139 1766.75,166.665 1767.91,191.481 1769.07,219.492 1770.23,250.578 1771.39,284.604 1772.55,321.413 1773.71,360.832 1774.87,402.668 1776.03,446.71 1777.19,492.731 1778.35,540.488 1779.51,589.724 1780.67,640.169 1781.83,691.538 1784.14,795.865 1786.46,900.253 1787.62,951.677 1788.78,1002.16 1789.94,1051.37 1791.1,1099.01 1792.26,1144.74 1793.42,1188.26 1794.58,1229.26 1795.74,1267.47 1796.9,1302.6 1798.05,1334.39 1798.63,1348.96 1799.21,1362.6 1799.79,1375.29 1800.37,1387 1800.95,1397.71 1801.53,1407.4 1802.11,1416.03 1802.69,1423.6 1803.27,1430.08 1803.85,1435.46 1804.43,1439.73 1805.01,1442.86 1805.59,1444.85 1806.17,1445.69 1806.75,1445.37 1807.33,1443.88 1807.91,1441.23 1808.49,1437.41 1809.07,1432.42 1809.65,1426.26 1810.23,1418.94 1810.81,1410.47 1811.39,1400.85 1811.97,1390.09 1812.55,1378.21 1813.13,1365.23 1813.7,1351.16 1814.28,1336.01 1814.86,1319.82 1815.44,1302.61 1816.02,1284.4 1816.6,1265.22 1817.18,1245.1 1817.76,1224.07 1818.34,1202.16 1818.92,1179.42 1819.99,1135.23 1821.07,1088.54 1822.14,1039.65 1823.21,988.844 1824.29,936.436 1825.36,882.755 1826.44,828.143 1827.51,772.954 1829.66,662.305 1831.8,553.787 1832.88,501.269 1833.95,450.411 1835.02,401.583 1836.1,355.142 1836.63,332.927 1837.17,311.439 1837.71,290.719 1838.24,270.807 1838.78,251.742 1839.32,233.563 1839.85,216.305 1840.39,200.005 1840.93,184.696 1841.46,170.409 1842,157.177 1842.54,145.026 1843.07,133.986 1843.61,124.08 1844.15,115.332 1844.68,107.764 1845.22,101.396 1845.76,96.2431 1846.29,92.322 1846.83,89.6453 1847.37,88.2236 1847.9,88.0654 1848.44,89.1768 1848.98,91.5614 1849.51,95.2206 1850.05,100.153 1850.59,106.356 1851.12,113.822 1851.66,122.544 1852.2,132.51 1852.73,143.707 1853.27,156.119 1853.81,169.727 1854.34,184.511 1854.88,200.446 1855.42,217.508 1855.95,235.667 1856.49,254.893 1857.03,275.154 1857.56,296.413 1858.1,318.633 1858.64,341.774 1859.17,365.795 1859.71,390.651 1860.25,416.296 1860.78,442.683 1861.32,469.76 1861.86,497.477 1862.93,554.616 1864,613.652 1865.08,674.117 1866.15,735.527 1868.3,859.156 1870.44,980.414 1871.52,1038.85 1872.59,1095.14 1873.66,1148.77 1874.74,1199.26 1875.27,1223.18 1875.81,1246.14 1876.35,1268.09 1876.88,1288.97 1877.42,1308.73 1877.96,1327.33 1878.49,1344.72 1879.03,1360.85 1879.57,1375.69 1880.1,1389.19 1880.64,1401.32 1881.18,1412.04 1881.71,1421.33 1882.25,1429.16 1882.79,1435.49 1883.32,1440.33 1883.86,1443.63 1884.4,1445.4 1884.93,1445.62 1885.47,1444.28 1886.01,1441.38 1886.54,1436.91 1887.08,1430.89 1887.62,1423.32 1888.15,1414.36 1888.68,1403.9 1889.2,1391.99 1889.73,1378.63 1890.26,1363.85 1890.79,1347.68 1891.32,1330.16 1891.85,1311.3 1892.38,1291.16 1892.91,1269.78 1893.44,1247.19 1893.97,1223.46 1894.5,1198.62 1895.02,1172.73 1895.55,1145.85 1896.08,1118.04 1897.14,1059.87 1898.2,998.744 1899.26,935.231 1900.32,869.92 1902.43,736.4 1904.55,603.337 1905.61,538.629 1906.67,476.013 1907.72,416.136 1908.78,359.624 1909.31,332.819 1909.84,307.078 1910.37,282.471 1910.9,259.066 1911.43,236.928 1911.96,216.118 1912.49,196.696 1913.01,178.718 1913.54,162.237 1914.07,147.3 1914.6,133.954 1915.13,122.24 1915.66,112.195 1916.19,103.852 1916.72,97.2408 1917.25,92.3855 1917.78,89.3061 1918.31,88.0181 1918.83,88.5322 1919.36,90.8543 1919.89,94.9858 1920.42,100.923 1920.95,108.657 1921.48,118.174 1922.01,129.456 1922.54,142.479 1923.07,157.216 1923.6,173.632 1924.13,191.69 1924.65,211.346 1925.18,232.555 1925.71,255.262 1926.24,279.411 1926.77,304.942 1927.3,331.788 1927.83,359.881 1928.36,389.147 1928.89,419.509 1929.42,450.885 1929.95,483.192 1931,550.243 1932.06,619.93 1933.12,691.476 1934.18,764.076 1935.24,836.9 1936.3,909.106 1937.35,979.847 1938.41,1048.28 1938.94,1081.38 1939.47,1113.58 1940,1144.81 1940.53,1174.96 1941.06,1203.93 1941.59,1231.64 1942.12,1257.99 1942.64,1282.91 1943.17,1306.31 1943.7,1328.12 1944.23,1348.26 1944.76,1366.66 1945.29,1383.27 1945.82,1398.02 1946.35,1410.87 1946.88,1421.76 1947.41,1430.66 1947.94,1437.52 1948.46,1442.33 1948.99,1445.05 1949.52,1445.67 1950.05,1444.19 1950.58,1440.59 1951.11,1434.88 1951.64,1427.07 1952.17,1417.18 1952.7,1405.22 1953.23,1391.23 1953.76,1375.25 1954.29,1357.32 1954.81,1337.49 1955.34,1315.8 1955.86,1293.05 1956.37,1268.67 1956.88,1242.74 1957.4,1215.33 1957.91,1186.52 1958.43,1156.4 1958.94,1125.04 1959.45,1092.55 1960.48,1024.53 1961.51,953.161 1962.54,879.297 1963.56,803.844 1964.59,727.741 1965.62,651.942 1966.65,577.412 1967.67,505.111 1968.19,470.093 1968.7,435.984 1969.21,402.897 1969.73,370.942 1970.24,340.229 1970.75,310.86 1971.27,282.937 1971.78,256.555 1972.3,231.807 1972.81,208.78 1973.32,187.556 1973.84,168.211 1974.35,150.817 1974.86,135.437 1975.38,122.13 1975.89,110.949 1976.41,101.938 1976.92,95.136 1977.43,90.5728 1977.95,88.2726 1978.46,88.2512 1978.97,90.5172 1979.49,95.0713 1980,101.906 1980.52,111.008 1981.03,122.352 1981.54,135.909 1982.06,151.641 1982.57,169.502 1983.08,189.437 1983.6,211.385 1984.11,235.279 1984.63,261.042 1985.14,288.591 1985.65,317.838 1986.17,348.686 1986.68,381.033 1987.19,414.771 1987.71,449.786 1988.22,485.96 1989.25,561.285 1990.28,639.706 1991.3,720.128 1992.33,801.41 1993.36,882.39 1994.39,961.893 1995.41,1038.75 1996.44,1111.82 1996.95,1146.6 1997.47,1180.01 1997.98,1211.95 1998.5,1242.27 1999.01,1270.88 1999.52,1297.64 2000.04,1322.47 2000.55,1345.25 2001.06,1365.89 2001.58,1384.32 2002.09,1400.44 2002.61,1414.2 2003.12,1425.54 2003.63,1434.39 2004.15,1440.73 2004.66,1444.51 2005.17,1445.72 2005.69,1444.33 2006.2,1440.35 2006.72,1433.78 2007.23,1424.63 2007.74,1412.94 2008.26,1398.74 2008.77,1382.08 2009.28,1363 2009.8,1341.59 2010.31,1317.91 2010.83,1292.04 2011.34,1264.09 2011.85,1234.15 2012.37,1202.34 2012.88,1168.77 2013.39,1133.57 2013.91,1096.87 2014.42,1058.82 2014.93,1019.56 2015.96,938.044 2016.99,853.588 2018.02,767.537 2019.04,681.277 2020.07,596.208 2021.1,513.731 2021.63,472.909 2022.15,433.309 2022.68,395.109 2023.21,358.479 2023.73,323.584 2024.26,290.584 2024.79,259.629 2025.31,230.863 2025.84,204.42 2026.37,180.425 2026.89,158.993 2027.42,140.227 2027.95,124.222 2028.47,111.057 2029,100.801 2029.53,93.5119 2030.05,89.2312 2030.58,87.9895 2031.11,89.8028 2031.63,94.6739 2032.16,102.592 2032.69,113.53 2033.21,127.451 2033.74,144.302 2034.27,164.014 2034.79,186.509 2035.32,211.693 2035.85,239.459 2036.37,269.689 2036.9,302.251 2037.43,337.002 2037.95,373.788 2038.48,412.447 2039.01,452.803 2039.53,494.674 2040.06,537.869 2041.11,627.43 2042.16,719.828 2043.22,813.329 2044.27,906.162 2044.8,951.77 2045.32,996.544 2045.85,1040.27 2046.38,1082.72 2046.9,1123.7 2047.43,1163 2047.96,1200.42 2048.48,1235.78 2049.01,1268.89 2049.54,1299.59 2050.06,1327.72 2050.59,1353.12 2051.12,1375.68 2051.64,1395.25 2052.17,1411.75 2052.7,1425.07 2053.22,1435.14 2053.75,1441.89 2054.28,1445.29 2054.8,1445.3 2055.33,1441.91 2055.86,1435.13 2056.38,1424.97 2056.91,1411.49 2057.44,1394.73 2057.96,1374.78 2058.49,1351.71 2059.02,1325.64 2059.54,1296.69 2060.07,1264.99 2060.6,1230.71 2061.12,1194.01 2061.65,1155.06 2062.18,1114.07 2062.7,1071.24 2063.23,1026.78 2064.28,933.892 2065.34,837.312 2066.39,739.038 2067.44,641.129 2067.97,592.96 2068.5,545.658 2069.02,499.479 2069.55,454.671 2070.08,411.48 2070.6,370.141 2071.13,330.882 2071.66,293.922 2072.18,259.468 2072.71,227.714 2073.24,198.841 2073.76,173.015 2074.29,150.388 2074.82,131.093 2075.34,115.246 2075.87,102.946 2076.4,94.2734 2076.92,89.2866 2077.45,88.026 2077.98,90.5109 2078.5,96.7403 2079.03,106.692 2079.56,120.323 2080.08,137.57 2080.61,158.348 2081.14,182.554 2081.66,210.062 2082.19,240.729 2082.72,274.393 2083.24,310.874 2083.77,349.974 2084.3,391.481 2084.82,435.166 2085.35,480.788 2085.88,528.093 2086.4,576.816 2087.46,677.408 2088.51,780.278 2089.66,892.799 2090.82,1002.08 2091.39,1054.54 2091.97,1105.03 2092.55,1153.21 2093.12,1198.72 2093.7,1241.23 2094.28,1280.42 2094.86,1316.01 2095.43,1347.72 2096.01,1375.33 2096.59,1398.61 2097.16,1417.38 2097.74,1431.49 2098.32,1440.83 2098.89,1445.3 2099.47,1444.86 2100.05,1439.5 2100.62,1429.23 2101.2,1414.11 2101.78,1394.24 2102.36,1369.75 2102.93,1340.79 2103.51,1307.57 2104.09,1270.31 2104.66,1229.29 2105.24,1184.78 2105.82,1137.11 2106.39,1086.62 2106.97,1033.68 2107.55,978.684 2108.13,922.029 2108.7,864.138 2109.28,805.445 2110.43,687.422 2111.59,571.534 2112.16,515.504 2112.74,461.333 2113.32,409.441 2113.9,360.237 2114.47,314.11 2115.05,271.426 2115.63,232.529 2116.2,197.733 2116.78,167.325 2117.36,141.557 2117.93,120.647 2118.51,104.775 2119.09,94.0848 2119.67,88.6779 2120.24,88.6159 2120.82,93.9178 2121.4,104.56 2121.97,120.478 2122.55,141.562 2123.13,167.662 2123.7,198.587 2124.28,234.105 2124.86,273.947 2125.44,317.807 2126.01,365.344 2126.59,416.187 2127.17,469.933 2127.74,526.157 2128.9,644.216 2130.05,766.556 2131.21,889.186 2132.36,1008.06 2132.94,1064.84 2133.51,1119.2 2134.09,1170.69 2134.67,1218.86 2135.24,1263.3 2135.82,1303.62 2136.4,1339.46 2136.98,1370.52 2137.55,1396.5 2138.13,1417.18 2138.71,1432.35 2139.28,1441.88 2139.86,1445.65 2140.44,1443.62 2141.01,1435.79 2141.59,1422.2 2142.17,1402.94 2142.74,1378.18 2143.32,1348.09 2143.9,1312.93 2144.48,1272.98 2145.05,1228.58 2145.63,1180.1 2146.21,1127.94 2146.78,1072.56 2147.36,1014.42 2147.94,954.039 2148.51,891.936 2149.67,764.753 2150.82,637.36 2151.4,575.007 2151.98,514.301 2152.55,455.793 2153.13,400.016 2153.71,347.483 2154.28,298.68 2154.86,254.06 2155.44,214.044 2156.02,179.011 2156.59,149.298 2157.17,125.193 2157.75,106.937 2158.32,94.7168 2158.9,88.6655 2159.48,88.8594 2160.05,95.318 2160.63,108.002 2161.21,126.816 2161.79,151.604 2162.36,182.155 2163.2,236.245 2164.04,300.912 2164.88,374.924 2165.71,456.854 2166.55,545.104 2167.39,637.936 2168.23,733.508 2169.07,829.905 2169.91,925.182 2170.74,1017.4 2171.58,1104.67 2172.42,1185.17 2173.26,1257.24 2174.1,1319.35 2174.93,1370.16 2175.77,1408.58 2176.61,1433.75 2177.45,1445.07 2178.29,1442.25 2179.13,1425.28 2179.96,1394.44 2180.8,1350.33 2181.64,1293.8 2182.48,1226.01 2183.32,1148.33 2184.15,1062.39 2184.99,969.977 2185.83,873.055 2186.67,773.692 2187.51,674.023 2188.35,576.212 2189.18,482.395 2190.02,394.64 2190.86,314.899 2191.7,244.961 2192.54,186.415 2193.37,140.61 2194.21,108.621 2195.05,91.2267 2195.89,88.883 2196.73,101.714 2197.57,129.502 2198.4,171.692 2199.24,227.399 2200.08,295.421 2200.92,374.27 2201.76,462.197 2202.59,557.232 2203.43,657.226 2204.27,759.9 2205.11,862.893 2205.95,963.82 2206.79,1060.33 2207.62,1150.14 2208.46,1231.12 2209.3,1301.34 2210.14,1359.09 2210.98,1402.95 2211.81,1431.81 2212.65,1444.92 2213.49,1441.9 2214.33,1422.73 2215.17,1387.82 2216,1337.92 2216.84,1274.16 2217.68,1198.03 2218.52,1111.33 2219.36,1016.1 2220.2,914.637 2221.03,809.402 2221.87,702.961 2222.71,597.933 2223.55,496.92 2224.39,402.447 2225.22,316.895 2226.06,242.438 2226.9,180.993 2227.74,134.16 2228.58,103.187 2229.42,88.9271 2230.25,91.8194 2231.09,111.868 2231.93,148.64 2232.77,201.271 2233.61,268.485 2234.44,348.616 2235.28,439.658 2236.12,539.303 2236.96,645.003 2237.8,754.034 2238.64,863.563 2239.47,970.722 2240.31,1072.69 2241.15,1166.75 2241.99,1250.38 2242.83,1321.32 2243.66,1377.62 2244.5,1417.72 2245.34,1440.47 2246.18,1445.18 2247.02,1431.65 2247.86,1400.16 2248.69,1351.47 2249.53,1286.84 2250.37,1207.96 2251.21,1116.91 2252.05,1016.14 2252.88,908.362 2253.72,796.53 2254.56,683.712 2255.4,573.033 2256.24,467.579 2257.07,370.315 2257.91,283.999 2258.75,211.101 2259.59,153.733 2260.43,113.582 2261.27,91.8608 2262.1,89.2687 2262.94,105.964 2263.78,141.555 2264.62,195.105 2265.46,265.156 2266.29,349.762 2267.13,446.543 2267.97,552.746 2268.81,665.326 2269.65,781.03 2270.34,875.945 2271.02,968.82 2271.37,1013.91 2271.71,1057.81 2272.05,1100.28 2272.4,1141.13 2272.74,1180.14 2273.09,1217.11 2273.43,1251.85 2273.77,1284.2 2274.12,1313.97 2274.46,1341.03 2274.81,1365.22 2275.15,1386.42 2275.49,1404.53 2275.84,1419.43 2276.18,1431.06 2276.53,1439.34 2276.7,1442.22 2276.87,1444.24 2277.04,1445.4 2277.21,1445.71 2277.39,1445.16 2277.56,1443.75 2277.73,1441.48 2277.9,1438.35 2278.24,1429.55 2278.59,1417.37 2278.93,1401.88 2279.28,1383.15 2279.62,1361.26 2279.96,1336.33 2280.31,1308.47 2280.65,1277.82 2281,1244.54 2281.34,1208.79 2281.68,1170.75 2282.03,1130.6 2282.37,1088.57 2282.72,1044.85 2283.06,999.669 2283.4,953.259 2284.09,857.71 2284.78,760.165 2285.47,662.644 2286.15,567.177 2286.5,520.84 2286.84,475.762 2287.19,432.18 2287.53,390.326 2287.87,350.422 2288.22,312.682 2288.56,277.307 2288.91,244.488 2289.25,214.403 2289.59,187.215 2289.94,163.073 2290.28,142.111 2290.63,124.444 2290.97,110.173 2291.31,99.3785 2291.66,92.1251 \"/>\n",
       "<path clip-path=\"url(#clip960)\" d=\"M265.897 1438.47 L534.209 1438.47 L534.209 1334.79 L265.897 1334.79  Z\" fill=\"#ffffff\" fill-rule=\"evenodd\" fill-opacity=\"1\"/>\n",
       "<polyline clip-path=\"url(#clip960)\" style=\"stroke:#000000; stroke-linecap:round; stroke-linejoin:round; stroke-width:4; stroke-opacity:1; fill:none\" points=\"265.897,1438.47 534.209,1438.47 534.209,1334.79 265.897,1334.79 265.897,1438.47 \"/>\n",
       "<polyline clip-path=\"url(#clip960)\" style=\"stroke:#009af9; stroke-linecap:round; stroke-linejoin:round; stroke-width:4; stroke-opacity:1; fill:none\" points=\"289.884,1386.63 433.805,1386.63 \"/>\n",
       "<path clip-path=\"url(#clip960)\" d=\"M471.634 1406.32 Q469.829 1410.95 468.116 1412.36 Q466.403 1413.78 463.532 1413.78 L460.13 1413.78 L460.13 1410.21 L462.63 1410.21 Q464.389 1410.21 465.361 1409.38 Q466.333 1408.54 467.514 1405.44 L468.278 1403.5 L457.792 1377.99 L462.306 1377.99 L470.407 1398.27 L478.509 1377.99 L483.023 1377.99 L471.634 1406.32 Z\" fill=\"#000000\" fill-rule=\"nonzero\" fill-opacity=\"1\" /><path clip-path=\"url(#clip960)\" d=\"M490.315 1399.98 L497.954 1399.98 L497.954 1373.61 L489.643 1375.28 L489.643 1371.02 L497.907 1369.35 L502.583 1369.35 L502.583 1399.98 L510.222 1399.98 L510.222 1403.91 L490.315 1403.91 L490.315 1399.98 Z\" fill=\"#000000\" fill-rule=\"nonzero\" fill-opacity=\"1\" /></svg>\n"
      ]
     },
     "execution_count": 76,
     "metadata": {},
     "output_type": "execute_result"
    }
   ],
   "source": [
    "plot(g,-2,4,framestyle = :origin)"
   ]
  },
  {
   "cell_type": "code",
   "execution_count": 77,
   "metadata": {},
   "outputs": [
    {
     "data": {
      "image/png": "[encoded data removed]",
      "image/svg+xml": [
       "<?xml version=\"1.0\" encoding=\"utf-8\"?>\n",
       "<svg xmlns=\"http://www.w3.org/2000/svg\" xmlns:xlink=\"http://www.w3.org/1999/xlink\" width=\"600\" height=\"400\" viewBox=\"0 0 2400 1600\">\n",
       "<defs>\n",
       "  <clipPath id=\"clip000\">\n",
       "    <rect x=\"0\" y=\"0\" width=\"2400\" height=\"1600\"/>\n",
       "  </clipPath>\n",
       "</defs>\n",
       "<path clip-path=\"url(#clip000)\" d=\"M0 1600 L2400 1600 L2400 0 L0 0  Z\" fill=\"#ffffff\" fill-rule=\"evenodd\" fill-opacity=\"1\"/>\n",
       "<defs>\n",
       "  <clipPath id=\"clip001\">\n",
       "    <rect x=\"480\" y=\"0\" width=\"1681\" height=\"1600\"/>\n",
       "  </clipPath>\n",
       "</defs>\n",
       "<path clip-path=\"url(#clip000)\" d=\"M148.057 1486.45 L2352.76 1486.45 L2352.76 47.2441 L148.057 47.2441  Z\" fill=\"#ffffff\" fill-rule=\"evenodd\" fill-opacity=\"1\"/>\n",
       "<defs>\n",
       "  <clipPath id=\"clip002\">\n",
       "    <rect x=\"148\" y=\"47\" width=\"2206\" height=\"1440\"/>\n",
       "  </clipPath>\n",
       "</defs>\n",
       "<polyline clip-path=\"url(#clip002)\" style=\"stroke:#000000; stroke-linecap:round; stroke-linejoin:round; stroke-width:2; stroke-opacity:0.1; fill:none\" points=\"670.394,1486.45 670.394,47.2441 \"/>\n",
       "<polyline clip-path=\"url(#clip002)\" style=\"stroke:#000000; stroke-linecap:round; stroke-linejoin:round; stroke-width:2; stroke-opacity:0.1; fill:none\" points=\"977.02,1486.45 977.02,47.2441 \"/>\n",
       "<polyline clip-path=\"url(#clip002)\" style=\"stroke:#000000; stroke-linecap:round; stroke-linejoin:round; stroke-width:2; stroke-opacity:0.1; fill:none\" points=\"1283.65,1486.45 1283.65,47.2441 \"/>\n",
       "<polyline clip-path=\"url(#clip002)\" style=\"stroke:#000000; stroke-linecap:round; stroke-linejoin:round; stroke-width:2; stroke-opacity:0.1; fill:none\" points=\"1590.27,1486.45 1590.27,47.2441 \"/>\n",
       "<polyline clip-path=\"url(#clip002)\" style=\"stroke:#000000; stroke-linecap:round; stroke-linejoin:round; stroke-width:2; stroke-opacity:0.1; fill:none\" points=\"1896.9,1486.45 1896.9,47.2441 \"/>\n",
       "<polyline clip-path=\"url(#clip002)\" style=\"stroke:#000000; stroke-linecap:round; stroke-linejoin:round; stroke-width:2; stroke-opacity:0.1; fill:none\" points=\"2203.53,1486.45 2203.53,47.2441 \"/>\n",
       "<polyline clip-path=\"url(#clip000)\" style=\"stroke:#000000; stroke-linecap:round; stroke-linejoin:round; stroke-width:4; stroke-opacity:1; fill:none\" points=\"148.057,746.116 2352.76,746.116 \"/>\n",
       "<polyline clip-path=\"url(#clip000)\" style=\"stroke:#000000; stroke-linecap:round; stroke-linejoin:round; stroke-width:4; stroke-opacity:1; fill:none\" points=\"670.394,765.014 670.394,727.219 \"/>\n",
       "<polyline clip-path=\"url(#clip000)\" style=\"stroke:#000000; stroke-linecap:round; stroke-linejoin:round; stroke-width:4; stroke-opacity:1; fill:none\" points=\"977.02,765.014 977.02,727.219 \"/>\n",
       "<polyline clip-path=\"url(#clip000)\" style=\"stroke:#000000; stroke-linecap:round; stroke-linejoin:round; stroke-width:4; stroke-opacity:1; fill:none\" points=\"1283.65,765.014 1283.65,727.219 \"/>\n",
       "<polyline clip-path=\"url(#clip000)\" style=\"stroke:#000000; stroke-linecap:round; stroke-linejoin:round; stroke-width:4; stroke-opacity:1; fill:none\" points=\"1590.27,765.014 1590.27,727.219 \"/>\n",
       "<polyline clip-path=\"url(#clip000)\" style=\"stroke:#000000; stroke-linecap:round; stroke-linejoin:round; stroke-width:4; stroke-opacity:1; fill:none\" points=\"1896.9,765.014 1896.9,727.219 \"/>\n",
       "<polyline clip-path=\"url(#clip000)\" style=\"stroke:#000000; stroke-linecap:round; stroke-linejoin:round; stroke-width:4; stroke-opacity:1; fill:none\" points=\"2203.53,765.014 2203.53,727.219 \"/>\n",
       "<path clip-path=\"url(#clip000)\" d=\"M665.046 804.581 L681.366 804.581 L681.366 808.516 L659.421 808.516 L659.421 804.581 Q662.084 801.827 666.667 797.197 Q671.273 792.544 672.454 791.202 Q674.699 788.679 675.579 786.942 Q676.482 785.183 676.482 783.493 Q676.482 780.739 674.537 779.003 Q672.616 777.267 669.514 777.267 Q667.315 777.267 664.861 778.03 Q662.431 778.794 659.653 780.345 L659.653 775.623 Q662.477 774.489 664.931 773.91 Q667.384 773.331 669.421 773.331 Q674.792 773.331 677.986 776.017 Q681.181 778.702 681.181 783.193 Q681.181 785.322 680.37 787.243 Q679.583 789.142 677.477 791.734 Q676.898 792.405 673.796 795.623 Q670.695 798.817 665.046 804.581 Z\" fill=\"#000000\" fill-rule=\"nonzero\" fill-opacity=\"1\" /><path clip-path=\"url(#clip000)\" d=\"M980.029 778.03 L968.224 796.479 L980.029 796.479 L980.029 778.03 M978.803 773.956 L984.682 773.956 L984.682 796.479 L989.613 796.479 L989.613 800.368 L984.682 800.368 L984.682 808.516 L980.029 808.516 L980.029 800.368 L964.428 800.368 L964.428 795.854 L978.803 773.956 Z\" fill=\"#000000\" fill-rule=\"nonzero\" fill-opacity=\"1\" /><path clip-path=\"url(#clip000)\" d=\"M1284.05 789.373 Q1280.9 789.373 1279.05 791.526 Q1277.22 793.679 1277.22 797.429 Q1277.22 801.155 1279.05 803.331 Q1280.9 805.484 1284.05 805.484 Q1287.2 805.484 1289.03 803.331 Q1290.88 801.155 1290.88 797.429 Q1290.88 793.679 1289.03 791.526 Q1287.2 789.373 1284.05 789.373 M1293.33 774.72 L1293.33 778.98 Q1291.58 778.146 1289.77 777.706 Q1287.99 777.267 1286.23 777.267 Q1281.6 777.267 1279.14 780.392 Q1276.71 783.517 1276.37 789.836 Q1277.73 787.822 1279.79 786.757 Q1281.85 785.669 1284.33 785.669 Q1289.54 785.669 1292.55 788.841 Q1295.58 791.989 1295.58 797.429 Q1295.58 802.753 1292.43 805.97 Q1289.28 809.188 1284.05 809.188 Q1278.06 809.188 1274.89 804.604 Q1271.71 799.998 1271.71 791.271 Q1271.71 783.077 1275.6 778.216 Q1279.49 773.331 1286.04 773.331 Q1287.8 773.331 1289.58 773.679 Q1291.39 774.026 1293.33 774.72 Z\" fill=\"#000000\" fill-rule=\"nonzero\" fill-opacity=\"1\" /><path clip-path=\"url(#clip000)\" d=\"M1590.27 792.104 Q1586.94 792.104 1585.02 793.887 Q1583.12 795.669 1583.12 798.794 Q1583.12 801.919 1585.02 803.702 Q1586.94 805.484 1590.27 805.484 Q1593.61 805.484 1595.53 803.702 Q1597.45 801.896 1597.45 798.794 Q1597.45 795.669 1595.53 793.887 Q1593.63 792.104 1590.27 792.104 M1585.6 790.114 Q1582.59 789.373 1580.9 787.313 Q1579.23 785.253 1579.23 782.29 Q1579.23 778.146 1582.17 775.739 Q1585.13 773.331 1590.27 773.331 Q1595.44 773.331 1598.38 775.739 Q1601.32 778.146 1601.32 782.29 Q1601.32 785.253 1599.63 787.313 Q1597.96 789.373 1594.97 790.114 Q1598.35 790.901 1600.23 793.192 Q1602.13 795.484 1602.13 798.794 Q1602.13 803.817 1599.05 806.503 Q1595.99 809.188 1590.27 809.188 Q1584.56 809.188 1581.48 806.503 Q1578.42 803.817 1578.42 798.794 Q1578.42 795.484 1580.32 793.192 Q1582.22 790.901 1585.6 790.114 M1583.88 782.73 Q1583.88 785.415 1585.55 786.919 Q1587.24 788.424 1590.27 788.424 Q1593.28 788.424 1594.97 786.919 Q1596.69 785.415 1596.69 782.73 Q1596.69 780.044 1594.97 778.54 Q1593.28 777.035 1590.27 777.035 Q1587.24 777.035 1585.55 778.54 Q1583.88 780.044 1583.88 782.73 Z\" fill=\"#000000\" fill-rule=\"nonzero\" fill-opacity=\"1\" /><path clip-path=\"url(#clip000)\" d=\"M1871.59 804.581 L1879.23 804.581 L1879.23 778.216 L1870.92 779.882 L1870.92 775.623 L1879.18 773.956 L1883.86 773.956 L1883.86 804.581 L1891.49 804.581 L1891.49 808.516 L1871.59 808.516 L1871.59 804.581 Z\" fill=\"#000000\" fill-rule=\"nonzero\" fill-opacity=\"1\" /><path clip-path=\"url(#clip000)\" d=\"M1910.94 777.035 Q1907.33 777.035 1905.5 780.6 Q1903.69 784.142 1903.69 791.271 Q1903.69 798.378 1905.5 801.942 Q1907.33 805.484 1910.94 805.484 Q1914.57 805.484 1916.38 801.942 Q1918.21 798.378 1918.21 791.271 Q1918.21 784.142 1916.38 780.6 Q1914.57 777.035 1910.94 777.035 M1910.94 773.331 Q1916.75 773.331 1919.8 777.938 Q1922.88 782.521 1922.88 791.271 Q1922.88 799.998 1919.8 804.604 Q1916.75 809.188 1910.94 809.188 Q1905.13 809.188 1902.05 804.604 Q1898.99 799.998 1898.99 791.271 Q1898.99 782.521 1902.05 777.938 Q1905.13 773.331 1910.94 773.331 Z\" fill=\"#000000\" fill-rule=\"nonzero\" fill-opacity=\"1\" /><path clip-path=\"url(#clip000)\" d=\"M2179.01 804.581 L2186.65 804.581 L2186.65 778.216 L2178.34 779.882 L2178.34 775.623 L2186.61 773.956 L2191.28 773.956 L2191.28 804.581 L2198.92 804.581 L2198.92 808.516 L2179.01 808.516 L2179.01 804.581 Z\" fill=\"#000000\" fill-rule=\"nonzero\" fill-opacity=\"1\" /><path clip-path=\"url(#clip000)\" d=\"M2212.39 804.581 L2228.71 804.581 L2228.71 808.516 L2206.77 808.516 L2206.77 804.581 Q2209.43 801.827 2214.01 797.197 Q2218.62 792.544 2219.8 791.202 Q2222.05 788.679 2222.92 786.942 Q2223.83 785.183 2223.83 783.493 Q2223.83 780.739 2221.88 779.003 Q2219.96 777.267 2216.86 777.267 Q2214.66 777.267 2212.21 778.03 Q2209.78 778.794 2207 780.345 L2207 775.623 Q2209.82 774.489 2212.28 773.91 Q2214.73 773.331 2216.77 773.331 Q2222.14 773.331 2225.33 776.017 Q2228.53 778.702 2228.53 783.193 Q2228.53 785.322 2227.72 787.243 Q2226.93 789.142 2224.82 791.734 Q2224.24 792.405 2221.14 795.623 Q2218.04 798.817 2212.39 804.581 Z\" fill=\"#000000\" fill-rule=\"nonzero\" fill-opacity=\"1\" /><polyline clip-path=\"url(#clip002)\" style=\"stroke:#000000; stroke-linecap:round; stroke-linejoin:round; stroke-width:2; stroke-opacity:0.1; fill:none\" points=\"148.057,1449.88 2352.76,1449.88 \"/>\n",
       "<polyline clip-path=\"url(#clip002)\" style=\"stroke:#000000; stroke-linecap:round; stroke-linejoin:round; stroke-width:2; stroke-opacity:0.1; fill:none\" points=\"148.057,1215.29 2352.76,1215.29 \"/>\n",
       "<polyline clip-path=\"url(#clip002)\" style=\"stroke:#000000; stroke-linecap:round; stroke-linejoin:round; stroke-width:2; stroke-opacity:0.1; fill:none\" points=\"148.057,980.704 2352.76,980.704 \"/>\n",
       "<polyline clip-path=\"url(#clip002)\" style=\"stroke:#000000; stroke-linecap:round; stroke-linejoin:round; stroke-width:2; stroke-opacity:0.1; fill:none\" points=\"148.057,511.529 2352.76,511.529 \"/>\n",
       "<polyline clip-path=\"url(#clip002)\" style=\"stroke:#000000; stroke-linecap:round; stroke-linejoin:round; stroke-width:2; stroke-opacity:0.1; fill:none\" points=\"148.057,276.941 2352.76,276.941 \"/>\n",
       "<polyline clip-path=\"url(#clip000)\" style=\"stroke:#000000; stroke-linecap:round; stroke-linejoin:round; stroke-width:4; stroke-opacity:1; fill:none\" points=\"363.767,1486.45 363.767,47.2441 \"/>\n",
       "<polyline clip-path=\"url(#clip000)\" style=\"stroke:#000000; stroke-linecap:round; stroke-linejoin:round; stroke-width:4; stroke-opacity:1; fill:none\" points=\"344.869,1449.88 382.665,1449.88 \"/>\n",
       "<polyline clip-path=\"url(#clip000)\" style=\"stroke:#000000; stroke-linecap:round; stroke-linejoin:round; stroke-width:4; stroke-opacity:1; fill:none\" points=\"344.869,1215.29 382.665,1215.29 \"/>\n",
       "<polyline clip-path=\"url(#clip000)\" style=\"stroke:#000000; stroke-linecap:round; stroke-linejoin:round; stroke-width:4; stroke-opacity:1; fill:none\" points=\"344.869,980.704 382.665,980.704 \"/>\n",
       "<polyline clip-path=\"url(#clip000)\" style=\"stroke:#000000; stroke-linecap:round; stroke-linejoin:round; stroke-width:4; stroke-opacity:1; fill:none\" points=\"344.869,511.529 382.665,511.529 \"/>\n",
       "<polyline clip-path=\"url(#clip000)\" style=\"stroke:#000000; stroke-linecap:round; stroke-linejoin:round; stroke-width:4; stroke-opacity:1; fill:none\" points=\"344.869,276.941 382.665,276.941 \"/>\n",
       "<path clip-path=\"url(#clip000)\" d=\"M266.703 1450.33 L296.378 1450.33 L296.378 1454.27 L266.703 1454.27 L266.703 1450.33 Z\" fill=\"#000000\" fill-rule=\"nonzero\" fill-opacity=\"1\" /><path clip-path=\"url(#clip000)\" d=\"M320.637 1448.53 Q323.994 1449.24 325.869 1451.51 Q327.767 1453.78 327.767 1457.11 Q327.767 1462.23 324.249 1465.03 Q320.73 1467.83 314.249 1467.83 Q312.073 1467.83 309.758 1467.39 Q307.466 1466.97 305.013 1466.12 L305.013 1461.6 Q306.957 1462.74 309.272 1463.32 Q311.587 1463.9 314.11 1463.9 Q318.508 1463.9 320.8 1462.16 Q323.114 1460.42 323.114 1457.11 Q323.114 1454.06 320.962 1452.35 Q318.832 1450.61 315.012 1450.61 L310.985 1450.61 L310.985 1446.77 L315.198 1446.77 Q318.647 1446.77 320.475 1445.4 Q322.304 1444.01 322.304 1441.42 Q322.304 1438.76 320.406 1437.35 Q318.531 1435.91 315.012 1435.91 Q313.091 1435.91 310.892 1436.33 Q308.693 1436.74 306.054 1437.62 L306.054 1433.46 Q308.716 1432.72 311.031 1432.35 Q313.369 1431.98 315.429 1431.98 Q320.753 1431.98 323.855 1434.41 Q326.957 1436.81 326.957 1440.93 Q326.957 1443.8 325.313 1445.79 Q323.67 1447.76 320.637 1448.53 Z\" fill=\"#000000\" fill-rule=\"nonzero\" fill-opacity=\"1\" /><path clip-path=\"url(#clip000)\" d=\"M267.652 1215.74 L297.327 1215.74 L297.327 1219.68 L267.652 1219.68 L267.652 1215.74 Z\" fill=\"#000000\" fill-rule=\"nonzero\" fill-opacity=\"1\" /><path clip-path=\"url(#clip000)\" d=\"M311.448 1228.64 L327.767 1228.64 L327.767 1232.57 L305.823 1232.57 L305.823 1228.64 Q308.485 1225.88 313.068 1221.25 Q317.675 1216.6 318.855 1215.26 Q321.1 1212.73 321.98 1211 Q322.883 1209.24 322.883 1207.55 Q322.883 1204.79 320.938 1203.06 Q319.017 1201.32 315.915 1201.32 Q313.716 1201.32 311.263 1202.09 Q308.832 1202.85 306.054 1204.4 L306.054 1199.68 Q308.878 1198.54 311.332 1197.97 Q313.786 1197.39 315.823 1197.39 Q321.193 1197.39 324.387 1200.07 Q327.582 1202.76 327.582 1207.25 Q327.582 1209.38 326.772 1211.3 Q325.985 1213.2 323.878 1215.79 Q323.299 1216.46 320.198 1219.68 Q317.096 1222.87 311.448 1228.64 Z\" fill=\"#000000\" fill-rule=\"nonzero\" fill-opacity=\"1\" /><path clip-path=\"url(#clip000)\" d=\"M267.281 981.156 L296.957 981.156 L296.957 985.091 L267.281 985.091 L267.281 981.156 Z\" fill=\"#000000\" fill-rule=\"nonzero\" fill-opacity=\"1\" /><path clip-path=\"url(#clip000)\" d=\"M307.86 994.049 L315.499 994.049 L315.499 967.684 L307.188 969.35 L307.188 965.091 L315.452 963.424 L320.128 963.424 L320.128 994.049 L327.767 994.049 L327.767 997.984 L307.86 997.984 L307.86 994.049 Z\" fill=\"#000000\" fill-rule=\"nonzero\" fill-opacity=\"1\" /><path clip-path=\"url(#clip000)\" d=\"M307.86 524.873 L315.499 524.873 L315.499 498.508 L307.188 500.174 L307.188 495.915 L315.452 494.249 L320.128 494.249 L320.128 524.873 L327.767 524.873 L327.767 528.809 L307.86 528.809 L307.86 524.873 Z\" fill=\"#000000\" fill-rule=\"nonzero\" fill-opacity=\"1\" /><path clip-path=\"url(#clip000)\" d=\"M311.448 290.286 L327.767 290.286 L327.767 294.221 L305.823 294.221 L305.823 290.286 Q308.485 287.531 313.068 282.901 Q317.675 278.249 318.855 276.906 Q321.1 274.383 321.98 272.647 Q322.883 270.887 322.883 269.198 Q322.883 266.443 320.938 264.707 Q319.017 262.971 315.915 262.971 Q313.716 262.971 311.263 263.735 Q308.832 264.499 306.054 266.05 L306.054 261.327 Q308.878 260.193 311.332 259.614 Q313.786 259.036 315.823 259.036 Q321.193 259.036 324.387 261.721 Q327.582 264.406 327.582 268.897 Q327.582 271.026 326.772 272.948 Q325.985 274.846 323.878 277.438 Q323.299 278.11 320.198 281.327 Q317.096 284.522 311.448 290.286 Z\" fill=\"#000000\" fill-rule=\"nonzero\" fill-opacity=\"1\" /><polyline clip-path=\"url(#clip002)\" style=\"stroke:#009af9; stroke-linecap:round; stroke-linejoin:round; stroke-width:4; stroke-opacity:1; fill:none\" points=\"363.9,746.116 364.488,746.116 365.076,746.116 365.664,746.116 366.84,746.116 368.015,746.116 377.421,746.116 386.827,746.117 396.232,746.194 405.638,747.21 415.044,750.991 424.45,758.295 432.402,766.366 440.354,774.79 448.307,782.262 456.259,787.773 464.211,790.693 472.164,790.741 480.116,787.922 488.069,782.442 490.228,780.537 492.388,778.469 494.547,776.246 496.707,773.878 501.026,768.739 505.346,763.129 513.984,750.802 522.623,737.509 539.9,710.387 557.177,686.046 565.141,676.744 573.105,669.04 581.068,663.158 589.032,659.278 596.996,657.536 604.96,658.031 612.924,660.819 620.888,665.92 629.426,673.942 637.965,684.545 646.503,697.628 655.041,713.054 663.579,730.65 672.117,750.214 680.656,771.515 689.194,794.301 708.978,851.27 728.763,911.04 738.655,940.759 748.548,969.711 758.44,997.413 768.332,1023.4 777.124,1044.68 785.915,1063.96 794.706,1080.95 803.497,1095.4 812.288,1107.09 821.079,1115.81 829.87,1121.39 838.661,1123.7 846.371,1122.95 854.08,1119.55 861.789,1113.48 869.498,1104.72 877.207,1093.29 884.916,1079.22 892.625,1062.58 900.334,1043.44 908.739,1019.82 917.144,993.497 925.549,964.638 933.953,933.446 942.358,900.145 950.763,864.98 959.168,828.215 967.573,790.13 984.483,710.721 1001.39,629.718 1018.3,549.767 1035.21,473.538 1044.56,433.949 1053.91,396.715 1063.26,362.236 1072.6,330.89 1077.28,316.503 1081.95,303.028 1086.63,290.503 1091.3,278.967 1095.97,268.452 1100.65,258.991 1105.32,250.613 1110,243.346 1114.44,237.484 1118.89,232.669 1123.34,228.915 1127.78,226.238 1132.23,224.649 1136.68,224.157 1141.13,224.77 1145.57,226.492 1150.02,229.325 1154.47,233.269 1158.91,238.321 1163.36,244.475 1167.81,251.725 1172.26,260.058 1176.7,269.464 1181.15,279.927 1185.77,291.907 1190.4,304.989 1195.02,319.147 1199.65,334.353 1204.27,350.577 1208.89,367.786 1213.52,385.945 1218.14,405.016 1227.39,445.729 1236.64,489.58 1245.89,536.187 1255.13,585.144 1270.7,671.656 1286.27,761.384 1301.84,852.016 1317.41,941.183 1326.92,993.885 1336.42,1044.64 1345.93,1092.93 1355.43,1138.27 1360.18,1159.7 1364.94,1180.21 1369.69,1199.76 1374.44,1218.3 1379.19,1235.78 1383.94,1252.15 1388.7,1267.37 1393.45,1281.4 1397.8,1293.17 1402.16,1303.88 1406.51,1313.51 1410.86,1322.03 1415.22,1329.42 1419.57,1335.67 1423.92,1340.75 1428.28,1344.66 1432.63,1347.38 1436.98,1348.9 1441.34,1349.22 1445.69,1348.32 1450.04,1346.22 1454.4,1342.91 1458.75,1338.4 1463.1,1332.68 1467.12,1326.34 1471.14,1318.99 1475.16,1310.64 1479.19,1301.31 1483.21,1291 1487.23,1279.73 1491.25,1267.52 1495.27,1254.39 1499.29,1240.36 1503.31,1225.45 1507.33,1209.67 1511.35,1193.07 1519.39,1157.48 1527.43,1118.89 1535.58,1077.02 1543.72,1032.61 1551.87,985.977 1560.02,937.436 1576.31,835.978 1592.6,731.044 1610.86,612.939 1629.11,498.334 1638.24,443.631 1647.37,391.323 1656.5,341.885 1665.63,295.768 1669.76,276.081 1673.9,257.201 1678.04,239.164 1682.17,222.002 1686.31,205.751 1690.45,190.441 1694.58,176.101 1698.72,162.76 1702.85,150.444 1706.99,139.178 1711.13,128.983 1715.26,119.88 1719.4,111.889 1723.53,105.025 1727.67,99.3036 1731.81,94.7372 1736.54,90.9405 1741.28,88.684 1746.01,87.9763 1750.75,88.8225 1755.48,91.2239 1760.22,95.1782 1764.96,100.679 1769.69,107.718 1774.43,116.28 1779.16,126.348 1783.9,137.903 1788.63,150.918 1793.37,165.368 1798.11,181.22 1802.84,198.439 1807.58,216.988 1811.96,235.312 1816.35,254.706 1820.73,275.131 1825.12,296.549 1829.5,318.917 1833.88,342.192 1838.27,366.328 1842.65,391.277 1851.42,443.418 1860.19,498.202 1868.96,555.193 1877.73,613.934 1895.02,733.048 1912.31,853.394 1920.96,912.843 1929.61,971.179 1938.25,1027.94 1946.9,1082.67 1951.09,1108.37 1955.29,1133.44 1959.49,1157.84 1963.69,1181.51 1972.08,1226.49 1980.47,1268.05 1984.67,1287.45 1988.87,1305.87 1993.07,1323.28 1997.26,1339.65 2001.46,1354.94 2005.66,1369.13 2009.85,1382.18 2014.05,1394.08 2018.35,1405.04 2022.66,1414.74 2026.96,1423.15 2031.26,1430.25 2035.56,1436.03 2039.87,1440.48 2044.17,1443.58 2048.47,1445.33 2052.77,1445.72 2057.08,1444.74 2061.38,1442.4 2065.68,1438.71 2069.98,1433.66 2074.29,1427.26 2078.59,1419.53 2082.89,1410.47 2087.61,1399.05 2092.32,1386.09 2097.03,1371.61 2101.75,1355.64 2106.46,1338.22 2111.18,1319.4 2115.89,1299.2 2120.6,1277.68 2125.32,1254.88 2130.03,1230.86 2134.75,1205.68 2139.46,1179.37 2144.17,1152.02 2148.89,1123.68 2153.6,1094.41 2158.32,1064.28 2165.16,1019.14 2172.01,972.545 2178.86,924.738 2185.71,875.948 2199.4,776.383 2213.1,675.806 2226.79,576.2 2240.49,479.539 2247.34,432.916 2254.19,387.744 2261.03,344.25 2267.88,302.65 2273.5,270.077 2279.12,239.031 2284.74,209.62 2290.36,181.942 \"/>\n",
       "<path clip-path=\"url(#clip000)\" d=\"M2006.37 198.898 L2279.27 198.898 L2279.27 95.2176 L2006.37 95.2176  Z\" fill=\"#ffffff\" fill-rule=\"evenodd\" fill-opacity=\"1\"/>\n",
       "<polyline clip-path=\"url(#clip000)\" style=\"stroke:#000000; stroke-linecap:round; stroke-linejoin:round; stroke-width:4; stroke-opacity:1; fill:none\" points=\"2006.37,198.898 2279.27,198.898 2279.27,95.2176 2006.37,95.2176 2006.37,198.898 \"/>\n",
       "<polyline clip-path=\"url(#clip000)\" style=\"stroke:#009af9; stroke-linecap:round; stroke-linejoin:round; stroke-width:4; stroke-opacity:1; fill:none\" points=\"2030.86,147.058 2177.84,147.058 \"/>\n",
       "<path clip-path=\"url(#clip000)\" d=\"M2216.18 166.745 Q2214.38 171.375 2212.66 172.787 Q2210.95 174.199 2208.08 174.199 L2204.68 174.199 L2204.68 170.634 L2207.18 170.634 Q2208.94 170.634 2209.91 169.8 Q2210.88 168.967 2212.06 165.865 L2212.83 163.921 L2202.34 138.412 L2206.85 138.412 L2214.95 158.689 L2223.06 138.412 L2227.57 138.412 L2216.18 166.745 Z\" fill=\"#000000\" fill-rule=\"nonzero\" fill-opacity=\"1\" /><path clip-path=\"url(#clip000)\" d=\"M2234.86 160.402 L2242.5 160.402 L2242.5 134.037 L2234.19 135.703 L2234.19 131.444 L2242.45 129.778 L2247.13 129.778 L2247.13 160.402 L2254.77 160.402 L2254.77 164.338 L2234.86 164.338 L2234.86 160.402 Z\" fill=\"#000000\" fill-rule=\"nonzero\" fill-opacity=\"1\" /></svg>\n"
      ],
      "text/html": [
       "<?xml version=\"1.0\" encoding=\"utf-8\"?>\n",
       "<svg xmlns=\"http://www.w3.org/2000/svg\" xmlns:xlink=\"http://www.w3.org/1999/xlink\" width=\"600\" height=\"400\" viewBox=\"0 0 2400 1600\">\n",
       "<defs>\n",
       "  <clipPath id=\"clip050\">\n",
       "    <rect x=\"0\" y=\"0\" width=\"2400\" height=\"1600\"/>\n",
       "  </clipPath>\n",
       "</defs>\n",
       "<path clip-path=\"url(#clip050)\" d=\"M0 1600 L2400 1600 L2400 0 L0 0  Z\" fill=\"#ffffff\" fill-rule=\"evenodd\" fill-opacity=\"1\"/>\n",
       "<defs>\n",
       "  <clipPath id=\"clip051\">\n",
       "    <rect x=\"480\" y=\"0\" width=\"1681\" height=\"1600\"/>\n",
       "  </clipPath>\n",
       "</defs>\n",
       "<path clip-path=\"url(#clip050)\" d=\"M148.057 1486.45 L2352.76 1486.45 L2352.76 47.2441 L148.057 47.2441  Z\" fill=\"#ffffff\" fill-rule=\"evenodd\" fill-opacity=\"1\"/>\n",
       "<defs>\n",
       "  <clipPath id=\"clip052\">\n",
       "    <rect x=\"148\" y=\"47\" width=\"2206\" height=\"1440\"/>\n",
       "  </clipPath>\n",
       "</defs>\n",
       "<polyline clip-path=\"url(#clip052)\" style=\"stroke:#000000; stroke-linecap:round; stroke-linejoin:round; stroke-width:2; stroke-opacity:0.1; fill:none\" points=\"670.394,1486.45 670.394,47.2441 \"/>\n",
       "<polyline clip-path=\"url(#clip052)\" style=\"stroke:#000000; stroke-linecap:round; stroke-linejoin:round; stroke-width:2; stroke-opacity:0.1; fill:none\" points=\"977.02,1486.45 977.02,47.2441 \"/>\n",
       "<polyline clip-path=\"url(#clip052)\" style=\"stroke:#000000; stroke-linecap:round; stroke-linejoin:round; stroke-width:2; stroke-opacity:0.1; fill:none\" points=\"1283.65,1486.45 1283.65,47.2441 \"/>\n",
       "<polyline clip-path=\"url(#clip052)\" style=\"stroke:#000000; stroke-linecap:round; stroke-linejoin:round; stroke-width:2; stroke-opacity:0.1; fill:none\" points=\"1590.27,1486.45 1590.27,47.2441 \"/>\n",
       "<polyline clip-path=\"url(#clip052)\" style=\"stroke:#000000; stroke-linecap:round; stroke-linejoin:round; stroke-width:2; stroke-opacity:0.1; fill:none\" points=\"1896.9,1486.45 1896.9,47.2441 \"/>\n",
       "<polyline clip-path=\"url(#clip052)\" style=\"stroke:#000000; stroke-linecap:round; stroke-linejoin:round; stroke-width:2; stroke-opacity:0.1; fill:none\" points=\"2203.53,1486.45 2203.53,47.2441 \"/>\n",
       "<polyline clip-path=\"url(#clip050)\" style=\"stroke:#000000; stroke-linecap:round; stroke-linejoin:round; stroke-width:4; stroke-opacity:1; fill:none\" points=\"148.057,746.116 2352.76,746.116 \"/>\n",
       "<polyline clip-path=\"url(#clip050)\" style=\"stroke:#000000; stroke-linecap:round; stroke-linejoin:round; stroke-width:4; stroke-opacity:1; fill:none\" points=\"670.394,765.014 670.394,727.219 \"/>\n",
       "<polyline clip-path=\"url(#clip050)\" style=\"stroke:#000000; stroke-linecap:round; stroke-linejoin:round; stroke-width:4; stroke-opacity:1; fill:none\" points=\"977.02,765.014 977.02,727.219 \"/>\n",
       "<polyline clip-path=\"url(#clip050)\" style=\"stroke:#000000; stroke-linecap:round; stroke-linejoin:round; stroke-width:4; stroke-opacity:1; fill:none\" points=\"1283.65,765.014 1283.65,727.219 \"/>\n",
       "<polyline clip-path=\"url(#clip050)\" style=\"stroke:#000000; stroke-linecap:round; stroke-linejoin:round; stroke-width:4; stroke-opacity:1; fill:none\" points=\"1590.27,765.014 1590.27,727.219 \"/>\n",
       "<polyline clip-path=\"url(#clip050)\" style=\"stroke:#000000; stroke-linecap:round; stroke-linejoin:round; stroke-width:4; stroke-opacity:1; fill:none\" points=\"1896.9,765.014 1896.9,727.219 \"/>\n",
       "<polyline clip-path=\"url(#clip050)\" style=\"stroke:#000000; stroke-linecap:round; stroke-linejoin:round; stroke-width:4; stroke-opacity:1; fill:none\" points=\"2203.53,765.014 2203.53,727.219 \"/>\n",
       "<path clip-path=\"url(#clip050)\" d=\"M665.046 804.581 L681.366 804.581 L681.366 808.516 L659.421 808.516 L659.421 804.581 Q662.084 801.827 666.667 797.197 Q671.273 792.544 672.454 791.202 Q674.699 788.679 675.579 786.942 Q676.482 785.183 676.482 783.493 Q676.482 780.739 674.537 779.003 Q672.616 777.267 669.514 777.267 Q667.315 777.267 664.861 778.03 Q662.431 778.794 659.653 780.345 L659.653 775.623 Q662.477 774.489 664.931 773.91 Q667.384 773.331 669.421 773.331 Q674.792 773.331 677.986 776.017 Q681.181 778.702 681.181 783.193 Q681.181 785.322 680.37 787.243 Q679.583 789.142 677.477 791.734 Q676.898 792.405 673.796 795.623 Q670.695 798.817 665.046 804.581 Z\" fill=\"#000000\" fill-rule=\"nonzero\" fill-opacity=\"1\" /><path clip-path=\"url(#clip050)\" d=\"M980.029 778.03 L968.224 796.479 L980.029 796.479 L980.029 778.03 M978.803 773.956 L984.682 773.956 L984.682 796.479 L989.613 796.479 L989.613 800.368 L984.682 800.368 L984.682 808.516 L980.029 808.516 L980.029 800.368 L964.428 800.368 L964.428 795.854 L978.803 773.956 Z\" fill=\"#000000\" fill-rule=\"nonzero\" fill-opacity=\"1\" /><path clip-path=\"url(#clip050)\" d=\"M1284.05 789.373 Q1280.9 789.373 1279.05 791.526 Q1277.22 793.679 1277.22 797.429 Q1277.22 801.155 1279.05 803.331 Q1280.9 805.484 1284.05 805.484 Q1287.2 805.484 1289.03 803.331 Q1290.88 801.155 1290.88 797.429 Q1290.88 793.679 1289.03 791.526 Q1287.2 789.373 1284.05 789.373 M1293.33 774.72 L1293.33 778.98 Q1291.58 778.146 1289.77 777.706 Q1287.99 777.267 1286.23 777.267 Q1281.6 777.267 1279.14 780.392 Q1276.71 783.517 1276.37 789.836 Q1277.73 787.822 1279.79 786.757 Q1281.85 785.669 1284.33 785.669 Q1289.54 785.669 1292.55 788.841 Q1295.58 791.989 1295.58 797.429 Q1295.58 802.753 1292.43 805.97 Q1289.28 809.188 1284.05 809.188 Q1278.06 809.188 1274.89 804.604 Q1271.71 799.998 1271.71 791.271 Q1271.71 783.077 1275.6 778.216 Q1279.49 773.331 1286.04 773.331 Q1287.8 773.331 1289.58 773.679 Q1291.39 774.026 1293.33 774.72 Z\" fill=\"#000000\" fill-rule=\"nonzero\" fill-opacity=\"1\" /><path clip-path=\"url(#clip050)\" d=\"M1590.27 792.104 Q1586.94 792.104 1585.02 793.887 Q1583.12 795.669 1583.12 798.794 Q1583.12 801.919 1585.02 803.702 Q1586.94 805.484 1590.27 805.484 Q1593.61 805.484 1595.53 803.702 Q1597.45 801.896 1597.45 798.794 Q1597.45 795.669 1595.53 793.887 Q1593.63 792.104 1590.27 792.104 M1585.6 790.114 Q1582.59 789.373 1580.9 787.313 Q1579.23 785.253 1579.23 782.29 Q1579.23 778.146 1582.17 775.739 Q1585.13 773.331 1590.27 773.331 Q1595.44 773.331 1598.38 775.739 Q1601.32 778.146 1601.32 782.29 Q1601.32 785.253 1599.63 787.313 Q1597.96 789.373 1594.97 790.114 Q1598.35 790.901 1600.23 793.192 Q1602.13 795.484 1602.13 798.794 Q1602.13 803.817 1599.05 806.503 Q1595.99 809.188 1590.27 809.188 Q1584.56 809.188 1581.48 806.503 Q1578.42 803.817 1578.42 798.794 Q1578.42 795.484 1580.32 793.192 Q1582.22 790.901 1585.6 790.114 M1583.88 782.73 Q1583.88 785.415 1585.55 786.919 Q1587.24 788.424 1590.27 788.424 Q1593.28 788.424 1594.97 786.919 Q1596.69 785.415 1596.69 782.73 Q1596.69 780.044 1594.97 778.54 Q1593.28 777.035 1590.27 777.035 Q1587.24 777.035 1585.55 778.54 Q1583.88 780.044 1583.88 782.73 Z\" fill=\"#000000\" fill-rule=\"nonzero\" fill-opacity=\"1\" /><path clip-path=\"url(#clip050)\" d=\"M1871.59 804.581 L1879.23 804.581 L1879.23 778.216 L1870.92 779.882 L1870.92 775.623 L1879.18 773.956 L1883.86 773.956 L1883.86 804.581 L1891.49 804.581 L1891.49 808.516 L1871.59 808.516 L1871.59 804.581 Z\" fill=\"#000000\" fill-rule=\"nonzero\" fill-opacity=\"1\" /><path clip-path=\"url(#clip050)\" d=\"M1910.94 777.035 Q1907.33 777.035 1905.5 780.6 Q1903.69 784.142 1903.69 791.271 Q1903.69 798.378 1905.5 801.942 Q1907.33 805.484 1910.94 805.484 Q1914.57 805.484 1916.38 801.942 Q1918.21 798.378 1918.21 791.271 Q1918.21 784.142 1916.38 780.6 Q1914.57 777.035 1910.94 777.035 M1910.94 773.331 Q1916.75 773.331 1919.8 777.938 Q1922.88 782.521 1922.88 791.271 Q1922.88 799.998 1919.8 804.604 Q1916.75 809.188 1910.94 809.188 Q1905.13 809.188 1902.05 804.604 Q1898.99 799.998 1898.99 791.271 Q1898.99 782.521 1902.05 777.938 Q1905.13 773.331 1910.94 773.331 Z\" fill=\"#000000\" fill-rule=\"nonzero\" fill-opacity=\"1\" /><path clip-path=\"url(#clip050)\" d=\"M2179.01 804.581 L2186.65 804.581 L2186.65 778.216 L2178.34 779.882 L2178.34 775.623 L2186.61 773.956 L2191.28 773.956 L2191.28 804.581 L2198.92 804.581 L2198.92 808.516 L2179.01 808.516 L2179.01 804.581 Z\" fill=\"#000000\" fill-rule=\"nonzero\" fill-opacity=\"1\" /><path clip-path=\"url(#clip050)\" d=\"M2212.39 804.581 L2228.71 804.581 L2228.71 808.516 L2206.77 808.516 L2206.77 804.581 Q2209.43 801.827 2214.01 797.197 Q2218.62 792.544 2219.8 791.202 Q2222.05 788.679 2222.92 786.942 Q2223.83 785.183 2223.83 783.493 Q2223.83 780.739 2221.88 779.003 Q2219.96 777.267 2216.86 777.267 Q2214.66 777.267 2212.21 778.03 Q2209.78 778.794 2207 780.345 L2207 775.623 Q2209.82 774.489 2212.28 773.91 Q2214.73 773.331 2216.77 773.331 Q2222.14 773.331 2225.33 776.017 Q2228.53 778.702 2228.53 783.193 Q2228.53 785.322 2227.72 787.243 Q2226.93 789.142 2224.82 791.734 Q2224.24 792.405 2221.14 795.623 Q2218.04 798.817 2212.39 804.581 Z\" fill=\"#000000\" fill-rule=\"nonzero\" fill-opacity=\"1\" /><polyline clip-path=\"url(#clip052)\" style=\"stroke:#000000; stroke-linecap:round; stroke-linejoin:round; stroke-width:2; stroke-opacity:0.1; fill:none\" points=\"148.057,1449.88 2352.76,1449.88 \"/>\n",
       "<polyline clip-path=\"url(#clip052)\" style=\"stroke:#000000; stroke-linecap:round; stroke-linejoin:round; stroke-width:2; stroke-opacity:0.1; fill:none\" points=\"148.057,1215.29 2352.76,1215.29 \"/>\n",
       "<polyline clip-path=\"url(#clip052)\" style=\"stroke:#000000; stroke-linecap:round; stroke-linejoin:round; stroke-width:2; stroke-opacity:0.1; fill:none\" points=\"148.057,980.704 2352.76,980.704 \"/>\n",
       "<polyline clip-path=\"url(#clip052)\" style=\"stroke:#000000; stroke-linecap:round; stroke-linejoin:round; stroke-width:2; stroke-opacity:0.1; fill:none\" points=\"148.057,511.529 2352.76,511.529 \"/>\n",
       "<polyline clip-path=\"url(#clip052)\" style=\"stroke:#000000; stroke-linecap:round; stroke-linejoin:round; stroke-width:2; stroke-opacity:0.1; fill:none\" points=\"148.057,276.941 2352.76,276.941 \"/>\n",
       "<polyline clip-path=\"url(#clip050)\" style=\"stroke:#000000; stroke-linecap:round; stroke-linejoin:round; stroke-width:4; stroke-opacity:1; fill:none\" points=\"363.767,1486.45 363.767,47.2441 \"/>\n",
       "<polyline clip-path=\"url(#clip050)\" style=\"stroke:#000000; stroke-linecap:round; stroke-linejoin:round; stroke-width:4; stroke-opacity:1; fill:none\" points=\"344.869,1449.88 382.665,1449.88 \"/>\n",
       "<polyline clip-path=\"url(#clip050)\" style=\"stroke:#000000; stroke-linecap:round; stroke-linejoin:round; stroke-width:4; stroke-opacity:1; fill:none\" points=\"344.869,1215.29 382.665,1215.29 \"/>\n",
       "<polyline clip-path=\"url(#clip050)\" style=\"stroke:#000000; stroke-linecap:round; stroke-linejoin:round; stroke-width:4; stroke-opacity:1; fill:none\" points=\"344.869,980.704 382.665,980.704 \"/>\n",
       "<polyline clip-path=\"url(#clip050)\" style=\"stroke:#000000; stroke-linecap:round; stroke-linejoin:round; stroke-width:4; stroke-opacity:1; fill:none\" points=\"344.869,511.529 382.665,511.529 \"/>\n",
       "<polyline clip-path=\"url(#clip050)\" style=\"stroke:#000000; stroke-linecap:round; stroke-linejoin:round; stroke-width:4; stroke-opacity:1; fill:none\" points=\"344.869,276.941 382.665,276.941 \"/>\n",
       "<path clip-path=\"url(#clip050)\" d=\"M266.703 1450.33 L296.378 1450.33 L296.378 1454.27 L266.703 1454.27 L266.703 1450.33 Z\" fill=\"#000000\" fill-rule=\"nonzero\" fill-opacity=\"1\" /><path clip-path=\"url(#clip050)\" d=\"M320.637 1448.53 Q323.994 1449.24 325.869 1451.51 Q327.767 1453.78 327.767 1457.11 Q327.767 1462.23 324.249 1465.03 Q320.73 1467.83 314.249 1467.83 Q312.073 1467.83 309.758 1467.39 Q307.466 1466.97 305.013 1466.12 L305.013 1461.6 Q306.957 1462.74 309.272 1463.32 Q311.587 1463.9 314.11 1463.9 Q318.508 1463.9 320.8 1462.16 Q323.114 1460.42 323.114 1457.11 Q323.114 1454.06 320.962 1452.35 Q318.832 1450.61 315.012 1450.61 L310.985 1450.61 L310.985 1446.77 L315.198 1446.77 Q318.647 1446.77 320.475 1445.4 Q322.304 1444.01 322.304 1441.42 Q322.304 1438.76 320.406 1437.35 Q318.531 1435.91 315.012 1435.91 Q313.091 1435.91 310.892 1436.33 Q308.693 1436.74 306.054 1437.62 L306.054 1433.46 Q308.716 1432.72 311.031 1432.35 Q313.369 1431.98 315.429 1431.98 Q320.753 1431.98 323.855 1434.41 Q326.957 1436.81 326.957 1440.93 Q326.957 1443.8 325.313 1445.79 Q323.67 1447.76 320.637 1448.53 Z\" fill=\"#000000\" fill-rule=\"nonzero\" fill-opacity=\"1\" /><path clip-path=\"url(#clip050)\" d=\"M267.652 1215.74 L297.327 1215.74 L297.327 1219.68 L267.652 1219.68 L267.652 1215.74 Z\" fill=\"#000000\" fill-rule=\"nonzero\" fill-opacity=\"1\" /><path clip-path=\"url(#clip050)\" d=\"M311.448 1228.64 L327.767 1228.64 L327.767 1232.57 L305.823 1232.57 L305.823 1228.64 Q308.485 1225.88 313.068 1221.25 Q317.675 1216.6 318.855 1215.26 Q321.1 1212.73 321.98 1211 Q322.883 1209.24 322.883 1207.55 Q322.883 1204.79 320.938 1203.06 Q319.017 1201.32 315.915 1201.32 Q313.716 1201.32 311.263 1202.09 Q308.832 1202.85 306.054 1204.4 L306.054 1199.68 Q308.878 1198.54 311.332 1197.97 Q313.786 1197.39 315.823 1197.39 Q321.193 1197.39 324.387 1200.07 Q327.582 1202.76 327.582 1207.25 Q327.582 1209.38 326.772 1211.3 Q325.985 1213.2 323.878 1215.79 Q323.299 1216.46 320.198 1219.68 Q317.096 1222.87 311.448 1228.64 Z\" fill=\"#000000\" fill-rule=\"nonzero\" fill-opacity=\"1\" /><path clip-path=\"url(#clip050)\" d=\"M267.281 981.156 L296.957 981.156 L296.957 985.091 L267.281 985.091 L267.281 981.156 Z\" fill=\"#000000\" fill-rule=\"nonzero\" fill-opacity=\"1\" /><path clip-path=\"url(#clip050)\" d=\"M307.86 994.049 L315.499 994.049 L315.499 967.684 L307.188 969.35 L307.188 965.091 L315.452 963.424 L320.128 963.424 L320.128 994.049 L327.767 994.049 L327.767 997.984 L307.86 997.984 L307.86 994.049 Z\" fill=\"#000000\" fill-rule=\"nonzero\" fill-opacity=\"1\" /><path clip-path=\"url(#clip050)\" d=\"M307.86 524.873 L315.499 524.873 L315.499 498.508 L307.188 500.174 L307.188 495.915 L315.452 494.249 L320.128 494.249 L320.128 524.873 L327.767 524.873 L327.767 528.809 L307.86 528.809 L307.86 524.873 Z\" fill=\"#000000\" fill-rule=\"nonzero\" fill-opacity=\"1\" /><path clip-path=\"url(#clip050)\" d=\"M311.448 290.286 L327.767 290.286 L327.767 294.221 L305.823 294.221 L305.823 290.286 Q308.485 287.531 313.068 282.901 Q317.675 278.249 318.855 276.906 Q321.1 274.383 321.98 272.647 Q322.883 270.887 322.883 269.198 Q322.883 266.443 320.938 264.707 Q319.017 262.971 315.915 262.971 Q313.716 262.971 311.263 263.735 Q308.832 264.499 306.054 266.05 L306.054 261.327 Q308.878 260.193 311.332 259.614 Q313.786 259.036 315.823 259.036 Q321.193 259.036 324.387 261.721 Q327.582 264.406 327.582 268.897 Q327.582 271.026 326.772 272.948 Q325.985 274.846 323.878 277.438 Q323.299 278.11 320.198 281.327 Q317.096 284.522 311.448 290.286 Z\" fill=\"#000000\" fill-rule=\"nonzero\" fill-opacity=\"1\" /><polyline clip-path=\"url(#clip052)\" style=\"stroke:#009af9; stroke-linecap:round; stroke-linejoin:round; stroke-width:4; stroke-opacity:1; fill:none\" points=\"363.9,746.116 364.488,746.116 365.076,746.116 365.664,746.116 366.84,746.116 368.015,746.116 377.421,746.116 386.827,746.117 396.232,746.194 405.638,747.21 415.044,750.991 424.45,758.295 432.402,766.366 440.354,774.79 448.307,782.262 456.259,787.773 464.211,790.693 472.164,790.741 480.116,787.922 488.069,782.442 490.228,780.537 492.388,778.469 494.547,776.246 496.707,773.878 501.026,768.739 505.346,763.129 513.984,750.802 522.623,737.509 539.9,710.387 557.177,686.046 565.141,676.744 573.105,669.04 581.068,663.158 589.032,659.278 596.996,657.536 604.96,658.031 612.924,660.819 620.888,665.92 629.426,673.942 637.965,684.545 646.503,697.628 655.041,713.054 663.579,730.65 672.117,750.214 680.656,771.515 689.194,794.301 708.978,851.27 728.763,911.04 738.655,940.759 748.548,969.711 758.44,997.413 768.332,1023.4 777.124,1044.68 785.915,1063.96 794.706,1080.95 803.497,1095.4 812.288,1107.09 821.079,1115.81 829.87,1121.39 838.661,1123.7 846.371,1122.95 854.08,1119.55 861.789,1113.48 869.498,1104.72 877.207,1093.29 884.916,1079.22 892.625,1062.58 900.334,1043.44 908.739,1019.82 917.144,993.497 925.549,964.638 933.953,933.446 942.358,900.145 950.763,864.98 959.168,828.215 967.573,790.13 984.483,710.721 1001.39,629.718 1018.3,549.767 1035.21,473.538 1044.56,433.949 1053.91,396.715 1063.26,362.236 1072.6,330.89 1077.28,316.503 1081.95,303.028 1086.63,290.503 1091.3,278.967 1095.97,268.452 1100.65,258.991 1105.32,250.613 1110,243.346 1114.44,237.484 1118.89,232.669 1123.34,228.915 1127.78,226.238 1132.23,224.649 1136.68,224.157 1141.13,224.77 1145.57,226.492 1150.02,229.325 1154.47,233.269 1158.91,238.321 1163.36,244.475 1167.81,251.725 1172.26,260.058 1176.7,269.464 1181.15,279.927 1185.77,291.907 1190.4,304.989 1195.02,319.147 1199.65,334.353 1204.27,350.577 1208.89,367.786 1213.52,385.945 1218.14,405.016 1227.39,445.729 1236.64,489.58 1245.89,536.187 1255.13,585.144 1270.7,671.656 1286.27,761.384 1301.84,852.016 1317.41,941.183 1326.92,993.885 1336.42,1044.64 1345.93,1092.93 1355.43,1138.27 1360.18,1159.7 1364.94,1180.21 1369.69,1199.76 1374.44,1218.3 1379.19,1235.78 1383.94,1252.15 1388.7,1267.37 1393.45,1281.4 1397.8,1293.17 1402.16,1303.88 1406.51,1313.51 1410.86,1322.03 1415.22,1329.42 1419.57,1335.67 1423.92,1340.75 1428.28,1344.66 1432.63,1347.38 1436.98,1348.9 1441.34,1349.22 1445.69,1348.32 1450.04,1346.22 1454.4,1342.91 1458.75,1338.4 1463.1,1332.68 1467.12,1326.34 1471.14,1318.99 1475.16,1310.64 1479.19,1301.31 1483.21,1291 1487.23,1279.73 1491.25,1267.52 1495.27,1254.39 1499.29,1240.36 1503.31,1225.45 1507.33,1209.67 1511.35,1193.07 1519.39,1157.48 1527.43,1118.89 1535.58,1077.02 1543.72,1032.61 1551.87,985.977 1560.02,937.436 1576.31,835.978 1592.6,731.044 1610.86,612.939 1629.11,498.334 1638.24,443.631 1647.37,391.323 1656.5,341.885 1665.63,295.768 1669.76,276.081 1673.9,257.201 1678.04,239.164 1682.17,222.002 1686.31,205.751 1690.45,190.441 1694.58,176.101 1698.72,162.76 1702.85,150.444 1706.99,139.178 1711.13,128.983 1715.26,119.88 1719.4,111.889 1723.53,105.025 1727.67,99.3036 1731.81,94.7372 1736.54,90.9405 1741.28,88.684 1746.01,87.9763 1750.75,88.8225 1755.48,91.2239 1760.22,95.1782 1764.96,100.679 1769.69,107.718 1774.43,116.28 1779.16,126.348 1783.9,137.903 1788.63,150.918 1793.37,165.368 1798.11,181.22 1802.84,198.439 1807.58,216.988 1811.96,235.312 1816.35,254.706 1820.73,275.131 1825.12,296.549 1829.5,318.917 1833.88,342.192 1838.27,366.328 1842.65,391.277 1851.42,443.418 1860.19,498.202 1868.96,555.193 1877.73,613.934 1895.02,733.048 1912.31,853.394 1920.96,912.843 1929.61,971.179 1938.25,1027.94 1946.9,1082.67 1951.09,1108.37 1955.29,1133.44 1959.49,1157.84 1963.69,1181.51 1972.08,1226.49 1980.47,1268.05 1984.67,1287.45 1988.87,1305.87 1993.07,1323.28 1997.26,1339.65 2001.46,1354.94 2005.66,1369.13 2009.85,1382.18 2014.05,1394.08 2018.35,1405.04 2022.66,1414.74 2026.96,1423.15 2031.26,1430.25 2035.56,1436.03 2039.87,1440.48 2044.17,1443.58 2048.47,1445.33 2052.77,1445.72 2057.08,1444.74 2061.38,1442.4 2065.68,1438.71 2069.98,1433.66 2074.29,1427.26 2078.59,1419.53 2082.89,1410.47 2087.61,1399.05 2092.32,1386.09 2097.03,1371.61 2101.75,1355.64 2106.46,1338.22 2111.18,1319.4 2115.89,1299.2 2120.6,1277.68 2125.32,1254.88 2130.03,1230.86 2134.75,1205.68 2139.46,1179.37 2144.17,1152.02 2148.89,1123.68 2153.6,1094.41 2158.32,1064.28 2165.16,1019.14 2172.01,972.545 2178.86,924.738 2185.71,875.948 2199.4,776.383 2213.1,675.806 2226.79,576.2 2240.49,479.539 2247.34,432.916 2254.19,387.744 2261.03,344.25 2267.88,302.65 2273.5,270.077 2279.12,239.031 2284.74,209.62 2290.36,181.942 \"/>\n",
       "<path clip-path=\"url(#clip050)\" d=\"M2006.37 198.898 L2279.27 198.898 L2279.27 95.2176 L2006.37 95.2176  Z\" fill=\"#ffffff\" fill-rule=\"evenodd\" fill-opacity=\"1\"/>\n",
       "<polyline clip-path=\"url(#clip050)\" style=\"stroke:#000000; stroke-linecap:round; stroke-linejoin:round; stroke-width:4; stroke-opacity:1; fill:none\" points=\"2006.37,198.898 2279.27,198.898 2279.27,95.2176 2006.37,95.2176 2006.37,198.898 \"/>\n",
       "<polyline clip-path=\"url(#clip050)\" style=\"stroke:#009af9; stroke-linecap:round; stroke-linejoin:round; stroke-width:4; stroke-opacity:1; fill:none\" points=\"2030.86,147.058 2177.84,147.058 \"/>\n",
       "<path clip-path=\"url(#clip050)\" d=\"M2216.18 166.745 Q2214.38 171.375 2212.66 172.787 Q2210.95 174.199 2208.08 174.199 L2204.68 174.199 L2204.68 170.634 L2207.18 170.634 Q2208.94 170.634 2209.91 169.8 Q2210.88 168.967 2212.06 165.865 L2212.83 163.921 L2202.34 138.412 L2206.85 138.412 L2214.95 158.689 L2223.06 138.412 L2227.57 138.412 L2216.18 166.745 Z\" fill=\"#000000\" fill-rule=\"nonzero\" fill-opacity=\"1\" /><path clip-path=\"url(#clip050)\" d=\"M2234.86 160.402 L2242.5 160.402 L2242.5 134.037 L2234.19 135.703 L2234.19 131.444 L2242.45 129.778 L2247.13 129.778 L2247.13 160.402 L2254.77 160.402 L2254.77 164.338 L2234.86 164.338 L2234.86 160.402 Z\" fill=\"#000000\" fill-rule=\"nonzero\" fill-opacity=\"1\" /></svg>\n"
      ]
     },
     "execution_count": 77,
     "metadata": {},
     "output_type": "execute_result"
    }
   ],
   "source": [
    "h(x)=x^(1/x)*log(x)*sin(x*pi/2)\n",
    "plot(h,-1,4pi,framestyle = :origin)"
   ]
  },
  {
   "cell_type": "code",
   "execution_count": 78,
   "metadata": {},
   "outputs": [
    {
     "data": {
      "text/plain": [
       "e (generic function with 1 method)"
      ]
     },
     "execution_count": 78,
     "metadata": {},
     "output_type": "execute_result"
    }
   ],
   "source": [
    "e(x)=exp(-x^2/2)"
   ]
  },
  {
   "cell_type": "code",
   "execution_count": 79,
   "metadata": {},
   "outputs": [
    {
     "data": {
      "image/png": "[encoded data removed]",
      "image/svg+xml": [
       "<?xml version=\"1.0\" encoding=\"utf-8\"?>\n",
       "<svg xmlns=\"http://www.w3.org/2000/svg\" xmlns:xlink=\"http://www.w3.org/1999/xlink\" width=\"600\" height=\"400\" viewBox=\"0 0 2400 1600\">\n",
       "<defs>\n",
       "  <clipPath id=\"clip090\">\n",
       "    <rect x=\"0\" y=\"0\" width=\"2400\" height=\"1600\"/>\n",
       "  </clipPath>\n",
       "</defs>\n",
       "<path clip-path=\"url(#clip090)\" d=\"M0 1600 L2400 1600 L2400 0 L0 0  Z\" fill=\"#ffffff\" fill-rule=\"evenodd\" fill-opacity=\"1\"/>\n",
       "<defs>\n",
       "  <clipPath id=\"clip091\">\n",
       "    <rect x=\"480\" y=\"0\" width=\"1681\" height=\"1600\"/>\n",
       "  </clipPath>\n",
       "</defs>\n",
       "<path clip-path=\"url(#clip090)\" d=\"M186.274 1486.45 L2352.76 1486.45 L2352.76 47.2441 L186.274 47.2441  Z\" fill=\"#ffffff\" fill-rule=\"evenodd\" fill-opacity=\"1\"/>\n",
       "<defs>\n",
       "  <clipPath id=\"clip092\">\n",
       "    <rect x=\"186\" y=\"47\" width=\"2167\" height=\"1440\"/>\n",
       "  </clipPath>\n",
       "</defs>\n",
       "<polyline clip-path=\"url(#clip092)\" style=\"stroke:#000000; stroke-linecap:round; stroke-linejoin:round; stroke-width:2; stroke-opacity:0.1; fill:none\" points=\"247.59,1486.45 247.59,47.2441 \"/>\n",
       "<polyline clip-path=\"url(#clip092)\" style=\"stroke:#000000; stroke-linecap:round; stroke-linejoin:round; stroke-width:2; stroke-opacity:0.1; fill:none\" points=\"588.231,1486.45 588.231,47.2441 \"/>\n",
       "<polyline clip-path=\"url(#clip092)\" style=\"stroke:#000000; stroke-linecap:round; stroke-linejoin:round; stroke-width:2; stroke-opacity:0.1; fill:none\" points=\"928.873,1486.45 928.873,47.2441 \"/>\n",
       "<polyline clip-path=\"url(#clip092)\" style=\"stroke:#000000; stroke-linecap:round; stroke-linejoin:round; stroke-width:2; stroke-opacity:0.1; fill:none\" points=\"1269.51,1486.45 1269.51,47.2441 \"/>\n",
       "<polyline clip-path=\"url(#clip092)\" style=\"stroke:#000000; stroke-linecap:round; stroke-linejoin:round; stroke-width:2; stroke-opacity:0.1; fill:none\" points=\"1610.16,1486.45 1610.16,47.2441 \"/>\n",
       "<polyline clip-path=\"url(#clip092)\" style=\"stroke:#000000; stroke-linecap:round; stroke-linejoin:round; stroke-width:2; stroke-opacity:0.1; fill:none\" points=\"1950.8,1486.45 1950.8,47.2441 \"/>\n",
       "<polyline clip-path=\"url(#clip092)\" style=\"stroke:#000000; stroke-linecap:round; stroke-linejoin:round; stroke-width:2; stroke-opacity:0.1; fill:none\" points=\"2291.44,1486.45 2291.44,47.2441 \"/>\n",
       "<polyline clip-path=\"url(#clip090)\" style=\"stroke:#000000; stroke-linecap:round; stroke-linejoin:round; stroke-width:4; stroke-opacity:1; fill:none\" points=\"186.274,1486.45 2352.76,1486.45 \"/>\n",
       "<polyline clip-path=\"url(#clip090)\" style=\"stroke:#000000; stroke-linecap:round; stroke-linejoin:round; stroke-width:4; stroke-opacity:1; fill:none\" points=\"247.59,1486.45 247.59,1467.55 \"/>\n",
       "<polyline clip-path=\"url(#clip090)\" style=\"stroke:#000000; stroke-linecap:round; stroke-linejoin:round; stroke-width:4; stroke-opacity:1; fill:none\" points=\"588.231,1486.45 588.231,1467.55 \"/>\n",
       "<polyline clip-path=\"url(#clip090)\" style=\"stroke:#000000; stroke-linecap:round; stroke-linejoin:round; stroke-width:4; stroke-opacity:1; fill:none\" points=\"928.873,1486.45 928.873,1467.55 \"/>\n",
       "<polyline clip-path=\"url(#clip090)\" style=\"stroke:#000000; stroke-linecap:round; stroke-linejoin:round; stroke-width:4; stroke-opacity:1; fill:none\" points=\"1269.51,1486.45 1269.51,1467.55 \"/>\n",
       "<polyline clip-path=\"url(#clip090)\" style=\"stroke:#000000; stroke-linecap:round; stroke-linejoin:round; stroke-width:4; stroke-opacity:1; fill:none\" points=\"1610.16,1486.45 1610.16,1467.55 \"/>\n",
       "<polyline clip-path=\"url(#clip090)\" style=\"stroke:#000000; stroke-linecap:round; stroke-linejoin:round; stroke-width:4; stroke-opacity:1; fill:none\" points=\"1950.8,1486.45 1950.8,1467.55 \"/>\n",
       "<polyline clip-path=\"url(#clip090)\" style=\"stroke:#000000; stroke-linecap:round; stroke-linejoin:round; stroke-width:4; stroke-opacity:1; fill:none\" points=\"2291.44,1486.45 2291.44,1467.55 \"/>\n",
       "<path clip-path=\"url(#clip090)\" d=\"M217.057 1532.02 L246.733 1532.02 L246.733 1535.95 L217.057 1535.95 L217.057 1532.02 Z\" fill=\"#000000\" fill-rule=\"nonzero\" fill-opacity=\"1\" /><path clip-path=\"url(#clip090)\" d=\"M270.992 1530.21 Q274.349 1530.93 276.224 1533.2 Q278.122 1535.47 278.122 1538.8 Q278.122 1543.92 274.603 1546.72 Q271.085 1549.52 264.603 1549.52 Q262.427 1549.52 260.113 1549.08 Q257.821 1548.66 255.367 1547.81 L255.367 1543.29 Q257.312 1544.43 259.626 1545.01 Q261.941 1545.58 264.464 1545.58 Q268.863 1545.58 271.154 1543.85 Q273.469 1542.11 273.469 1538.8 Q273.469 1535.75 271.316 1534.03 Q269.187 1532.3 265.367 1532.3 L261.339 1532.3 L261.339 1528.45 L265.552 1528.45 Q269.001 1528.45 270.83 1527.09 Q272.659 1525.7 272.659 1523.11 Q272.659 1520.45 270.761 1519.03 Q268.886 1517.6 265.367 1517.6 Q263.446 1517.6 261.247 1518.01 Q259.048 1518.43 256.409 1519.31 L256.409 1515.14 Q259.071 1514.4 261.386 1514.03 Q263.724 1513.66 265.784 1513.66 Q271.108 1513.66 274.21 1516.09 Q277.312 1518.5 277.312 1522.62 Q277.312 1525.49 275.668 1527.48 Q274.025 1529.45 270.992 1530.21 Z\" fill=\"#000000\" fill-rule=\"nonzero\" fill-opacity=\"1\" /><path clip-path=\"url(#clip090)\" d=\"M558.174 1532.02 L587.849 1532.02 L587.849 1535.95 L558.174 1535.95 L558.174 1532.02 Z\" fill=\"#000000\" fill-rule=\"nonzero\" fill-opacity=\"1\" /><path clip-path=\"url(#clip090)\" d=\"M601.97 1544.91 L618.289 1544.91 L618.289 1548.85 L596.345 1548.85 L596.345 1544.91 Q599.007 1542.16 603.59 1537.53 Q608.197 1532.88 609.377 1531.53 Q611.622 1529.01 612.502 1527.27 Q613.405 1525.51 613.405 1523.82 Q613.405 1521.07 611.46 1519.33 Q609.539 1517.6 606.437 1517.6 Q604.238 1517.6 601.785 1518.36 Q599.354 1519.13 596.576 1520.68 L596.576 1515.95 Q599.4 1514.82 601.854 1514.24 Q604.308 1513.66 606.345 1513.66 Q611.715 1513.66 614.909 1516.35 Q618.104 1519.03 618.104 1523.52 Q618.104 1525.65 617.294 1527.57 Q616.507 1529.47 614.4 1532.07 Q613.821 1532.74 610.72 1535.95 Q607.618 1539.15 601.97 1544.91 Z\" fill=\"#000000\" fill-rule=\"nonzero\" fill-opacity=\"1\" /><path clip-path=\"url(#clip090)\" d=\"M898.63 1532.02 L928.306 1532.02 L928.306 1535.95 L898.63 1535.95 L898.63 1532.02 Z\" fill=\"#000000\" fill-rule=\"nonzero\" fill-opacity=\"1\" /><path clip-path=\"url(#clip090)\" d=\"M939.209 1544.91 L946.848 1544.91 L946.848 1518.55 L938.537 1520.21 L938.537 1515.95 L946.801 1514.29 L951.477 1514.29 L951.477 1544.91 L959.116 1544.91 L959.116 1548.85 L939.209 1548.85 L939.209 1544.91 Z\" fill=\"#000000\" fill-rule=\"nonzero\" fill-opacity=\"1\" /><path clip-path=\"url(#clip090)\" d=\"M1269.51 1517.37 Q1265.9 1517.37 1264.08 1520.93 Q1262.27 1524.47 1262.27 1531.6 Q1262.27 1538.71 1264.08 1542.27 Q1265.9 1545.82 1269.51 1545.82 Q1273.15 1545.82 1274.95 1542.27 Q1276.78 1538.71 1276.78 1531.6 Q1276.78 1524.47 1274.95 1520.93 Q1273.15 1517.37 1269.51 1517.37 M1269.51 1513.66 Q1275.33 1513.66 1278.38 1518.27 Q1281.46 1522.85 1281.46 1531.6 Q1281.46 1540.33 1278.38 1544.94 Q1275.33 1549.52 1269.51 1549.52 Q1263.7 1549.52 1260.63 1544.94 Q1257.57 1540.33 1257.57 1531.6 Q1257.57 1522.85 1260.63 1518.27 Q1263.7 1513.66 1269.51 1513.66 Z\" fill=\"#000000\" fill-rule=\"nonzero\" fill-opacity=\"1\" /><path clip-path=\"url(#clip090)\" d=\"M1600.54 1544.91 L1608.18 1544.91 L1608.18 1518.55 L1599.87 1520.21 L1599.87 1515.95 L1608.13 1514.29 L1612.81 1514.29 L1612.81 1544.91 L1620.45 1544.91 L1620.45 1548.85 L1600.54 1548.85 L1600.54 1544.91 Z\" fill=\"#000000\" fill-rule=\"nonzero\" fill-opacity=\"1\" /><path clip-path=\"url(#clip090)\" d=\"M1945.45 1544.91 L1961.77 1544.91 L1961.77 1548.85 L1939.83 1548.85 L1939.83 1544.91 Q1942.49 1542.16 1947.07 1537.53 Q1951.68 1532.88 1952.86 1531.53 Q1955.1 1529.01 1955.98 1527.27 Q1956.89 1525.51 1956.89 1523.82 Q1956.89 1521.07 1954.94 1519.33 Q1953.02 1517.6 1949.92 1517.6 Q1947.72 1517.6 1945.27 1518.36 Q1942.84 1519.13 1940.06 1520.68 L1940.06 1515.95 Q1942.88 1514.82 1945.34 1514.24 Q1947.79 1513.66 1949.83 1513.66 Q1955.2 1513.66 1958.39 1516.35 Q1961.59 1519.03 1961.59 1523.52 Q1961.59 1525.65 1960.78 1527.57 Q1959.99 1529.47 1957.88 1532.07 Q1957.3 1532.74 1954.2 1535.95 Q1951.1 1539.15 1945.45 1544.91 Z\" fill=\"#000000\" fill-rule=\"nonzero\" fill-opacity=\"1\" /><path clip-path=\"url(#clip090)\" d=\"M2295.69 1530.21 Q2299.04 1530.93 2300.92 1533.2 Q2302.82 1535.47 2302.82 1538.8 Q2302.82 1543.92 2299.3 1546.72 Q2295.78 1549.52 2289.3 1549.52 Q2287.12 1549.52 2284.81 1549.08 Q2282.52 1548.66 2280.06 1547.81 L2280.06 1543.29 Q2282.01 1544.43 2284.32 1545.01 Q2286.64 1545.58 2289.16 1545.58 Q2293.56 1545.58 2295.85 1543.85 Q2298.16 1542.11 2298.16 1538.8 Q2298.16 1535.75 2296.01 1534.03 Q2293.88 1532.3 2290.06 1532.3 L2286.04 1532.3 L2286.04 1528.45 L2290.25 1528.45 Q2293.7 1528.45 2295.53 1527.09 Q2297.35 1525.7 2297.35 1523.11 Q2297.35 1520.45 2295.46 1519.03 Q2293.58 1517.6 2290.06 1517.6 Q2288.14 1517.6 2285.94 1518.01 Q2283.74 1518.43 2281.1 1519.31 L2281.1 1515.14 Q2283.77 1514.4 2286.08 1514.03 Q2288.42 1513.66 2290.48 1513.66 Q2295.8 1513.66 2298.91 1516.09 Q2302.01 1518.5 2302.01 1522.62 Q2302.01 1525.49 2300.36 1527.48 Q2298.72 1529.45 2295.69 1530.21 Z\" fill=\"#000000\" fill-rule=\"nonzero\" fill-opacity=\"1\" /><polyline clip-path=\"url(#clip092)\" style=\"stroke:#000000; stroke-linecap:round; stroke-linejoin:round; stroke-width:2; stroke-opacity:0.1; fill:none\" points=\"186.274,1460.97 2352.76,1460.97 \"/>\n",
       "<polyline clip-path=\"url(#clip092)\" style=\"stroke:#000000; stroke-linecap:round; stroke-linejoin:round; stroke-width:2; stroke-opacity:0.1; fill:none\" points=\"186.274,1117.72 2352.76,1117.72 \"/>\n",
       "<polyline clip-path=\"url(#clip092)\" style=\"stroke:#000000; stroke-linecap:round; stroke-linejoin:round; stroke-width:2; stroke-opacity:0.1; fill:none\" points=\"186.274,774.472 2352.76,774.472 \"/>\n",
       "<polyline clip-path=\"url(#clip092)\" style=\"stroke:#000000; stroke-linecap:round; stroke-linejoin:round; stroke-width:2; stroke-opacity:0.1; fill:none\" points=\"186.274,431.224 2352.76,431.224 \"/>\n",
       "<polyline clip-path=\"url(#clip092)\" style=\"stroke:#000000; stroke-linecap:round; stroke-linejoin:round; stroke-width:2; stroke-opacity:0.1; fill:none\" points=\"186.274,87.9763 2352.76,87.9763 \"/>\n",
       "<polyline clip-path=\"url(#clip090)\" style=\"stroke:#000000; stroke-linecap:round; stroke-linejoin:round; stroke-width:4; stroke-opacity:1; fill:none\" points=\"186.274,1486.45 186.274,47.2441 \"/>\n",
       "<polyline clip-path=\"url(#clip090)\" style=\"stroke:#000000; stroke-linecap:round; stroke-linejoin:round; stroke-width:4; stroke-opacity:1; fill:none\" points=\"186.274,1460.97 205.172,1460.97 \"/>\n",
       "<polyline clip-path=\"url(#clip090)\" style=\"stroke:#000000; stroke-linecap:round; stroke-linejoin:round; stroke-width:4; stroke-opacity:1; fill:none\" points=\"186.274,1117.72 205.172,1117.72 \"/>\n",
       "<polyline clip-path=\"url(#clip090)\" style=\"stroke:#000000; stroke-linecap:round; stroke-linejoin:round; stroke-width:4; stroke-opacity:1; fill:none\" points=\"186.274,774.472 205.172,774.472 \"/>\n",
       "<polyline clip-path=\"url(#clip090)\" style=\"stroke:#000000; stroke-linecap:round; stroke-linejoin:round; stroke-width:4; stroke-opacity:1; fill:none\" points=\"186.274,431.224 205.172,431.224 \"/>\n",
       "<polyline clip-path=\"url(#clip090)\" style=\"stroke:#000000; stroke-linecap:round; stroke-linejoin:round; stroke-width:4; stroke-opacity:1; fill:none\" points=\"186.274,87.9763 205.172,87.9763 \"/>\n",
       "<path clip-path=\"url(#clip090)\" d=\"M62.9365 1446.77 Q59.3254 1446.77 57.4967 1450.33 Q55.6912 1453.87 55.6912 1461 Q55.6912 1468.11 57.4967 1471.67 Q59.3254 1475.22 62.9365 1475.22 Q66.5707 1475.22 68.3763 1471.67 Q70.205 1468.11 70.205 1461 Q70.205 1453.87 68.3763 1450.33 Q66.5707 1446.77 62.9365 1446.77 M62.9365 1443.06 Q68.7467 1443.06 71.8022 1447.67 Q74.8809 1452.25 74.8809 1461 Q74.8809 1469.73 71.8022 1474.34 Q68.7467 1478.92 62.9365 1478.92 Q57.1264 1478.92 54.0477 1474.34 Q50.9921 1469.73 50.9921 1461 Q50.9921 1452.25 54.0477 1447.67 Q57.1264 1443.06 62.9365 1443.06 Z\" fill=\"#000000\" fill-rule=\"nonzero\" fill-opacity=\"1\" /><path clip-path=\"url(#clip090)\" d=\"M83.0984 1472.37 L87.9827 1472.37 L87.9827 1478.25 L83.0984 1478.25 L83.0984 1472.37 Z\" fill=\"#000000\" fill-rule=\"nonzero\" fill-opacity=\"1\" /><path clip-path=\"url(#clip090)\" d=\"M108.168 1446.77 Q104.557 1446.77 102.728 1450.33 Q100.922 1453.87 100.922 1461 Q100.922 1468.11 102.728 1471.67 Q104.557 1475.22 108.168 1475.22 Q111.802 1475.22 113.608 1471.67 Q115.436 1468.11 115.436 1461 Q115.436 1453.87 113.608 1450.33 Q111.802 1446.77 108.168 1446.77 M108.168 1443.06 Q113.978 1443.06 117.033 1447.67 Q120.112 1452.25 120.112 1461 Q120.112 1469.73 117.033 1474.34 Q113.978 1478.92 108.168 1478.92 Q102.358 1478.92 99.2789 1474.34 Q96.2234 1469.73 96.2234 1461 Q96.2234 1452.25 99.2789 1447.67 Q102.358 1443.06 108.168 1443.06 Z\" fill=\"#000000\" fill-rule=\"nonzero\" fill-opacity=\"1\" /><path clip-path=\"url(#clip090)\" d=\"M138.33 1446.77 Q134.719 1446.77 132.89 1450.33 Q131.084 1453.87 131.084 1461 Q131.084 1468.11 132.89 1471.67 Q134.719 1475.22 138.33 1475.22 Q141.964 1475.22 143.769 1471.67 Q145.598 1468.11 145.598 1461 Q145.598 1453.87 143.769 1450.33 Q141.964 1446.77 138.33 1446.77 M138.33 1443.06 Q144.14 1443.06 147.195 1447.67 Q150.274 1452.25 150.274 1461 Q150.274 1469.73 147.195 1474.34 Q144.14 1478.92 138.33 1478.92 Q132.519 1478.92 129.441 1474.34 Q126.385 1469.73 126.385 1461 Q126.385 1452.25 129.441 1447.67 Q132.519 1443.06 138.33 1443.06 Z\" fill=\"#000000\" fill-rule=\"nonzero\" fill-opacity=\"1\" /><path clip-path=\"url(#clip090)\" d=\"M63.9319 1103.52 Q60.3208 1103.52 58.4921 1107.08 Q56.6865 1110.63 56.6865 1117.75 Q56.6865 1124.86 58.4921 1128.43 Q60.3208 1131.97 63.9319 1131.97 Q67.5661 1131.97 69.3717 1128.43 Q71.2004 1124.86 71.2004 1117.75 Q71.2004 1110.63 69.3717 1107.08 Q67.5661 1103.52 63.9319 1103.52 M63.9319 1099.82 Q69.742 1099.82 72.7976 1104.42 Q75.8763 1109.01 75.8763 1117.75 Q75.8763 1126.48 72.7976 1131.09 Q69.742 1135.67 63.9319 1135.67 Q58.1217 1135.67 55.043 1131.09 Q51.9875 1126.48 51.9875 1117.75 Q51.9875 1109.01 55.043 1104.42 Q58.1217 1099.82 63.9319 1099.82 Z\" fill=\"#000000\" fill-rule=\"nonzero\" fill-opacity=\"1\" /><path clip-path=\"url(#clip090)\" d=\"M84.0938 1129.12 L88.978 1129.12 L88.978 1135 L84.0938 1135 L84.0938 1129.12 Z\" fill=\"#000000\" fill-rule=\"nonzero\" fill-opacity=\"1\" /><path clip-path=\"url(#clip090)\" d=\"M103.191 1131.07 L119.51 1131.07 L119.51 1135 L97.566 1135 L97.566 1131.07 Q100.228 1128.31 104.811 1123.68 Q109.418 1119.03 110.598 1117.69 Q112.844 1115.16 113.723 1113.43 Q114.626 1111.67 114.626 1109.98 Q114.626 1107.22 112.682 1105.49 Q110.76 1103.75 107.658 1103.75 Q105.459 1103.75 103.006 1104.51 Q100.575 1105.28 97.7974 1106.83 L97.7974 1102.11 Q100.621 1100.97 103.075 1100.39 Q105.529 1099.82 107.566 1099.82 Q112.936 1099.82 116.131 1102.5 Q119.325 1105.19 119.325 1109.68 Q119.325 1111.81 118.515 1113.73 Q117.728 1115.63 115.621 1118.22 Q115.043 1118.89 111.941 1122.11 Q108.839 1125.3 103.191 1131.07 Z\" fill=\"#000000\" fill-rule=\"nonzero\" fill-opacity=\"1\" /><path clip-path=\"url(#clip090)\" d=\"M129.371 1100.44 L147.728 1100.44 L147.728 1104.38 L133.654 1104.38 L133.654 1112.85 Q134.672 1112.5 135.691 1112.34 Q136.709 1112.15 137.728 1112.15 Q143.515 1112.15 146.894 1115.32 Q150.274 1118.5 150.274 1123.91 Q150.274 1129.49 146.802 1132.59 Q143.33 1135.67 137.01 1135.67 Q134.834 1135.67 132.566 1135.3 Q130.32 1134.93 127.913 1134.19 L127.913 1129.49 Q129.996 1130.63 132.219 1131.18 Q134.441 1131.74 136.918 1131.74 Q140.922 1131.74 143.26 1129.63 Q145.598 1127.52 145.598 1123.91 Q145.598 1120.3 143.26 1118.19 Q140.922 1116.09 136.918 1116.09 Q135.043 1116.09 133.168 1116.5 Q131.316 1116.92 129.371 1117.8 L129.371 1100.44 Z\" fill=\"#000000\" fill-rule=\"nonzero\" fill-opacity=\"1\" /><path clip-path=\"url(#clip090)\" d=\"M62.9365 760.271 Q59.3254 760.271 57.4967 763.836 Q55.6912 767.377 55.6912 774.507 Q55.6912 781.613 57.4967 785.178 Q59.3254 788.72 62.9365 788.72 Q66.5707 788.72 68.3763 785.178 Q70.205 781.613 70.205 774.507 Q70.205 767.377 68.3763 763.836 Q66.5707 760.271 62.9365 760.271 M62.9365 756.567 Q68.7467 756.567 71.8022 761.174 Q74.8809 765.757 74.8809 774.507 Q74.8809 783.234 71.8022 787.84 Q68.7467 792.424 62.9365 792.424 Q57.1264 792.424 54.0477 787.84 Q50.9921 783.234 50.9921 774.507 Q50.9921 765.757 54.0477 761.174 Q57.1264 756.567 62.9365 756.567 Z\" fill=\"#000000\" fill-rule=\"nonzero\" fill-opacity=\"1\" /><path clip-path=\"url(#clip090)\" d=\"M83.0984 785.873 L87.9827 785.873 L87.9827 791.752 L83.0984 791.752 L83.0984 785.873 Z\" fill=\"#000000\" fill-rule=\"nonzero\" fill-opacity=\"1\" /><path clip-path=\"url(#clip090)\" d=\"M98.2141 757.192 L116.57 757.192 L116.57 761.127 L102.496 761.127 L102.496 769.6 Q103.515 769.252 104.534 769.09 Q105.552 768.905 106.571 768.905 Q112.358 768.905 115.737 772.076 Q119.117 775.248 119.117 780.664 Q119.117 786.243 115.645 789.345 Q112.172 792.424 105.853 792.424 Q103.677 792.424 101.409 792.053 Q99.1632 791.683 96.7558 790.942 L96.7558 786.243 Q98.8391 787.377 101.061 787.933 Q103.284 788.488 105.76 788.488 Q109.765 788.488 112.103 786.382 Q114.441 784.275 114.441 780.664 Q114.441 777.053 112.103 774.947 Q109.765 772.84 105.76 772.84 Q103.885 772.84 102.01 773.257 Q100.159 773.674 98.2141 774.553 L98.2141 757.192 Z\" fill=\"#000000\" fill-rule=\"nonzero\" fill-opacity=\"1\" /><path clip-path=\"url(#clip090)\" d=\"M138.33 760.271 Q134.719 760.271 132.89 763.836 Q131.084 767.377 131.084 774.507 Q131.084 781.613 132.89 785.178 Q134.719 788.72 138.33 788.72 Q141.964 788.72 143.769 785.178 Q145.598 781.613 145.598 774.507 Q145.598 767.377 143.769 763.836 Q141.964 760.271 138.33 760.271 M138.33 756.567 Q144.14 756.567 147.195 761.174 Q150.274 765.757 150.274 774.507 Q150.274 783.234 147.195 787.84 Q144.14 792.424 138.33 792.424 Q132.519 792.424 129.441 787.84 Q126.385 783.234 126.385 774.507 Q126.385 765.757 129.441 761.174 Q132.519 756.567 138.33 756.567 Z\" fill=\"#000000\" fill-rule=\"nonzero\" fill-opacity=\"1\" /><path clip-path=\"url(#clip090)\" d=\"M63.9319 417.023 Q60.3208 417.023 58.4921 420.588 Q56.6865 424.129 56.6865 431.259 Q56.6865 438.365 58.4921 441.93 Q60.3208 445.472 63.9319 445.472 Q67.5661 445.472 69.3717 441.93 Q71.2004 438.365 71.2004 431.259 Q71.2004 424.129 69.3717 420.588 Q67.5661 417.023 63.9319 417.023 M63.9319 413.319 Q69.742 413.319 72.7976 417.926 Q75.8763 422.509 75.8763 431.259 Q75.8763 439.986 72.7976 444.592 Q69.742 449.176 63.9319 449.176 Q58.1217 449.176 55.043 444.592 Q51.9875 439.986 51.9875 431.259 Q51.9875 422.509 55.043 417.926 Q58.1217 413.319 63.9319 413.319 Z\" fill=\"#000000\" fill-rule=\"nonzero\" fill-opacity=\"1\" /><path clip-path=\"url(#clip090)\" d=\"M84.0938 442.625 L88.978 442.625 L88.978 448.504 L84.0938 448.504 L84.0938 442.625 Z\" fill=\"#000000\" fill-rule=\"nonzero\" fill-opacity=\"1\" /><path clip-path=\"url(#clip090)\" d=\"M97.9826 413.944 L120.205 413.944 L120.205 415.935 L107.658 448.504 L102.774 448.504 L114.58 417.879 L97.9826 417.879 L97.9826 413.944 Z\" fill=\"#000000\" fill-rule=\"nonzero\" fill-opacity=\"1\" /><path clip-path=\"url(#clip090)\" d=\"M129.371 413.944 L147.728 413.944 L147.728 417.879 L133.654 417.879 L133.654 426.352 Q134.672 426.004 135.691 425.842 Q136.709 425.657 137.728 425.657 Q143.515 425.657 146.894 428.828 Q150.274 432 150.274 437.416 Q150.274 442.995 146.802 446.097 Q143.33 449.176 137.01 449.176 Q134.834 449.176 132.566 448.805 Q130.32 448.435 127.913 447.694 L127.913 442.995 Q129.996 444.129 132.219 444.685 Q134.441 445.24 136.918 445.24 Q140.922 445.24 143.26 443.134 Q145.598 441.027 145.598 437.416 Q145.598 433.805 143.26 431.699 Q140.922 429.592 136.918 429.592 Q135.043 429.592 133.168 430.009 Q131.316 430.426 129.371 431.305 L129.371 413.944 Z\" fill=\"#000000\" fill-rule=\"nonzero\" fill-opacity=\"1\" /><path clip-path=\"url(#clip090)\" d=\"M53.7467 101.321 L61.3856 101.321 L61.3856 74.9555 L53.0754 76.6222 L53.0754 72.3629 L61.3393 70.6963 L66.0152 70.6963 L66.0152 101.321 L73.654 101.321 L73.654 105.256 L53.7467 105.256 L53.7467 101.321 Z\" fill=\"#000000\" fill-rule=\"nonzero\" fill-opacity=\"1\" /><path clip-path=\"url(#clip090)\" d=\"M83.0984 99.3767 L87.9827 99.3767 L87.9827 105.256 L83.0984 105.256 L83.0984 99.3767 Z\" fill=\"#000000\" fill-rule=\"nonzero\" fill-opacity=\"1\" /><path clip-path=\"url(#clip090)\" d=\"M108.168 73.775 Q104.557 73.775 102.728 77.3398 Q100.922 80.8814 100.922 88.011 Q100.922 95.1174 102.728 98.6822 Q104.557 102.224 108.168 102.224 Q111.802 102.224 113.608 98.6822 Q115.436 95.1174 115.436 88.011 Q115.436 80.8814 113.608 77.3398 Q111.802 73.775 108.168 73.775 M108.168 70.0713 Q113.978 70.0713 117.033 74.6777 Q120.112 79.261 120.112 88.011 Q120.112 96.7378 117.033 101.344 Q113.978 105.928 108.168 105.928 Q102.358 105.928 99.2789 101.344 Q96.2234 96.7378 96.2234 88.011 Q96.2234 79.261 99.2789 74.6777 Q102.358 70.0713 108.168 70.0713 Z\" fill=\"#000000\" fill-rule=\"nonzero\" fill-opacity=\"1\" /><path clip-path=\"url(#clip090)\" d=\"M138.33 73.775 Q134.719 73.775 132.89 77.3398 Q131.084 80.8814 131.084 88.011 Q131.084 95.1174 132.89 98.6822 Q134.719 102.224 138.33 102.224 Q141.964 102.224 143.769 98.6822 Q145.598 95.1174 145.598 88.011 Q145.598 80.8814 143.769 77.3398 Q141.964 73.775 138.33 73.775 M138.33 70.0713 Q144.14 70.0713 147.195 74.6777 Q150.274 79.261 150.274 88.011 Q150.274 96.7378 147.195 101.344 Q144.14 105.928 138.33 105.928 Q132.519 105.928 129.441 101.344 Q126.385 96.7378 126.385 88.011 Q126.385 79.261 129.441 74.6777 Q132.519 70.0713 138.33 70.0713 Z\" fill=\"#000000\" fill-rule=\"nonzero\" fill-opacity=\"1\" /><polyline clip-path=\"url(#clip092)\" style=\"stroke:#009af9; stroke-linecap:round; stroke-linejoin:round; stroke-width:4; stroke-opacity:1; fill:none\" points=\"247.59,1445.72 250.916,1445.26 254.243,1444.8 257.569,1444.32 260.896,1443.83 291.656,1438.67 322.415,1432.19 353.175,1424.13 383.935,1414.19 402.42,1407.18 420.905,1399.31 439.391,1390.48 457.876,1380.64 489.134,1361.42 520.392,1338.65 537.37,1324.65 554.347,1309.43 571.325,1292.92 588.302,1275.08 603.954,1257.4 619.606,1238.52 635.258,1218.39 650.909,1197 667.69,1172.65 684.47,1146.81 701.25,1119.49 718.031,1090.7 737.472,1055.51 756.914,1018.43 776.356,979.529 795.798,938.91 813.075,901.478 830.353,862.901 847.63,823.307 864.908,782.839 895.209,710.243 925.511,636.426 958.548,555.849 991.585,476.699 1008.2,437.953 1024.82,400.209 1041.43,363.686 1058.05,328.604 1076.42,291.752 1094.79,257.207 1113.17,225.241 1131.54,196.11 1149.02,171.244 1166.5,149.347 1183.98,130.586 1201.46,115.106 1210.55,108.395 1219.63,102.617 1228.72,97.7857 1237.81,93.9103 1246.9,90.9992 1255.99,89.0587 1265.07,88.093 1274.16,88.104 1289.46,90.328 1304.76,95.3062 1320.06,103.009 1335.36,113.389 1344.7,121.016 1354.04,129.6 1363.38,139.124 1372.72,149.566 1391.4,173.111 1410.08,200.031 1427.19,227.456 1444.3,257.326 1461.41,289.433 1478.52,323.557 1494.33,356.667 1510.13,391.119 1525.94,426.725 1541.74,463.295 1573.76,539.568 1605.77,617.494 1641.66,705.001 1677.54,790.906 1710.06,866.017 1742.57,937.5 1761.18,976.477 1779.8,1013.89 1798.41,1049.64 1817.03,1083.67 1834.26,1113.58 1851.5,1141.94 1868.73,1168.73 1885.97,1193.96 1902.96,1217.31 1919.95,1239.17 1936.94,1259.57 1953.93,1278.55 1970.43,1295.66 1986.93,1311.51 2003.43,1326.16 2019.92,1339.66 2036.83,1352.36 2053.75,1363.97 2070.66,1374.56 2087.57,1384.17 2106.1,1393.68 2124.63,1402.18 2143.16,1409.76 2161.69,1416.49 2188.6,1424.92 2215.52,1431.93 2242.44,1437.73 2269.35,1442.48 2274.87,1443.34 2280.4,1444.17 2285.92,1444.96 2291.44,1445.72 \"/>\n",
       "<circle clip-path=\"url(#clip092)\" cx=\"247.59\" cy=\"1445.72\" r=\"14.4\" fill=\"#e26f46\" fill-rule=\"evenodd\" fill-opacity=\"1\" stroke=\"#000000\" stroke-opacity=\"1\" stroke-width=\"3.2\"/>\n",
       "<circle clip-path=\"url(#clip092)\" cx=\"417.91\" cy=\"1400.64\" r=\"14.4\" fill=\"#e26f46\" fill-rule=\"evenodd\" fill-opacity=\"1\" stroke=\"#000000\" stroke-opacity=\"1\" stroke-width=\"3.2\"/>\n",
       "<circle clip-path=\"url(#clip092)\" cx=\"588.231\" cy=\"1275.15\" r=\"14.4\" fill=\"#e26f46\" fill-rule=\"evenodd\" fill-opacity=\"1\" stroke=\"#000000\" stroke-opacity=\"1\" stroke-width=\"3.2\"/>\n",
       "<circle clip-path=\"url(#clip092)\" cx=\"758.552\" cy=\"1015.22\" r=\"14.4\" fill=\"#e26f46\" fill-rule=\"evenodd\" fill-opacity=\"1\" stroke=\"#000000\" stroke-opacity=\"1\" stroke-width=\"3.2\"/>\n",
       "<circle clip-path=\"url(#clip092)\" cx=\"928.873\" cy=\"628.207\" r=\"14.4\" fill=\"#e26f46\" fill-rule=\"evenodd\" fill-opacity=\"1\" stroke=\"#000000\" stroke-opacity=\"1\" stroke-width=\"3.2\"/>\n",
       "<circle clip-path=\"url(#clip092)\" cx=\"1099.19\" cy=\"249.307\" r=\"14.4\" fill=\"#e26f46\" fill-rule=\"evenodd\" fill-opacity=\"1\" stroke=\"#000000\" stroke-opacity=\"1\" stroke-width=\"3.2\"/>\n",
       "<circle clip-path=\"url(#clip092)\" cx=\"1269.51\" cy=\"87.9763\" r=\"14.4\" fill=\"#e26f46\" fill-rule=\"evenodd\" fill-opacity=\"1\" stroke=\"#000000\" stroke-opacity=\"1\" stroke-width=\"3.2\"/>\n",
       "<circle clip-path=\"url(#clip092)\" cx=\"1439.84\" cy=\"249.307\" r=\"14.4\" fill=\"#e26f46\" fill-rule=\"evenodd\" fill-opacity=\"1\" stroke=\"#000000\" stroke-opacity=\"1\" stroke-width=\"3.2\"/>\n",
       "<circle clip-path=\"url(#clip092)\" cx=\"1610.16\" cy=\"628.207\" r=\"14.4\" fill=\"#e26f46\" fill-rule=\"evenodd\" fill-opacity=\"1\" stroke=\"#000000\" stroke-opacity=\"1\" stroke-width=\"3.2\"/>\n",
       "<circle clip-path=\"url(#clip092)\" cx=\"1780.48\" cy=\"1015.22\" r=\"14.4\" fill=\"#e26f46\" fill-rule=\"evenodd\" fill-opacity=\"1\" stroke=\"#000000\" stroke-opacity=\"1\" stroke-width=\"3.2\"/>\n",
       "<circle clip-path=\"url(#clip092)\" cx=\"1950.8\" cy=\"1275.15\" r=\"14.4\" fill=\"#e26f46\" fill-rule=\"evenodd\" fill-opacity=\"1\" stroke=\"#000000\" stroke-opacity=\"1\" stroke-width=\"3.2\"/>\n",
       "<circle clip-path=\"url(#clip092)\" cx=\"2121.12\" cy=\"1400.64\" r=\"14.4\" fill=\"#e26f46\" fill-rule=\"evenodd\" fill-opacity=\"1\" stroke=\"#000000\" stroke-opacity=\"1\" stroke-width=\"3.2\"/>\n",
       "<circle clip-path=\"url(#clip092)\" cx=\"2291.44\" cy=\"1445.72\" r=\"14.4\" fill=\"#e26f46\" fill-rule=\"evenodd\" fill-opacity=\"1\" stroke=\"#000000\" stroke-opacity=\"1\" stroke-width=\"3.2\"/>\n",
       "</svg>\n"
      ],
      "text/html": [
       "<?xml version=\"1.0\" encoding=\"utf-8\"?>\n",
       "<svg xmlns=\"http://www.w3.org/2000/svg\" xmlns:xlink=\"http://www.w3.org/1999/xlink\" width=\"600\" height=\"400\" viewBox=\"0 0 2400 1600\">\n",
       "<defs>\n",
       "  <clipPath id=\"clip140\">\n",
       "    <rect x=\"0\" y=\"0\" width=\"2400\" height=\"1600\"/>\n",
       "  </clipPath>\n",
       "</defs>\n",
       "<path clip-path=\"url(#clip140)\" d=\"M0 1600 L2400 1600 L2400 0 L0 0  Z\" fill=\"#ffffff\" fill-rule=\"evenodd\" fill-opacity=\"1\"/>\n",
       "<defs>\n",
       "  <clipPath id=\"clip141\">\n",
       "    <rect x=\"480\" y=\"0\" width=\"1681\" height=\"1600\"/>\n",
       "  </clipPath>\n",
       "</defs>\n",
       "<path clip-path=\"url(#clip140)\" d=\"M186.274 1486.45 L2352.76 1486.45 L2352.76 47.2441 L186.274 47.2441  Z\" fill=\"#ffffff\" fill-rule=\"evenodd\" fill-opacity=\"1\"/>\n",
       "<defs>\n",
       "  <clipPath id=\"clip142\">\n",
       "    <rect x=\"186\" y=\"47\" width=\"2167\" height=\"1440\"/>\n",
       "  </clipPath>\n",
       "</defs>\n",
       "<polyline clip-path=\"url(#clip142)\" style=\"stroke:#000000; stroke-linecap:round; stroke-linejoin:round; stroke-width:2; stroke-opacity:0.1; fill:none\" points=\"247.59,1486.45 247.59,47.2441 \"/>\n",
       "<polyline clip-path=\"url(#clip142)\" style=\"stroke:#000000; stroke-linecap:round; stroke-linejoin:round; stroke-width:2; stroke-opacity:0.1; fill:none\" points=\"588.231,1486.45 588.231,47.2441 \"/>\n",
       "<polyline clip-path=\"url(#clip142)\" style=\"stroke:#000000; stroke-linecap:round; stroke-linejoin:round; stroke-width:2; stroke-opacity:0.1; fill:none\" points=\"928.873,1486.45 928.873,47.2441 \"/>\n",
       "<polyline clip-path=\"url(#clip142)\" style=\"stroke:#000000; stroke-linecap:round; stroke-linejoin:round; stroke-width:2; stroke-opacity:0.1; fill:none\" points=\"1269.51,1486.45 1269.51,47.2441 \"/>\n",
       "<polyline clip-path=\"url(#clip142)\" style=\"stroke:#000000; stroke-linecap:round; stroke-linejoin:round; stroke-width:2; stroke-opacity:0.1; fill:none\" points=\"1610.16,1486.45 1610.16,47.2441 \"/>\n",
       "<polyline clip-path=\"url(#clip142)\" style=\"stroke:#000000; stroke-linecap:round; stroke-linejoin:round; stroke-width:2; stroke-opacity:0.1; fill:none\" points=\"1950.8,1486.45 1950.8,47.2441 \"/>\n",
       "<polyline clip-path=\"url(#clip142)\" style=\"stroke:#000000; stroke-linecap:round; stroke-linejoin:round; stroke-width:2; stroke-opacity:0.1; fill:none\" points=\"2291.44,1486.45 2291.44,47.2441 \"/>\n",
       "<polyline clip-path=\"url(#clip140)\" style=\"stroke:#000000; stroke-linecap:round; stroke-linejoin:round; stroke-width:4; stroke-opacity:1; fill:none\" points=\"186.274,1486.45 2352.76,1486.45 \"/>\n",
       "<polyline clip-path=\"url(#clip140)\" style=\"stroke:#000000; stroke-linecap:round; stroke-linejoin:round; stroke-width:4; stroke-opacity:1; fill:none\" points=\"247.59,1486.45 247.59,1467.55 \"/>\n",
       "<polyline clip-path=\"url(#clip140)\" style=\"stroke:#000000; stroke-linecap:round; stroke-linejoin:round; stroke-width:4; stroke-opacity:1; fill:none\" points=\"588.231,1486.45 588.231,1467.55 \"/>\n",
       "<polyline clip-path=\"url(#clip140)\" style=\"stroke:#000000; stroke-linecap:round; stroke-linejoin:round; stroke-width:4; stroke-opacity:1; fill:none\" points=\"928.873,1486.45 928.873,1467.55 \"/>\n",
       "<polyline clip-path=\"url(#clip140)\" style=\"stroke:#000000; stroke-linecap:round; stroke-linejoin:round; stroke-width:4; stroke-opacity:1; fill:none\" points=\"1269.51,1486.45 1269.51,1467.55 \"/>\n",
       "<polyline clip-path=\"url(#clip140)\" style=\"stroke:#000000; stroke-linecap:round; stroke-linejoin:round; stroke-width:4; stroke-opacity:1; fill:none\" points=\"1610.16,1486.45 1610.16,1467.55 \"/>\n",
       "<polyline clip-path=\"url(#clip140)\" style=\"stroke:#000000; stroke-linecap:round; stroke-linejoin:round; stroke-width:4; stroke-opacity:1; fill:none\" points=\"1950.8,1486.45 1950.8,1467.55 \"/>\n",
       "<polyline clip-path=\"url(#clip140)\" style=\"stroke:#000000; stroke-linecap:round; stroke-linejoin:round; stroke-width:4; stroke-opacity:1; fill:none\" points=\"2291.44,1486.45 2291.44,1467.55 \"/>\n",
       "<path clip-path=\"url(#clip140)\" d=\"M217.057 1532.02 L246.733 1532.02 L246.733 1535.95 L217.057 1535.95 L217.057 1532.02 Z\" fill=\"#000000\" fill-rule=\"nonzero\" fill-opacity=\"1\" /><path clip-path=\"url(#clip140)\" d=\"M270.992 1530.21 Q274.349 1530.93 276.224 1533.2 Q278.122 1535.47 278.122 1538.8 Q278.122 1543.92 274.603 1546.72 Q271.085 1549.52 264.603 1549.52 Q262.427 1549.52 260.113 1549.08 Q257.821 1548.66 255.367 1547.81 L255.367 1543.29 Q257.312 1544.43 259.626 1545.01 Q261.941 1545.58 264.464 1545.58 Q268.863 1545.58 271.154 1543.85 Q273.469 1542.11 273.469 1538.8 Q273.469 1535.75 271.316 1534.03 Q269.187 1532.3 265.367 1532.3 L261.339 1532.3 L261.339 1528.45 L265.552 1528.45 Q269.001 1528.45 270.83 1527.09 Q272.659 1525.7 272.659 1523.11 Q272.659 1520.45 270.761 1519.03 Q268.886 1517.6 265.367 1517.6 Q263.446 1517.6 261.247 1518.01 Q259.048 1518.43 256.409 1519.31 L256.409 1515.14 Q259.071 1514.4 261.386 1514.03 Q263.724 1513.66 265.784 1513.66 Q271.108 1513.66 274.21 1516.09 Q277.312 1518.5 277.312 1522.62 Q277.312 1525.49 275.668 1527.48 Q274.025 1529.45 270.992 1530.21 Z\" fill=\"#000000\" fill-rule=\"nonzero\" fill-opacity=\"1\" /><path clip-path=\"url(#clip140)\" d=\"M558.174 1532.02 L587.849 1532.02 L587.849 1535.95 L558.174 1535.95 L558.174 1532.02 Z\" fill=\"#000000\" fill-rule=\"nonzero\" fill-opacity=\"1\" /><path clip-path=\"url(#clip140)\" d=\"M601.97 1544.91 L618.289 1544.91 L618.289 1548.85 L596.345 1548.85 L596.345 1544.91 Q599.007 1542.16 603.59 1537.53 Q608.197 1532.88 609.377 1531.53 Q611.622 1529.01 612.502 1527.27 Q613.405 1525.51 613.405 1523.82 Q613.405 1521.07 611.46 1519.33 Q609.539 1517.6 606.437 1517.6 Q604.238 1517.6 601.785 1518.36 Q599.354 1519.13 596.576 1520.68 L596.576 1515.95 Q599.4 1514.82 601.854 1514.24 Q604.308 1513.66 606.345 1513.66 Q611.715 1513.66 614.909 1516.35 Q618.104 1519.03 618.104 1523.52 Q618.104 1525.65 617.294 1527.57 Q616.507 1529.47 614.4 1532.07 Q613.821 1532.74 610.72 1535.95 Q607.618 1539.15 601.97 1544.91 Z\" fill=\"#000000\" fill-rule=\"nonzero\" fill-opacity=\"1\" /><path clip-path=\"url(#clip140)\" d=\"M898.63 1532.02 L928.306 1532.02 L928.306 1535.95 L898.63 1535.95 L898.63 1532.02 Z\" fill=\"#000000\" fill-rule=\"nonzero\" fill-opacity=\"1\" /><path clip-path=\"url(#clip140)\" d=\"M939.209 1544.91 L946.848 1544.91 L946.848 1518.55 L938.537 1520.21 L938.537 1515.95 L946.801 1514.29 L951.477 1514.29 L951.477 1544.91 L959.116 1544.91 L959.116 1548.85 L939.209 1548.85 L939.209 1544.91 Z\" fill=\"#000000\" fill-rule=\"nonzero\" fill-opacity=\"1\" /><path clip-path=\"url(#clip140)\" d=\"M1269.51 1517.37 Q1265.9 1517.37 1264.08 1520.93 Q1262.27 1524.47 1262.27 1531.6 Q1262.27 1538.71 1264.08 1542.27 Q1265.9 1545.82 1269.51 1545.82 Q1273.15 1545.82 1274.95 1542.27 Q1276.78 1538.71 1276.78 1531.6 Q1276.78 1524.47 1274.95 1520.93 Q1273.15 1517.37 1269.51 1517.37 M1269.51 1513.66 Q1275.33 1513.66 1278.38 1518.27 Q1281.46 1522.85 1281.46 1531.6 Q1281.46 1540.33 1278.38 1544.94 Q1275.33 1549.52 1269.51 1549.52 Q1263.7 1549.52 1260.63 1544.94 Q1257.57 1540.33 1257.57 1531.6 Q1257.57 1522.85 1260.63 1518.27 Q1263.7 1513.66 1269.51 1513.66 Z\" fill=\"#000000\" fill-rule=\"nonzero\" fill-opacity=\"1\" /><path clip-path=\"url(#clip140)\" d=\"M1600.54 1544.91 L1608.18 1544.91 L1608.18 1518.55 L1599.87 1520.21 L1599.87 1515.95 L1608.13 1514.29 L1612.81 1514.29 L1612.81 1544.91 L1620.45 1544.91 L1620.45 1548.85 L1600.54 1548.85 L1600.54 1544.91 Z\" fill=\"#000000\" fill-rule=\"nonzero\" fill-opacity=\"1\" /><path clip-path=\"url(#clip140)\" d=\"M1945.45 1544.91 L1961.77 1544.91 L1961.77 1548.85 L1939.83 1548.85 L1939.83 1544.91 Q1942.49 1542.16 1947.07 1537.53 Q1951.68 1532.88 1952.86 1531.53 Q1955.1 1529.01 1955.98 1527.27 Q1956.89 1525.51 1956.89 1523.82 Q1956.89 1521.07 1954.94 1519.33 Q1953.02 1517.6 1949.92 1517.6 Q1947.72 1517.6 1945.27 1518.36 Q1942.84 1519.13 1940.06 1520.68 L1940.06 1515.95 Q1942.88 1514.82 1945.34 1514.24 Q1947.79 1513.66 1949.83 1513.66 Q1955.2 1513.66 1958.39 1516.35 Q1961.59 1519.03 1961.59 1523.52 Q1961.59 1525.65 1960.78 1527.57 Q1959.99 1529.47 1957.88 1532.07 Q1957.3 1532.74 1954.2 1535.95 Q1951.1 1539.15 1945.45 1544.91 Z\" fill=\"#000000\" fill-rule=\"nonzero\" fill-opacity=\"1\" /><path clip-path=\"url(#clip140)\" d=\"M2295.69 1530.21 Q2299.04 1530.93 2300.92 1533.2 Q2302.82 1535.47 2302.82 1538.8 Q2302.82 1543.92 2299.3 1546.72 Q2295.78 1549.52 2289.3 1549.52 Q2287.12 1549.52 2284.81 1549.08 Q2282.52 1548.66 2280.06 1547.81 L2280.06 1543.29 Q2282.01 1544.43 2284.32 1545.01 Q2286.64 1545.58 2289.16 1545.58 Q2293.56 1545.58 2295.85 1543.85 Q2298.16 1542.11 2298.16 1538.8 Q2298.16 1535.75 2296.01 1534.03 Q2293.88 1532.3 2290.06 1532.3 L2286.04 1532.3 L2286.04 1528.45 L2290.25 1528.45 Q2293.7 1528.45 2295.53 1527.09 Q2297.35 1525.7 2297.35 1523.11 Q2297.35 1520.45 2295.46 1519.03 Q2293.58 1517.6 2290.06 1517.6 Q2288.14 1517.6 2285.94 1518.01 Q2283.74 1518.43 2281.1 1519.31 L2281.1 1515.14 Q2283.77 1514.4 2286.08 1514.03 Q2288.42 1513.66 2290.48 1513.66 Q2295.8 1513.66 2298.91 1516.09 Q2302.01 1518.5 2302.01 1522.62 Q2302.01 1525.49 2300.36 1527.48 Q2298.72 1529.45 2295.69 1530.21 Z\" fill=\"#000000\" fill-rule=\"nonzero\" fill-opacity=\"1\" /><polyline clip-path=\"url(#clip142)\" style=\"stroke:#000000; stroke-linecap:round; stroke-linejoin:round; stroke-width:2; stroke-opacity:0.1; fill:none\" points=\"186.274,1460.97 2352.76,1460.97 \"/>\n",
       "<polyline clip-path=\"url(#clip142)\" style=\"stroke:#000000; stroke-linecap:round; stroke-linejoin:round; stroke-width:2; stroke-opacity:0.1; fill:none\" points=\"186.274,1117.72 2352.76,1117.72 \"/>\n",
       "<polyline clip-path=\"url(#clip142)\" style=\"stroke:#000000; stroke-linecap:round; stroke-linejoin:round; stroke-width:2; stroke-opacity:0.1; fill:none\" points=\"186.274,774.472 2352.76,774.472 \"/>\n",
       "<polyline clip-path=\"url(#clip142)\" style=\"stroke:#000000; stroke-linecap:round; stroke-linejoin:round; stroke-width:2; stroke-opacity:0.1; fill:none\" points=\"186.274,431.224 2352.76,431.224 \"/>\n",
       "<polyline clip-path=\"url(#clip142)\" style=\"stroke:#000000; stroke-linecap:round; stroke-linejoin:round; stroke-width:2; stroke-opacity:0.1; fill:none\" points=\"186.274,87.9763 2352.76,87.9763 \"/>\n",
       "<polyline clip-path=\"url(#clip140)\" style=\"stroke:#000000; stroke-linecap:round; stroke-linejoin:round; stroke-width:4; stroke-opacity:1; fill:none\" points=\"186.274,1486.45 186.274,47.2441 \"/>\n",
       "<polyline clip-path=\"url(#clip140)\" style=\"stroke:#000000; stroke-linecap:round; stroke-linejoin:round; stroke-width:4; stroke-opacity:1; fill:none\" points=\"186.274,1460.97 205.172,1460.97 \"/>\n",
       "<polyline clip-path=\"url(#clip140)\" style=\"stroke:#000000; stroke-linecap:round; stroke-linejoin:round; stroke-width:4; stroke-opacity:1; fill:none\" points=\"186.274,1117.72 205.172,1117.72 \"/>\n",
       "<polyline clip-path=\"url(#clip140)\" style=\"stroke:#000000; stroke-linecap:round; stroke-linejoin:round; stroke-width:4; stroke-opacity:1; fill:none\" points=\"186.274,774.472 205.172,774.472 \"/>\n",
       "<polyline clip-path=\"url(#clip140)\" style=\"stroke:#000000; stroke-linecap:round; stroke-linejoin:round; stroke-width:4; stroke-opacity:1; fill:none\" points=\"186.274,431.224 205.172,431.224 \"/>\n",
       "<polyline clip-path=\"url(#clip140)\" style=\"stroke:#000000; stroke-linecap:round; stroke-linejoin:round; stroke-width:4; stroke-opacity:1; fill:none\" points=\"186.274,87.9763 205.172,87.9763 \"/>\n",
       "<path clip-path=\"url(#clip140)\" d=\"M62.9365 1446.77 Q59.3254 1446.77 57.4967 1450.33 Q55.6912 1453.87 55.6912 1461 Q55.6912 1468.11 57.4967 1471.67 Q59.3254 1475.22 62.9365 1475.22 Q66.5707 1475.22 68.3763 1471.67 Q70.205 1468.11 70.205 1461 Q70.205 1453.87 68.3763 1450.33 Q66.5707 1446.77 62.9365 1446.77 M62.9365 1443.06 Q68.7467 1443.06 71.8022 1447.67 Q74.8809 1452.25 74.8809 1461 Q74.8809 1469.73 71.8022 1474.34 Q68.7467 1478.92 62.9365 1478.92 Q57.1264 1478.92 54.0477 1474.34 Q50.9921 1469.73 50.9921 1461 Q50.9921 1452.25 54.0477 1447.67 Q57.1264 1443.06 62.9365 1443.06 Z\" fill=\"#000000\" fill-rule=\"nonzero\" fill-opacity=\"1\" /><path clip-path=\"url(#clip140)\" d=\"M83.0984 1472.37 L87.9827 1472.37 L87.9827 1478.25 L83.0984 1478.25 L83.0984 1472.37 Z\" fill=\"#000000\" fill-rule=\"nonzero\" fill-opacity=\"1\" /><path clip-path=\"url(#clip140)\" d=\"M108.168 1446.77 Q104.557 1446.77 102.728 1450.33 Q100.922 1453.87 100.922 1461 Q100.922 1468.11 102.728 1471.67 Q104.557 1475.22 108.168 1475.22 Q111.802 1475.22 113.608 1471.67 Q115.436 1468.11 115.436 1461 Q115.436 1453.87 113.608 1450.33 Q111.802 1446.77 108.168 1446.77 M108.168 1443.06 Q113.978 1443.06 117.033 1447.67 Q120.112 1452.25 120.112 1461 Q120.112 1469.73 117.033 1474.34 Q113.978 1478.92 108.168 1478.92 Q102.358 1478.92 99.2789 1474.34 Q96.2234 1469.73 96.2234 1461 Q96.2234 1452.25 99.2789 1447.67 Q102.358 1443.06 108.168 1443.06 Z\" fill=\"#000000\" fill-rule=\"nonzero\" fill-opacity=\"1\" /><path clip-path=\"url(#clip140)\" d=\"M138.33 1446.77 Q134.719 1446.77 132.89 1450.33 Q131.084 1453.87 131.084 1461 Q131.084 1468.11 132.89 1471.67 Q134.719 1475.22 138.33 1475.22 Q141.964 1475.22 143.769 1471.67 Q145.598 1468.11 145.598 1461 Q145.598 1453.87 143.769 1450.33 Q141.964 1446.77 138.33 1446.77 M138.33 1443.06 Q144.14 1443.06 147.195 1447.67 Q150.274 1452.25 150.274 1461 Q150.274 1469.73 147.195 1474.34 Q144.14 1478.92 138.33 1478.92 Q132.519 1478.92 129.441 1474.34 Q126.385 1469.73 126.385 1461 Q126.385 1452.25 129.441 1447.67 Q132.519 1443.06 138.33 1443.06 Z\" fill=\"#000000\" fill-rule=\"nonzero\" fill-opacity=\"1\" /><path clip-path=\"url(#clip140)\" d=\"M63.9319 1103.52 Q60.3208 1103.52 58.4921 1107.08 Q56.6865 1110.63 56.6865 1117.75 Q56.6865 1124.86 58.4921 1128.43 Q60.3208 1131.97 63.9319 1131.97 Q67.5661 1131.97 69.3717 1128.43 Q71.2004 1124.86 71.2004 1117.75 Q71.2004 1110.63 69.3717 1107.08 Q67.5661 1103.52 63.9319 1103.52 M63.9319 1099.82 Q69.742 1099.82 72.7976 1104.42 Q75.8763 1109.01 75.8763 1117.75 Q75.8763 1126.48 72.7976 1131.09 Q69.742 1135.67 63.9319 1135.67 Q58.1217 1135.67 55.043 1131.09 Q51.9875 1126.48 51.9875 1117.75 Q51.9875 1109.01 55.043 1104.42 Q58.1217 1099.82 63.9319 1099.82 Z\" fill=\"#000000\" fill-rule=\"nonzero\" fill-opacity=\"1\" /><path clip-path=\"url(#clip140)\" d=\"M84.0938 1129.12 L88.978 1129.12 L88.978 1135 L84.0938 1135 L84.0938 1129.12 Z\" fill=\"#000000\" fill-rule=\"nonzero\" fill-opacity=\"1\" /><path clip-path=\"url(#clip140)\" d=\"M103.191 1131.07 L119.51 1131.07 L119.51 1135 L97.566 1135 L97.566 1131.07 Q100.228 1128.31 104.811 1123.68 Q109.418 1119.03 110.598 1117.69 Q112.844 1115.16 113.723 1113.43 Q114.626 1111.67 114.626 1109.98 Q114.626 1107.22 112.682 1105.49 Q110.76 1103.75 107.658 1103.75 Q105.459 1103.75 103.006 1104.51 Q100.575 1105.28 97.7974 1106.83 L97.7974 1102.11 Q100.621 1100.97 103.075 1100.39 Q105.529 1099.82 107.566 1099.82 Q112.936 1099.82 116.131 1102.5 Q119.325 1105.19 119.325 1109.68 Q119.325 1111.81 118.515 1113.73 Q117.728 1115.63 115.621 1118.22 Q115.043 1118.89 111.941 1122.11 Q108.839 1125.3 103.191 1131.07 Z\" fill=\"#000000\" fill-rule=\"nonzero\" fill-opacity=\"1\" /><path clip-path=\"url(#clip140)\" d=\"M129.371 1100.44 L147.728 1100.44 L147.728 1104.38 L133.654 1104.38 L133.654 1112.85 Q134.672 1112.5 135.691 1112.34 Q136.709 1112.15 137.728 1112.15 Q143.515 1112.15 146.894 1115.32 Q150.274 1118.5 150.274 1123.91 Q150.274 1129.49 146.802 1132.59 Q143.33 1135.67 137.01 1135.67 Q134.834 1135.67 132.566 1135.3 Q130.32 1134.93 127.913 1134.19 L127.913 1129.49 Q129.996 1130.63 132.219 1131.18 Q134.441 1131.74 136.918 1131.74 Q140.922 1131.74 143.26 1129.63 Q145.598 1127.52 145.598 1123.91 Q145.598 1120.3 143.26 1118.19 Q140.922 1116.09 136.918 1116.09 Q135.043 1116.09 133.168 1116.5 Q131.316 1116.92 129.371 1117.8 L129.371 1100.44 Z\" fill=\"#000000\" fill-rule=\"nonzero\" fill-opacity=\"1\" /><path clip-path=\"url(#clip140)\" d=\"M62.9365 760.271 Q59.3254 760.271 57.4967 763.836 Q55.6912 767.377 55.6912 774.507 Q55.6912 781.613 57.4967 785.178 Q59.3254 788.72 62.9365 788.72 Q66.5707 788.72 68.3763 785.178 Q70.205 781.613 70.205 774.507 Q70.205 767.377 68.3763 763.836 Q66.5707 760.271 62.9365 760.271 M62.9365 756.567 Q68.7467 756.567 71.8022 761.174 Q74.8809 765.757 74.8809 774.507 Q74.8809 783.234 71.8022 787.84 Q68.7467 792.424 62.9365 792.424 Q57.1264 792.424 54.0477 787.84 Q50.9921 783.234 50.9921 774.507 Q50.9921 765.757 54.0477 761.174 Q57.1264 756.567 62.9365 756.567 Z\" fill=\"#000000\" fill-rule=\"nonzero\" fill-opacity=\"1\" /><path clip-path=\"url(#clip140)\" d=\"M83.0984 785.873 L87.9827 785.873 L87.9827 791.752 L83.0984 791.752 L83.0984 785.873 Z\" fill=\"#000000\" fill-rule=\"nonzero\" fill-opacity=\"1\" /><path clip-path=\"url(#clip140)\" d=\"M98.2141 757.192 L116.57 757.192 L116.57 761.127 L102.496 761.127 L102.496 769.6 Q103.515 769.252 104.534 769.09 Q105.552 768.905 106.571 768.905 Q112.358 768.905 115.737 772.076 Q119.117 775.248 119.117 780.664 Q119.117 786.243 115.645 789.345 Q112.172 792.424 105.853 792.424 Q103.677 792.424 101.409 792.053 Q99.1632 791.683 96.7558 790.942 L96.7558 786.243 Q98.8391 787.377 101.061 787.933 Q103.284 788.488 105.76 788.488 Q109.765 788.488 112.103 786.382 Q114.441 784.275 114.441 780.664 Q114.441 777.053 112.103 774.947 Q109.765 772.84 105.76 772.84 Q103.885 772.84 102.01 773.257 Q100.159 773.674 98.2141 774.553 L98.2141 757.192 Z\" fill=\"#000000\" fill-rule=\"nonzero\" fill-opacity=\"1\" /><path clip-path=\"url(#clip140)\" d=\"M138.33 760.271 Q134.719 760.271 132.89 763.836 Q131.084 767.377 131.084 774.507 Q131.084 781.613 132.89 785.178 Q134.719 788.72 138.33 788.72 Q141.964 788.72 143.769 785.178 Q145.598 781.613 145.598 774.507 Q145.598 767.377 143.769 763.836 Q141.964 760.271 138.33 760.271 M138.33 756.567 Q144.14 756.567 147.195 761.174 Q150.274 765.757 150.274 774.507 Q150.274 783.234 147.195 787.84 Q144.14 792.424 138.33 792.424 Q132.519 792.424 129.441 787.84 Q126.385 783.234 126.385 774.507 Q126.385 765.757 129.441 761.174 Q132.519 756.567 138.33 756.567 Z\" fill=\"#000000\" fill-rule=\"nonzero\" fill-opacity=\"1\" /><path clip-path=\"url(#clip140)\" d=\"M63.9319 417.023 Q60.3208 417.023 58.4921 420.588 Q56.6865 424.129 56.6865 431.259 Q56.6865 438.365 58.4921 441.93 Q60.3208 445.472 63.9319 445.472 Q67.5661 445.472 69.3717 441.93 Q71.2004 438.365 71.2004 431.259 Q71.2004 424.129 69.3717 420.588 Q67.5661 417.023 63.9319 417.023 M63.9319 413.319 Q69.742 413.319 72.7976 417.926 Q75.8763 422.509 75.8763 431.259 Q75.8763 439.986 72.7976 444.592 Q69.742 449.176 63.9319 449.176 Q58.1217 449.176 55.043 444.592 Q51.9875 439.986 51.9875 431.259 Q51.9875 422.509 55.043 417.926 Q58.1217 413.319 63.9319 413.319 Z\" fill=\"#000000\" fill-rule=\"nonzero\" fill-opacity=\"1\" /><path clip-path=\"url(#clip140)\" d=\"M84.0938 442.625 L88.978 442.625 L88.978 448.504 L84.0938 448.504 L84.0938 442.625 Z\" fill=\"#000000\" fill-rule=\"nonzero\" fill-opacity=\"1\" /><path clip-path=\"url(#clip140)\" d=\"M97.9826 413.944 L120.205 413.944 L120.205 415.935 L107.658 448.504 L102.774 448.504 L114.58 417.879 L97.9826 417.879 L97.9826 413.944 Z\" fill=\"#000000\" fill-rule=\"nonzero\" fill-opacity=\"1\" /><path clip-path=\"url(#clip140)\" d=\"M129.371 413.944 L147.728 413.944 L147.728 417.879 L133.654 417.879 L133.654 426.352 Q134.672 426.004 135.691 425.842 Q136.709 425.657 137.728 425.657 Q143.515 425.657 146.894 428.828 Q150.274 432 150.274 437.416 Q150.274 442.995 146.802 446.097 Q143.33 449.176 137.01 449.176 Q134.834 449.176 132.566 448.805 Q130.32 448.435 127.913 447.694 L127.913 442.995 Q129.996 444.129 132.219 444.685 Q134.441 445.24 136.918 445.24 Q140.922 445.24 143.26 443.134 Q145.598 441.027 145.598 437.416 Q145.598 433.805 143.26 431.699 Q140.922 429.592 136.918 429.592 Q135.043 429.592 133.168 430.009 Q131.316 430.426 129.371 431.305 L129.371 413.944 Z\" fill=\"#000000\" fill-rule=\"nonzero\" fill-opacity=\"1\" /><path clip-path=\"url(#clip140)\" d=\"M53.7467 101.321 L61.3856 101.321 L61.3856 74.9555 L53.0754 76.6222 L53.0754 72.3629 L61.3393 70.6963 L66.0152 70.6963 L66.0152 101.321 L73.654 101.321 L73.654 105.256 L53.7467 105.256 L53.7467 101.321 Z\" fill=\"#000000\" fill-rule=\"nonzero\" fill-opacity=\"1\" /><path clip-path=\"url(#clip140)\" d=\"M83.0984 99.3767 L87.9827 99.3767 L87.9827 105.256 L83.0984 105.256 L83.0984 99.3767 Z\" fill=\"#000000\" fill-rule=\"nonzero\" fill-opacity=\"1\" /><path clip-path=\"url(#clip140)\" d=\"M108.168 73.775 Q104.557 73.775 102.728 77.3398 Q100.922 80.8814 100.922 88.011 Q100.922 95.1174 102.728 98.6822 Q104.557 102.224 108.168 102.224 Q111.802 102.224 113.608 98.6822 Q115.436 95.1174 115.436 88.011 Q115.436 80.8814 113.608 77.3398 Q111.802 73.775 108.168 73.775 M108.168 70.0713 Q113.978 70.0713 117.033 74.6777 Q120.112 79.261 120.112 88.011 Q120.112 96.7378 117.033 101.344 Q113.978 105.928 108.168 105.928 Q102.358 105.928 99.2789 101.344 Q96.2234 96.7378 96.2234 88.011 Q96.2234 79.261 99.2789 74.6777 Q102.358 70.0713 108.168 70.0713 Z\" fill=\"#000000\" fill-rule=\"nonzero\" fill-opacity=\"1\" /><path clip-path=\"url(#clip140)\" d=\"M138.33 73.775 Q134.719 73.775 132.89 77.3398 Q131.084 80.8814 131.084 88.011 Q131.084 95.1174 132.89 98.6822 Q134.719 102.224 138.33 102.224 Q141.964 102.224 143.769 98.6822 Q145.598 95.1174 145.598 88.011 Q145.598 80.8814 143.769 77.3398 Q141.964 73.775 138.33 73.775 M138.33 70.0713 Q144.14 70.0713 147.195 74.6777 Q150.274 79.261 150.274 88.011 Q150.274 96.7378 147.195 101.344 Q144.14 105.928 138.33 105.928 Q132.519 105.928 129.441 101.344 Q126.385 96.7378 126.385 88.011 Q126.385 79.261 129.441 74.6777 Q132.519 70.0713 138.33 70.0713 Z\" fill=\"#000000\" fill-rule=\"nonzero\" fill-opacity=\"1\" /><polyline clip-path=\"url(#clip142)\" style=\"stroke:#009af9; stroke-linecap:round; stroke-linejoin:round; stroke-width:4; stroke-opacity:1; fill:none\" points=\"247.59,1445.72 250.916,1445.26 254.243,1444.8 257.569,1444.32 260.896,1443.83 291.656,1438.67 322.415,1432.19 353.175,1424.13 383.935,1414.19 402.42,1407.18 420.905,1399.31 439.391,1390.48 457.876,1380.64 489.134,1361.42 520.392,1338.65 537.37,1324.65 554.347,1309.43 571.325,1292.92 588.302,1275.08 603.954,1257.4 619.606,1238.52 635.258,1218.39 650.909,1197 667.69,1172.65 684.47,1146.81 701.25,1119.49 718.031,1090.7 737.472,1055.51 756.914,1018.43 776.356,979.529 795.798,938.91 813.075,901.478 830.353,862.901 847.63,823.307 864.908,782.839 895.209,710.243 925.511,636.426 958.548,555.849 991.585,476.699 1008.2,437.953 1024.82,400.209 1041.43,363.686 1058.05,328.604 1076.42,291.752 1094.79,257.207 1113.17,225.241 1131.54,196.11 1149.02,171.244 1166.5,149.347 1183.98,130.586 1201.46,115.106 1210.55,108.395 1219.63,102.617 1228.72,97.7857 1237.81,93.9103 1246.9,90.9992 1255.99,89.0587 1265.07,88.093 1274.16,88.104 1289.46,90.328 1304.76,95.3062 1320.06,103.009 1335.36,113.389 1344.7,121.016 1354.04,129.6 1363.38,139.124 1372.72,149.566 1391.4,173.111 1410.08,200.031 1427.19,227.456 1444.3,257.326 1461.41,289.433 1478.52,323.557 1494.33,356.667 1510.13,391.119 1525.94,426.725 1541.74,463.295 1573.76,539.568 1605.77,617.494 1641.66,705.001 1677.54,790.906 1710.06,866.017 1742.57,937.5 1761.18,976.477 1779.8,1013.89 1798.41,1049.64 1817.03,1083.67 1834.26,1113.58 1851.5,1141.94 1868.73,1168.73 1885.97,1193.96 1902.96,1217.31 1919.95,1239.17 1936.94,1259.57 1953.93,1278.55 1970.43,1295.66 1986.93,1311.51 2003.43,1326.16 2019.92,1339.66 2036.83,1352.36 2053.75,1363.97 2070.66,1374.56 2087.57,1384.17 2106.1,1393.68 2124.63,1402.18 2143.16,1409.76 2161.69,1416.49 2188.6,1424.92 2215.52,1431.93 2242.44,1437.73 2269.35,1442.48 2274.87,1443.34 2280.4,1444.17 2285.92,1444.96 2291.44,1445.72 \"/>\n",
       "<circle clip-path=\"url(#clip142)\" cx=\"247.59\" cy=\"1445.72\" r=\"14.4\" fill=\"#e26f46\" fill-rule=\"evenodd\" fill-opacity=\"1\" stroke=\"#000000\" stroke-opacity=\"1\" stroke-width=\"3.2\"/>\n",
       "<circle clip-path=\"url(#clip142)\" cx=\"417.91\" cy=\"1400.64\" r=\"14.4\" fill=\"#e26f46\" fill-rule=\"evenodd\" fill-opacity=\"1\" stroke=\"#000000\" stroke-opacity=\"1\" stroke-width=\"3.2\"/>\n",
       "<circle clip-path=\"url(#clip142)\" cx=\"588.231\" cy=\"1275.15\" r=\"14.4\" fill=\"#e26f46\" fill-rule=\"evenodd\" fill-opacity=\"1\" stroke=\"#000000\" stroke-opacity=\"1\" stroke-width=\"3.2\"/>\n",
       "<circle clip-path=\"url(#clip142)\" cx=\"758.552\" cy=\"1015.22\" r=\"14.4\" fill=\"#e26f46\" fill-rule=\"evenodd\" fill-opacity=\"1\" stroke=\"#000000\" stroke-opacity=\"1\" stroke-width=\"3.2\"/>\n",
       "<circle clip-path=\"url(#clip142)\" cx=\"928.873\" cy=\"628.207\" r=\"14.4\" fill=\"#e26f46\" fill-rule=\"evenodd\" fill-opacity=\"1\" stroke=\"#000000\" stroke-opacity=\"1\" stroke-width=\"3.2\"/>\n",
       "<circle clip-path=\"url(#clip142)\" cx=\"1099.19\" cy=\"249.307\" r=\"14.4\" fill=\"#e26f46\" fill-rule=\"evenodd\" fill-opacity=\"1\" stroke=\"#000000\" stroke-opacity=\"1\" stroke-width=\"3.2\"/>\n",
       "<circle clip-path=\"url(#clip142)\" cx=\"1269.51\" cy=\"87.9763\" r=\"14.4\" fill=\"#e26f46\" fill-rule=\"evenodd\" fill-opacity=\"1\" stroke=\"#000000\" stroke-opacity=\"1\" stroke-width=\"3.2\"/>\n",
       "<circle clip-path=\"url(#clip142)\" cx=\"1439.84\" cy=\"249.307\" r=\"14.4\" fill=\"#e26f46\" fill-rule=\"evenodd\" fill-opacity=\"1\" stroke=\"#000000\" stroke-opacity=\"1\" stroke-width=\"3.2\"/>\n",
       "<circle clip-path=\"url(#clip142)\" cx=\"1610.16\" cy=\"628.207\" r=\"14.4\" fill=\"#e26f46\" fill-rule=\"evenodd\" fill-opacity=\"1\" stroke=\"#000000\" stroke-opacity=\"1\" stroke-width=\"3.2\"/>\n",
       "<circle clip-path=\"url(#clip142)\" cx=\"1780.48\" cy=\"1015.22\" r=\"14.4\" fill=\"#e26f46\" fill-rule=\"evenodd\" fill-opacity=\"1\" stroke=\"#000000\" stroke-opacity=\"1\" stroke-width=\"3.2\"/>\n",
       "<circle clip-path=\"url(#clip142)\" cx=\"1950.8\" cy=\"1275.15\" r=\"14.4\" fill=\"#e26f46\" fill-rule=\"evenodd\" fill-opacity=\"1\" stroke=\"#000000\" stroke-opacity=\"1\" stroke-width=\"3.2\"/>\n",
       "<circle clip-path=\"url(#clip142)\" cx=\"2121.12\" cy=\"1400.64\" r=\"14.4\" fill=\"#e26f46\" fill-rule=\"evenodd\" fill-opacity=\"1\" stroke=\"#000000\" stroke-opacity=\"1\" stroke-width=\"3.2\"/>\n",
       "<circle clip-path=\"url(#clip142)\" cx=\"2291.44\" cy=\"1445.72\" r=\"14.4\" fill=\"#e26f46\" fill-rule=\"evenodd\" fill-opacity=\"1\" stroke=\"#000000\" stroke-opacity=\"1\" stroke-width=\"3.2\"/>\n",
       "</svg>\n"
      ]
     },
     "execution_count": 79,
     "metadata": {},
     "output_type": "execute_result"
    }
   ],
   "source": [
    "plot(e,-3,3, legend=false);\n",
    "scatter!(-3:.5:3,e)"
   ]
  },
  {
   "cell_type": "markdown",
   "metadata": {},
   "source": [
    "# Funções da linguagem"
   ]
  },
  {
   "cell_type": "code",
   "execution_count": 18,
   "metadata": {},
   "outputs": [
    {
     "data": {
      "text/plain": [
       "crazy (generic function with 1 method)"
      ]
     },
     "execution_count": 18,
     "metadata": {},
     "output_type": "execute_result"
    }
   ],
   "source": [
    "function crazy(x)\n",
    "    if x % floor(x) == 0 && x > 0\n",
    "        return x^3\n",
    "    elseif x <= 0\n",
    "        return x^2\n",
    "    else\n",
    "        return ceil(x)*3 + x % floor(x)\n",
    "    end\n",
    "end"
   ]
  },
  {
   "cell_type": "code",
   "execution_count": 11,
   "metadata": {},
   "outputs": [
    {
     "data": {
      "text/plain": [
       "8"
      ]
     },
     "execution_count": 11,
     "metadata": {},
     "output_type": "execute_result"
    }
   ],
   "source": [
    "crazy(2)"
   ]
  },
  {
   "cell_type": "code",
   "execution_count": 12,
   "metadata": {},
   "outputs": [
    {
     "data": {
      "text/plain": [
       "4"
      ]
     },
     "execution_count": 12,
     "metadata": {},
     "output_type": "execute_result"
    }
   ],
   "source": [
    "crazy(-2)"
   ]
  },
  {
   "cell_type": "code",
   "execution_count": 13,
   "metadata": {},
   "outputs": [
    {
     "data": {
      "text/plain": [
       "9.3"
      ]
     },
     "execution_count": 13,
     "metadata": {},
     "output_type": "execute_result"
    }
   ],
   "source": [
    "crazy(2.3)"
   ]
  },
  {
   "cell_type": "code",
   "execution_count": 25,
   "metadata": {},
   "outputs": [
    {
     "data": {
      "text/plain": [
       "-3.0:0.5:5.0"
      ]
     },
     "execution_count": 25,
     "metadata": {},
     "output_type": "execute_result"
    }
   ],
   "source": [
    "vetor = -3:.5:5"
   ]
  },
  {
   "cell_type": "code",
   "execution_count": 26,
   "metadata": {},
   "outputs": [
    {
     "data": {
      "text/plain": [
       "17-element Vector{Float64}:\n",
       "   9.0\n",
       "   6.25\n",
       "   4.0\n",
       "   2.25\n",
       "   1.0\n",
       "   0.25\n",
       "   0.0\n",
       " NaN\n",
       "   1.0\n",
       "   6.5\n",
       "   8.0\n",
       "   9.5\n",
       "  27.0\n",
       "  12.5\n",
       "  64.0\n",
       "  15.5\n",
       " 125.0"
      ]
     },
     "execution_count": 26,
     "metadata": {},
     "output_type": "execute_result"
    }
   ],
   "source": [
    "R = crazy.(vetor)"
   ]
  },
  {
   "cell_type": "code",
   "execution_count": 28,
   "metadata": {},
   "outputs": [
    {
     "data": {
      "image/png": "[encoded data removed]",
      "image/svg+xml": [
       "<?xml version=\"1.0\" encoding=\"utf-8\"?>\n",
       "<svg xmlns=\"http://www.w3.org/2000/svg\" xmlns:xlink=\"http://www.w3.org/1999/xlink\" width=\"600\" height=\"400\" viewBox=\"0 0 2400 1600\">\n",
       "<defs>\n",
       "  <clipPath id=\"clip190\">\n",
       "    <rect x=\"0\" y=\"0\" width=\"2400\" height=\"1600\"/>\n",
       "  </clipPath>\n",
       "</defs>\n",
       "<path clip-path=\"url(#clip190)\" d=\"M0 1600 L2400 1600 L2400 0 L0 0  Z\" fill=\"#ffffff\" fill-rule=\"evenodd\" fill-opacity=\"1\"/>\n",
       "<defs>\n",
       "  <clipPath id=\"clip191\">\n",
       "    <rect x=\"480\" y=\"0\" width=\"1681\" height=\"1600\"/>\n",
       "  </clipPath>\n",
       "</defs>\n",
       "<path clip-path=\"url(#clip190)\" d=\"M169.121 1486.45 L2352.76 1486.45 L2352.76 47.2441 L169.121 47.2441  Z\" fill=\"#ffffff\" fill-rule=\"evenodd\" fill-opacity=\"1\"/>\n",
       "<defs>\n",
       "  <clipPath id=\"clip192\">\n",
       "    <rect x=\"169\" y=\"47\" width=\"2185\" height=\"1440\"/>\n",
       "  </clipPath>\n",
       "</defs>\n",
       "<polyline clip-path=\"url(#clip192)\" style=\"stroke:#000000; stroke-linecap:round; stroke-linejoin:round; stroke-width:2; stroke-opacity:0.1; fill:none\" points=\"488.426,1486.45 488.426,47.2441 \"/>\n",
       "<polyline clip-path=\"url(#clip192)\" style=\"stroke:#000000; stroke-linecap:round; stroke-linejoin:round; stroke-width:2; stroke-opacity:0.1; fill:none\" points=\"1518.44,1486.45 1518.44,47.2441 \"/>\n",
       "<polyline clip-path=\"url(#clip192)\" style=\"stroke:#000000; stroke-linecap:round; stroke-linejoin:round; stroke-width:2; stroke-opacity:0.1; fill:none\" points=\"2033.45,1486.45 2033.45,47.2441 \"/>\n",
       "<polyline clip-path=\"url(#clip190)\" style=\"stroke:#000000; stroke-linecap:round; stroke-linejoin:round; stroke-width:4; stroke-opacity:1; fill:none\" points=\"169.121,1445.72 2352.76,1445.72 \"/>\n",
       "<polyline clip-path=\"url(#clip190)\" style=\"stroke:#000000; stroke-linecap:round; stroke-linejoin:round; stroke-width:4; stroke-opacity:1; fill:none\" points=\"488.426,1464.61 488.426,1426.82 \"/>\n",
       "<polyline clip-path=\"url(#clip190)\" style=\"stroke:#000000; stroke-linecap:round; stroke-linejoin:round; stroke-width:4; stroke-opacity:1; fill:none\" points=\"1518.44,1464.61 1518.44,1426.82 \"/>\n",
       "<polyline clip-path=\"url(#clip190)\" style=\"stroke:#000000; stroke-linecap:round; stroke-linejoin:round; stroke-width:4; stroke-opacity:1; fill:none\" points=\"2033.45,1464.61 2033.45,1426.82 \"/>\n",
       "<path clip-path=\"url(#clip190)\" d=\"M458.369 1491.29 L488.044 1491.29 L488.044 1495.22 L458.369 1495.22 L458.369 1491.29 Z\" fill=\"#000000\" fill-rule=\"nonzero\" fill-opacity=\"1\" /><path clip-path=\"url(#clip190)\" d=\"M502.165 1504.18 L518.484 1504.18 L518.484 1508.12 L496.54 1508.12 L496.54 1504.18 Q499.202 1501.43 503.785 1496.8 Q508.392 1492.14 509.572 1490.8 Q511.817 1488.28 512.697 1486.54 Q513.6 1484.78 513.6 1483.09 Q513.6 1480.34 511.655 1478.6 Q509.734 1476.87 506.632 1476.87 Q504.433 1476.87 501.98 1477.63 Q499.549 1478.39 496.771 1479.94 L496.771 1475.22 Q499.595 1474.09 502.049 1473.51 Q504.503 1472.93 506.54 1472.93 Q511.91 1472.93 515.104 1475.62 Q518.299 1478.3 518.299 1482.79 Q518.299 1484.92 517.489 1486.84 Q516.702 1488.74 514.595 1491.33 Q514.017 1492 510.915 1495.22 Q507.813 1498.42 502.165 1504.18 Z\" fill=\"#000000\" fill-rule=\"nonzero\" fill-opacity=\"1\" /><path clip-path=\"url(#clip190)\" d=\"M1513.1 1504.18 L1529.41 1504.18 L1529.41 1508.12 L1507.47 1508.12 L1507.47 1504.18 Q1510.13 1501.43 1514.72 1496.8 Q1519.32 1492.14 1520.5 1490.8 Q1522.75 1488.28 1523.63 1486.54 Q1524.53 1484.78 1524.53 1483.09 Q1524.53 1480.34 1522.59 1478.6 Q1520.66 1476.87 1517.56 1476.87 Q1515.36 1476.87 1512.91 1477.63 Q1510.48 1478.39 1507.7 1479.94 L1507.7 1475.22 Q1510.53 1474.09 1512.98 1473.51 Q1515.43 1472.93 1517.47 1472.93 Q1522.84 1472.93 1526.04 1475.62 Q1529.23 1478.3 1529.23 1482.79 Q1529.23 1484.92 1528.42 1486.84 Q1527.63 1488.74 1525.53 1491.33 Q1524.95 1492 1521.85 1495.22 Q1518.74 1498.42 1513.1 1504.18 Z\" fill=\"#000000\" fill-rule=\"nonzero\" fill-opacity=\"1\" /><path clip-path=\"url(#clip190)\" d=\"M2036.46 1477.63 L2024.65 1496.08 L2036.46 1496.08 L2036.46 1477.63 M2035.23 1473.56 L2041.11 1473.56 L2041.11 1496.08 L2046.04 1496.08 L2046.04 1499.97 L2041.11 1499.97 L2041.11 1508.12 L2036.46 1508.12 L2036.46 1499.97 L2020.86 1499.97 L2020.86 1495.45 L2035.23 1473.56 Z\" fill=\"#000000\" fill-rule=\"nonzero\" fill-opacity=\"1\" /><polyline clip-path=\"url(#clip192)\" style=\"stroke:#000000; stroke-linecap:round; stroke-linejoin:round; stroke-width:2; stroke-opacity:0.1; fill:none\" points=\"169.121,1228.48 2352.76,1228.48 \"/>\n",
       "<polyline clip-path=\"url(#clip192)\" style=\"stroke:#000000; stroke-linecap:round; stroke-linejoin:round; stroke-width:2; stroke-opacity:0.1; fill:none\" points=\"169.121,1011.24 2352.76,1011.24 \"/>\n",
       "<polyline clip-path=\"url(#clip192)\" style=\"stroke:#000000; stroke-linecap:round; stroke-linejoin:round; stroke-width:2; stroke-opacity:0.1; fill:none\" points=\"169.121,794.001 2352.76,794.001 \"/>\n",
       "<polyline clip-path=\"url(#clip192)\" style=\"stroke:#000000; stroke-linecap:round; stroke-linejoin:round; stroke-width:2; stroke-opacity:0.1; fill:none\" points=\"169.121,576.762 2352.76,576.762 \"/>\n",
       "<polyline clip-path=\"url(#clip192)\" style=\"stroke:#000000; stroke-linecap:round; stroke-linejoin:round; stroke-width:2; stroke-opacity:0.1; fill:none\" points=\"169.121,359.524 2352.76,359.524 \"/>\n",
       "<polyline clip-path=\"url(#clip192)\" style=\"stroke:#000000; stroke-linecap:round; stroke-linejoin:round; stroke-width:2; stroke-opacity:0.1; fill:none\" points=\"169.121,142.286 2352.76,142.286 \"/>\n",
       "<polyline clip-path=\"url(#clip190)\" style=\"stroke:#000000; stroke-linecap:round; stroke-linejoin:round; stroke-width:4; stroke-opacity:1; fill:none\" points=\"1003.43,1486.45 1003.43,47.2441 \"/>\n",
       "<polyline clip-path=\"url(#clip190)\" style=\"stroke:#000000; stroke-linecap:round; stroke-linejoin:round; stroke-width:4; stroke-opacity:1; fill:none\" points=\"984.537,1228.48 1022.33,1228.48 \"/>\n",
       "<polyline clip-path=\"url(#clip190)\" style=\"stroke:#000000; stroke-linecap:round; stroke-linejoin:round; stroke-width:4; stroke-opacity:1; fill:none\" points=\"984.537,1011.24 1022.33,1011.24 \"/>\n",
       "<polyline clip-path=\"url(#clip190)\" style=\"stroke:#000000; stroke-linecap:round; stroke-linejoin:round; stroke-width:4; stroke-opacity:1; fill:none\" points=\"984.537,794.001 1022.33,794.001 \"/>\n",
       "<polyline clip-path=\"url(#clip190)\" style=\"stroke:#000000; stroke-linecap:round; stroke-linejoin:round; stroke-width:4; stroke-opacity:1; fill:none\" points=\"984.537,576.762 1022.33,576.762 \"/>\n",
       "<polyline clip-path=\"url(#clip190)\" style=\"stroke:#000000; stroke-linecap:round; stroke-linejoin:round; stroke-width:4; stroke-opacity:1; fill:none\" points=\"984.537,359.524 1022.33,359.524 \"/>\n",
       "<polyline clip-path=\"url(#clip190)\" style=\"stroke:#000000; stroke-linecap:round; stroke-linejoin:round; stroke-width:4; stroke-opacity:1; fill:none\" points=\"984.537,142.286 1022.33,142.286 \"/>\n",
       "<path clip-path=\"url(#clip190)\" d=\"M919.356 1241.82 L935.675 1241.82 L935.675 1245.76 L913.731 1245.76 L913.731 1241.82 Q916.393 1239.07 920.976 1234.44 Q925.583 1229.79 926.763 1228.44 Q929.009 1225.92 929.888 1224.18 Q930.791 1222.42 930.791 1220.73 Q930.791 1217.98 928.847 1216.24 Q926.925 1214.51 923.824 1214.51 Q921.625 1214.51 919.171 1215.27 Q916.74 1216.04 913.963 1217.59 L913.963 1212.86 Q916.787 1211.73 919.24 1211.15 Q921.694 1210.57 923.731 1210.57 Q929.101 1210.57 932.296 1213.26 Q935.49 1215.94 935.49 1220.43 Q935.49 1222.56 934.68 1224.48 Q933.893 1226.38 931.787 1228.98 Q931.208 1229.65 928.106 1232.86 Q925.004 1236.06 919.356 1241.82 Z\" fill=\"#000000\" fill-rule=\"nonzero\" fill-opacity=\"1\" /><path clip-path=\"url(#clip190)\" d=\"M955.49 1214.28 Q951.879 1214.28 950.05 1217.84 Q948.245 1221.38 948.245 1228.51 Q948.245 1235.62 950.05 1239.18 Q951.879 1242.72 955.49 1242.72 Q959.124 1242.72 960.93 1239.18 Q962.759 1235.62 962.759 1228.51 Q962.759 1221.38 960.93 1217.84 Q959.124 1214.28 955.49 1214.28 M955.49 1210.57 Q961.3 1210.57 964.356 1215.18 Q967.435 1219.76 967.435 1228.51 Q967.435 1237.24 964.356 1241.85 Q961.3 1246.43 955.49 1246.43 Q949.68 1246.43 946.601 1241.85 Q943.546 1237.24 943.546 1228.51 Q943.546 1219.76 946.601 1215.18 Q949.68 1210.57 955.49 1210.57 Z\" fill=\"#000000\" fill-rule=\"nonzero\" fill-opacity=\"1\" /><path clip-path=\"url(#clip190)\" d=\"M928.175 998.033 L916.37 1016.48 L928.175 1016.48 L928.175 998.033 M926.949 993.959 L932.828 993.959 L932.828 1016.48 L937.759 1016.48 L937.759 1020.37 L932.828 1020.37 L932.828 1028.52 L928.175 1028.52 L928.175 1020.37 L912.574 1020.37 L912.574 1015.86 L926.949 993.959 Z\" fill=\"#000000\" fill-rule=\"nonzero\" fill-opacity=\"1\" /><path clip-path=\"url(#clip190)\" d=\"M955.49 997.038 Q951.879 997.038 950.05 1000.6 Q948.245 1004.14 948.245 1011.27 Q948.245 1018.38 950.05 1021.95 Q951.879 1025.49 955.49 1025.49 Q959.124 1025.49 960.93 1021.95 Q962.759 1018.38 962.759 1011.27 Q962.759 1004.14 960.93 1000.6 Q959.124 997.038 955.49 997.038 M955.49 993.334 Q961.3 993.334 964.356 997.941 Q967.435 1002.52 967.435 1011.27 Q967.435 1020 964.356 1024.61 Q961.3 1029.19 955.49 1029.19 Q949.68 1029.19 946.601 1024.61 Q943.546 1020 943.546 1011.27 Q943.546 1002.52 946.601 997.941 Q949.68 993.334 955.49 993.334 Z\" fill=\"#000000\" fill-rule=\"nonzero\" fill-opacity=\"1\" /><path clip-path=\"url(#clip190)\" d=\"M925.907 792.137 Q922.759 792.137 920.907 794.29 Q919.078 796.443 919.078 800.193 Q919.078 803.92 920.907 806.096 Q922.759 808.248 925.907 808.248 Q929.055 808.248 930.884 806.096 Q932.736 803.92 932.736 800.193 Q932.736 796.443 930.884 794.29 Q929.055 792.137 925.907 792.137 M935.189 777.485 L935.189 781.744 Q933.43 780.911 931.625 780.471 Q929.842 780.031 928.083 780.031 Q923.453 780.031 921 783.156 Q918.569 786.281 918.222 792.6 Q919.588 790.586 921.648 789.522 Q923.708 788.434 926.185 788.434 Q931.393 788.434 934.402 791.605 Q937.435 794.753 937.435 800.193 Q937.435 805.517 934.287 808.734 Q931.138 811.952 925.907 811.952 Q919.912 811.952 916.74 807.369 Q913.569 802.762 913.569 794.035 Q913.569 785.841 917.458 780.98 Q921.347 776.096 927.898 776.096 Q929.657 776.096 931.439 776.443 Q933.245 776.79 935.189 777.485 Z\" fill=\"#000000\" fill-rule=\"nonzero\" fill-opacity=\"1\" /><path clip-path=\"url(#clip190)\" d=\"M955.49 779.799 Q951.879 779.799 950.05 783.364 Q948.245 786.906 948.245 794.035 Q948.245 801.142 950.05 804.707 Q951.879 808.248 955.49 808.248 Q959.124 808.248 960.93 804.707 Q962.759 801.142 962.759 794.035 Q962.759 786.906 960.93 783.364 Q959.124 779.799 955.49 779.799 M955.49 776.096 Q961.3 776.096 964.356 780.702 Q967.435 785.286 967.435 794.035 Q967.435 802.762 964.356 807.369 Q961.3 811.952 955.49 811.952 Q949.68 811.952 946.601 807.369 Q943.546 802.762 943.546 794.035 Q943.546 785.286 946.601 780.702 Q949.68 776.096 955.49 776.096 Z\" fill=\"#000000\" fill-rule=\"nonzero\" fill-opacity=\"1\" /><path clip-path=\"url(#clip190)\" d=\"M925.328 577.631 Q921.995 577.631 920.074 579.413 Q918.176 581.195 918.176 584.32 Q918.176 587.445 920.074 589.228 Q921.995 591.01 925.328 591.01 Q928.662 591.01 930.583 589.228 Q932.504 587.422 932.504 584.32 Q932.504 581.195 930.583 579.413 Q928.685 577.631 925.328 577.631 M920.652 575.64 Q917.643 574.899 915.953 572.839 Q914.287 570.779 914.287 567.816 Q914.287 563.672 917.226 561.265 Q920.189 558.857 925.328 558.857 Q930.49 558.857 933.43 561.265 Q936.37 563.672 936.37 567.816 Q936.37 570.779 934.68 572.839 Q933.013 574.899 930.027 575.64 Q933.407 576.427 935.282 578.718 Q937.18 581.01 937.18 584.32 Q937.18 589.343 934.101 592.029 Q931.046 594.714 925.328 594.714 Q919.611 594.714 916.532 592.029 Q913.476 589.343 913.476 584.32 Q913.476 581.01 915.375 578.718 Q917.273 576.427 920.652 575.64 M918.939 568.256 Q918.939 570.941 920.606 572.445 Q922.296 573.95 925.328 573.95 Q928.338 573.95 930.027 572.445 Q931.74 570.941 931.74 568.256 Q931.74 565.57 930.027 564.066 Q928.338 562.561 925.328 562.561 Q922.296 562.561 920.606 564.066 Q918.939 565.57 918.939 568.256 Z\" fill=\"#000000\" fill-rule=\"nonzero\" fill-opacity=\"1\" /><path clip-path=\"url(#clip190)\" d=\"M955.49 562.561 Q951.879 562.561 950.05 566.126 Q948.245 569.668 948.245 576.797 Q948.245 583.904 950.05 587.468 Q951.879 591.01 955.49 591.01 Q959.124 591.01 960.93 587.468 Q962.759 583.904 962.759 576.797 Q962.759 569.668 960.93 566.126 Q959.124 562.561 955.49 562.561 M955.49 558.857 Q961.3 558.857 964.356 563.464 Q967.435 568.047 967.435 576.797 Q967.435 585.524 964.356 590.13 Q961.3 594.714 955.49 594.714 Q949.68 594.714 946.601 590.13 Q943.546 585.524 943.546 576.797 Q943.546 568.047 946.601 563.464 Q949.68 558.857 955.49 558.857 Z\" fill=\"#000000\" fill-rule=\"nonzero\" fill-opacity=\"1\" /><path clip-path=\"url(#clip190)\" d=\"M885.977 372.869 L893.615 372.869 L893.615 346.503 L885.305 348.17 L885.305 343.911 L893.569 342.244 L898.245 342.244 L898.245 372.869 L905.884 372.869 L905.884 376.804 L885.977 376.804 L885.977 372.869 Z\" fill=\"#000000\" fill-rule=\"nonzero\" fill-opacity=\"1\" /><path clip-path=\"url(#clip190)\" d=\"M925.328 345.323 Q921.717 345.323 919.888 348.888 Q918.083 352.429 918.083 359.559 Q918.083 366.665 919.888 370.23 Q921.717 373.772 925.328 373.772 Q928.963 373.772 930.768 370.23 Q932.597 366.665 932.597 359.559 Q932.597 352.429 930.768 348.888 Q928.963 345.323 925.328 345.323 M925.328 341.619 Q931.138 341.619 934.194 346.226 Q937.273 350.809 937.273 359.559 Q937.273 368.286 934.194 372.892 Q931.138 377.475 925.328 377.475 Q919.518 377.475 916.439 372.892 Q913.384 368.286 913.384 359.559 Q913.384 350.809 916.439 346.226 Q919.518 341.619 925.328 341.619 Z\" fill=\"#000000\" fill-rule=\"nonzero\" fill-opacity=\"1\" /><path clip-path=\"url(#clip190)\" d=\"M955.49 345.323 Q951.879 345.323 950.05 348.888 Q948.245 352.429 948.245 359.559 Q948.245 366.665 950.05 370.23 Q951.879 373.772 955.49 373.772 Q959.124 373.772 960.93 370.23 Q962.759 366.665 962.759 359.559 Q962.759 352.429 960.93 348.888 Q959.124 345.323 955.49 345.323 M955.49 341.619 Q961.3 341.619 964.356 346.226 Q967.435 350.809 967.435 359.559 Q967.435 368.286 964.356 372.892 Q961.3 377.475 955.49 377.475 Q949.68 377.475 946.601 372.892 Q943.546 368.286 943.546 359.559 Q943.546 350.809 946.601 346.226 Q949.68 341.619 955.49 341.619 Z\" fill=\"#000000\" fill-rule=\"nonzero\" fill-opacity=\"1\" /><path clip-path=\"url(#clip190)\" d=\"M885.977 155.631 L893.615 155.631 L893.615 129.265 L885.305 130.932 L885.305 126.673 L893.569 125.006 L898.245 125.006 L898.245 155.631 L905.884 155.631 L905.884 159.566 L885.977 159.566 L885.977 155.631 Z\" fill=\"#000000\" fill-rule=\"nonzero\" fill-opacity=\"1\" /><path clip-path=\"url(#clip190)\" d=\"M919.356 155.631 L935.675 155.631 L935.675 159.566 L913.731 159.566 L913.731 155.631 Q916.393 152.876 920.976 148.246 Q925.583 143.594 926.763 142.251 Q929.009 139.728 929.888 137.992 Q930.791 136.233 930.791 134.543 Q930.791 131.788 928.847 130.052 Q926.925 128.316 923.824 128.316 Q921.625 128.316 919.171 129.08 Q916.74 129.844 913.963 131.395 L913.963 126.673 Q916.787 125.538 919.24 124.96 Q921.694 124.381 923.731 124.381 Q929.101 124.381 932.296 127.066 Q935.49 129.751 935.49 134.242 Q935.49 136.372 934.68 138.293 Q933.893 140.191 931.787 142.784 Q931.208 143.455 928.106 146.672 Q925.004 149.867 919.356 155.631 Z\" fill=\"#000000\" fill-rule=\"nonzero\" fill-opacity=\"1\" /><path clip-path=\"url(#clip190)\" d=\"M955.49 128.085 Q951.879 128.085 950.05 131.649 Q948.245 135.191 948.245 142.321 Q948.245 149.427 950.05 152.992 Q951.879 156.533 955.49 156.533 Q959.124 156.533 960.93 152.992 Q962.759 149.427 962.759 142.321 Q962.759 135.191 960.93 131.649 Q959.124 128.085 955.49 128.085 M955.49 124.381 Q961.3 124.381 964.356 128.987 Q967.435 133.571 967.435 142.321 Q967.435 151.047 964.356 155.654 Q961.3 160.237 955.49 160.237 Q949.68 160.237 946.601 155.654 Q943.546 151.047 943.546 142.321 Q943.546 133.571 946.601 128.987 Q949.68 124.381 955.49 124.381 Z\" fill=\"#000000\" fill-rule=\"nonzero\" fill-opacity=\"1\" /><circle clip-path=\"url(#clip192)\" cx=\"230.922\" cy=\"1347.96\" r=\"14.4\" fill=\"#009af9\" fill-rule=\"evenodd\" fill-opacity=\"1\" stroke=\"#000000\" stroke-opacity=\"1\" stroke-width=\"3.2\"/>\n",
       "<circle clip-path=\"url(#clip192)\" cx=\"359.674\" cy=\"1377.83\" r=\"14.4\" fill=\"#009af9\" fill-rule=\"evenodd\" fill-opacity=\"1\" stroke=\"#000000\" stroke-opacity=\"1\" stroke-width=\"3.2\"/>\n",
       "<circle clip-path=\"url(#clip192)\" cx=\"488.426\" cy=\"1402.27\" r=\"14.4\" fill=\"#009af9\" fill-rule=\"evenodd\" fill-opacity=\"1\" stroke=\"#000000\" stroke-opacity=\"1\" stroke-width=\"3.2\"/>\n",
       "<circle clip-path=\"url(#clip192)\" cx=\"617.178\" cy=\"1421.28\" r=\"14.4\" fill=\"#009af9\" fill-rule=\"evenodd\" fill-opacity=\"1\" stroke=\"#000000\" stroke-opacity=\"1\" stroke-width=\"3.2\"/>\n",
       "<circle clip-path=\"url(#clip192)\" cx=\"745.93\" cy=\"1434.85\" r=\"14.4\" fill=\"#009af9\" fill-rule=\"evenodd\" fill-opacity=\"1\" stroke=\"#000000\" stroke-opacity=\"1\" stroke-width=\"3.2\"/>\n",
       "<circle clip-path=\"url(#clip192)\" cx=\"874.682\" cy=\"1443\" r=\"14.4\" fill=\"#009af9\" fill-rule=\"evenodd\" fill-opacity=\"1\" stroke=\"#000000\" stroke-opacity=\"1\" stroke-width=\"3.2\"/>\n",
       "<circle clip-path=\"url(#clip192)\" cx=\"1003.43\" cy=\"1445.72\" r=\"14.4\" fill=\"#009af9\" fill-rule=\"evenodd\" fill-opacity=\"1\" stroke=\"#000000\" stroke-opacity=\"1\" stroke-width=\"3.2\"/>\n",
       "<circle clip-path=\"url(#clip192)\" cx=\"1260.94\" cy=\"1434.85\" r=\"14.4\" fill=\"#009af9\" fill-rule=\"evenodd\" fill-opacity=\"1\" stroke=\"#000000\" stroke-opacity=\"1\" stroke-width=\"3.2\"/>\n",
       "<circle clip-path=\"url(#clip192)\" cx=\"1389.69\" cy=\"1375.11\" r=\"14.4\" fill=\"#009af9\" fill-rule=\"evenodd\" fill-opacity=\"1\" stroke=\"#000000\" stroke-opacity=\"1\" stroke-width=\"3.2\"/>\n",
       "<circle clip-path=\"url(#clip192)\" cx=\"1518.44\" cy=\"1358.82\" r=\"14.4\" fill=\"#009af9\" fill-rule=\"evenodd\" fill-opacity=\"1\" stroke=\"#000000\" stroke-opacity=\"1\" stroke-width=\"3.2\"/>\n",
       "<circle clip-path=\"url(#clip192)\" cx=\"1647.19\" cy=\"1342.53\" r=\"14.4\" fill=\"#009af9\" fill-rule=\"evenodd\" fill-opacity=\"1\" stroke=\"#000000\" stroke-opacity=\"1\" stroke-width=\"3.2\"/>\n",
       "<circle clip-path=\"url(#clip192)\" cx=\"1775.95\" cy=\"1152.44\" r=\"14.4\" fill=\"#009af9\" fill-rule=\"evenodd\" fill-opacity=\"1\" stroke=\"#000000\" stroke-opacity=\"1\" stroke-width=\"3.2\"/>\n",
       "<circle clip-path=\"url(#clip192)\" cx=\"1904.7\" cy=\"1309.94\" r=\"14.4\" fill=\"#009af9\" fill-rule=\"evenodd\" fill-opacity=\"1\" stroke=\"#000000\" stroke-opacity=\"1\" stroke-width=\"3.2\"/>\n",
       "<circle clip-path=\"url(#clip192)\" cx=\"2033.45\" cy=\"750.553\" r=\"14.4\" fill=\"#009af9\" fill-rule=\"evenodd\" fill-opacity=\"1\" stroke=\"#000000\" stroke-opacity=\"1\" stroke-width=\"3.2\"/>\n",
       "<circle clip-path=\"url(#clip192)\" cx=\"2162.2\" cy=\"1277.36\" r=\"14.4\" fill=\"#009af9\" fill-rule=\"evenodd\" fill-opacity=\"1\" stroke=\"#000000\" stroke-opacity=\"1\" stroke-width=\"3.2\"/>\n",
       "<circle clip-path=\"url(#clip192)\" cx=\"2290.95\" cy=\"87.9763\" r=\"14.4\" fill=\"#009af9\" fill-rule=\"evenodd\" fill-opacity=\"1\" stroke=\"#000000\" stroke-opacity=\"1\" stroke-width=\"3.2\"/>\n",
       "<path clip-path=\"url(#clip190)\" d=\"M241.909 198.898 L512.703 198.898 L512.703 95.2176 L241.909 95.2176  Z\" fill=\"#ffffff\" fill-rule=\"evenodd\" fill-opacity=\"1\"/>\n",
       "<polyline clip-path=\"url(#clip190)\" style=\"stroke:#000000; stroke-linecap:round; stroke-linejoin:round; stroke-width:4; stroke-opacity:1; fill:none\" points=\"241.909,198.898 512.703,198.898 512.703,95.2176 241.909,95.2176 241.909,198.898 \"/>\n",
       "<circle clip-path=\"url(#clip190)\" cx=\"338.96\" cy=\"147.058\" r=\"20.48\" fill=\"#009af9\" fill-rule=\"evenodd\" fill-opacity=\"1\" stroke=\"#000000\" stroke-opacity=\"1\" stroke-width=\"4.55111\"/>\n",
       "<path clip-path=\"url(#clip190)\" d=\"M449.853 166.745 Q448.047 171.375 446.334 172.787 Q444.621 174.199 441.751 174.199 L438.348 174.199 L438.348 170.634 L440.848 170.634 Q442.607 170.634 443.579 169.8 Q444.552 168.967 445.732 165.865 L446.496 163.921 L436.01 138.412 L440.524 138.412 L448.626 158.689 L456.727 138.412 L461.241 138.412 L449.853 166.745 Z\" fill=\"#000000\" fill-rule=\"nonzero\" fill-opacity=\"1\" /><path clip-path=\"url(#clip190)\" d=\"M468.533 160.402 L476.172 160.402 L476.172 134.037 L467.862 135.703 L467.862 131.444 L476.126 129.778 L480.801 129.778 L480.801 160.402 L488.44 160.402 L488.44 164.338 L468.533 164.338 L468.533 160.402 Z\" fill=\"#000000\" fill-rule=\"nonzero\" fill-opacity=\"1\" /></svg>\n"
      ],
      "text/html": [
       "<?xml version=\"1.0\" encoding=\"utf-8\"?>\n",
       "<svg xmlns=\"http://www.w3.org/2000/svg\" xmlns:xlink=\"http://www.w3.org/1999/xlink\" width=\"600\" height=\"400\" viewBox=\"0 0 2400 1600\">\n",
       "<defs>\n",
       "  <clipPath id=\"clip240\">\n",
       "    <rect x=\"0\" y=\"0\" width=\"2400\" height=\"1600\"/>\n",
       "  </clipPath>\n",
       "</defs>\n",
       "<path clip-path=\"url(#clip240)\" d=\"M0 1600 L2400 1600 L2400 0 L0 0  Z\" fill=\"#ffffff\" fill-rule=\"evenodd\" fill-opacity=\"1\"/>\n",
       "<defs>\n",
       "  <clipPath id=\"clip241\">\n",
       "    <rect x=\"480\" y=\"0\" width=\"1681\" height=\"1600\"/>\n",
       "  </clipPath>\n",
       "</defs>\n",
       "<path clip-path=\"url(#clip240)\" d=\"M169.121 1486.45 L2352.76 1486.45 L2352.76 47.2441 L169.121 47.2441  Z\" fill=\"#ffffff\" fill-rule=\"evenodd\" fill-opacity=\"1\"/>\n",
       "<defs>\n",
       "  <clipPath id=\"clip242\">\n",
       "    <rect x=\"169\" y=\"47\" width=\"2185\" height=\"1440\"/>\n",
       "  </clipPath>\n",
       "</defs>\n",
       "<polyline clip-path=\"url(#clip242)\" style=\"stroke:#000000; stroke-linecap:round; stroke-linejoin:round; stroke-width:2; stroke-opacity:0.1; fill:none\" points=\"488.426,1486.45 488.426,47.2441 \"/>\n",
       "<polyline clip-path=\"url(#clip242)\" style=\"stroke:#000000; stroke-linecap:round; stroke-linejoin:round; stroke-width:2; stroke-opacity:0.1; fill:none\" points=\"1518.44,1486.45 1518.44,47.2441 \"/>\n",
       "<polyline clip-path=\"url(#clip242)\" style=\"stroke:#000000; stroke-linecap:round; stroke-linejoin:round; stroke-width:2; stroke-opacity:0.1; fill:none\" points=\"2033.45,1486.45 2033.45,47.2441 \"/>\n",
       "<polyline clip-path=\"url(#clip240)\" style=\"stroke:#000000; stroke-linecap:round; stroke-linejoin:round; stroke-width:4; stroke-opacity:1; fill:none\" points=\"169.121,1445.72 2352.76,1445.72 \"/>\n",
       "<polyline clip-path=\"url(#clip240)\" style=\"stroke:#000000; stroke-linecap:round; stroke-linejoin:round; stroke-width:4; stroke-opacity:1; fill:none\" points=\"488.426,1464.61 488.426,1426.82 \"/>\n",
       "<polyline clip-path=\"url(#clip240)\" style=\"stroke:#000000; stroke-linecap:round; stroke-linejoin:round; stroke-width:4; stroke-opacity:1; fill:none\" points=\"1518.44,1464.61 1518.44,1426.82 \"/>\n",
       "<polyline clip-path=\"url(#clip240)\" style=\"stroke:#000000; stroke-linecap:round; stroke-linejoin:round; stroke-width:4; stroke-opacity:1; fill:none\" points=\"2033.45,1464.61 2033.45,1426.82 \"/>\n",
       "<path clip-path=\"url(#clip240)\" d=\"M458.369 1491.29 L488.044 1491.29 L488.044 1495.22 L458.369 1495.22 L458.369 1491.29 Z\" fill=\"#000000\" fill-rule=\"nonzero\" fill-opacity=\"1\" /><path clip-path=\"url(#clip240)\" d=\"M502.165 1504.18 L518.484 1504.18 L518.484 1508.12 L496.54 1508.12 L496.54 1504.18 Q499.202 1501.43 503.785 1496.8 Q508.392 1492.14 509.572 1490.8 Q511.817 1488.28 512.697 1486.54 Q513.6 1484.78 513.6 1483.09 Q513.6 1480.34 511.655 1478.6 Q509.734 1476.87 506.632 1476.87 Q504.433 1476.87 501.98 1477.63 Q499.549 1478.39 496.771 1479.94 L496.771 1475.22 Q499.595 1474.09 502.049 1473.51 Q504.503 1472.93 506.54 1472.93 Q511.91 1472.93 515.104 1475.62 Q518.299 1478.3 518.299 1482.79 Q518.299 1484.92 517.489 1486.84 Q516.702 1488.74 514.595 1491.33 Q514.017 1492 510.915 1495.22 Q507.813 1498.42 502.165 1504.18 Z\" fill=\"#000000\" fill-rule=\"nonzero\" fill-opacity=\"1\" /><path clip-path=\"url(#clip240)\" d=\"M1513.1 1504.18 L1529.41 1504.18 L1529.41 1508.12 L1507.47 1508.12 L1507.47 1504.18 Q1510.13 1501.43 1514.72 1496.8 Q1519.32 1492.14 1520.5 1490.8 Q1522.75 1488.28 1523.63 1486.54 Q1524.53 1484.78 1524.53 1483.09 Q1524.53 1480.34 1522.59 1478.6 Q1520.66 1476.87 1517.56 1476.87 Q1515.36 1476.87 1512.91 1477.63 Q1510.48 1478.39 1507.7 1479.94 L1507.7 1475.22 Q1510.53 1474.09 1512.98 1473.51 Q1515.43 1472.93 1517.47 1472.93 Q1522.84 1472.93 1526.04 1475.62 Q1529.23 1478.3 1529.23 1482.79 Q1529.23 1484.92 1528.42 1486.84 Q1527.63 1488.74 1525.53 1491.33 Q1524.95 1492 1521.85 1495.22 Q1518.74 1498.42 1513.1 1504.18 Z\" fill=\"#000000\" fill-rule=\"nonzero\" fill-opacity=\"1\" /><path clip-path=\"url(#clip240)\" d=\"M2036.46 1477.63 L2024.65 1496.08 L2036.46 1496.08 L2036.46 1477.63 M2035.23 1473.56 L2041.11 1473.56 L2041.11 1496.08 L2046.04 1496.08 L2046.04 1499.97 L2041.11 1499.97 L2041.11 1508.12 L2036.46 1508.12 L2036.46 1499.97 L2020.86 1499.97 L2020.86 1495.45 L2035.23 1473.56 Z\" fill=\"#000000\" fill-rule=\"nonzero\" fill-opacity=\"1\" /><polyline clip-path=\"url(#clip242)\" style=\"stroke:#000000; stroke-linecap:round; stroke-linejoin:round; stroke-width:2; stroke-opacity:0.1; fill:none\" points=\"169.121,1228.48 2352.76,1228.48 \"/>\n",
       "<polyline clip-path=\"url(#clip242)\" style=\"stroke:#000000; stroke-linecap:round; stroke-linejoin:round; stroke-width:2; stroke-opacity:0.1; fill:none\" points=\"169.121,1011.24 2352.76,1011.24 \"/>\n",
       "<polyline clip-path=\"url(#clip242)\" style=\"stroke:#000000; stroke-linecap:round; stroke-linejoin:round; stroke-width:2; stroke-opacity:0.1; fill:none\" points=\"169.121,794.001 2352.76,794.001 \"/>\n",
       "<polyline clip-path=\"url(#clip242)\" style=\"stroke:#000000; stroke-linecap:round; stroke-linejoin:round; stroke-width:2; stroke-opacity:0.1; fill:none\" points=\"169.121,576.762 2352.76,576.762 \"/>\n",
       "<polyline clip-path=\"url(#clip242)\" style=\"stroke:#000000; stroke-linecap:round; stroke-linejoin:round; stroke-width:2; stroke-opacity:0.1; fill:none\" points=\"169.121,359.524 2352.76,359.524 \"/>\n",
       "<polyline clip-path=\"url(#clip242)\" style=\"stroke:#000000; stroke-linecap:round; stroke-linejoin:round; stroke-width:2; stroke-opacity:0.1; fill:none\" points=\"169.121,142.286 2352.76,142.286 \"/>\n",
       "<polyline clip-path=\"url(#clip240)\" style=\"stroke:#000000; stroke-linecap:round; stroke-linejoin:round; stroke-width:4; stroke-opacity:1; fill:none\" points=\"1003.43,1486.45 1003.43,47.2441 \"/>\n",
       "<polyline clip-path=\"url(#clip240)\" style=\"stroke:#000000; stroke-linecap:round; stroke-linejoin:round; stroke-width:4; stroke-opacity:1; fill:none\" points=\"984.537,1228.48 1022.33,1228.48 \"/>\n",
       "<polyline clip-path=\"url(#clip240)\" style=\"stroke:#000000; stroke-linecap:round; stroke-linejoin:round; stroke-width:4; stroke-opacity:1; fill:none\" points=\"984.537,1011.24 1022.33,1011.24 \"/>\n",
       "<polyline clip-path=\"url(#clip240)\" style=\"stroke:#000000; stroke-linecap:round; stroke-linejoin:round; stroke-width:4; stroke-opacity:1; fill:none\" points=\"984.537,794.001 1022.33,794.001 \"/>\n",
       "<polyline clip-path=\"url(#clip240)\" style=\"stroke:#000000; stroke-linecap:round; stroke-linejoin:round; stroke-width:4; stroke-opacity:1; fill:none\" points=\"984.537,576.762 1022.33,576.762 \"/>\n",
       "<polyline clip-path=\"url(#clip240)\" style=\"stroke:#000000; stroke-linecap:round; stroke-linejoin:round; stroke-width:4; stroke-opacity:1; fill:none\" points=\"984.537,359.524 1022.33,359.524 \"/>\n",
       "<polyline clip-path=\"url(#clip240)\" style=\"stroke:#000000; stroke-linecap:round; stroke-linejoin:round; stroke-width:4; stroke-opacity:1; fill:none\" points=\"984.537,142.286 1022.33,142.286 \"/>\n",
       "<path clip-path=\"url(#clip240)\" d=\"M919.356 1241.82 L935.675 1241.82 L935.675 1245.76 L913.731 1245.76 L913.731 1241.82 Q916.393 1239.07 920.976 1234.44 Q925.583 1229.79 926.763 1228.44 Q929.009 1225.92 929.888 1224.18 Q930.791 1222.42 930.791 1220.73 Q930.791 1217.98 928.847 1216.24 Q926.925 1214.51 923.824 1214.51 Q921.625 1214.51 919.171 1215.27 Q916.74 1216.04 913.963 1217.59 L913.963 1212.86 Q916.787 1211.73 919.24 1211.15 Q921.694 1210.57 923.731 1210.57 Q929.101 1210.57 932.296 1213.26 Q935.49 1215.94 935.49 1220.43 Q935.49 1222.56 934.68 1224.48 Q933.893 1226.38 931.787 1228.98 Q931.208 1229.65 928.106 1232.86 Q925.004 1236.06 919.356 1241.82 Z\" fill=\"#000000\" fill-rule=\"nonzero\" fill-opacity=\"1\" /><path clip-path=\"url(#clip240)\" d=\"M955.49 1214.28 Q951.879 1214.28 950.05 1217.84 Q948.245 1221.38 948.245 1228.51 Q948.245 1235.62 950.05 1239.18 Q951.879 1242.72 955.49 1242.72 Q959.124 1242.72 960.93 1239.18 Q962.759 1235.62 962.759 1228.51 Q962.759 1221.38 960.93 1217.84 Q959.124 1214.28 955.49 1214.28 M955.49 1210.57 Q961.3 1210.57 964.356 1215.18 Q967.435 1219.76 967.435 1228.51 Q967.435 1237.24 964.356 1241.85 Q961.3 1246.43 955.49 1246.43 Q949.68 1246.43 946.601 1241.85 Q943.546 1237.24 943.546 1228.51 Q943.546 1219.76 946.601 1215.18 Q949.68 1210.57 955.49 1210.57 Z\" fill=\"#000000\" fill-rule=\"nonzero\" fill-opacity=\"1\" /><path clip-path=\"url(#clip240)\" d=\"M928.175 998.033 L916.37 1016.48 L928.175 1016.48 L928.175 998.033 M926.949 993.959 L932.828 993.959 L932.828 1016.48 L937.759 1016.48 L937.759 1020.37 L932.828 1020.37 L932.828 1028.52 L928.175 1028.52 L928.175 1020.37 L912.574 1020.37 L912.574 1015.86 L926.949 993.959 Z\" fill=\"#000000\" fill-rule=\"nonzero\" fill-opacity=\"1\" /><path clip-path=\"url(#clip240)\" d=\"M955.49 997.038 Q951.879 997.038 950.05 1000.6 Q948.245 1004.14 948.245 1011.27 Q948.245 1018.38 950.05 1021.95 Q951.879 1025.49 955.49 1025.49 Q959.124 1025.49 960.93 1021.95 Q962.759 1018.38 962.759 1011.27 Q962.759 1004.14 960.93 1000.6 Q959.124 997.038 955.49 997.038 M955.49 993.334 Q961.3 993.334 964.356 997.941 Q967.435 1002.52 967.435 1011.27 Q967.435 1020 964.356 1024.61 Q961.3 1029.19 955.49 1029.19 Q949.68 1029.19 946.601 1024.61 Q943.546 1020 943.546 1011.27 Q943.546 1002.52 946.601 997.941 Q949.68 993.334 955.49 993.334 Z\" fill=\"#000000\" fill-rule=\"nonzero\" fill-opacity=\"1\" /><path clip-path=\"url(#clip240)\" d=\"M925.907 792.137 Q922.759 792.137 920.907 794.29 Q919.078 796.443 919.078 800.193 Q919.078 803.92 920.907 806.096 Q922.759 808.248 925.907 808.248 Q929.055 808.248 930.884 806.096 Q932.736 803.92 932.736 800.193 Q932.736 796.443 930.884 794.29 Q929.055 792.137 925.907 792.137 M935.189 777.485 L935.189 781.744 Q933.43 780.911 931.625 780.471 Q929.842 780.031 928.083 780.031 Q923.453 780.031 921 783.156 Q918.569 786.281 918.222 792.6 Q919.588 790.586 921.648 789.522 Q923.708 788.434 926.185 788.434 Q931.393 788.434 934.402 791.605 Q937.435 794.753 937.435 800.193 Q937.435 805.517 934.287 808.734 Q931.138 811.952 925.907 811.952 Q919.912 811.952 916.74 807.369 Q913.569 802.762 913.569 794.035 Q913.569 785.841 917.458 780.98 Q921.347 776.096 927.898 776.096 Q929.657 776.096 931.439 776.443 Q933.245 776.79 935.189 777.485 Z\" fill=\"#000000\" fill-rule=\"nonzero\" fill-opacity=\"1\" /><path clip-path=\"url(#clip240)\" d=\"M955.49 779.799 Q951.879 779.799 950.05 783.364 Q948.245 786.906 948.245 794.035 Q948.245 801.142 950.05 804.707 Q951.879 808.248 955.49 808.248 Q959.124 808.248 960.93 804.707 Q962.759 801.142 962.759 794.035 Q962.759 786.906 960.93 783.364 Q959.124 779.799 955.49 779.799 M955.49 776.096 Q961.3 776.096 964.356 780.702 Q967.435 785.286 967.435 794.035 Q967.435 802.762 964.356 807.369 Q961.3 811.952 955.49 811.952 Q949.68 811.952 946.601 807.369 Q943.546 802.762 943.546 794.035 Q943.546 785.286 946.601 780.702 Q949.68 776.096 955.49 776.096 Z\" fill=\"#000000\" fill-rule=\"nonzero\" fill-opacity=\"1\" /><path clip-path=\"url(#clip240)\" d=\"M925.328 577.631 Q921.995 577.631 920.074 579.413 Q918.176 581.195 918.176 584.32 Q918.176 587.445 920.074 589.228 Q921.995 591.01 925.328 591.01 Q928.662 591.01 930.583 589.228 Q932.504 587.422 932.504 584.32 Q932.504 581.195 930.583 579.413 Q928.685 577.631 925.328 577.631 M920.652 575.64 Q917.643 574.899 915.953 572.839 Q914.287 570.779 914.287 567.816 Q914.287 563.672 917.226 561.265 Q920.189 558.857 925.328 558.857 Q930.49 558.857 933.43 561.265 Q936.37 563.672 936.37 567.816 Q936.37 570.779 934.68 572.839 Q933.013 574.899 930.027 575.64 Q933.407 576.427 935.282 578.718 Q937.18 581.01 937.18 584.32 Q937.18 589.343 934.101 592.029 Q931.046 594.714 925.328 594.714 Q919.611 594.714 916.532 592.029 Q913.476 589.343 913.476 584.32 Q913.476 581.01 915.375 578.718 Q917.273 576.427 920.652 575.64 M918.939 568.256 Q918.939 570.941 920.606 572.445 Q922.296 573.95 925.328 573.95 Q928.338 573.95 930.027 572.445 Q931.74 570.941 931.74 568.256 Q931.74 565.57 930.027 564.066 Q928.338 562.561 925.328 562.561 Q922.296 562.561 920.606 564.066 Q918.939 565.57 918.939 568.256 Z\" fill=\"#000000\" fill-rule=\"nonzero\" fill-opacity=\"1\" /><path clip-path=\"url(#clip240)\" d=\"M955.49 562.561 Q951.879 562.561 950.05 566.126 Q948.245 569.668 948.245 576.797 Q948.245 583.904 950.05 587.468 Q951.879 591.01 955.49 591.01 Q959.124 591.01 960.93 587.468 Q962.759 583.904 962.759 576.797 Q962.759 569.668 960.93 566.126 Q959.124 562.561 955.49 562.561 M955.49 558.857 Q961.3 558.857 964.356 563.464 Q967.435 568.047 967.435 576.797 Q967.435 585.524 964.356 590.13 Q961.3 594.714 955.49 594.714 Q949.68 594.714 946.601 590.13 Q943.546 585.524 943.546 576.797 Q943.546 568.047 946.601 563.464 Q949.68 558.857 955.49 558.857 Z\" fill=\"#000000\" fill-rule=\"nonzero\" fill-opacity=\"1\" /><path clip-path=\"url(#clip240)\" d=\"M885.977 372.869 L893.615 372.869 L893.615 346.503 L885.305 348.17 L885.305 343.911 L893.569 342.244 L898.245 342.244 L898.245 372.869 L905.884 372.869 L905.884 376.804 L885.977 376.804 L885.977 372.869 Z\" fill=\"#000000\" fill-rule=\"nonzero\" fill-opacity=\"1\" /><path clip-path=\"url(#clip240)\" d=\"M925.328 345.323 Q921.717 345.323 919.888 348.888 Q918.083 352.429 918.083 359.559 Q918.083 366.665 919.888 370.23 Q921.717 373.772 925.328 373.772 Q928.963 373.772 930.768 370.23 Q932.597 366.665 932.597 359.559 Q932.597 352.429 930.768 348.888 Q928.963 345.323 925.328 345.323 M925.328 341.619 Q931.138 341.619 934.194 346.226 Q937.273 350.809 937.273 359.559 Q937.273 368.286 934.194 372.892 Q931.138 377.475 925.328 377.475 Q919.518 377.475 916.439 372.892 Q913.384 368.286 913.384 359.559 Q913.384 350.809 916.439 346.226 Q919.518 341.619 925.328 341.619 Z\" fill=\"#000000\" fill-rule=\"nonzero\" fill-opacity=\"1\" /><path clip-path=\"url(#clip240)\" d=\"M955.49 345.323 Q951.879 345.323 950.05 348.888 Q948.245 352.429 948.245 359.559 Q948.245 366.665 950.05 370.23 Q951.879 373.772 955.49 373.772 Q959.124 373.772 960.93 370.23 Q962.759 366.665 962.759 359.559 Q962.759 352.429 960.93 348.888 Q959.124 345.323 955.49 345.323 M955.49 341.619 Q961.3 341.619 964.356 346.226 Q967.435 350.809 967.435 359.559 Q967.435 368.286 964.356 372.892 Q961.3 377.475 955.49 377.475 Q949.68 377.475 946.601 372.892 Q943.546 368.286 943.546 359.559 Q943.546 350.809 946.601 346.226 Q949.68 341.619 955.49 341.619 Z\" fill=\"#000000\" fill-rule=\"nonzero\" fill-opacity=\"1\" /><path clip-path=\"url(#clip240)\" d=\"M885.977 155.631 L893.615 155.631 L893.615 129.265 L885.305 130.932 L885.305 126.673 L893.569 125.006 L898.245 125.006 L898.245 155.631 L905.884 155.631 L905.884 159.566 L885.977 159.566 L885.977 155.631 Z\" fill=\"#000000\" fill-rule=\"nonzero\" fill-opacity=\"1\" /><path clip-path=\"url(#clip240)\" d=\"M919.356 155.631 L935.675 155.631 L935.675 159.566 L913.731 159.566 L913.731 155.631 Q916.393 152.876 920.976 148.246 Q925.583 143.594 926.763 142.251 Q929.009 139.728 929.888 137.992 Q930.791 136.233 930.791 134.543 Q930.791 131.788 928.847 130.052 Q926.925 128.316 923.824 128.316 Q921.625 128.316 919.171 129.08 Q916.74 129.844 913.963 131.395 L913.963 126.673 Q916.787 125.538 919.24 124.96 Q921.694 124.381 923.731 124.381 Q929.101 124.381 932.296 127.066 Q935.49 129.751 935.49 134.242 Q935.49 136.372 934.68 138.293 Q933.893 140.191 931.787 142.784 Q931.208 143.455 928.106 146.672 Q925.004 149.867 919.356 155.631 Z\" fill=\"#000000\" fill-rule=\"nonzero\" fill-opacity=\"1\" /><path clip-path=\"url(#clip240)\" d=\"M955.49 128.085 Q951.879 128.085 950.05 131.649 Q948.245 135.191 948.245 142.321 Q948.245 149.427 950.05 152.992 Q951.879 156.533 955.49 156.533 Q959.124 156.533 960.93 152.992 Q962.759 149.427 962.759 142.321 Q962.759 135.191 960.93 131.649 Q959.124 128.085 955.49 128.085 M955.49 124.381 Q961.3 124.381 964.356 128.987 Q967.435 133.571 967.435 142.321 Q967.435 151.047 964.356 155.654 Q961.3 160.237 955.49 160.237 Q949.68 160.237 946.601 155.654 Q943.546 151.047 943.546 142.321 Q943.546 133.571 946.601 128.987 Q949.68 124.381 955.49 124.381 Z\" fill=\"#000000\" fill-rule=\"nonzero\" fill-opacity=\"1\" /><circle clip-path=\"url(#clip242)\" cx=\"230.922\" cy=\"1347.96\" r=\"14.4\" fill=\"#009af9\" fill-rule=\"evenodd\" fill-opacity=\"1\" stroke=\"#000000\" stroke-opacity=\"1\" stroke-width=\"3.2\"/>\n",
       "<circle clip-path=\"url(#clip242)\" cx=\"359.674\" cy=\"1377.83\" r=\"14.4\" fill=\"#009af9\" fill-rule=\"evenodd\" fill-opacity=\"1\" stroke=\"#000000\" stroke-opacity=\"1\" stroke-width=\"3.2\"/>\n",
       "<circle clip-path=\"url(#clip242)\" cx=\"488.426\" cy=\"1402.27\" r=\"14.4\" fill=\"#009af9\" fill-rule=\"evenodd\" fill-opacity=\"1\" stroke=\"#000000\" stroke-opacity=\"1\" stroke-width=\"3.2\"/>\n",
       "<circle clip-path=\"url(#clip242)\" cx=\"617.178\" cy=\"1421.28\" r=\"14.4\" fill=\"#009af9\" fill-rule=\"evenodd\" fill-opacity=\"1\" stroke=\"#000000\" stroke-opacity=\"1\" stroke-width=\"3.2\"/>\n",
       "<circle clip-path=\"url(#clip242)\" cx=\"745.93\" cy=\"1434.85\" r=\"14.4\" fill=\"#009af9\" fill-rule=\"evenodd\" fill-opacity=\"1\" stroke=\"#000000\" stroke-opacity=\"1\" stroke-width=\"3.2\"/>\n",
       "<circle clip-path=\"url(#clip242)\" cx=\"874.682\" cy=\"1443\" r=\"14.4\" fill=\"#009af9\" fill-rule=\"evenodd\" fill-opacity=\"1\" stroke=\"#000000\" stroke-opacity=\"1\" stroke-width=\"3.2\"/>\n",
       "<circle clip-path=\"url(#clip242)\" cx=\"1003.43\" cy=\"1445.72\" r=\"14.4\" fill=\"#009af9\" fill-rule=\"evenodd\" fill-opacity=\"1\" stroke=\"#000000\" stroke-opacity=\"1\" stroke-width=\"3.2\"/>\n",
       "<circle clip-path=\"url(#clip242)\" cx=\"1260.94\" cy=\"1434.85\" r=\"14.4\" fill=\"#009af9\" fill-rule=\"evenodd\" fill-opacity=\"1\" stroke=\"#000000\" stroke-opacity=\"1\" stroke-width=\"3.2\"/>\n",
       "<circle clip-path=\"url(#clip242)\" cx=\"1389.69\" cy=\"1375.11\" r=\"14.4\" fill=\"#009af9\" fill-rule=\"evenodd\" fill-opacity=\"1\" stroke=\"#000000\" stroke-opacity=\"1\" stroke-width=\"3.2\"/>\n",
       "<circle clip-path=\"url(#clip242)\" cx=\"1518.44\" cy=\"1358.82\" r=\"14.4\" fill=\"#009af9\" fill-rule=\"evenodd\" fill-opacity=\"1\" stroke=\"#000000\" stroke-opacity=\"1\" stroke-width=\"3.2\"/>\n",
       "<circle clip-path=\"url(#clip242)\" cx=\"1647.19\" cy=\"1342.53\" r=\"14.4\" fill=\"#009af9\" fill-rule=\"evenodd\" fill-opacity=\"1\" stroke=\"#000000\" stroke-opacity=\"1\" stroke-width=\"3.2\"/>\n",
       "<circle clip-path=\"url(#clip242)\" cx=\"1775.95\" cy=\"1152.44\" r=\"14.4\" fill=\"#009af9\" fill-rule=\"evenodd\" fill-opacity=\"1\" stroke=\"#000000\" stroke-opacity=\"1\" stroke-width=\"3.2\"/>\n",
       "<circle clip-path=\"url(#clip242)\" cx=\"1904.7\" cy=\"1309.94\" r=\"14.4\" fill=\"#009af9\" fill-rule=\"evenodd\" fill-opacity=\"1\" stroke=\"#000000\" stroke-opacity=\"1\" stroke-width=\"3.2\"/>\n",
       "<circle clip-path=\"url(#clip242)\" cx=\"2033.45\" cy=\"750.553\" r=\"14.4\" fill=\"#009af9\" fill-rule=\"evenodd\" fill-opacity=\"1\" stroke=\"#000000\" stroke-opacity=\"1\" stroke-width=\"3.2\"/>\n",
       "<circle clip-path=\"url(#clip242)\" cx=\"2162.2\" cy=\"1277.36\" r=\"14.4\" fill=\"#009af9\" fill-rule=\"evenodd\" fill-opacity=\"1\" stroke=\"#000000\" stroke-opacity=\"1\" stroke-width=\"3.2\"/>\n",
       "<circle clip-path=\"url(#clip242)\" cx=\"2290.95\" cy=\"87.9763\" r=\"14.4\" fill=\"#009af9\" fill-rule=\"evenodd\" fill-opacity=\"1\" stroke=\"#000000\" stroke-opacity=\"1\" stroke-width=\"3.2\"/>\n",
       "<path clip-path=\"url(#clip240)\" d=\"M241.909 198.898 L512.703 198.898 L512.703 95.2176 L241.909 95.2176  Z\" fill=\"#ffffff\" fill-rule=\"evenodd\" fill-opacity=\"1\"/>\n",
       "<polyline clip-path=\"url(#clip240)\" style=\"stroke:#000000; stroke-linecap:round; stroke-linejoin:round; stroke-width:4; stroke-opacity:1; fill:none\" points=\"241.909,198.898 512.703,198.898 512.703,95.2176 241.909,95.2176 241.909,198.898 \"/>\n",
       "<circle clip-path=\"url(#clip240)\" cx=\"338.96\" cy=\"147.058\" r=\"20.48\" fill=\"#009af9\" fill-rule=\"evenodd\" fill-opacity=\"1\" stroke=\"#000000\" stroke-opacity=\"1\" stroke-width=\"4.55111\"/>\n",
       "<path clip-path=\"url(#clip240)\" d=\"M449.853 166.745 Q448.047 171.375 446.334 172.787 Q444.621 174.199 441.751 174.199 L438.348 174.199 L438.348 170.634 L440.848 170.634 Q442.607 170.634 443.579 169.8 Q444.552 168.967 445.732 165.865 L446.496 163.921 L436.01 138.412 L440.524 138.412 L448.626 158.689 L456.727 138.412 L461.241 138.412 L449.853 166.745 Z\" fill=\"#000000\" fill-rule=\"nonzero\" fill-opacity=\"1\" /><path clip-path=\"url(#clip240)\" d=\"M468.533 160.402 L476.172 160.402 L476.172 134.037 L467.862 135.703 L467.862 131.444 L476.126 129.778 L480.801 129.778 L480.801 160.402 L488.44 160.402 L488.44 164.338 L468.533 164.338 L468.533 160.402 Z\" fill=\"#000000\" fill-rule=\"nonzero\" fill-opacity=\"1\" /></svg>\n"
      ]
     },
     "execution_count": 28,
     "metadata": {},
     "output_type": "execute_result"
    }
   ],
   "source": [
    "scatter(vetor,R, framestyle= :origin)"
   ]
  },
  {
   "cell_type": "markdown",
   "metadata": {},
   "source": [
    "# Vetores e Matrizes\n",
    "\n",
    "## Criação e manipulação de vetores e matrizes."
   ]
  },
  {
   "cell_type": "code",
   "execution_count": null,
   "metadata": {},
   "outputs": [],
   "source": [
    "u = [1; 2; 3]"
   ]
  },
  {
   "cell_type": "code",
   "execution_count": null,
   "metadata": {},
   "outputs": [],
   "source": [
    "v = [4; 5; 6]"
   ]
  },
  {
   "cell_type": "markdown",
   "metadata": {},
   "source": [
    "Como criar vetores especiais?\n",
    "\n",
    "Vetor 0\n",
    "\n",
    "Vetor 1\n",
    "\n",
    "Vetor sequencial\n",
    "\n",
    "Vetor randômico"
   ]
  },
  {
   "cell_type": "code",
   "execution_count": 83,
   "metadata": {},
   "outputs": [
    {
     "data": {
      "text/plain": [
       "1:5"
      ]
     },
     "execution_count": 83,
     "metadata": {},
     "output_type": "execute_result"
    }
   ],
   "source": [
    "u = 1:5"
   ]
  },
  {
   "cell_type": "code",
   "execution_count": 84,
   "metadata": {},
   "outputs": [
    {
     "data": {
      "text/plain": [
       "5-element Vector{Int64}:\n",
       " 1\n",
       " 2\n",
       " 3\n",
       " 4\n",
       " 5"
      ]
     },
     "execution_count": 84,
     "metadata": {},
     "output_type": "execute_result"
    }
   ],
   "source": [
    "collect(u)"
   ]
  },
  {
   "cell_type": "code",
   "execution_count": 85,
   "metadata": {},
   "outputs": [
    {
     "data": {
      "text/plain": [
       "0.0:0.19245008972987523:1.7320508075688772"
      ]
     },
     "execution_count": 85,
     "metadata": {},
     "output_type": "execute_result"
    }
   ],
   "source": [
    "range(0, sqrt(3), length=10)"
   ]
  },
  {
   "cell_type": "code",
   "execution_count": 86,
   "metadata": {},
   "outputs": [
    {
     "data": {
      "text/plain": [
       "10-element Vector{Float64}:\n",
       " 0.0\n",
       " 0.19245008972987523\n",
       " 0.38490017945975047\n",
       " 0.5773502691896257\n",
       " 0.7698003589195009\n",
       " 0.9622504486493763\n",
       " 1.1547005383792515\n",
       " 1.3471506281091268\n",
       " 1.5396007178390019\n",
       " 1.7320508075688772"
      ]
     },
     "execution_count": 86,
     "metadata": {},
     "output_type": "execute_result"
    }
   ],
   "source": [
    "collect(range(0, sqrt(3), length=10))"
   ]
  },
  {
   "cell_type": "markdown",
   "metadata": {},
   "source": [
    "### Operações entre vetores:"
   ]
  },
  {
   "cell_type": "code",
   "execution_count": null,
   "metadata": {},
   "outputs": [],
   "source": [
    "# Soma de Vetores"
   ]
  },
  {
   "cell_type": "code",
   "execution_count": null,
   "metadata": {},
   "outputs": [],
   "source": [
    "# Subtração de Vetores"
   ]
  },
  {
   "cell_type": "code",
   "execution_count": null,
   "metadata": {},
   "outputs": [],
   "source": [
    "# Multiplicação de Vetores"
   ]
  },
  {
   "cell_type": "markdown",
   "metadata": {},
   "source": [
    "Por que surgiu erro nessa operação?\n",
    "\n",
    "Como pederíamos fazer para realizar essa operação?\n",
    "\n",
    "Alguém lembra de <i>Produto Escalar</i>?"
   ]
  },
  {
   "cell_type": "code",
   "execution_count": null,
   "metadata": {},
   "outputs": [],
   "source": [
    "# Acesso a cada valor dos vetores"
   ]
  },
  {
   "cell_type": "code",
   "execution_count": null,
   "metadata": {},
   "outputs": [],
   "source": [
    "# Quem sabe somando cada um?"
   ]
  },
  {
   "cell_type": "markdown",
   "metadata": {},
   "source": [
    "Mas em Julia lang existe uma maneira mais prática:\n",
    "\n",
    "(ponto operação)"
   ]
  },
  {
   "cell_type": "code",
   "execution_count": null,
   "metadata": {},
   "outputs": [],
   "source": []
  },
  {
   "cell_type": "markdown",
   "metadata": {},
   "source": [
    "Observe o exemplo de potenciação do vetor:"
   ]
  },
  {
   "cell_type": "code",
   "execution_count": null,
   "metadata": {},
   "outputs": [],
   "source": [
    "u^2"
   ]
  },
  {
   "cell_type": "markdown",
   "metadata": {},
   "source": [
    "Podemos inclusive criar uma função de linguagem e aplicá-la a todos os elementos da matriz de forma automática (sem utilizar estruturas de repetição):"
   ]
  },
  {
   "cell_type": "code",
   "execution_count": null,
   "metadata": {},
   "outputs": [],
   "source": [
    "crazy.([2 5 -3])"
   ]
  },
  {
   "cell_type": "markdown",
   "metadata": {},
   "source": [
    "## Operações matriciais"
   ]
  },
  {
   "cell_type": "code",
   "execution_count": 13,
   "metadata": {},
   "outputs": [
    {
     "data": {
      "text/plain": [
       "2×3 Matrix{Int64}:\n",
       " 1  2  3\n",
       " 3  4  5"
      ]
     },
     "execution_count": 13,
     "metadata": {},
     "output_type": "execute_result"
    }
   ],
   "source": [
    "A = [\n",
    "    1 2 3;\n",
    "    3 4 5\n",
    "]"
   ]
  },
  {
   "cell_type": "code",
   "execution_count": null,
   "metadata": {},
   "outputs": [],
   "source": [
    "u"
   ]
  },
  {
   "cell_type": "code",
   "execution_count": null,
   "metadata": {},
   "outputs": [],
   "source": [
    "# Multiplicação entre a matriz A e o vetor u"
   ]
  },
  {
   "cell_type": "code",
   "execution_count": 15,
   "metadata": {},
   "outputs": [
    {
     "data": {
      "text/plain": [
       "1×3 Matrix{Int64}:\n",
       " 1  2  3"
      ]
     },
     "execution_count": 15,
     "metadata": {},
     "output_type": "execute_result"
    }
   ],
   "source": [
    "B = [1 2 3]"
   ]
  },
  {
   "cell_type": "code",
   "execution_count": null,
   "metadata": {},
   "outputs": [],
   "source": [
    "# Multiplicação entre a matriz A e a matriz B"
   ]
  },
  {
   "cell_type": "markdown",
   "metadata": {},
   "source": [
    "Matriz Transposta"
   ]
  },
  {
   "cell_type": "code",
   "execution_count": 22,
   "metadata": {},
   "outputs": [
    {
     "data": {
      "text/plain": [
       "3×1 adjoint(::Matrix{Int64}) with eltype Int64:\n",
       " 1\n",
       " 2\n",
       " 3"
      ]
     },
     "execution_count": 22,
     "metadata": {},
     "output_type": "execute_result"
    }
   ],
   "source": [
    "B'"
   ]
  },
  {
   "cell_type": "code",
   "execution_count": 23,
   "metadata": {},
   "outputs": [
    {
     "data": {
      "text/plain": [
       "2×1 Matrix{Int64}:\n",
       " 14\n",
       " 26"
      ]
     },
     "execution_count": 23,
     "metadata": {},
     "output_type": "execute_result"
    }
   ],
   "source": [
    "A*B'"
   ]
  },
  {
   "cell_type": "code",
   "execution_count": 27,
   "metadata": {},
   "outputs": [
    {
     "data": {
      "text/plain": [
       "2-element Vector{Int64}:\n",
       " 2\n",
       " 3"
      ]
     },
     "execution_count": 27,
     "metadata": {},
     "output_type": "execute_result"
    }
   ],
   "source": [
    "C = [\n",
    "    2;\n",
    "    3\n",
    "]"
   ]
  },
  {
   "cell_type": "code",
   "execution_count": 28,
   "metadata": {},
   "outputs": [
    {
     "data": {
      "text/plain": [
       "3-element Vector{Int64}:\n",
       " 11\n",
       " 16\n",
       " 21"
      ]
     },
     "execution_count": 28,
     "metadata": {},
     "output_type": "execute_result"
    }
   ],
   "source": [
    "A'C"
   ]
  },
  {
   "cell_type": "markdown",
   "metadata": {},
   "source": [
    "Matriz Inversa"
   ]
  },
  {
   "cell_type": "code",
   "execution_count": 29,
   "metadata": {},
   "outputs": [
    {
     "data": {
      "text/plain": [
       "3×3 Matrix{Int64}:\n",
       " 1  7  3\n",
       " 8  4  6\n",
       " 1  4  1"
      ]
     },
     "execution_count": 29,
     "metadata": {},
     "output_type": "execute_result"
    }
   ],
   "source": [
    "M = [\n",
    "    1 7 3;\n",
    "    8 4 6;\n",
    "    1 4 1\n",
    "]"
   ]
  },
  {
   "cell_type": "code",
   "execution_count": 30,
   "metadata": {},
   "outputs": [
    {
     "data": {
      "text/plain": [
       "3×3 Matrix{Float64}:\n",
       " -0.4    0.1    0.6\n",
       " -0.04  -0.04   0.36\n",
       "  0.56   0.06  -1.04"
      ]
     },
     "execution_count": 30,
     "metadata": {},
     "output_type": "execute_result"
    }
   ],
   "source": [
    "M^(-1)"
   ]
  },
  {
   "cell_type": "markdown",
   "metadata": {},
   "source": [
    "Criar Matrizes especiais:\n",
    "\n",
    "Matriz 0\n",
    "\n",
    "Matriz 1\n",
    "\n",
    "Matriz I\n",
    "\n",
    "Matriz randômica"
   ]
  },
  {
   "cell_type": "code",
   "execution_count": 2,
   "metadata": {},
   "outputs": [
    {
     "data": {
      "text/plain": [
       "2×3 Matrix{Float64}:\n",
       " 0.0  0.0  0.0\n",
       " 0.0  0.0  0.0"
      ]
     },
     "execution_count": 2,
     "metadata": {},
     "output_type": "execute_result"
    }
   ],
   "source": [
    "D = zeros(2,3)"
   ]
  },
  {
   "cell_type": "code",
   "execution_count": 3,
   "metadata": {},
   "outputs": [
    {
     "data": {
      "text/plain": [
       "3×3 Matrix{Float64}:\n",
       " 0.0  0.0  0.0\n",
       " 0.0  0.0  0.0\n",
       " 0.0  0.0  0.0"
      ]
     },
     "execution_count": 3,
     "metadata": {},
     "output_type": "execute_result"
    }
   ],
   "source": [
    "zero = zeros(3,3)"
   ]
  },
  {
   "cell_type": "code",
   "execution_count": 4,
   "metadata": {},
   "outputs": [
    {
     "data": {
      "text/plain": [
       "2×3 Matrix{Float64}:\n",
       " 1.0  1.0  1.0\n",
       " 1.0  1.0  1.0"
      ]
     },
     "execution_count": 4,
     "metadata": {},
     "output_type": "execute_result"
    }
   ],
   "source": [
    "E = ones(2,3)"
   ]
  },
  {
   "cell_type": "code",
   "execution_count": 5,
   "metadata": {},
   "outputs": [
    {
     "data": {
      "text/plain": [
       "3×3 Matrix{Float64}:\n",
       " 1.0  1.0  1.0\n",
       " 1.0  1.0  1.0\n",
       " 1.0  1.0  1.0"
      ]
     },
     "execution_count": 5,
     "metadata": {},
     "output_type": "execute_result"
    }
   ],
   "source": [
    "um = ones(3,3)"
   ]
  },
  {
   "cell_type": "code",
   "execution_count": 6,
   "metadata": {},
   "outputs": [
    {
     "data": {
      "text/plain": [
       "3×3 Matrix{Float64}:\n",
       " 1.0  0.0  0.0\n",
       " 0.0  1.0  0.0\n",
       " 0.0  0.0  1.0"
      ]
     },
     "execution_count": 6,
     "metadata": {},
     "output_type": "execute_result"
    }
   ],
   "source": [
    "# Matriz Identidade\n",
    "I = zeros(3,3)\n",
    "\n",
    "for i = 1:3\n",
    "    I[i,i] = 1\n",
    "end\n",
    "\n",
    "I"
   ]
  },
  {
   "cell_type": "code",
   "execution_count": null,
   "metadata": {},
   "outputs": [],
   "source": [
    "# Será possível construir uma função para produzir I(10) ou I(100)?"
   ]
  },
  {
   "cell_type": "code",
   "execution_count": 7,
   "metadata": {},
   "outputs": [
    {
     "data": {
      "text/plain": [
       "2×3 Matrix{Float64}:\n",
       " 0.094732  0.96199      0.470462\n",
       " 0.947859  0.000523171  0.858331"
      ]
     },
     "execution_count": 7,
     "metadata": {},
     "output_type": "execute_result"
    }
   ],
   "source": [
    "# Matriz Randômica\n",
    "rand(2,3)"
   ]
  },
  {
   "cell_type": "code",
   "execution_count": 10,
   "metadata": {},
   "outputs": [
    {
     "data": {
      "text/plain": [
       "2×3 Matrix{Int64}:\n",
       " 5  3  2\n",
       " 2  4  2"
      ]
     },
     "execution_count": 10,
     "metadata": {},
     "output_type": "execute_result"
    }
   ],
   "source": [
    "# Matriz Randômica inteira\n",
    "F = rand(1:5,2,3)"
   ]
  },
  {
   "cell_type": "code",
   "execution_count": 91,
   "metadata": {},
   "outputs": [
    {
     "data": {
      "text/plain": [
       "3-element Vector{Int64}:\n",
       " 1\n",
       " 2\n",
       " 3"
      ]
     },
     "execution_count": 91,
     "metadata": {},
     "output_type": "execute_result"
    }
   ],
   "source": [
    "v1=[\n",
    "    1;\n",
    "    2;\n",
    "    3\n",
    "]"
   ]
  },
  {
   "cell_type": "code",
   "execution_count": 92,
   "metadata": {},
   "outputs": [
    {
     "data": {
      "text/plain": [
       "3-element Vector{Int64}:\n",
       " 3\n",
       " 4\n",
       " 5"
      ]
     },
     "execution_count": 92,
     "metadata": {},
     "output_type": "execute_result"
    }
   ],
   "source": [
    "v2=[\n",
    "    3;\n",
    "    4;\n",
    "    5\n",
    "]"
   ]
  },
  {
   "cell_type": "code",
   "execution_count": 93,
   "metadata": {},
   "outputs": [
    {
     "data": {
      "text/plain": [
       "26"
      ]
     },
     "execution_count": 93,
     "metadata": {},
     "output_type": "execute_result"
    }
   ],
   "source": [
    "sum(v1.*v2) # dot product"
   ]
  },
  {
   "cell_type": "code",
   "execution_count": 94,
   "metadata": {},
   "outputs": [
    {
     "data": {
      "text/plain": [
       "26"
      ]
     },
     "execution_count": 94,
     "metadata": {},
     "output_type": "execute_result"
    }
   ],
   "source": [
    "v3=(1,2,3)\n",
    "v4=(3,4,5)\n",
    "sum(v3.*v4) # dot product"
   ]
  },
  {
   "cell_type": "markdown",
   "metadata": {},
   "source": [
    "## Sistemas Lineares\n",
    "\n",
    "Exemplo:\n",
    "\n",
    "Resolver o sistema:\\\n",
    "\n",
    "\\begin{equation}\n",
    "\\left\\{\\begin{matrix}\n",
    "5x & + & 3y & = & 121 \\\\\n",
    "-2x & +& 4y & = & 66\n",
    "\\end{matrix}\\right.\n",
    "\\end{equation}"
   ]
  },
  {
   "cell_type": "markdown",
   "metadata": {},
   "source": [
    "## Manipulação Simbólica"
   ]
  },
  {
   "cell_type": "code",
   "execution_count": 6,
   "metadata": {},
   "outputs": [],
   "source": [
    "# Pacote Symbolics\n",
    "using Symbolics"
   ]
  },
  {
   "cell_type": "code",
   "execution_count": 9,
   "metadata": {},
   "outputs": [
    {
     "data": {
      "text/plain": [
       "1-element Vector{Symbolics.Arr{Num, 1}}:\n",
       " x[1:2]"
      ]
     },
     "execution_count": 9,
     "metadata": {},
     "output_type": "execute_result"
    }
   ],
   "source": [
    "# Criando variáveis\n",
    "@variables x[1:2]"
   ]
  },
  {
   "cell_type": "markdown",
   "metadata": {},
   "source": [
    "Observe que a linguagem produz as multiplicações entre variáveis simbólicas e os coeficientes constantes:"
   ]
  },
  {
   "cell_type": "code",
   "execution_count": 11,
   "metadata": {},
   "outputs": [
    {
     "data": {
      "text/latex": [
       "$$ \\begin{equation}\n",
       "3 x_2 + 5 x_1 = 121\n",
       "\\end{equation}\n",
       " $$"
      ],
      "text/plain": [
       "3x[2] + 5x[1] ~ 121"
      ]
     },
     "execution_count": 11,
     "metadata": {},
     "output_type": "execute_result"
    }
   ],
   "source": [
    "5x[1]+3x[2] ~ 121"
   ]
  },
  {
   "cell_type": "markdown",
   "metadata": {},
   "source": [
    "A representação matricial seria:"
   ]
  },
  {
   "cell_type": "code",
   "execution_count": 2,
   "metadata": {},
   "outputs": [
    {
     "data": {
      "text/plain": [
       "2×2 Matrix{Int64}:\n",
       "  5  3\n",
       " -2  4"
      ]
     },
     "execution_count": 2,
     "metadata": {},
     "output_type": "execute_result"
    }
   ],
   "source": [
    "A = [\n",
    "    5 3;\n",
    "    -2 4\n",
    "]"
   ]
  },
  {
   "cell_type": "code",
   "execution_count": 3,
   "metadata": {},
   "outputs": [
    {
     "data": {
      "text/plain": [
       "2-element Vector{Int64}:\n",
       " 121\n",
       "  66"
      ]
     },
     "execution_count": 3,
     "metadata": {},
     "output_type": "execute_result"
    }
   ],
   "source": [
    "b = [121;66]"
   ]
  },
  {
   "cell_type": "code",
   "execution_count": null,
   "metadata": {},
   "outputs": [
    {
     "data": {
      "text/latex": [
       "$$ \\begin{equation}\n",
       "\\left[\n",
       "\\begin{array}{c}\n",
       "3 x_2 + 5 x_1 \\\\\n",
       " - 2 x_1 + 4 x_2 \\\\\n",
       "\\end{array}\n",
       "\\right] = \\left[\n",
       "\\begin{array}{c}\n",
       "121 \\\\\n",
       "66 \\\\\n",
       "\\end{array}\n",
       "\\right]\n",
       "\\end{equation}\n",
       " $$"
      ],
      "text/plain": [
       "Num[3x[2] + 5x[1], 4x[2] - 2x[1]] ~ [121, 66]"
      ]
     },
     "execution_count": 37,
     "metadata": {},
     "output_type": "execute_result"
    }
   ],
   "source": [
    "A*[x[1],x[2]] ~ b"
   ]
  },
  {
   "cell_type": "markdown",
   "metadata": {},
   "source": [
    "Solução nativa:"
   ]
  },
  {
   "cell_type": "code",
   "execution_count": 4,
   "metadata": {},
   "outputs": [
    {
     "data": {
      "text/plain": [
       "2-element Vector{Float64}:\n",
       " 11.0\n",
       " 22.0"
      ]
     },
     "execution_count": 4,
     "metadata": {},
     "output_type": "execute_result"
    }
   ],
   "source": [
    "A\\b"
   ]
  },
  {
   "cell_type": "markdown",
   "metadata": {},
   "source": [
    "Solução pelo pacote Symbolics (solve-for)"
   ]
  },
  {
   "cell_type": "code",
   "execution_count": 12,
   "metadata": {},
   "outputs": [
    {
     "name": "stdout",
     "output_type": "stream",
     "text": [
      "w = 11.0\n",
      "y = 22.0\n"
     ]
    }
   ],
   "source": [
    "ex1 =  5x[1] + 3x[2] ~ 121\n",
    "ex2 =  -2x[1] + 4x[2]  ~ 66\n",
    "vals = Symbolics.solve_for([ex1,ex2],[x[1],x[2]])\n",
    "println(\"x = \", vals[1])\n",
    "println(\"y = \", vals[2])"
   ]
  },
  {
   "cell_type": "markdown",
   "metadata": {},
   "source": [
    "# Manipulação simbólica para otimização\n",
    "\n",
    "\\begin{equation}\n",
    "\\text{Max } z = 2x_1+3x_2-4x_3\n",
    "\\end{equation}\n",
    "\n",
    "\\begin{equation}\n",
    " \\left\\{\\begin{matrix}\n",
    "3x_1 & -x_2 & +x_3 & \\leq & 100 \\\\\n",
    "4x_1 & +3x_2 & +2x_3 & \\leq & 150 \\\\\n",
    "-x_1 & +x_2 & -5x_3 & \\leq & 200 \\\\\n",
    "2x_1 & +2x_2 & +12x_3 & \\geq & 100 \\\\\n",
    "\\end{matrix}\\right.\n",
    "\\end{equation}"
   ]
  },
  {
   "cell_type": "code",
   "execution_count": 55,
   "metadata": {},
   "outputs": [],
   "source": [
    "using JuMP, HiGHS"
   ]
  },
  {
   "cell_type": "code",
   "execution_count": 56,
   "metadata": {},
   "outputs": [
    {
     "data": {
      "text/plain": [
       "3-element Vector{Int64}:\n",
       "  2\n",
       "  3\n",
       " -4"
      ]
     },
     "execution_count": 56,
     "metadata": {},
     "output_type": "execute_result"
    }
   ],
   "source": [
    "c = [\n",
    "    2; \n",
    "    3;\n",
    "    -4\n",
    "]"
   ]
  },
  {
   "cell_type": "code",
   "execution_count": 57,
   "metadata": {},
   "outputs": [
    {
     "data": {
      "text/plain": [
       "4×3 Matrix{Int64}:\n",
       "  3  -1    1\n",
       "  4   3    2\n",
       " -1   1   -5\n",
       " -2  -2  -12"
      ]
     },
     "execution_count": 57,
     "metadata": {},
     "output_type": "execute_result"
    }
   ],
   "source": [
    "A = [\n",
    "    3 -1 1;\n",
    "    4 3 2;\n",
    "    -1 1 -5;\n",
    "    -2 -2 -12\n",
    "]"
   ]
  },
  {
   "cell_type": "code",
   "execution_count": 58,
   "metadata": {},
   "outputs": [
    {
     "data": {
      "text/plain": [
       "4-element Vector{Int64}:\n",
       "  100\n",
       "  150\n",
       "  200\n",
       " -100"
      ]
     },
     "execution_count": 58,
     "metadata": {},
     "output_type": "execute_result"
    }
   ],
   "source": [
    "b = [\n",
    "    100;\n",
    "    150;\n",
    "    200;\n",
    "    -100\n",
    "]"
   ]
  },
  {
   "cell_type": "code",
   "execution_count": 59,
   "metadata": {},
   "outputs": [
    {
     "data": {
      "text/plain": [
       "A JuMP Model\n",
       "Feasibility problem with:\n",
       "Variables: 0\n",
       "Model mode: AUTOMATIC\n",
       "CachingOptimizer state: EMPTY_OPTIMIZER\n",
       "Solver name: HiGHS"
      ]
     },
     "execution_count": 59,
     "metadata": {},
     "output_type": "execute_result"
    }
   ],
   "source": [
    "# Estabelecer modelo\n",
    "model = Model(HiGHS.Optimizer)"
   ]
  },
  {
   "cell_type": "code",
   "execution_count": 60,
   "metadata": {},
   "outputs": [
    {
     "data": {
      "text/plain": [
       "3-element Vector{VariableRef}:\n",
       " x[1]\n",
       " x[2]\n",
       " x[3]"
      ]
     },
     "execution_count": 60,
     "metadata": {},
     "output_type": "execute_result"
    }
   ],
   "source": [
    "# Definir as variáveis\n",
    "@variable(model, x[ 1:size(c)[1] ] >= 0)"
   ]
  },
  {
   "cell_type": "code",
   "execution_count": 61,
   "metadata": {},
   "outputs": [
    {
     "data": {
      "text/latex": [
       "$ 2 x_{1} + 3 x_{2} - 4 x_{3} $"
      ],
      "text/plain": [
       "2 x[1] + 3 x[2] - 4 x[3]"
      ]
     },
     "execution_count": 61,
     "metadata": {},
     "output_type": "execute_result"
    }
   ],
   "source": [
    "# Definir a função objetivo\n",
    "@objective(model, Max, c'*x)"
   ]
  },
  {
   "cell_type": "code",
   "execution_count": 62,
   "metadata": {},
   "outputs": [
    {
     "data": {
      "text/plain": [
       "4-element Vector{ConstraintRef{Model, MathOptInterface.ConstraintIndex{MathOptInterface.ScalarAffineFunction{Float64}, MathOptInterface.LessThan{Float64}}, ScalarShape}}:\n",
       " 3 x[1] - x[2] + x[3] ≤ 100\n",
       " 4 x[1] + 3 x[2] + 2 x[3] ≤ 150\n",
       " -x[1] + x[2] - 5 x[3] ≤ 200\n",
       " -2 x[1] - 2 x[2] - 12 x[3] ≤ -100"
      ]
     },
     "execution_count": 62,
     "metadata": {},
     "output_type": "execute_result"
    }
   ],
   "source": [
    "# Definir as restrições\n",
    "@constraint(model, A*x .<= b)"
   ]
  },
  {
   "cell_type": "code",
   "execution_count": 63,
   "metadata": {},
   "outputs": [
    {
     "data": {
      "text/latex": [
       "$$ \\begin{aligned}\n",
       "\\max\\quad & 2 x_{1} + 3 x_{2} - 4 x_{3}\\\\\n",
       "\\text{Subject to} \\quad & 3 x_{1} - x_{2} + x_{3} \\leq 100\\\\\n",
       " & 4 x_{1} + 3 x_{2} + 2 x_{3} \\leq 150\\\\\n",
       " & -x_{1} + x_{2} - 5 x_{3} \\leq 200\\\\\n",
       " & -2 x_{1} - 2 x_{2} - 12 x_{3} \\leq -100\\\\\n",
       " & x_{1} \\geq 0\\\\\n",
       " & x_{2} \\geq 0\\\\\n",
       " & x_{3} \\geq 0\\\\\n",
       "\\end{aligned} $$"
      ]
     },
     "metadata": {},
     "output_type": "display_data"
    }
   ],
   "source": [
    "# Verificação do modelo\n",
    "print(model)"
   ]
  },
  {
   "cell_type": "code",
   "execution_count": 72,
   "metadata": {},
   "outputs": [
    {
     "name": "stdout",
     "output_type": "stream",
     "text": [
      "Running HiGHS 1.6.0: Copyright (c) 2023 HiGHS under MIT licence terms\n",
      "Presolving model\n",
      "3 rows, 3 cols, 9 nonzeros\n",
      "3 rows, 3 cols, 9 nonzeros\n",
      "Presolve : Reductions: rows 3(-1); columns 3(-0); elements 9(-3)\n",
      "Solving the presolved LP\n",
      "Using EKK dual simplex solver - serial\n",
      "  Iteration        Objective     Infeasibilities num(sum)\n",
      "          0    -2.4999946331e+00 Ph1: 2(5.5); Du: 2(2.49999) 0s\n",
      "          1    -1.5000000000e+02 Pr: 0(0) 0s\n",
      "Solving the original LP from the solution after postsolve\n",
      "Model   status      : Optimal\n",
      "Simplex   iterations: 1\n",
      "Objective value     :  1.5000000000e+02\n",
      "HiGHS run time      :          0.00\n"
     ]
    }
   ],
   "source": [
    "# Otimizar o modelo\n",
    "optimize!(model)"
   ]
  },
  {
   "cell_type": "code",
   "execution_count": 73,
   "metadata": {},
   "outputs": [
    {
     "name": "stdout",
     "output_type": "stream",
     "text": [
      "[0.0, 50.0, 0.0]\n"
     ]
    }
   ],
   "source": [
    "# Apresentação dos resultados\n",
    "println(value.(x))"
   ]
  },
  {
   "cell_type": "markdown",
   "metadata": {},
   "source": [
    "# Projetinhos legais com:\n",
    "\n",
    "- Estruturas de Controle\n",
    "- Condicionais (if, else, elseif);\n",
    "- Laços de repetição (for, while);\n",
    "- Funções."
   ]
  },
  {
   "cell_type": "code",
   "execution_count": 66,
   "metadata": {},
   "outputs": [],
   "source": [
    "using ProgressMeter"
   ]
  },
  {
   "cell_type": "code",
   "execution_count": 67,
   "metadata": {},
   "outputs": [
    {
     "data": {
      "text/plain": [
       "secantes (generic function with 1 method)"
      ]
     },
     "execution_count": 67,
     "metadata": {},
     "output_type": "execute_result"
    }
   ],
   "source": [
    "function secantes(f, a, b, n)\n",
    "    x = a:(b-a)/n:b\n",
    "    y = [f(a)]\n",
    "    @showprogress for i in 1:n\n",
    "        #sleep(.05)\n",
    "        sleep(.2)\n",
    "        y =  [y; f(a+(b-a)*i/n)]\n",
    "    end\n",
    "    return [x y]\n",
    "end"
   ]
  },
  {
   "cell_type": "code",
   "execution_count": 68,
   "metadata": {},
   "outputs": [
    {
     "name": "stderr",
     "output_type": "stream",
     "text": [
      "\u001b[32mProgress: 100%|█████████████████████████████████████████| Time: 0:00:02\u001b[39m\n"
     ]
    },
    {
     "data": {
      "image/png": "[encoded data removed]",
      "image/svg+xml": [
       "<?xml version=\"1.0\" encoding=\"utf-8\"?>\n",
       "<svg xmlns=\"http://www.w3.org/2000/svg\" xmlns:xlink=\"http://www.w3.org/1999/xlink\" width=\"600\" height=\"400\" viewBox=\"0 0 2400 1600\">\n",
       "<defs>\n",
       "  <clipPath id=\"clip280\">\n",
       "    <rect x=\"0\" y=\"0\" width=\"2400\" height=\"1600\"/>\n",
       "  </clipPath>\n",
       "</defs>\n",
       "<path clip-path=\"url(#clip280)\" d=\"M0 1600 L2400 1600 L2400 0 L0 0  Z\" fill=\"#ffffff\" fill-rule=\"evenodd\" fill-opacity=\"1\"/>\n",
       "<defs>\n",
       "  <clipPath id=\"clip281\">\n",
       "    <rect x=\"480\" y=\"0\" width=\"1681\" height=\"1600\"/>\n",
       "  </clipPath>\n",
       "</defs>\n",
       "<path clip-path=\"url(#clip280)\" d=\"M275.201 1486.45 L2352.76 1486.45 L2352.76 47.2441 L275.201 47.2441  Z\" fill=\"#ffffff\" fill-rule=\"evenodd\" fill-opacity=\"1\"/>\n",
       "<defs>\n",
       "  <clipPath id=\"clip282\">\n",
       "    <rect x=\"275\" y=\"47\" width=\"2079\" height=\"1440\"/>\n",
       "  </clipPath>\n",
       "</defs>\n",
       "<polyline clip-path=\"url(#clip282)\" style=\"stroke:#000000; stroke-linecap:round; stroke-linejoin:round; stroke-width:2; stroke-opacity:0.1; fill:none\" points=\"334,1486.45 334,47.2441 \"/>\n",
       "<polyline clip-path=\"url(#clip282)\" style=\"stroke:#000000; stroke-linecap:round; stroke-linejoin:round; stroke-width:2; stroke-opacity:0.1; fill:none\" points=\"725.992,1486.45 725.992,47.2441 \"/>\n",
       "<polyline clip-path=\"url(#clip282)\" style=\"stroke:#000000; stroke-linecap:round; stroke-linejoin:round; stroke-width:2; stroke-opacity:0.1; fill:none\" points=\"1509.97,1486.45 1509.97,47.2441 \"/>\n",
       "<polyline clip-path=\"url(#clip282)\" style=\"stroke:#000000; stroke-linecap:round; stroke-linejoin:round; stroke-width:2; stroke-opacity:0.1; fill:none\" points=\"1901.97,1486.45 1901.97,47.2441 \"/>\n",
       "<polyline clip-path=\"url(#clip282)\" style=\"stroke:#000000; stroke-linecap:round; stroke-linejoin:round; stroke-width:2; stroke-opacity:0.1; fill:none\" points=\"2293.96,1486.45 2293.96,47.2441 \"/>\n",
       "<polyline clip-path=\"url(#clip280)\" style=\"stroke:#000000; stroke-linecap:round; stroke-linejoin:round; stroke-width:4; stroke-opacity:1; fill:none\" points=\"275.201,1192.78 2352.76,1192.78 \"/>\n",
       "<polyline clip-path=\"url(#clip280)\" style=\"stroke:#000000; stroke-linecap:round; stroke-linejoin:round; stroke-width:4; stroke-opacity:1; fill:none\" points=\"334,1211.68 334,1173.89 \"/>\n",
       "<polyline clip-path=\"url(#clip280)\" style=\"stroke:#000000; stroke-linecap:round; stroke-linejoin:round; stroke-width:4; stroke-opacity:1; fill:none\" points=\"725.992,1211.68 725.992,1173.89 \"/>\n",
       "<polyline clip-path=\"url(#clip280)\" style=\"stroke:#000000; stroke-linecap:round; stroke-linejoin:round; stroke-width:4; stroke-opacity:1; fill:none\" points=\"1509.97,1211.68 1509.97,1173.89 \"/>\n",
       "<polyline clip-path=\"url(#clip280)\" style=\"stroke:#000000; stroke-linecap:round; stroke-linejoin:round; stroke-width:4; stroke-opacity:1; fill:none\" points=\"1901.97,1211.68 1901.97,1173.89 \"/>\n",
       "<polyline clip-path=\"url(#clip280)\" style=\"stroke:#000000; stroke-linecap:round; stroke-linejoin:round; stroke-width:4; stroke-opacity:1; fill:none\" points=\"2293.96,1211.68 2293.96,1173.89 \"/>\n",
       "<path clip-path=\"url(#clip280)\" d=\"M272.982 1238.35 L302.658 1238.35 L302.658 1242.29 L272.982 1242.29 L272.982 1238.35 Z\" fill=\"#000000\" fill-rule=\"nonzero\" fill-opacity=\"1\" /><path clip-path=\"url(#clip280)\" d=\"M313.56 1251.25 L321.199 1251.25 L321.199 1224.88 L312.889 1226.55 L312.889 1222.29 L321.153 1220.62 L325.829 1220.62 L325.829 1251.25 L333.468 1251.25 L333.468 1255.18 L313.56 1255.18 L313.56 1251.25 Z\" fill=\"#000000\" fill-rule=\"nonzero\" fill-opacity=\"1\" /><path clip-path=\"url(#clip280)\" d=\"M352.912 1223.7 Q349.301 1223.7 347.472 1227.27 Q345.667 1230.81 345.667 1237.94 Q345.667 1245.04 347.472 1248.61 Q349.301 1252.15 352.912 1252.15 Q356.546 1252.15 358.352 1248.61 Q360.181 1245.04 360.181 1237.94 Q360.181 1230.81 358.352 1227.27 Q356.546 1223.7 352.912 1223.7 M352.912 1220 Q358.722 1220 361.778 1224.6 Q364.857 1229.19 364.857 1237.94 Q364.857 1246.67 361.778 1251.27 Q358.722 1255.85 352.912 1255.85 Q347.102 1255.85 344.023 1251.27 Q340.968 1246.67 340.968 1237.94 Q340.968 1229.19 344.023 1224.6 Q347.102 1220 352.912 1220 Z\" fill=\"#000000\" fill-rule=\"nonzero\" fill-opacity=\"1\" /><path clip-path=\"url(#clip280)\" d=\"M383.074 1223.7 Q379.463 1223.7 377.634 1227.27 Q375.829 1230.81 375.829 1237.94 Q375.829 1245.04 377.634 1248.61 Q379.463 1252.15 383.074 1252.15 Q386.708 1252.15 388.514 1248.61 Q390.342 1245.04 390.342 1237.94 Q390.342 1230.81 388.514 1227.27 Q386.708 1223.7 383.074 1223.7 M383.074 1220 Q388.884 1220 391.94 1224.6 Q395.018 1229.19 395.018 1237.94 Q395.018 1246.67 391.94 1251.27 Q388.884 1255.85 383.074 1255.85 Q377.264 1255.85 374.185 1251.27 Q371.13 1246.67 371.13 1237.94 Q371.13 1229.19 374.185 1224.6 Q377.264 1220 383.074 1220 Z\" fill=\"#000000\" fill-rule=\"nonzero\" fill-opacity=\"1\" /><path clip-path=\"url(#clip280)\" d=\"M680.054 1238.35 L709.73 1238.35 L709.73 1242.29 L680.054 1242.29 L680.054 1238.35 Z\" fill=\"#000000\" fill-rule=\"nonzero\" fill-opacity=\"1\" /><path clip-path=\"url(#clip280)\" d=\"M719.869 1220.62 L738.225 1220.62 L738.225 1224.56 L724.151 1224.56 L724.151 1233.03 Q725.17 1232.68 726.188 1232.52 Q727.207 1232.34 728.225 1232.34 Q734.012 1232.34 737.392 1235.51 Q740.772 1238.68 740.772 1244.1 Q740.772 1249.67 737.299 1252.78 Q733.827 1255.85 727.508 1255.85 Q725.332 1255.85 723.063 1255.48 Q720.818 1255.11 718.411 1254.37 L718.411 1249.67 Q720.494 1250.81 722.716 1251.36 Q724.938 1251.92 727.415 1251.92 Q731.42 1251.92 733.758 1249.81 Q736.096 1247.71 736.096 1244.1 Q736.096 1240.48 733.758 1238.38 Q731.42 1236.27 727.415 1236.27 Q725.54 1236.27 723.665 1236.69 Q721.813 1237.1 719.869 1237.98 L719.869 1220.62 Z\" fill=\"#000000\" fill-rule=\"nonzero\" fill-opacity=\"1\" /><path clip-path=\"url(#clip280)\" d=\"M759.984 1223.7 Q756.373 1223.7 754.545 1227.27 Q752.739 1230.81 752.739 1237.94 Q752.739 1245.04 754.545 1248.61 Q756.373 1252.15 759.984 1252.15 Q763.619 1252.15 765.424 1248.61 Q767.253 1245.04 767.253 1237.94 Q767.253 1230.81 765.424 1227.27 Q763.619 1223.7 759.984 1223.7 M759.984 1220 Q765.795 1220 768.85 1224.6 Q771.929 1229.19 771.929 1237.94 Q771.929 1246.67 768.85 1251.27 Q765.795 1255.85 759.984 1255.85 Q754.174 1255.85 751.096 1251.27 Q748.04 1246.67 748.04 1237.94 Q748.04 1229.19 751.096 1224.6 Q754.174 1220 759.984 1220 Z\" fill=\"#000000\" fill-rule=\"nonzero\" fill-opacity=\"1\" /><path clip-path=\"url(#clip280)\" d=\"M1484.67 1220.62 L1503.03 1220.62 L1503.03 1224.56 L1488.96 1224.56 L1488.96 1233.03 Q1489.97 1232.68 1490.99 1232.52 Q1492.01 1232.34 1493.03 1232.34 Q1498.82 1232.34 1502.2 1235.51 Q1505.58 1238.68 1505.58 1244.1 Q1505.58 1249.67 1502.1 1252.78 Q1498.63 1255.85 1492.31 1255.85 Q1490.14 1255.85 1487.87 1255.48 Q1485.62 1255.11 1483.22 1254.37 L1483.22 1249.67 Q1485.3 1250.81 1487.52 1251.36 Q1489.74 1251.92 1492.22 1251.92 Q1496.22 1251.92 1498.56 1249.81 Q1500.9 1247.71 1500.9 1244.1 Q1500.9 1240.48 1498.56 1238.38 Q1496.22 1236.27 1492.22 1236.27 Q1490.34 1236.27 1488.47 1236.69 Q1486.62 1237.1 1484.67 1237.98 L1484.67 1220.62 Z\" fill=\"#000000\" fill-rule=\"nonzero\" fill-opacity=\"1\" /><path clip-path=\"url(#clip280)\" d=\"M1524.79 1223.7 Q1521.18 1223.7 1519.35 1227.27 Q1517.54 1230.81 1517.54 1237.94 Q1517.54 1245.04 1519.35 1248.61 Q1521.18 1252.15 1524.79 1252.15 Q1528.42 1252.15 1530.23 1248.61 Q1532.06 1245.04 1532.06 1237.94 Q1532.06 1230.81 1530.23 1227.27 Q1528.42 1223.7 1524.79 1223.7 M1524.79 1220 Q1530.6 1220 1533.65 1224.6 Q1536.73 1229.19 1536.73 1237.94 Q1536.73 1246.67 1533.65 1251.27 Q1530.6 1255.85 1524.79 1255.85 Q1518.98 1255.85 1515.9 1251.27 Q1512.84 1246.67 1512.84 1237.94 Q1512.84 1229.19 1515.9 1224.6 Q1518.98 1220 1524.79 1220 Z\" fill=\"#000000\" fill-rule=\"nonzero\" fill-opacity=\"1\" /><path clip-path=\"url(#clip280)\" d=\"M1861.57 1251.25 L1869.21 1251.25 L1869.21 1224.88 L1860.9 1226.55 L1860.9 1222.29 L1869.17 1220.62 L1873.84 1220.62 L1873.84 1251.25 L1881.48 1251.25 L1881.48 1255.18 L1861.57 1255.18 L1861.57 1251.25 Z\" fill=\"#000000\" fill-rule=\"nonzero\" fill-opacity=\"1\" /><path clip-path=\"url(#clip280)\" d=\"M1900.92 1223.7 Q1897.31 1223.7 1895.48 1227.27 Q1893.68 1230.81 1893.68 1237.94 Q1893.68 1245.04 1895.48 1248.61 Q1897.31 1252.15 1900.92 1252.15 Q1904.56 1252.15 1906.36 1248.61 Q1908.19 1245.04 1908.19 1237.94 Q1908.19 1230.81 1906.36 1227.27 Q1904.56 1223.7 1900.92 1223.7 M1900.92 1220 Q1906.73 1220 1909.79 1224.6 Q1912.87 1229.19 1912.87 1237.94 Q1912.87 1246.67 1909.79 1251.27 Q1906.73 1255.85 1900.92 1255.85 Q1895.11 1255.85 1892.04 1251.27 Q1888.98 1246.67 1888.98 1237.94 Q1888.98 1229.19 1892.04 1224.6 Q1895.11 1220 1900.92 1220 Z\" fill=\"#000000\" fill-rule=\"nonzero\" fill-opacity=\"1\" /><path clip-path=\"url(#clip280)\" d=\"M1931.09 1223.7 Q1927.47 1223.7 1925.65 1227.27 Q1923.84 1230.81 1923.84 1237.94 Q1923.84 1245.04 1925.65 1248.61 Q1927.47 1252.15 1931.09 1252.15 Q1934.72 1252.15 1936.53 1248.61 Q1938.35 1245.04 1938.35 1237.94 Q1938.35 1230.81 1936.53 1227.27 Q1934.72 1223.7 1931.09 1223.7 M1931.09 1220 Q1936.9 1220 1939.95 1224.6 Q1943.03 1229.19 1943.03 1237.94 Q1943.03 1246.67 1939.95 1251.27 Q1936.9 1255.85 1931.09 1255.85 Q1925.28 1255.85 1922.2 1251.27 Q1919.14 1246.67 1919.14 1237.94 Q1919.14 1229.19 1922.2 1224.6 Q1925.28 1220 1931.09 1220 Z\" fill=\"#000000\" fill-rule=\"nonzero\" fill-opacity=\"1\" /><path clip-path=\"url(#clip280)\" d=\"M2253.56 1251.25 L2261.2 1251.25 L2261.2 1224.88 L2252.89 1226.55 L2252.89 1222.29 L2261.16 1220.62 L2265.83 1220.62 L2265.83 1251.25 L2273.47 1251.25 L2273.47 1255.18 L2253.56 1255.18 L2253.56 1251.25 Z\" fill=\"#000000\" fill-rule=\"nonzero\" fill-opacity=\"1\" /><path clip-path=\"url(#clip280)\" d=\"M2282.96 1220.62 L2301.32 1220.62 L2301.32 1224.56 L2287.24 1224.56 L2287.24 1233.03 Q2288.26 1232.68 2289.28 1232.52 Q2290.3 1232.34 2291.32 1232.34 Q2297.11 1232.34 2300.48 1235.51 Q2303.86 1238.68 2303.86 1244.1 Q2303.86 1249.67 2300.39 1252.78 Q2296.92 1255.85 2290.6 1255.85 Q2288.42 1255.85 2286.16 1255.48 Q2283.91 1255.11 2281.5 1254.37 L2281.5 1249.67 Q2283.59 1250.81 2285.81 1251.36 Q2288.03 1251.92 2290.51 1251.92 Q2294.51 1251.92 2296.85 1249.81 Q2299.19 1247.71 2299.19 1244.1 Q2299.19 1240.48 2296.85 1238.38 Q2294.51 1236.27 2290.51 1236.27 Q2288.63 1236.27 2286.76 1236.69 Q2284.91 1237.1 2282.96 1237.98 L2282.96 1220.62 Z\" fill=\"#000000\" fill-rule=\"nonzero\" fill-opacity=\"1\" /><path clip-path=\"url(#clip280)\" d=\"M2323.08 1223.7 Q2319.47 1223.7 2317.64 1227.27 Q2315.83 1230.81 2315.83 1237.94 Q2315.83 1245.04 2317.64 1248.61 Q2319.47 1252.15 2323.08 1252.15 Q2326.71 1252.15 2328.52 1248.61 Q2330.35 1245.04 2330.35 1237.94 Q2330.35 1230.81 2328.52 1227.27 Q2326.71 1223.7 2323.08 1223.7 M2323.08 1220 Q2328.89 1220 2331.94 1224.6 Q2335.02 1229.19 2335.02 1237.94 Q2335.02 1246.67 2331.94 1251.27 Q2328.89 1255.85 2323.08 1255.85 Q2317.27 1255.85 2314.19 1251.27 Q2311.13 1246.67 2311.13 1237.94 Q2311.13 1229.19 2314.19 1224.6 Q2317.27 1220 2323.08 1220 Z\" fill=\"#000000\" fill-rule=\"nonzero\" fill-opacity=\"1\" /><polyline clip-path=\"url(#clip282)\" style=\"stroke:#000000; stroke-linecap:round; stroke-linejoin:round; stroke-width:2; stroke-opacity:0.1; fill:none\" points=\"275.201,895.18 2352.76,895.18 \"/>\n",
       "<polyline clip-path=\"url(#clip282)\" style=\"stroke:#000000; stroke-linecap:round; stroke-linejoin:round; stroke-width:2; stroke-opacity:0.1; fill:none\" points=\"275.201,597.577 2352.76,597.577 \"/>\n",
       "<polyline clip-path=\"url(#clip282)\" style=\"stroke:#000000; stroke-linecap:round; stroke-linejoin:round; stroke-width:2; stroke-opacity:0.1; fill:none\" points=\"275.201,299.974 2352.76,299.974 \"/>\n",
       "<polyline clip-path=\"url(#clip280)\" style=\"stroke:#000000; stroke-linecap:round; stroke-linejoin:round; stroke-width:4; stroke-opacity:1; fill:none\" points=\"1117.98,1486.45 1117.98,47.2441 \"/>\n",
       "<polyline clip-path=\"url(#clip280)\" style=\"stroke:#000000; stroke-linecap:round; stroke-linejoin:round; stroke-width:4; stroke-opacity:1; fill:none\" points=\"1099.09,895.18 1136.88,895.18 \"/>\n",
       "<polyline clip-path=\"url(#clip280)\" style=\"stroke:#000000; stroke-linecap:round; stroke-linejoin:round; stroke-width:4; stroke-opacity:1; fill:none\" points=\"1099.09,597.577 1136.88,597.577 \"/>\n",
       "<polyline clip-path=\"url(#clip280)\" style=\"stroke:#000000; stroke-linecap:round; stroke-linejoin:round; stroke-width:4; stroke-opacity:1; fill:none\" points=\"1099.09,299.974 1136.88,299.974 \"/>\n",
       "<path clip-path=\"url(#clip280)\" d=\"M896.181 914.973 L903.82 914.973 L903.82 888.607 L895.51 890.274 L895.51 886.015 L903.774 884.348 L908.449 884.348 L908.449 914.973 L916.088 914.973 L916.088 918.908 L896.181 918.908 L896.181 914.973 Z\" fill=\"#000000\" fill-rule=\"nonzero\" fill-opacity=\"1\" /><path clip-path=\"url(#clip280)\" d=\"M925.533 913.028 L930.417 913.028 L930.417 918.908 L925.533 918.908 L925.533 913.028 Z\" fill=\"#000000\" fill-rule=\"nonzero\" fill-opacity=\"1\" /><path clip-path=\"url(#clip280)\" d=\"M950.602 887.427 Q946.991 887.427 945.162 890.992 Q943.357 894.533 943.357 901.663 Q943.357 908.769 945.162 912.334 Q946.991 915.876 950.602 915.876 Q954.236 915.876 956.042 912.334 Q957.871 908.769 957.871 901.663 Q957.871 894.533 956.042 890.992 Q954.236 887.427 950.602 887.427 M950.602 883.723 Q956.412 883.723 959.468 888.33 Q962.546 892.913 962.546 901.663 Q962.546 910.39 959.468 914.996 Q956.412 919.579 950.602 919.579 Q944.792 919.579 941.713 914.996 Q938.658 910.39 938.658 901.663 Q938.658 892.913 941.713 888.33 Q944.792 883.723 950.602 883.723 Z\" fill=\"#000000\" fill-rule=\"nonzero\" fill-opacity=\"1\" /><path clip-path=\"url(#clip280)\" d=\"M998.935 893.445 L988.356 904.07 L998.935 914.649 L996.18 917.45 L985.556 906.825 L974.931 917.45 L972.199 914.649 L982.755 904.07 L972.199 893.445 L974.931 890.644 L985.556 901.269 L996.18 890.644 L998.935 893.445 Z\" fill=\"#000000\" fill-rule=\"nonzero\" fill-opacity=\"1\" /><path clip-path=\"url(#clip280)\" d=\"M1011.3 914.973 L1018.94 914.973 L1018.94 888.607 L1010.62 890.274 L1010.62 886.015 L1018.89 884.348 L1023.56 884.348 L1023.56 914.973 L1031.2 914.973 L1031.2 918.908 L1011.3 918.908 L1011.3 914.973 Z\" fill=\"#000000\" fill-rule=\"nonzero\" fill-opacity=\"1\" /><path clip-path=\"url(#clip280)\" d=\"M1050.65 887.427 Q1047.04 887.427 1045.21 890.992 Q1043.4 894.533 1043.4 901.663 Q1043.4 908.769 1045.21 912.334 Q1047.04 915.876 1050.65 915.876 Q1054.28 915.876 1056.09 912.334 Q1057.92 908.769 1057.92 901.663 Q1057.92 894.533 1056.09 890.992 Q1054.28 887.427 1050.65 887.427 M1050.65 883.723 Q1056.46 883.723 1059.51 888.33 Q1062.59 892.913 1062.59 901.663 Q1062.59 910.39 1059.51 914.996 Q1056.46 919.579 1050.65 919.579 Q1044.84 919.579 1041.76 914.996 Q1038.7 910.39 1038.7 901.663 Q1038.7 892.913 1041.76 888.33 Q1044.84 883.723 1050.65 883.723 Z\" fill=\"#000000\" fill-rule=\"nonzero\" fill-opacity=\"1\" /><path clip-path=\"url(#clip280)\" d=\"M1072.62 875.944 Q1070.06 875.944 1068.55 877.693 Q1067.07 879.442 1067.07 882.489 Q1067.07 885.517 1068.55 887.285 Q1070.06 889.034 1072.62 889.034 Q1075.17 889.034 1076.66 887.285 Q1078.17 885.517 1078.17 882.489 Q1078.17 879.442 1076.66 877.693 Q1075.17 875.944 1072.62 875.944 M1080.16 864.038 L1080.16 867.499 Q1078.73 866.822 1077.26 866.465 Q1075.81 866.107 1074.38 866.107 Q1070.62 866.107 1068.63 868.646 Q1066.65 871.185 1066.37 876.32 Q1067.48 874.683 1069.16 873.818 Q1070.83 872.934 1072.84 872.934 Q1077.07 872.934 1079.52 875.511 Q1081.98 878.069 1081.98 882.489 Q1081.98 886.815 1079.43 889.429 Q1076.87 892.043 1072.62 892.043 Q1067.75 892.043 1065.17 888.319 Q1062.59 884.576 1062.59 877.486 Q1062.59 870.828 1065.75 866.878 Q1068.91 862.91 1074.23 862.91 Q1075.66 862.91 1077.11 863.192 Q1078.58 863.474 1080.16 864.038 Z\" fill=\"#000000\" fill-rule=\"nonzero\" fill-opacity=\"1\" /><path clip-path=\"url(#clip280)\" d=\"M899.399 617.37 L915.718 617.37 L915.718 621.305 L893.774 621.305 L893.774 617.37 Q896.436 614.615 901.019 609.986 Q905.625 605.333 906.806 603.99 Q909.051 601.467 909.931 599.731 Q910.834 597.972 910.834 596.282 Q910.834 593.527 908.889 591.791 Q906.968 590.055 903.866 590.055 Q901.667 590.055 899.213 590.819 Q896.783 591.583 894.005 593.134 L894.005 588.412 Q896.829 587.277 899.283 586.699 Q901.737 586.12 903.774 586.12 Q909.144 586.12 912.338 588.805 Q915.533 591.49 915.533 595.981 Q915.533 598.111 914.723 600.032 Q913.936 601.93 911.829 604.523 Q911.25 605.194 908.149 608.412 Q905.047 611.606 899.399 617.37 Z\" fill=\"#000000\" fill-rule=\"nonzero\" fill-opacity=\"1\" /><path clip-path=\"url(#clip280)\" d=\"M925.533 615.425 L930.417 615.425 L930.417 621.305 L925.533 621.305 L925.533 615.425 Z\" fill=\"#000000\" fill-rule=\"nonzero\" fill-opacity=\"1\" /><path clip-path=\"url(#clip280)\" d=\"M950.602 589.824 Q946.991 589.824 945.162 593.389 Q943.357 596.93 943.357 604.06 Q943.357 611.166 945.162 614.731 Q946.991 618.273 950.602 618.273 Q954.236 618.273 956.042 614.731 Q957.871 611.166 957.871 604.06 Q957.871 596.93 956.042 593.389 Q954.236 589.824 950.602 589.824 M950.602 586.12 Q956.412 586.12 959.468 590.726 Q962.546 595.31 962.546 604.06 Q962.546 612.787 959.468 617.393 Q956.412 621.976 950.602 621.976 Q944.792 621.976 941.713 617.393 Q938.658 612.787 938.658 604.06 Q938.658 595.31 941.713 590.726 Q944.792 586.12 950.602 586.12 Z\" fill=\"#000000\" fill-rule=\"nonzero\" fill-opacity=\"1\" /><path clip-path=\"url(#clip280)\" d=\"M998.935 595.842 L988.356 606.467 L998.935 617.046 L996.18 619.847 L985.556 609.222 L974.931 619.847 L972.199 617.046 L982.755 606.467 L972.199 595.842 L974.931 593.041 L985.556 603.666 L996.18 593.041 L998.935 595.842 Z\" fill=\"#000000\" fill-rule=\"nonzero\" fill-opacity=\"1\" /><path clip-path=\"url(#clip280)\" d=\"M1011.3 617.37 L1018.94 617.37 L1018.94 591.004 L1010.62 592.671 L1010.62 588.412 L1018.89 586.745 L1023.56 586.745 L1023.56 617.37 L1031.2 617.37 L1031.2 621.305 L1011.3 621.305 L1011.3 617.37 Z\" fill=\"#000000\" fill-rule=\"nonzero\" fill-opacity=\"1\" /><path clip-path=\"url(#clip280)\" d=\"M1050.65 589.824 Q1047.04 589.824 1045.21 593.389 Q1043.4 596.93 1043.4 604.06 Q1043.4 611.166 1045.21 614.731 Q1047.04 618.273 1050.65 618.273 Q1054.28 618.273 1056.09 614.731 Q1057.92 611.166 1057.92 604.06 Q1057.92 596.93 1056.09 593.389 Q1054.28 589.824 1050.65 589.824 M1050.65 586.12 Q1056.46 586.12 1059.51 590.726 Q1062.59 595.31 1062.59 604.06 Q1062.59 612.787 1059.51 617.393 Q1056.46 621.976 1050.65 621.976 Q1044.84 621.976 1041.76 617.393 Q1038.7 612.787 1038.7 604.06 Q1038.7 595.31 1041.76 590.726 Q1044.84 586.12 1050.65 586.12 Z\" fill=\"#000000\" fill-rule=\"nonzero\" fill-opacity=\"1\" /><path clip-path=\"url(#clip280)\" d=\"M1072.62 578.341 Q1070.06 578.341 1068.55 580.09 Q1067.07 581.839 1067.07 584.886 Q1067.07 587.914 1068.55 589.682 Q1070.06 591.431 1072.62 591.431 Q1075.17 591.431 1076.66 589.682 Q1078.17 587.914 1078.17 584.886 Q1078.17 581.839 1076.66 580.09 Q1075.17 578.341 1072.62 578.341 M1080.16 566.435 L1080.16 569.896 Q1078.73 569.219 1077.26 568.861 Q1075.81 568.504 1074.38 568.504 Q1070.62 568.504 1068.63 571.043 Q1066.65 573.582 1066.37 578.717 Q1067.48 577.08 1069.16 576.215 Q1070.83 575.331 1072.84 575.331 Q1077.07 575.331 1079.52 577.908 Q1081.98 580.466 1081.98 584.886 Q1081.98 589.211 1079.43 591.826 Q1076.87 594.44 1072.62 594.44 Q1067.75 594.44 1065.17 590.716 Q1062.59 586.973 1062.59 579.883 Q1062.59 573.225 1065.75 569.275 Q1068.91 565.307 1074.23 565.307 Q1075.66 565.307 1077.11 565.589 Q1078.58 565.871 1080.16 566.435 Z\" fill=\"#000000\" fill-rule=\"nonzero\" fill-opacity=\"1\" /><path clip-path=\"url(#clip280)\" d=\"M909.537 305.068 Q912.894 305.785 914.769 308.054 Q916.667 310.322 916.667 313.656 Q916.667 318.771 913.149 321.572 Q909.63 324.373 903.149 324.373 Q900.973 324.373 898.658 323.933 Q896.366 323.517 893.913 322.66 L893.913 318.146 Q895.857 319.281 898.172 319.859 Q900.487 320.438 903.01 320.438 Q907.408 320.438 909.699 318.702 Q912.014 316.966 912.014 313.656 Q912.014 310.6 909.862 308.887 Q907.732 307.151 903.912 307.151 L899.885 307.151 L899.885 303.309 L904.098 303.309 Q907.547 303.309 909.375 301.943 Q911.204 300.554 911.204 297.961 Q911.204 295.299 909.306 293.887 Q907.431 292.452 903.912 292.452 Q901.991 292.452 899.792 292.869 Q897.593 293.285 894.954 294.165 L894.954 289.998 Q897.616 289.258 899.931 288.887 Q902.269 288.517 904.329 288.517 Q909.653 288.517 912.755 290.948 Q915.857 293.355 915.857 297.475 Q915.857 300.346 914.213 302.336 Q912.57 304.304 909.537 305.068 Z\" fill=\"#000000\" fill-rule=\"nonzero\" fill-opacity=\"1\" /><path clip-path=\"url(#clip280)\" d=\"M925.533 317.822 L930.417 317.822 L930.417 323.702 L925.533 323.702 L925.533 317.822 Z\" fill=\"#000000\" fill-rule=\"nonzero\" fill-opacity=\"1\" /><path clip-path=\"url(#clip280)\" d=\"M950.602 292.221 Q946.991 292.221 945.162 295.785 Q943.357 299.327 943.357 306.457 Q943.357 313.563 945.162 317.128 Q946.991 320.67 950.602 320.67 Q954.236 320.67 956.042 317.128 Q957.871 313.563 957.871 306.457 Q957.871 299.327 956.042 295.785 Q954.236 292.221 950.602 292.221 M950.602 288.517 Q956.412 288.517 959.468 293.123 Q962.546 297.707 962.546 306.457 Q962.546 315.184 959.468 319.79 Q956.412 324.373 950.602 324.373 Q944.792 324.373 941.713 319.79 Q938.658 315.184 938.658 306.457 Q938.658 297.707 941.713 293.123 Q944.792 288.517 950.602 288.517 Z\" fill=\"#000000\" fill-rule=\"nonzero\" fill-opacity=\"1\" /><path clip-path=\"url(#clip280)\" d=\"M998.935 298.239 L988.356 308.864 L998.935 319.443 L996.18 322.244 L985.556 311.619 L974.931 322.244 L972.199 319.443 L982.755 308.864 L972.199 298.239 L974.931 295.438 L985.556 306.063 L996.18 295.438 L998.935 298.239 Z\" fill=\"#000000\" fill-rule=\"nonzero\" fill-opacity=\"1\" /><path clip-path=\"url(#clip280)\" d=\"M1011.3 319.767 L1018.94 319.767 L1018.94 293.401 L1010.62 295.068 L1010.62 290.809 L1018.89 289.142 L1023.56 289.142 L1023.56 319.767 L1031.2 319.767 L1031.2 323.702 L1011.3 323.702 L1011.3 319.767 Z\" fill=\"#000000\" fill-rule=\"nonzero\" fill-opacity=\"1\" /><path clip-path=\"url(#clip280)\" d=\"M1050.65 292.221 Q1047.04 292.221 1045.21 295.785 Q1043.4 299.327 1043.4 306.457 Q1043.4 313.563 1045.21 317.128 Q1047.04 320.67 1050.65 320.67 Q1054.28 320.67 1056.09 317.128 Q1057.92 313.563 1057.92 306.457 Q1057.92 299.327 1056.09 295.785 Q1054.28 292.221 1050.65 292.221 M1050.65 288.517 Q1056.46 288.517 1059.51 293.123 Q1062.59 297.707 1062.59 306.457 Q1062.59 315.184 1059.51 319.79 Q1056.46 324.373 1050.65 324.373 Q1044.84 324.373 1041.76 319.79 Q1038.7 315.184 1038.7 306.457 Q1038.7 297.707 1041.76 293.123 Q1044.84 288.517 1050.65 288.517 Z\" fill=\"#000000\" fill-rule=\"nonzero\" fill-opacity=\"1\" /><path clip-path=\"url(#clip280)\" d=\"M1072.62 280.738 Q1070.06 280.738 1068.55 282.487 Q1067.07 284.236 1067.07 287.283 Q1067.07 290.311 1068.55 292.079 Q1070.06 293.828 1072.62 293.828 Q1075.17 293.828 1076.66 292.079 Q1078.17 290.311 1078.17 287.283 Q1078.17 284.236 1076.66 282.487 Q1075.17 280.738 1072.62 280.738 M1080.16 268.832 L1080.16 272.293 Q1078.73 271.616 1077.26 271.258 Q1075.81 270.901 1074.38 270.901 Q1070.62 270.901 1068.63 273.44 Q1066.65 275.979 1066.37 281.114 Q1067.48 279.477 1069.16 278.612 Q1070.83 277.728 1072.84 277.728 Q1077.07 277.728 1079.52 280.305 Q1081.98 282.863 1081.98 287.283 Q1081.98 291.608 1079.43 294.223 Q1076.87 296.837 1072.62 296.837 Q1067.75 296.837 1065.17 293.113 Q1062.59 289.37 1062.59 282.28 Q1062.59 275.622 1065.75 271.672 Q1068.91 267.704 1074.23 267.704 Q1075.66 267.704 1077.11 267.986 Q1078.58 268.268 1080.16 268.832 Z\" fill=\"#000000\" fill-rule=\"nonzero\" fill-opacity=\"1\" /><polyline clip-path=\"url(#clip282)\" style=\"stroke:#009af9; stroke-linecap:round; stroke-linejoin:round; stroke-width:4; stroke-opacity:1; fill:none\" points=\"334,1445.72 529.996,1293.2 725.992,1218.81 921.987,1194.64 1117.98,1192.78 1313.98,1185.35 1509.97,1144.44 1705.97,1042.14 1901.97,850.569 2097.96,541.813 2293.96,87.9763 \"/>\n",
       "<circle clip-path=\"url(#clip282)\" cx=\"334\" cy=\"1445.72\" r=\"14.4\" fill=\"#e26f46\" fill-rule=\"evenodd\" fill-opacity=\"1\" stroke=\"#000000\" stroke-opacity=\"1\" stroke-width=\"3.2\"/>\n",
       "<circle clip-path=\"url(#clip282)\" cx=\"529.996\" cy=\"1293.2\" r=\"14.4\" fill=\"#e26f46\" fill-rule=\"evenodd\" fill-opacity=\"1\" stroke=\"#000000\" stroke-opacity=\"1\" stroke-width=\"3.2\"/>\n",
       "<circle clip-path=\"url(#clip282)\" cx=\"725.992\" cy=\"1218.81\" r=\"14.4\" fill=\"#e26f46\" fill-rule=\"evenodd\" fill-opacity=\"1\" stroke=\"#000000\" stroke-opacity=\"1\" stroke-width=\"3.2\"/>\n",
       "<circle clip-path=\"url(#clip282)\" cx=\"921.987\" cy=\"1194.64\" r=\"14.4\" fill=\"#e26f46\" fill-rule=\"evenodd\" fill-opacity=\"1\" stroke=\"#000000\" stroke-opacity=\"1\" stroke-width=\"3.2\"/>\n",
       "<circle clip-path=\"url(#clip282)\" cx=\"1117.98\" cy=\"1192.78\" r=\"14.4\" fill=\"#e26f46\" fill-rule=\"evenodd\" fill-opacity=\"1\" stroke=\"#000000\" stroke-opacity=\"1\" stroke-width=\"3.2\"/>\n",
       "<circle clip-path=\"url(#clip282)\" cx=\"1313.98\" cy=\"1185.35\" r=\"14.4\" fill=\"#e26f46\" fill-rule=\"evenodd\" fill-opacity=\"1\" stroke=\"#000000\" stroke-opacity=\"1\" stroke-width=\"3.2\"/>\n",
       "<circle clip-path=\"url(#clip282)\" cx=\"1509.97\" cy=\"1144.44\" r=\"14.4\" fill=\"#e26f46\" fill-rule=\"evenodd\" fill-opacity=\"1\" stroke=\"#000000\" stroke-opacity=\"1\" stroke-width=\"3.2\"/>\n",
       "<circle clip-path=\"url(#clip282)\" cx=\"1705.97\" cy=\"1042.14\" r=\"14.4\" fill=\"#e26f46\" fill-rule=\"evenodd\" fill-opacity=\"1\" stroke=\"#000000\" stroke-opacity=\"1\" stroke-width=\"3.2\"/>\n",
       "<circle clip-path=\"url(#clip282)\" cx=\"1901.97\" cy=\"850.569\" r=\"14.4\" fill=\"#e26f46\" fill-rule=\"evenodd\" fill-opacity=\"1\" stroke=\"#000000\" stroke-opacity=\"1\" stroke-width=\"3.2\"/>\n",
       "<circle clip-path=\"url(#clip282)\" cx=\"2097.96\" cy=\"541.813\" r=\"14.4\" fill=\"#e26f46\" fill-rule=\"evenodd\" fill-opacity=\"1\" stroke=\"#000000\" stroke-opacity=\"1\" stroke-width=\"3.2\"/>\n",
       "<circle clip-path=\"url(#clip282)\" cx=\"2293.96\" cy=\"87.9763\" r=\"14.4\" fill=\"#e26f46\" fill-rule=\"evenodd\" fill-opacity=\"1\" stroke=\"#000000\" stroke-opacity=\"1\" stroke-width=\"3.2\"/>\n",
       "</svg>\n"
      ],
      "text/html": [
       "<?xml version=\"1.0\" encoding=\"utf-8\"?>\n",
       "<svg xmlns=\"http://www.w3.org/2000/svg\" xmlns:xlink=\"http://www.w3.org/1999/xlink\" width=\"600\" height=\"400\" viewBox=\"0 0 2400 1600\">\n",
       "<defs>\n",
       "  <clipPath id=\"clip330\">\n",
       "    <rect x=\"0\" y=\"0\" width=\"2400\" height=\"1600\"/>\n",
       "  </clipPath>\n",
       "</defs>\n",
       "<path clip-path=\"url(#clip330)\" d=\"M0 1600 L2400 1600 L2400 0 L0 0  Z\" fill=\"#ffffff\" fill-rule=\"evenodd\" fill-opacity=\"1\"/>\n",
       "<defs>\n",
       "  <clipPath id=\"clip331\">\n",
       "    <rect x=\"480\" y=\"0\" width=\"1681\" height=\"1600\"/>\n",
       "  </clipPath>\n",
       "</defs>\n",
       "<path clip-path=\"url(#clip330)\" d=\"M275.201 1486.45 L2352.76 1486.45 L2352.76 47.2441 L275.201 47.2441  Z\" fill=\"#ffffff\" fill-rule=\"evenodd\" fill-opacity=\"1\"/>\n",
       "<defs>\n",
       "  <clipPath id=\"clip332\">\n",
       "    <rect x=\"275\" y=\"47\" width=\"2079\" height=\"1440\"/>\n",
       "  </clipPath>\n",
       "</defs>\n",
       "<polyline clip-path=\"url(#clip332)\" style=\"stroke:#000000; stroke-linecap:round; stroke-linejoin:round; stroke-width:2; stroke-opacity:0.1; fill:none\" points=\"334,1486.45 334,47.2441 \"/>\n",
       "<polyline clip-path=\"url(#clip332)\" style=\"stroke:#000000; stroke-linecap:round; stroke-linejoin:round; stroke-width:2; stroke-opacity:0.1; fill:none\" points=\"725.992,1486.45 725.992,47.2441 \"/>\n",
       "<polyline clip-path=\"url(#clip332)\" style=\"stroke:#000000; stroke-linecap:round; stroke-linejoin:round; stroke-width:2; stroke-opacity:0.1; fill:none\" points=\"1509.97,1486.45 1509.97,47.2441 \"/>\n",
       "<polyline clip-path=\"url(#clip332)\" style=\"stroke:#000000; stroke-linecap:round; stroke-linejoin:round; stroke-width:2; stroke-opacity:0.1; fill:none\" points=\"1901.97,1486.45 1901.97,47.2441 \"/>\n",
       "<polyline clip-path=\"url(#clip332)\" style=\"stroke:#000000; stroke-linecap:round; stroke-linejoin:round; stroke-width:2; stroke-opacity:0.1; fill:none\" points=\"2293.96,1486.45 2293.96,47.2441 \"/>\n",
       "<polyline clip-path=\"url(#clip330)\" style=\"stroke:#000000; stroke-linecap:round; stroke-linejoin:round; stroke-width:4; stroke-opacity:1; fill:none\" points=\"275.201,1192.78 2352.76,1192.78 \"/>\n",
       "<polyline clip-path=\"url(#clip330)\" style=\"stroke:#000000; stroke-linecap:round; stroke-linejoin:round; stroke-width:4; stroke-opacity:1; fill:none\" points=\"334,1211.68 334,1173.89 \"/>\n",
       "<polyline clip-path=\"url(#clip330)\" style=\"stroke:#000000; stroke-linecap:round; stroke-linejoin:round; stroke-width:4; stroke-opacity:1; fill:none\" points=\"725.992,1211.68 725.992,1173.89 \"/>\n",
       "<polyline clip-path=\"url(#clip330)\" style=\"stroke:#000000; stroke-linecap:round; stroke-linejoin:round; stroke-width:4; stroke-opacity:1; fill:none\" points=\"1509.97,1211.68 1509.97,1173.89 \"/>\n",
       "<polyline clip-path=\"url(#clip330)\" style=\"stroke:#000000; stroke-linecap:round; stroke-linejoin:round; stroke-width:4; stroke-opacity:1; fill:none\" points=\"1901.97,1211.68 1901.97,1173.89 \"/>\n",
       "<polyline clip-path=\"url(#clip330)\" style=\"stroke:#000000; stroke-linecap:round; stroke-linejoin:round; stroke-width:4; stroke-opacity:1; fill:none\" points=\"2293.96,1211.68 2293.96,1173.89 \"/>\n",
       "<path clip-path=\"url(#clip330)\" d=\"M272.982 1238.35 L302.658 1238.35 L302.658 1242.29 L272.982 1242.29 L272.982 1238.35 Z\" fill=\"#000000\" fill-rule=\"nonzero\" fill-opacity=\"1\" /><path clip-path=\"url(#clip330)\" d=\"M313.56 1251.25 L321.199 1251.25 L321.199 1224.88 L312.889 1226.55 L312.889 1222.29 L321.153 1220.62 L325.829 1220.62 L325.829 1251.25 L333.468 1251.25 L333.468 1255.18 L313.56 1255.18 L313.56 1251.25 Z\" fill=\"#000000\" fill-rule=\"nonzero\" fill-opacity=\"1\" /><path clip-path=\"url(#clip330)\" d=\"M352.912 1223.7 Q349.301 1223.7 347.472 1227.27 Q345.667 1230.81 345.667 1237.94 Q345.667 1245.04 347.472 1248.61 Q349.301 1252.15 352.912 1252.15 Q356.546 1252.15 358.352 1248.61 Q360.181 1245.04 360.181 1237.94 Q360.181 1230.81 358.352 1227.27 Q356.546 1223.7 352.912 1223.7 M352.912 1220 Q358.722 1220 361.778 1224.6 Q364.857 1229.19 364.857 1237.94 Q364.857 1246.67 361.778 1251.27 Q358.722 1255.85 352.912 1255.85 Q347.102 1255.85 344.023 1251.27 Q340.968 1246.67 340.968 1237.94 Q340.968 1229.19 344.023 1224.6 Q347.102 1220 352.912 1220 Z\" fill=\"#000000\" fill-rule=\"nonzero\" fill-opacity=\"1\" /><path clip-path=\"url(#clip330)\" d=\"M383.074 1223.7 Q379.463 1223.7 377.634 1227.27 Q375.829 1230.81 375.829 1237.94 Q375.829 1245.04 377.634 1248.61 Q379.463 1252.15 383.074 1252.15 Q386.708 1252.15 388.514 1248.61 Q390.342 1245.04 390.342 1237.94 Q390.342 1230.81 388.514 1227.27 Q386.708 1223.7 383.074 1223.7 M383.074 1220 Q388.884 1220 391.94 1224.6 Q395.018 1229.19 395.018 1237.94 Q395.018 1246.67 391.94 1251.27 Q388.884 1255.85 383.074 1255.85 Q377.264 1255.85 374.185 1251.27 Q371.13 1246.67 371.13 1237.94 Q371.13 1229.19 374.185 1224.6 Q377.264 1220 383.074 1220 Z\" fill=\"#000000\" fill-rule=\"nonzero\" fill-opacity=\"1\" /><path clip-path=\"url(#clip330)\" d=\"M680.054 1238.35 L709.73 1238.35 L709.73 1242.29 L680.054 1242.29 L680.054 1238.35 Z\" fill=\"#000000\" fill-rule=\"nonzero\" fill-opacity=\"1\" /><path clip-path=\"url(#clip330)\" d=\"M719.869 1220.62 L738.225 1220.62 L738.225 1224.56 L724.151 1224.56 L724.151 1233.03 Q725.17 1232.68 726.188 1232.52 Q727.207 1232.34 728.225 1232.34 Q734.012 1232.34 737.392 1235.51 Q740.772 1238.68 740.772 1244.1 Q740.772 1249.67 737.299 1252.78 Q733.827 1255.85 727.508 1255.85 Q725.332 1255.85 723.063 1255.48 Q720.818 1255.11 718.411 1254.37 L718.411 1249.67 Q720.494 1250.81 722.716 1251.36 Q724.938 1251.92 727.415 1251.92 Q731.42 1251.92 733.758 1249.81 Q736.096 1247.71 736.096 1244.1 Q736.096 1240.48 733.758 1238.38 Q731.42 1236.27 727.415 1236.27 Q725.54 1236.27 723.665 1236.69 Q721.813 1237.1 719.869 1237.98 L719.869 1220.62 Z\" fill=\"#000000\" fill-rule=\"nonzero\" fill-opacity=\"1\" /><path clip-path=\"url(#clip330)\" d=\"M759.984 1223.7 Q756.373 1223.7 754.545 1227.27 Q752.739 1230.81 752.739 1237.94 Q752.739 1245.04 754.545 1248.61 Q756.373 1252.15 759.984 1252.15 Q763.619 1252.15 765.424 1248.61 Q767.253 1245.04 767.253 1237.94 Q767.253 1230.81 765.424 1227.27 Q763.619 1223.7 759.984 1223.7 M759.984 1220 Q765.795 1220 768.85 1224.6 Q771.929 1229.19 771.929 1237.94 Q771.929 1246.67 768.85 1251.27 Q765.795 1255.85 759.984 1255.85 Q754.174 1255.85 751.096 1251.27 Q748.04 1246.67 748.04 1237.94 Q748.04 1229.19 751.096 1224.6 Q754.174 1220 759.984 1220 Z\" fill=\"#000000\" fill-rule=\"nonzero\" fill-opacity=\"1\" /><path clip-path=\"url(#clip330)\" d=\"M1484.67 1220.62 L1503.03 1220.62 L1503.03 1224.56 L1488.96 1224.56 L1488.96 1233.03 Q1489.97 1232.68 1490.99 1232.52 Q1492.01 1232.34 1493.03 1232.34 Q1498.82 1232.34 1502.2 1235.51 Q1505.58 1238.68 1505.58 1244.1 Q1505.58 1249.67 1502.1 1252.78 Q1498.63 1255.85 1492.31 1255.85 Q1490.14 1255.85 1487.87 1255.48 Q1485.62 1255.11 1483.22 1254.37 L1483.22 1249.67 Q1485.3 1250.81 1487.52 1251.36 Q1489.74 1251.92 1492.22 1251.92 Q1496.22 1251.92 1498.56 1249.81 Q1500.9 1247.71 1500.9 1244.1 Q1500.9 1240.48 1498.56 1238.38 Q1496.22 1236.27 1492.22 1236.27 Q1490.34 1236.27 1488.47 1236.69 Q1486.62 1237.1 1484.67 1237.98 L1484.67 1220.62 Z\" fill=\"#000000\" fill-rule=\"nonzero\" fill-opacity=\"1\" /><path clip-path=\"url(#clip330)\" d=\"M1524.79 1223.7 Q1521.18 1223.7 1519.35 1227.27 Q1517.54 1230.81 1517.54 1237.94 Q1517.54 1245.04 1519.35 1248.61 Q1521.18 1252.15 1524.79 1252.15 Q1528.42 1252.15 1530.23 1248.61 Q1532.06 1245.04 1532.06 1237.94 Q1532.06 1230.81 1530.23 1227.27 Q1528.42 1223.7 1524.79 1223.7 M1524.79 1220 Q1530.6 1220 1533.65 1224.6 Q1536.73 1229.19 1536.73 1237.94 Q1536.73 1246.67 1533.65 1251.27 Q1530.6 1255.85 1524.79 1255.85 Q1518.98 1255.85 1515.9 1251.27 Q1512.84 1246.67 1512.84 1237.94 Q1512.84 1229.19 1515.9 1224.6 Q1518.98 1220 1524.79 1220 Z\" fill=\"#000000\" fill-rule=\"nonzero\" fill-opacity=\"1\" /><path clip-path=\"url(#clip330)\" d=\"M1861.57 1251.25 L1869.21 1251.25 L1869.21 1224.88 L1860.9 1226.55 L1860.9 1222.29 L1869.17 1220.62 L1873.84 1220.62 L1873.84 1251.25 L1881.48 1251.25 L1881.48 1255.18 L1861.57 1255.18 L1861.57 1251.25 Z\" fill=\"#000000\" fill-rule=\"nonzero\" fill-opacity=\"1\" /><path clip-path=\"url(#clip330)\" d=\"M1900.92 1223.7 Q1897.31 1223.7 1895.48 1227.27 Q1893.68 1230.81 1893.68 1237.94 Q1893.68 1245.04 1895.48 1248.61 Q1897.31 1252.15 1900.92 1252.15 Q1904.56 1252.15 1906.36 1248.61 Q1908.19 1245.04 1908.19 1237.94 Q1908.19 1230.81 1906.36 1227.27 Q1904.56 1223.7 1900.92 1223.7 M1900.92 1220 Q1906.73 1220 1909.79 1224.6 Q1912.87 1229.19 1912.87 1237.94 Q1912.87 1246.67 1909.79 1251.27 Q1906.73 1255.85 1900.92 1255.85 Q1895.11 1255.85 1892.04 1251.27 Q1888.98 1246.67 1888.98 1237.94 Q1888.98 1229.19 1892.04 1224.6 Q1895.11 1220 1900.92 1220 Z\" fill=\"#000000\" fill-rule=\"nonzero\" fill-opacity=\"1\" /><path clip-path=\"url(#clip330)\" d=\"M1931.09 1223.7 Q1927.47 1223.7 1925.65 1227.27 Q1923.84 1230.81 1923.84 1237.94 Q1923.84 1245.04 1925.65 1248.61 Q1927.47 1252.15 1931.09 1252.15 Q1934.72 1252.15 1936.53 1248.61 Q1938.35 1245.04 1938.35 1237.94 Q1938.35 1230.81 1936.53 1227.27 Q1934.72 1223.7 1931.09 1223.7 M1931.09 1220 Q1936.9 1220 1939.95 1224.6 Q1943.03 1229.19 1943.03 1237.94 Q1943.03 1246.67 1939.95 1251.27 Q1936.9 1255.85 1931.09 1255.85 Q1925.28 1255.85 1922.2 1251.27 Q1919.14 1246.67 1919.14 1237.94 Q1919.14 1229.19 1922.2 1224.6 Q1925.28 1220 1931.09 1220 Z\" fill=\"#000000\" fill-rule=\"nonzero\" fill-opacity=\"1\" /><path clip-path=\"url(#clip330)\" d=\"M2253.56 1251.25 L2261.2 1251.25 L2261.2 1224.88 L2252.89 1226.55 L2252.89 1222.29 L2261.16 1220.62 L2265.83 1220.62 L2265.83 1251.25 L2273.47 1251.25 L2273.47 1255.18 L2253.56 1255.18 L2253.56 1251.25 Z\" fill=\"#000000\" fill-rule=\"nonzero\" fill-opacity=\"1\" /><path clip-path=\"url(#clip330)\" d=\"M2282.96 1220.62 L2301.32 1220.62 L2301.32 1224.56 L2287.24 1224.56 L2287.24 1233.03 Q2288.26 1232.68 2289.28 1232.52 Q2290.3 1232.34 2291.32 1232.34 Q2297.11 1232.34 2300.48 1235.51 Q2303.86 1238.68 2303.86 1244.1 Q2303.86 1249.67 2300.39 1252.78 Q2296.92 1255.85 2290.6 1255.85 Q2288.42 1255.85 2286.16 1255.48 Q2283.91 1255.11 2281.5 1254.37 L2281.5 1249.67 Q2283.59 1250.81 2285.81 1251.36 Q2288.03 1251.92 2290.51 1251.92 Q2294.51 1251.92 2296.85 1249.81 Q2299.19 1247.71 2299.19 1244.1 Q2299.19 1240.48 2296.85 1238.38 Q2294.51 1236.27 2290.51 1236.27 Q2288.63 1236.27 2286.76 1236.69 Q2284.91 1237.1 2282.96 1237.98 L2282.96 1220.62 Z\" fill=\"#000000\" fill-rule=\"nonzero\" fill-opacity=\"1\" /><path clip-path=\"url(#clip330)\" d=\"M2323.08 1223.7 Q2319.47 1223.7 2317.64 1227.27 Q2315.83 1230.81 2315.83 1237.94 Q2315.83 1245.04 2317.64 1248.61 Q2319.47 1252.15 2323.08 1252.15 Q2326.71 1252.15 2328.52 1248.61 Q2330.35 1245.04 2330.35 1237.94 Q2330.35 1230.81 2328.52 1227.27 Q2326.71 1223.7 2323.08 1223.7 M2323.08 1220 Q2328.89 1220 2331.94 1224.6 Q2335.02 1229.19 2335.02 1237.94 Q2335.02 1246.67 2331.94 1251.27 Q2328.89 1255.85 2323.08 1255.85 Q2317.27 1255.85 2314.19 1251.27 Q2311.13 1246.67 2311.13 1237.94 Q2311.13 1229.19 2314.19 1224.6 Q2317.27 1220 2323.08 1220 Z\" fill=\"#000000\" fill-rule=\"nonzero\" fill-opacity=\"1\" /><polyline clip-path=\"url(#clip332)\" style=\"stroke:#000000; stroke-linecap:round; stroke-linejoin:round; stroke-width:2; stroke-opacity:0.1; fill:none\" points=\"275.201,895.18 2352.76,895.18 \"/>\n",
       "<polyline clip-path=\"url(#clip332)\" style=\"stroke:#000000; stroke-linecap:round; stroke-linejoin:round; stroke-width:2; stroke-opacity:0.1; fill:none\" points=\"275.201,597.577 2352.76,597.577 \"/>\n",
       "<polyline clip-path=\"url(#clip332)\" style=\"stroke:#000000; stroke-linecap:round; stroke-linejoin:round; stroke-width:2; stroke-opacity:0.1; fill:none\" points=\"275.201,299.974 2352.76,299.974 \"/>\n",
       "<polyline clip-path=\"url(#clip330)\" style=\"stroke:#000000; stroke-linecap:round; stroke-linejoin:round; stroke-width:4; stroke-opacity:1; fill:none\" points=\"1117.98,1486.45 1117.98,47.2441 \"/>\n",
       "<polyline clip-path=\"url(#clip330)\" style=\"stroke:#000000; stroke-linecap:round; stroke-linejoin:round; stroke-width:4; stroke-opacity:1; fill:none\" points=\"1099.09,895.18 1136.88,895.18 \"/>\n",
       "<polyline clip-path=\"url(#clip330)\" style=\"stroke:#000000; stroke-linecap:round; stroke-linejoin:round; stroke-width:4; stroke-opacity:1; fill:none\" points=\"1099.09,597.577 1136.88,597.577 \"/>\n",
       "<polyline clip-path=\"url(#clip330)\" style=\"stroke:#000000; stroke-linecap:round; stroke-linejoin:round; stroke-width:4; stroke-opacity:1; fill:none\" points=\"1099.09,299.974 1136.88,299.974 \"/>\n",
       "<path clip-path=\"url(#clip330)\" d=\"M896.181 914.973 L903.82 914.973 L903.82 888.607 L895.51 890.274 L895.51 886.015 L903.774 884.348 L908.449 884.348 L908.449 914.973 L916.088 914.973 L916.088 918.908 L896.181 918.908 L896.181 914.973 Z\" fill=\"#000000\" fill-rule=\"nonzero\" fill-opacity=\"1\" /><path clip-path=\"url(#clip330)\" d=\"M925.533 913.028 L930.417 913.028 L930.417 918.908 L925.533 918.908 L925.533 913.028 Z\" fill=\"#000000\" fill-rule=\"nonzero\" fill-opacity=\"1\" /><path clip-path=\"url(#clip330)\" d=\"M950.602 887.427 Q946.991 887.427 945.162 890.992 Q943.357 894.533 943.357 901.663 Q943.357 908.769 945.162 912.334 Q946.991 915.876 950.602 915.876 Q954.236 915.876 956.042 912.334 Q957.871 908.769 957.871 901.663 Q957.871 894.533 956.042 890.992 Q954.236 887.427 950.602 887.427 M950.602 883.723 Q956.412 883.723 959.468 888.33 Q962.546 892.913 962.546 901.663 Q962.546 910.39 959.468 914.996 Q956.412 919.579 950.602 919.579 Q944.792 919.579 941.713 914.996 Q938.658 910.39 938.658 901.663 Q938.658 892.913 941.713 888.33 Q944.792 883.723 950.602 883.723 Z\" fill=\"#000000\" fill-rule=\"nonzero\" fill-opacity=\"1\" /><path clip-path=\"url(#clip330)\" d=\"M998.935 893.445 L988.356 904.07 L998.935 914.649 L996.18 917.45 L985.556 906.825 L974.931 917.45 L972.199 914.649 L982.755 904.07 L972.199 893.445 L974.931 890.644 L985.556 901.269 L996.18 890.644 L998.935 893.445 Z\" fill=\"#000000\" fill-rule=\"nonzero\" fill-opacity=\"1\" /><path clip-path=\"url(#clip330)\" d=\"M1011.3 914.973 L1018.94 914.973 L1018.94 888.607 L1010.62 890.274 L1010.62 886.015 L1018.89 884.348 L1023.56 884.348 L1023.56 914.973 L1031.2 914.973 L1031.2 918.908 L1011.3 918.908 L1011.3 914.973 Z\" fill=\"#000000\" fill-rule=\"nonzero\" fill-opacity=\"1\" /><path clip-path=\"url(#clip330)\" d=\"M1050.65 887.427 Q1047.04 887.427 1045.21 890.992 Q1043.4 894.533 1043.4 901.663 Q1043.4 908.769 1045.21 912.334 Q1047.04 915.876 1050.65 915.876 Q1054.28 915.876 1056.09 912.334 Q1057.92 908.769 1057.92 901.663 Q1057.92 894.533 1056.09 890.992 Q1054.28 887.427 1050.65 887.427 M1050.65 883.723 Q1056.46 883.723 1059.51 888.33 Q1062.59 892.913 1062.59 901.663 Q1062.59 910.39 1059.51 914.996 Q1056.46 919.579 1050.65 919.579 Q1044.84 919.579 1041.76 914.996 Q1038.7 910.39 1038.7 901.663 Q1038.7 892.913 1041.76 888.33 Q1044.84 883.723 1050.65 883.723 Z\" fill=\"#000000\" fill-rule=\"nonzero\" fill-opacity=\"1\" /><path clip-path=\"url(#clip330)\" d=\"M1072.62 875.944 Q1070.06 875.944 1068.55 877.693 Q1067.07 879.442 1067.07 882.489 Q1067.07 885.517 1068.55 887.285 Q1070.06 889.034 1072.62 889.034 Q1075.17 889.034 1076.66 887.285 Q1078.17 885.517 1078.17 882.489 Q1078.17 879.442 1076.66 877.693 Q1075.17 875.944 1072.62 875.944 M1080.16 864.038 L1080.16 867.499 Q1078.73 866.822 1077.26 866.465 Q1075.81 866.107 1074.38 866.107 Q1070.62 866.107 1068.63 868.646 Q1066.65 871.185 1066.37 876.32 Q1067.48 874.683 1069.16 873.818 Q1070.83 872.934 1072.84 872.934 Q1077.07 872.934 1079.52 875.511 Q1081.98 878.069 1081.98 882.489 Q1081.98 886.815 1079.43 889.429 Q1076.87 892.043 1072.62 892.043 Q1067.75 892.043 1065.17 888.319 Q1062.59 884.576 1062.59 877.486 Q1062.59 870.828 1065.75 866.878 Q1068.91 862.91 1074.23 862.91 Q1075.66 862.91 1077.11 863.192 Q1078.58 863.474 1080.16 864.038 Z\" fill=\"#000000\" fill-rule=\"nonzero\" fill-opacity=\"1\" /><path clip-path=\"url(#clip330)\" d=\"M899.399 617.37 L915.718 617.37 L915.718 621.305 L893.774 621.305 L893.774 617.37 Q896.436 614.615 901.019 609.986 Q905.625 605.333 906.806 603.99 Q909.051 601.467 909.931 599.731 Q910.834 597.972 910.834 596.282 Q910.834 593.527 908.889 591.791 Q906.968 590.055 903.866 590.055 Q901.667 590.055 899.213 590.819 Q896.783 591.583 894.005 593.134 L894.005 588.412 Q896.829 587.277 899.283 586.699 Q901.737 586.12 903.774 586.12 Q909.144 586.12 912.338 588.805 Q915.533 591.49 915.533 595.981 Q915.533 598.111 914.723 600.032 Q913.936 601.93 911.829 604.523 Q911.25 605.194 908.149 608.412 Q905.047 611.606 899.399 617.37 Z\" fill=\"#000000\" fill-rule=\"nonzero\" fill-opacity=\"1\" /><path clip-path=\"url(#clip330)\" d=\"M925.533 615.425 L930.417 615.425 L930.417 621.305 L925.533 621.305 L925.533 615.425 Z\" fill=\"#000000\" fill-rule=\"nonzero\" fill-opacity=\"1\" /><path clip-path=\"url(#clip330)\" d=\"M950.602 589.824 Q946.991 589.824 945.162 593.389 Q943.357 596.93 943.357 604.06 Q943.357 611.166 945.162 614.731 Q946.991 618.273 950.602 618.273 Q954.236 618.273 956.042 614.731 Q957.871 611.166 957.871 604.06 Q957.871 596.93 956.042 593.389 Q954.236 589.824 950.602 589.824 M950.602 586.12 Q956.412 586.12 959.468 590.726 Q962.546 595.31 962.546 604.06 Q962.546 612.787 959.468 617.393 Q956.412 621.976 950.602 621.976 Q944.792 621.976 941.713 617.393 Q938.658 612.787 938.658 604.06 Q938.658 595.31 941.713 590.726 Q944.792 586.12 950.602 586.12 Z\" fill=\"#000000\" fill-rule=\"nonzero\" fill-opacity=\"1\" /><path clip-path=\"url(#clip330)\" d=\"M998.935 595.842 L988.356 606.467 L998.935 617.046 L996.18 619.847 L985.556 609.222 L974.931 619.847 L972.199 617.046 L982.755 606.467 L972.199 595.842 L974.931 593.041 L985.556 603.666 L996.18 593.041 L998.935 595.842 Z\" fill=\"#000000\" fill-rule=\"nonzero\" fill-opacity=\"1\" /><path clip-path=\"url(#clip330)\" d=\"M1011.3 617.37 L1018.94 617.37 L1018.94 591.004 L1010.62 592.671 L1010.62 588.412 L1018.89 586.745 L1023.56 586.745 L1023.56 617.37 L1031.2 617.37 L1031.2 621.305 L1011.3 621.305 L1011.3 617.37 Z\" fill=\"#000000\" fill-rule=\"nonzero\" fill-opacity=\"1\" /><path clip-path=\"url(#clip330)\" d=\"M1050.65 589.824 Q1047.04 589.824 1045.21 593.389 Q1043.4 596.93 1043.4 604.06 Q1043.4 611.166 1045.21 614.731 Q1047.04 618.273 1050.65 618.273 Q1054.28 618.273 1056.09 614.731 Q1057.92 611.166 1057.92 604.06 Q1057.92 596.93 1056.09 593.389 Q1054.28 589.824 1050.65 589.824 M1050.65 586.12 Q1056.46 586.12 1059.51 590.726 Q1062.59 595.31 1062.59 604.06 Q1062.59 612.787 1059.51 617.393 Q1056.46 621.976 1050.65 621.976 Q1044.84 621.976 1041.76 617.393 Q1038.7 612.787 1038.7 604.06 Q1038.7 595.31 1041.76 590.726 Q1044.84 586.12 1050.65 586.12 Z\" fill=\"#000000\" fill-rule=\"nonzero\" fill-opacity=\"1\" /><path clip-path=\"url(#clip330)\" d=\"M1072.62 578.341 Q1070.06 578.341 1068.55 580.09 Q1067.07 581.839 1067.07 584.886 Q1067.07 587.914 1068.55 589.682 Q1070.06 591.431 1072.62 591.431 Q1075.17 591.431 1076.66 589.682 Q1078.17 587.914 1078.17 584.886 Q1078.17 581.839 1076.66 580.09 Q1075.17 578.341 1072.62 578.341 M1080.16 566.435 L1080.16 569.896 Q1078.73 569.219 1077.26 568.861 Q1075.81 568.504 1074.38 568.504 Q1070.62 568.504 1068.63 571.043 Q1066.65 573.582 1066.37 578.717 Q1067.48 577.08 1069.16 576.215 Q1070.83 575.331 1072.84 575.331 Q1077.07 575.331 1079.52 577.908 Q1081.98 580.466 1081.98 584.886 Q1081.98 589.211 1079.43 591.826 Q1076.87 594.44 1072.62 594.44 Q1067.75 594.44 1065.17 590.716 Q1062.59 586.973 1062.59 579.883 Q1062.59 573.225 1065.75 569.275 Q1068.91 565.307 1074.23 565.307 Q1075.66 565.307 1077.11 565.589 Q1078.58 565.871 1080.16 566.435 Z\" fill=\"#000000\" fill-rule=\"nonzero\" fill-opacity=\"1\" /><path clip-path=\"url(#clip330)\" d=\"M909.537 305.068 Q912.894 305.785 914.769 308.054 Q916.667 310.322 916.667 313.656 Q916.667 318.771 913.149 321.572 Q909.63 324.373 903.149 324.373 Q900.973 324.373 898.658 323.933 Q896.366 323.517 893.913 322.66 L893.913 318.146 Q895.857 319.281 898.172 319.859 Q900.487 320.438 903.01 320.438 Q907.408 320.438 909.699 318.702 Q912.014 316.966 912.014 313.656 Q912.014 310.6 909.862 308.887 Q907.732 307.151 903.912 307.151 L899.885 307.151 L899.885 303.309 L904.098 303.309 Q907.547 303.309 909.375 301.943 Q911.204 300.554 911.204 297.961 Q911.204 295.299 909.306 293.887 Q907.431 292.452 903.912 292.452 Q901.991 292.452 899.792 292.869 Q897.593 293.285 894.954 294.165 L894.954 289.998 Q897.616 289.258 899.931 288.887 Q902.269 288.517 904.329 288.517 Q909.653 288.517 912.755 290.948 Q915.857 293.355 915.857 297.475 Q915.857 300.346 914.213 302.336 Q912.57 304.304 909.537 305.068 Z\" fill=\"#000000\" fill-rule=\"nonzero\" fill-opacity=\"1\" /><path clip-path=\"url(#clip330)\" d=\"M925.533 317.822 L930.417 317.822 L930.417 323.702 L925.533 323.702 L925.533 317.822 Z\" fill=\"#000000\" fill-rule=\"nonzero\" fill-opacity=\"1\" /><path clip-path=\"url(#clip330)\" d=\"M950.602 292.221 Q946.991 292.221 945.162 295.785 Q943.357 299.327 943.357 306.457 Q943.357 313.563 945.162 317.128 Q946.991 320.67 950.602 320.67 Q954.236 320.67 956.042 317.128 Q957.871 313.563 957.871 306.457 Q957.871 299.327 956.042 295.785 Q954.236 292.221 950.602 292.221 M950.602 288.517 Q956.412 288.517 959.468 293.123 Q962.546 297.707 962.546 306.457 Q962.546 315.184 959.468 319.79 Q956.412 324.373 950.602 324.373 Q944.792 324.373 941.713 319.79 Q938.658 315.184 938.658 306.457 Q938.658 297.707 941.713 293.123 Q944.792 288.517 950.602 288.517 Z\" fill=\"#000000\" fill-rule=\"nonzero\" fill-opacity=\"1\" /><path clip-path=\"url(#clip330)\" d=\"M998.935 298.239 L988.356 308.864 L998.935 319.443 L996.18 322.244 L985.556 311.619 L974.931 322.244 L972.199 319.443 L982.755 308.864 L972.199 298.239 L974.931 295.438 L985.556 306.063 L996.18 295.438 L998.935 298.239 Z\" fill=\"#000000\" fill-rule=\"nonzero\" fill-opacity=\"1\" /><path clip-path=\"url(#clip330)\" d=\"M1011.3 319.767 L1018.94 319.767 L1018.94 293.401 L1010.62 295.068 L1010.62 290.809 L1018.89 289.142 L1023.56 289.142 L1023.56 319.767 L1031.2 319.767 L1031.2 323.702 L1011.3 323.702 L1011.3 319.767 Z\" fill=\"#000000\" fill-rule=\"nonzero\" fill-opacity=\"1\" /><path clip-path=\"url(#clip330)\" d=\"M1050.65 292.221 Q1047.04 292.221 1045.21 295.785 Q1043.4 299.327 1043.4 306.457 Q1043.4 313.563 1045.21 317.128 Q1047.04 320.67 1050.65 320.67 Q1054.28 320.67 1056.09 317.128 Q1057.92 313.563 1057.92 306.457 Q1057.92 299.327 1056.09 295.785 Q1054.28 292.221 1050.65 292.221 M1050.65 288.517 Q1056.46 288.517 1059.51 293.123 Q1062.59 297.707 1062.59 306.457 Q1062.59 315.184 1059.51 319.79 Q1056.46 324.373 1050.65 324.373 Q1044.84 324.373 1041.76 319.79 Q1038.7 315.184 1038.7 306.457 Q1038.7 297.707 1041.76 293.123 Q1044.84 288.517 1050.65 288.517 Z\" fill=\"#000000\" fill-rule=\"nonzero\" fill-opacity=\"1\" /><path clip-path=\"url(#clip330)\" d=\"M1072.62 280.738 Q1070.06 280.738 1068.55 282.487 Q1067.07 284.236 1067.07 287.283 Q1067.07 290.311 1068.55 292.079 Q1070.06 293.828 1072.62 293.828 Q1075.17 293.828 1076.66 292.079 Q1078.17 290.311 1078.17 287.283 Q1078.17 284.236 1076.66 282.487 Q1075.17 280.738 1072.62 280.738 M1080.16 268.832 L1080.16 272.293 Q1078.73 271.616 1077.26 271.258 Q1075.81 270.901 1074.38 270.901 Q1070.62 270.901 1068.63 273.44 Q1066.65 275.979 1066.37 281.114 Q1067.48 279.477 1069.16 278.612 Q1070.83 277.728 1072.84 277.728 Q1077.07 277.728 1079.52 280.305 Q1081.98 282.863 1081.98 287.283 Q1081.98 291.608 1079.43 294.223 Q1076.87 296.837 1072.62 296.837 Q1067.75 296.837 1065.17 293.113 Q1062.59 289.37 1062.59 282.28 Q1062.59 275.622 1065.75 271.672 Q1068.91 267.704 1074.23 267.704 Q1075.66 267.704 1077.11 267.986 Q1078.58 268.268 1080.16 268.832 Z\" fill=\"#000000\" fill-rule=\"nonzero\" fill-opacity=\"1\" /><polyline clip-path=\"url(#clip332)\" style=\"stroke:#009af9; stroke-linecap:round; stroke-linejoin:round; stroke-width:4; stroke-opacity:1; fill:none\" points=\"334,1445.72 529.996,1293.2 725.992,1218.81 921.987,1194.64 1117.98,1192.78 1313.98,1185.35 1509.97,1144.44 1705.97,1042.14 1901.97,850.569 2097.96,541.813 2293.96,87.9763 \"/>\n",
       "<circle clip-path=\"url(#clip332)\" cx=\"334\" cy=\"1445.72\" r=\"14.4\" fill=\"#e26f46\" fill-rule=\"evenodd\" fill-opacity=\"1\" stroke=\"#000000\" stroke-opacity=\"1\" stroke-width=\"3.2\"/>\n",
       "<circle clip-path=\"url(#clip332)\" cx=\"529.996\" cy=\"1293.2\" r=\"14.4\" fill=\"#e26f46\" fill-rule=\"evenodd\" fill-opacity=\"1\" stroke=\"#000000\" stroke-opacity=\"1\" stroke-width=\"3.2\"/>\n",
       "<circle clip-path=\"url(#clip332)\" cx=\"725.992\" cy=\"1218.81\" r=\"14.4\" fill=\"#e26f46\" fill-rule=\"evenodd\" fill-opacity=\"1\" stroke=\"#000000\" stroke-opacity=\"1\" stroke-width=\"3.2\"/>\n",
       "<circle clip-path=\"url(#clip332)\" cx=\"921.987\" cy=\"1194.64\" r=\"14.4\" fill=\"#e26f46\" fill-rule=\"evenodd\" fill-opacity=\"1\" stroke=\"#000000\" stroke-opacity=\"1\" stroke-width=\"3.2\"/>\n",
       "<circle clip-path=\"url(#clip332)\" cx=\"1117.98\" cy=\"1192.78\" r=\"14.4\" fill=\"#e26f46\" fill-rule=\"evenodd\" fill-opacity=\"1\" stroke=\"#000000\" stroke-opacity=\"1\" stroke-width=\"3.2\"/>\n",
       "<circle clip-path=\"url(#clip332)\" cx=\"1313.98\" cy=\"1185.35\" r=\"14.4\" fill=\"#e26f46\" fill-rule=\"evenodd\" fill-opacity=\"1\" stroke=\"#000000\" stroke-opacity=\"1\" stroke-width=\"3.2\"/>\n",
       "<circle clip-path=\"url(#clip332)\" cx=\"1509.97\" cy=\"1144.44\" r=\"14.4\" fill=\"#e26f46\" fill-rule=\"evenodd\" fill-opacity=\"1\" stroke=\"#000000\" stroke-opacity=\"1\" stroke-width=\"3.2\"/>\n",
       "<circle clip-path=\"url(#clip332)\" cx=\"1705.97\" cy=\"1042.14\" r=\"14.4\" fill=\"#e26f46\" fill-rule=\"evenodd\" fill-opacity=\"1\" stroke=\"#000000\" stroke-opacity=\"1\" stroke-width=\"3.2\"/>\n",
       "<circle clip-path=\"url(#clip332)\" cx=\"1901.97\" cy=\"850.569\" r=\"14.4\" fill=\"#e26f46\" fill-rule=\"evenodd\" fill-opacity=\"1\" stroke=\"#000000\" stroke-opacity=\"1\" stroke-width=\"3.2\"/>\n",
       "<circle clip-path=\"url(#clip332)\" cx=\"2097.96\" cy=\"541.813\" r=\"14.4\" fill=\"#e26f46\" fill-rule=\"evenodd\" fill-opacity=\"1\" stroke=\"#000000\" stroke-opacity=\"1\" stroke-width=\"3.2\"/>\n",
       "<circle clip-path=\"url(#clip332)\" cx=\"2293.96\" cy=\"87.9763\" r=\"14.4\" fill=\"#e26f46\" fill-rule=\"evenodd\" fill-opacity=\"1\" stroke=\"#000000\" stroke-opacity=\"1\" stroke-width=\"3.2\"/>\n",
       "</svg>\n"
      ]
     },
     "execution_count": 68,
     "metadata": {},
     "output_type": "execute_result"
    }
   ],
   "source": [
    "f(x) = x^3+15x^2-x+2\n",
    "\n",
    "z = secantes(f,-100,150,10)\n",
    "plot(z[:,1],z[:,2], legend=false, framestyle= :origin)\n",
    "scatter!(z[:,1],z[:,2])\n",
    "#plot!(f)"
   ]
  },
  {
   "cell_type": "code",
   "execution_count": 69,
   "metadata": {},
   "outputs": [
    {
     "data": {
      "text/plain": [
       "raiz (generic function with 1 method)"
      ]
     },
     "execution_count": 69,
     "metadata": {},
     "output_type": "execute_result"
    }
   ],
   "source": [
    "function raiz(a)\n",
    "    prog = ProgressUnknown(desc=\"Calculando a raiz quadrada...\", spinner=true)\n",
    "    x = 1.0\n",
    "    while abs(x^2-a)>1e-6\n",
    "        sleep(.1)\n",
    "        next!(prog, spinner=\"◓◑◒◐\")\n",
    "        x = (a/x+x)/2\n",
    "    end\n",
    "    finish!(prog)\n",
    "    return x\n",
    "end"
   ]
  },
  {
   "cell_type": "code",
   "execution_count": 70,
   "metadata": {},
   "outputs": [
    {
     "name": "stderr",
     "output_type": "stream",
     "text": [
      "\u001b[32m✓ Calculando a raiz quadrada...    Time: 0:00:02\u001b[39m\n"
     ]
    },
    {
     "data": {
      "text/plain": [
       "99994.99987499375"
      ]
     },
     "execution_count": 70,
     "metadata": {},
     "output_type": "execute_result"
    }
   ],
   "source": [
    "raiz(9.999*1e9)"
   ]
  },
  {
   "cell_type": "code",
   "execution_count": 34,
   "metadata": {},
   "outputs": [],
   "source": [
    "using Plots"
   ]
  },
  {
   "cell_type": "code",
   "execution_count": 36,
   "metadata": {},
   "outputs": [
    {
     "data": {
      "text/plain": [
       "normal (generic function with 1 method)"
      ]
     },
     "execution_count": 36,
     "metadata": {},
     "output_type": "execute_result"
    }
   ],
   "source": [
    "normal(x) = exp(-x^2)"
   ]
  },
  {
   "cell_type": "code",
   "execution_count": 46,
   "metadata": {},
   "outputs": [
    {
     "data": {
      "image/png": "[encoded data removed]",
      "image/svg+xml": [
       "<?xml version=\"1.0\" encoding=\"utf-8\"?>\n",
       "<svg xmlns=\"http://www.w3.org/2000/svg\" xmlns:xlink=\"http://www.w3.org/1999/xlink\" width=\"600\" height=\"400\" viewBox=\"0 0 2400 1600\">\n",
       "<defs>\n",
       "  <clipPath id=\"clip400\">\n",
       "    <rect x=\"0\" y=\"0\" width=\"2400\" height=\"1600\"/>\n",
       "  </clipPath>\n",
       "</defs>\n",
       "<path clip-path=\"url(#clip400)\" d=\"M0 1600 L2400 1600 L2400 0 L0 0  Z\" fill=\"#ffffff\" fill-rule=\"evenodd\" fill-opacity=\"1\"/>\n",
       "<defs>\n",
       "  <clipPath id=\"clip401\">\n",
       "    <rect x=\"480\" y=\"0\" width=\"1681\" height=\"1600\"/>\n",
       "  </clipPath>\n",
       "</defs>\n",
       "<path clip-path=\"url(#clip400)\" d=\"M186.274 1486.45 L2352.76 1486.45 L2352.76 47.2441 L186.274 47.2441  Z\" fill=\"#ffffff\" fill-rule=\"evenodd\" fill-opacity=\"1\"/>\n",
       "<defs>\n",
       "  <clipPath id=\"clip402\">\n",
       "    <rect x=\"186\" y=\"47\" width=\"2167\" height=\"1440\"/>\n",
       "  </clipPath>\n",
       "</defs>\n",
       "<polyline clip-path=\"url(#clip402)\" style=\"stroke:#000000; stroke-linecap:round; stroke-linejoin:round; stroke-width:2; stroke-opacity:0.1; fill:none\" points=\"451.975,1486.45 451.975,47.2441 \"/>\n",
       "<polyline clip-path=\"url(#clip402)\" style=\"stroke:#000000; stroke-linecap:round; stroke-linejoin:round; stroke-width:2; stroke-opacity:0.1; fill:none\" points=\"860.745,1486.45 860.745,47.2441 \"/>\n",
       "<polyline clip-path=\"url(#clip402)\" style=\"stroke:#000000; stroke-linecap:round; stroke-linejoin:round; stroke-width:2; stroke-opacity:0.1; fill:none\" points=\"1269.51,1486.45 1269.51,47.2441 \"/>\n",
       "<polyline clip-path=\"url(#clip402)\" style=\"stroke:#000000; stroke-linecap:round; stroke-linejoin:round; stroke-width:2; stroke-opacity:0.1; fill:none\" points=\"1678.29,1486.45 1678.29,47.2441 \"/>\n",
       "<polyline clip-path=\"url(#clip402)\" style=\"stroke:#000000; stroke-linecap:round; stroke-linejoin:round; stroke-width:2; stroke-opacity:0.1; fill:none\" points=\"2087.06,1486.45 2087.06,47.2441 \"/>\n",
       "<polyline clip-path=\"url(#clip400)\" style=\"stroke:#000000; stroke-linecap:round; stroke-linejoin:round; stroke-width:4; stroke-opacity:1; fill:none\" points=\"186.274,1486.45 2352.76,1486.45 \"/>\n",
       "<polyline clip-path=\"url(#clip400)\" style=\"stroke:#000000; stroke-linecap:round; stroke-linejoin:round; stroke-width:4; stroke-opacity:1; fill:none\" points=\"451.975,1486.45 451.975,1467.55 \"/>\n",
       "<polyline clip-path=\"url(#clip400)\" style=\"stroke:#000000; stroke-linecap:round; stroke-linejoin:round; stroke-width:4; stroke-opacity:1; fill:none\" points=\"860.745,1486.45 860.745,1467.55 \"/>\n",
       "<polyline clip-path=\"url(#clip400)\" style=\"stroke:#000000; stroke-linecap:round; stroke-linejoin:round; stroke-width:4; stroke-opacity:1; fill:none\" points=\"1269.51,1486.45 1269.51,1467.55 \"/>\n",
       "<polyline clip-path=\"url(#clip400)\" style=\"stroke:#000000; stroke-linecap:round; stroke-linejoin:round; stroke-width:4; stroke-opacity:1; fill:none\" points=\"1678.29,1486.45 1678.29,1467.55 \"/>\n",
       "<polyline clip-path=\"url(#clip400)\" style=\"stroke:#000000; stroke-linecap:round; stroke-linejoin:round; stroke-width:4; stroke-opacity:1; fill:none\" points=\"2087.06,1486.45 2087.06,1467.55 \"/>\n",
       "<path clip-path=\"url(#clip400)\" d=\"M420.875 1532.02 L450.551 1532.02 L450.551 1535.95 L420.875 1535.95 L420.875 1532.02 Z\" fill=\"#000000\" fill-rule=\"nonzero\" fill-opacity=\"1\" /><path clip-path=\"url(#clip400)\" d=\"M473.491 1518.36 L461.685 1536.81 L473.491 1536.81 L473.491 1518.36 M472.264 1514.29 L478.143 1514.29 L478.143 1536.81 L483.074 1536.81 L483.074 1540.7 L478.143 1540.7 L478.143 1548.85 L473.491 1548.85 L473.491 1540.7 L457.889 1540.7 L457.889 1536.19 L472.264 1514.29 Z\" fill=\"#000000\" fill-rule=\"nonzero\" fill-opacity=\"1\" /><path clip-path=\"url(#clip400)\" d=\"M830.687 1532.02 L860.363 1532.02 L860.363 1535.95 L830.687 1535.95 L830.687 1532.02 Z\" fill=\"#000000\" fill-rule=\"nonzero\" fill-opacity=\"1\" /><path clip-path=\"url(#clip400)\" d=\"M874.483 1544.91 L890.802 1544.91 L890.802 1548.85 L868.858 1548.85 L868.858 1544.91 Q871.52 1542.16 876.103 1537.53 Q880.71 1532.88 881.891 1531.53 Q884.136 1529.01 885.015 1527.27 Q885.918 1525.51 885.918 1523.82 Q885.918 1521.07 883.974 1519.33 Q882.053 1517.6 878.951 1517.6 Q876.752 1517.6 874.298 1518.36 Q871.867 1519.13 869.09 1520.68 L869.09 1515.95 Q871.914 1514.82 874.367 1514.24 Q876.821 1513.66 878.858 1513.66 Q884.228 1513.66 887.423 1516.35 Q890.617 1519.03 890.617 1523.52 Q890.617 1525.65 889.807 1527.57 Q889.02 1529.47 886.914 1532.07 Q886.335 1532.74 883.233 1535.95 Q880.131 1539.15 874.483 1544.91 Z\" fill=\"#000000\" fill-rule=\"nonzero\" fill-opacity=\"1\" /><path clip-path=\"url(#clip400)\" d=\"M1269.51 1517.37 Q1265.9 1517.37 1264.08 1520.93 Q1262.27 1524.47 1262.27 1531.6 Q1262.27 1538.71 1264.08 1542.27 Q1265.9 1545.82 1269.51 1545.82 Q1273.15 1545.82 1274.95 1542.27 Q1276.78 1538.71 1276.78 1531.6 Q1276.78 1524.47 1274.95 1520.93 Q1273.15 1517.37 1269.51 1517.37 M1269.51 1513.66 Q1275.33 1513.66 1278.38 1518.27 Q1281.46 1522.85 1281.46 1531.6 Q1281.46 1540.33 1278.38 1544.94 Q1275.33 1549.52 1269.51 1549.52 Q1263.7 1549.52 1260.63 1544.94 Q1257.57 1540.33 1257.57 1531.6 Q1257.57 1522.85 1260.63 1518.27 Q1263.7 1513.66 1269.51 1513.66 Z\" fill=\"#000000\" fill-rule=\"nonzero\" fill-opacity=\"1\" /><path clip-path=\"url(#clip400)\" d=\"M1672.94 1544.91 L1689.26 1544.91 L1689.26 1548.85 L1667.31 1548.85 L1667.31 1544.91 Q1669.97 1542.16 1674.56 1537.53 Q1679.16 1532.88 1680.35 1531.53 Q1682.59 1529.01 1683.47 1527.27 Q1684.37 1525.51 1684.37 1523.82 Q1684.37 1521.07 1682.43 1519.33 Q1680.51 1517.6 1677.41 1517.6 Q1675.21 1517.6 1672.75 1518.36 Q1670.32 1519.13 1667.54 1520.68 L1667.54 1515.95 Q1670.37 1514.82 1672.82 1514.24 Q1675.28 1513.66 1677.31 1513.66 Q1682.68 1513.66 1685.88 1516.35 Q1689.07 1519.03 1689.07 1523.52 Q1689.07 1525.65 1688.26 1527.57 Q1687.47 1529.47 1685.37 1532.07 Q1684.79 1532.74 1681.69 1535.95 Q1678.59 1539.15 1672.94 1544.91 Z\" fill=\"#000000\" fill-rule=\"nonzero\" fill-opacity=\"1\" /><path clip-path=\"url(#clip400)\" d=\"M2090.06 1518.36 L2078.26 1536.81 L2090.06 1536.81 L2090.06 1518.36 M2088.84 1514.29 L2094.72 1514.29 L2094.72 1536.81 L2099.65 1536.81 L2099.65 1540.7 L2094.72 1540.7 L2094.72 1548.85 L2090.06 1548.85 L2090.06 1540.7 L2074.46 1540.7 L2074.46 1536.19 L2088.84 1514.29 Z\" fill=\"#000000\" fill-rule=\"nonzero\" fill-opacity=\"1\" /><polyline clip-path=\"url(#clip402)\" style=\"stroke:#000000; stroke-linecap:round; stroke-linejoin:round; stroke-width:2; stroke-opacity:0.1; fill:none\" points=\"186.274,1445.72 2352.76,1445.72 \"/>\n",
       "<polyline clip-path=\"url(#clip402)\" style=\"stroke:#000000; stroke-linecap:round; stroke-linejoin:round; stroke-width:2; stroke-opacity:0.1; fill:none\" points=\"186.274,1106.28 2352.76,1106.28 \"/>\n",
       "<polyline clip-path=\"url(#clip402)\" style=\"stroke:#000000; stroke-linecap:round; stroke-linejoin:round; stroke-width:2; stroke-opacity:0.1; fill:none\" points=\"186.274,766.846 2352.76,766.846 \"/>\n",
       "<polyline clip-path=\"url(#clip402)\" style=\"stroke:#000000; stroke-linecap:round; stroke-linejoin:round; stroke-width:2; stroke-opacity:0.1; fill:none\" points=\"186.274,427.411 2352.76,427.411 \"/>\n",
       "<polyline clip-path=\"url(#clip402)\" style=\"stroke:#000000; stroke-linecap:round; stroke-linejoin:round; stroke-width:2; stroke-opacity:0.1; fill:none\" points=\"186.274,87.9759 2352.76,87.9759 \"/>\n",
       "<polyline clip-path=\"url(#clip400)\" style=\"stroke:#000000; stroke-linecap:round; stroke-linejoin:round; stroke-width:4; stroke-opacity:1; fill:none\" points=\"186.274,1486.45 186.274,47.2441 \"/>\n",
       "<polyline clip-path=\"url(#clip400)\" style=\"stroke:#000000; stroke-linecap:round; stroke-linejoin:round; stroke-width:4; stroke-opacity:1; fill:none\" points=\"186.274,1445.72 205.172,1445.72 \"/>\n",
       "<polyline clip-path=\"url(#clip400)\" style=\"stroke:#000000; stroke-linecap:round; stroke-linejoin:round; stroke-width:4; stroke-opacity:1; fill:none\" points=\"186.274,1106.28 205.172,1106.28 \"/>\n",
       "<polyline clip-path=\"url(#clip400)\" style=\"stroke:#000000; stroke-linecap:round; stroke-linejoin:round; stroke-width:4; stroke-opacity:1; fill:none\" points=\"186.274,766.846 205.172,766.846 \"/>\n",
       "<polyline clip-path=\"url(#clip400)\" style=\"stroke:#000000; stroke-linecap:round; stroke-linejoin:round; stroke-width:4; stroke-opacity:1; fill:none\" points=\"186.274,427.411 205.172,427.411 \"/>\n",
       "<polyline clip-path=\"url(#clip400)\" style=\"stroke:#000000; stroke-linecap:round; stroke-linejoin:round; stroke-width:4; stroke-opacity:1; fill:none\" points=\"186.274,87.9759 205.172,87.9759 \"/>\n",
       "<path clip-path=\"url(#clip400)\" d=\"M62.9365 1431.51 Q59.3254 1431.51 57.4967 1435.08 Q55.6912 1438.62 55.6912 1445.75 Q55.6912 1452.86 57.4967 1456.42 Q59.3254 1459.96 62.9365 1459.96 Q66.5707 1459.96 68.3763 1456.42 Q70.205 1452.86 70.205 1445.75 Q70.205 1438.62 68.3763 1435.08 Q66.5707 1431.51 62.9365 1431.51 M62.9365 1427.81 Q68.7467 1427.81 71.8022 1432.42 Q74.8809 1437 74.8809 1445.75 Q74.8809 1454.48 71.8022 1459.08 Q68.7467 1463.67 62.9365 1463.67 Q57.1264 1463.67 54.0477 1459.08 Q50.9921 1454.48 50.9921 1445.75 Q50.9921 1437 54.0477 1432.42 Q57.1264 1427.81 62.9365 1427.81 Z\" fill=\"#000000\" fill-rule=\"nonzero\" fill-opacity=\"1\" /><path clip-path=\"url(#clip400)\" d=\"M83.0984 1457.12 L87.9827 1457.12 L87.9827 1463 L83.0984 1463 L83.0984 1457.12 Z\" fill=\"#000000\" fill-rule=\"nonzero\" fill-opacity=\"1\" /><path clip-path=\"url(#clip400)\" d=\"M108.168 1431.51 Q104.557 1431.51 102.728 1435.08 Q100.922 1438.62 100.922 1445.75 Q100.922 1452.86 102.728 1456.42 Q104.557 1459.96 108.168 1459.96 Q111.802 1459.96 113.608 1456.42 Q115.436 1452.86 115.436 1445.75 Q115.436 1438.62 113.608 1435.08 Q111.802 1431.51 108.168 1431.51 M108.168 1427.81 Q113.978 1427.81 117.033 1432.42 Q120.112 1437 120.112 1445.75 Q120.112 1454.48 117.033 1459.08 Q113.978 1463.67 108.168 1463.67 Q102.358 1463.67 99.2789 1459.08 Q96.2234 1454.48 96.2234 1445.75 Q96.2234 1437 99.2789 1432.42 Q102.358 1427.81 108.168 1427.81 Z\" fill=\"#000000\" fill-rule=\"nonzero\" fill-opacity=\"1\" /><path clip-path=\"url(#clip400)\" d=\"M138.33 1431.51 Q134.719 1431.51 132.89 1435.08 Q131.084 1438.62 131.084 1445.75 Q131.084 1452.86 132.89 1456.42 Q134.719 1459.96 138.33 1459.96 Q141.964 1459.96 143.769 1456.42 Q145.598 1452.86 145.598 1445.75 Q145.598 1438.62 143.769 1435.08 Q141.964 1431.51 138.33 1431.51 M138.33 1427.81 Q144.14 1427.81 147.195 1432.42 Q150.274 1437 150.274 1445.75 Q150.274 1454.48 147.195 1459.08 Q144.14 1463.67 138.33 1463.67 Q132.519 1463.67 129.441 1459.08 Q126.385 1454.48 126.385 1445.75 Q126.385 1437 129.441 1432.42 Q132.519 1427.81 138.33 1427.81 Z\" fill=\"#000000\" fill-rule=\"nonzero\" fill-opacity=\"1\" /><path clip-path=\"url(#clip400)\" d=\"M63.9319 1092.08 Q60.3208 1092.08 58.4921 1095.64 Q56.6865 1099.19 56.6865 1106.32 Q56.6865 1113.42 58.4921 1116.99 Q60.3208 1120.53 63.9319 1120.53 Q67.5661 1120.53 69.3717 1116.99 Q71.2004 1113.42 71.2004 1106.32 Q71.2004 1099.19 69.3717 1095.64 Q67.5661 1092.08 63.9319 1092.08 M63.9319 1088.38 Q69.742 1088.38 72.7976 1092.98 Q75.8763 1097.57 75.8763 1106.32 Q75.8763 1115.04 72.7976 1119.65 Q69.742 1124.23 63.9319 1124.23 Q58.1217 1124.23 55.043 1119.65 Q51.9875 1115.04 51.9875 1106.32 Q51.9875 1097.57 55.043 1092.98 Q58.1217 1088.38 63.9319 1088.38 Z\" fill=\"#000000\" fill-rule=\"nonzero\" fill-opacity=\"1\" /><path clip-path=\"url(#clip400)\" d=\"M84.0938 1117.68 L88.978 1117.68 L88.978 1123.56 L84.0938 1123.56 L84.0938 1117.68 Z\" fill=\"#000000\" fill-rule=\"nonzero\" fill-opacity=\"1\" /><path clip-path=\"url(#clip400)\" d=\"M103.191 1119.63 L119.51 1119.63 L119.51 1123.56 L97.566 1123.56 L97.566 1119.63 Q100.228 1116.87 104.811 1112.24 Q109.418 1107.59 110.598 1106.25 Q112.844 1103.72 113.723 1101.99 Q114.626 1100.23 114.626 1098.54 Q114.626 1095.78 112.682 1094.05 Q110.76 1092.31 107.658 1092.31 Q105.459 1092.31 103.006 1093.07 Q100.575 1093.84 97.7974 1095.39 L97.7974 1090.67 Q100.621 1089.53 103.075 1088.95 Q105.529 1088.38 107.566 1088.38 Q112.936 1088.38 116.131 1091.06 Q119.325 1093.75 119.325 1098.24 Q119.325 1100.37 118.515 1102.29 Q117.728 1104.19 115.621 1106.78 Q115.043 1107.45 111.941 1110.67 Q108.839 1113.86 103.191 1119.63 Z\" fill=\"#000000\" fill-rule=\"nonzero\" fill-opacity=\"1\" /><path clip-path=\"url(#clip400)\" d=\"M129.371 1089 L147.728 1089 L147.728 1092.94 L133.654 1092.94 L133.654 1101.41 Q134.672 1101.06 135.691 1100.9 Q136.709 1100.71 137.728 1100.71 Q143.515 1100.71 146.894 1103.88 Q150.274 1107.06 150.274 1112.47 Q150.274 1118.05 146.802 1121.15 Q143.33 1124.23 137.01 1124.23 Q134.834 1124.23 132.566 1123.86 Q130.32 1123.49 127.913 1122.75 L127.913 1118.05 Q129.996 1119.19 132.219 1119.74 Q134.441 1120.3 136.918 1120.3 Q140.922 1120.3 143.26 1118.19 Q145.598 1116.08 145.598 1112.47 Q145.598 1108.86 143.26 1106.76 Q140.922 1104.65 136.918 1104.65 Q135.043 1104.65 133.168 1105.07 Q131.316 1105.48 129.371 1106.36 L129.371 1089 Z\" fill=\"#000000\" fill-rule=\"nonzero\" fill-opacity=\"1\" /><path clip-path=\"url(#clip400)\" d=\"M62.9365 752.645 Q59.3254 752.645 57.4967 756.209 Q55.6912 759.751 55.6912 766.881 Q55.6912 773.987 57.4967 777.552 Q59.3254 781.093 62.9365 781.093 Q66.5707 781.093 68.3763 777.552 Q70.205 773.987 70.205 766.881 Q70.205 759.751 68.3763 756.209 Q66.5707 752.645 62.9365 752.645 M62.9365 748.941 Q68.7467 748.941 71.8022 753.547 Q74.8809 758.131 74.8809 766.881 Q74.8809 775.607 71.8022 780.214 Q68.7467 784.797 62.9365 784.797 Q57.1264 784.797 54.0477 780.214 Q50.9921 775.607 50.9921 766.881 Q50.9921 758.131 54.0477 753.547 Q57.1264 748.941 62.9365 748.941 Z\" fill=\"#000000\" fill-rule=\"nonzero\" fill-opacity=\"1\" /><path clip-path=\"url(#clip400)\" d=\"M83.0984 778.246 L87.9827 778.246 L87.9827 784.126 L83.0984 784.126 L83.0984 778.246 Z\" fill=\"#000000\" fill-rule=\"nonzero\" fill-opacity=\"1\" /><path clip-path=\"url(#clip400)\" d=\"M98.2141 749.566 L116.57 749.566 L116.57 753.501 L102.496 753.501 L102.496 761.973 Q103.515 761.626 104.534 761.464 Q105.552 761.279 106.571 761.279 Q112.358 761.279 115.737 764.45 Q119.117 767.621 119.117 773.038 Q119.117 778.617 115.645 781.718 Q112.172 784.797 105.853 784.797 Q103.677 784.797 101.409 784.427 Q99.1632 784.056 96.7558 783.316 L96.7558 778.617 Q98.8391 779.751 101.061 780.306 Q103.284 780.862 105.76 780.862 Q109.765 780.862 112.103 778.755 Q114.441 776.649 114.441 773.038 Q114.441 769.427 112.103 767.32 Q109.765 765.214 105.76 765.214 Q103.885 765.214 102.01 765.631 Q100.159 766.047 98.2141 766.927 L98.2141 749.566 Z\" fill=\"#000000\" fill-rule=\"nonzero\" fill-opacity=\"1\" /><path clip-path=\"url(#clip400)\" d=\"M138.33 752.645 Q134.719 752.645 132.89 756.209 Q131.084 759.751 131.084 766.881 Q131.084 773.987 132.89 777.552 Q134.719 781.093 138.33 781.093 Q141.964 781.093 143.769 777.552 Q145.598 773.987 145.598 766.881 Q145.598 759.751 143.769 756.209 Q141.964 752.645 138.33 752.645 M138.33 748.941 Q144.14 748.941 147.195 753.547 Q150.274 758.131 150.274 766.881 Q150.274 775.607 147.195 780.214 Q144.14 784.797 138.33 784.797 Q132.519 784.797 129.441 780.214 Q126.385 775.607 126.385 766.881 Q126.385 758.131 129.441 753.547 Q132.519 748.941 138.33 748.941 Z\" fill=\"#000000\" fill-rule=\"nonzero\" fill-opacity=\"1\" /><path clip-path=\"url(#clip400)\" d=\"M63.9319 413.21 Q60.3208 413.21 58.4921 416.774 Q56.6865 420.316 56.6865 427.446 Q56.6865 434.552 58.4921 438.117 Q60.3208 441.658 63.9319 441.658 Q67.5661 441.658 69.3717 438.117 Q71.2004 434.552 71.2004 427.446 Q71.2004 420.316 69.3717 416.774 Q67.5661 413.21 63.9319 413.21 M63.9319 409.506 Q69.742 409.506 72.7976 414.112 Q75.8763 418.696 75.8763 427.446 Q75.8763 436.172 72.7976 440.779 Q69.742 445.362 63.9319 445.362 Q58.1217 445.362 55.043 440.779 Q51.9875 436.172 51.9875 427.446 Q51.9875 418.696 55.043 414.112 Q58.1217 409.506 63.9319 409.506 Z\" fill=\"#000000\" fill-rule=\"nonzero\" fill-opacity=\"1\" /><path clip-path=\"url(#clip400)\" d=\"M84.0938 438.811 L88.978 438.811 L88.978 444.691 L84.0938 444.691 L84.0938 438.811 Z\" fill=\"#000000\" fill-rule=\"nonzero\" fill-opacity=\"1\" /><path clip-path=\"url(#clip400)\" d=\"M97.9826 410.131 L120.205 410.131 L120.205 412.122 L107.658 444.691 L102.774 444.691 L114.58 414.066 L97.9826 414.066 L97.9826 410.131 Z\" fill=\"#000000\" fill-rule=\"nonzero\" fill-opacity=\"1\" /><path clip-path=\"url(#clip400)\" d=\"M129.371 410.131 L147.728 410.131 L147.728 414.066 L133.654 414.066 L133.654 422.538 Q134.672 422.191 135.691 422.029 Q136.709 421.844 137.728 421.844 Q143.515 421.844 146.894 425.015 Q150.274 428.186 150.274 433.603 Q150.274 439.182 146.802 442.283 Q143.33 445.362 137.01 445.362 Q134.834 445.362 132.566 444.992 Q130.32 444.621 127.913 443.881 L127.913 439.182 Q129.996 440.316 132.219 440.871 Q134.441 441.427 136.918 441.427 Q140.922 441.427 143.26 439.321 Q145.598 437.214 145.598 433.603 Q145.598 429.992 143.26 427.885 Q140.922 425.779 136.918 425.779 Q135.043 425.779 133.168 426.196 Q131.316 426.612 129.371 427.492 L129.371 410.131 Z\" fill=\"#000000\" fill-rule=\"nonzero\" fill-opacity=\"1\" /><path clip-path=\"url(#clip400)\" d=\"M53.7467 101.321 L61.3856 101.321 L61.3856 74.9552 L53.0754 76.6218 L53.0754 72.3626 L61.3393 70.6959 L66.0152 70.6959 L66.0152 101.321 L73.654 101.321 L73.654 105.256 L53.7467 105.256 L53.7467 101.321 Z\" fill=\"#000000\" fill-rule=\"nonzero\" fill-opacity=\"1\" /><path clip-path=\"url(#clip400)\" d=\"M83.0984 99.3763 L87.9827 99.3763 L87.9827 105.256 L83.0984 105.256 L83.0984 99.3763 Z\" fill=\"#000000\" fill-rule=\"nonzero\" fill-opacity=\"1\" /><path clip-path=\"url(#clip400)\" d=\"M108.168 73.7746 Q104.557 73.7746 102.728 77.3394 Q100.922 80.8811 100.922 88.0107 Q100.922 95.1171 102.728 98.6819 Q104.557 102.224 108.168 102.224 Q111.802 102.224 113.608 98.6819 Q115.436 95.1171 115.436 88.0107 Q115.436 80.8811 113.608 77.3394 Q111.802 73.7746 108.168 73.7746 M108.168 70.0709 Q113.978 70.0709 117.033 74.6774 Q120.112 79.2607 120.112 88.0107 Q120.112 96.7375 117.033 101.344 Q113.978 105.927 108.168 105.927 Q102.358 105.927 99.2789 101.344 Q96.2234 96.7375 96.2234 88.0107 Q96.2234 79.2607 99.2789 74.6774 Q102.358 70.0709 108.168 70.0709 Z\" fill=\"#000000\" fill-rule=\"nonzero\" fill-opacity=\"1\" /><path clip-path=\"url(#clip400)\" d=\"M138.33 73.7746 Q134.719 73.7746 132.89 77.3394 Q131.084 80.8811 131.084 88.0107 Q131.084 95.1171 132.89 98.6819 Q134.719 102.224 138.33 102.224 Q141.964 102.224 143.769 98.6819 Q145.598 95.1171 145.598 88.0107 Q145.598 80.8811 143.769 77.3394 Q141.964 73.7746 138.33 73.7746 M138.33 70.0709 Q144.14 70.0709 147.195 74.6774 Q150.274 79.2607 150.274 88.0107 Q150.274 96.7375 147.195 101.344 Q144.14 105.927 138.33 105.927 Q132.519 105.927 129.441 101.344 Q126.385 96.7375 126.385 88.0107 Q126.385 79.2607 129.441 74.6774 Q132.519 70.0709 138.33 70.0709 Z\" fill=\"#000000\" fill-rule=\"nonzero\" fill-opacity=\"1\" /><path clip-path=\"url(#clip402)\" d=\"M247.59 1445.72 L260.896 1445.72 L383.935 1445.72 L457.876 1445.72 L520.392 1445.71 L588.302 1445.7 L650.909 1445.57 L684.47 1445.34 L718.031 1444.78 L756.914 1443.2 L795.798 1439.41 L813.075 1436.45 L830.353 1432.3 L847.63 1426.56 L864.908 1418.75 L880.058 1409.75 L895.209 1398.27 L910.36 1383.81 L925.511 1365.82 L933.77 1354.33 L942.029 1341.53 L950.288 1327.31 L958.548 1311.6 L966.807 1294.3 L975.066 1275.33 L983.325 1254.6 L991.585 1232.05 L999.893 1207.47 L1008.2 1180.93 L1016.51 1152.41 L1024.82 1121.89 L1033.13 1089.38 L1041.43 1054.89 L1049.74 1018.48 L1058.05 980.218 L1067.24 935.88 L1076.42 889.57 L1085.61 841.5 L1094.79 791.921 L1113.17 689.447 L1131.54 584.934 L1140.28 535.438 L1149.02 486.611 L1157.76 438.853 L1166.5 392.576 L1175.24 348.194 L1183.98 306.117 L1192.72 266.746 L1201.46 230.468 L1206 212.952 L1210.55 196.418 L1215.09 180.914 L1219.63 166.482 L1224.18 153.164 L1228.72 140.998 L1233.27 130.018 L1237.81 120.257 L1242.35 111.743 L1246.9 104.5 L1251.44 98.551 L1255.99 93.9122 L1260.53 90.5975 L1265.07 88.6169 L1269.62 87.9763 L1274.16 88.6774 L1277.99 90.3064 L1281.81 92.8813 L1285.64 96.3969 L1289.46 100.846 L1293.29 106.218 L1297.11 112.504 L1300.94 119.689 L1304.76 127.759 L1312.41 146.485 L1320.06 168.528 L1327.71 193.71 L1335.36 221.83 L1340.03 240.345 L1344.7 259.819 L1349.37 280.196 L1354.04 301.418 L1363.38 346.16 L1372.72 393.555 L1382.06 443.104 L1391.4 494.301 L1400.74 546.647 L1410.08 599.653 L1427.19 696.949 L1444.3 792.282 L1452.86 838.495 L1461.41 883.415 L1469.97 926.833 L1478.52 968.574 L1486.43 1005.51 L1494.33 1040.8 L1502.23 1074.37 L1510.13 1106.17 L1518.03 1136.18 L1525.94 1164.38 L1533.84 1190.77 L1541.74 1215.37 L1549.74 1238.51 L1557.75 1259.9 L1565.75 1279.58 L1573.76 1297.64 L1581.76 1314.14 L1589.77 1329.16 L1597.77 1342.78 L1605.77 1355.08 L1614.75 1367.42 L1623.72 1378.34 L1632.69 1387.96 L1641.66 1396.4 L1650.63 1403.76 L1659.6 1410.17 L1668.57 1415.71 L1677.54 1420.48 L1693.8 1427.46 L1710.06 1432.68 L1726.31 1436.52 L1742.57 1439.31 L1779.8 1443.05 L1817.03 1444.68 L1851.5 1445.31 L1885.97 1445.56 L1953.93 1445.7 L2019.92 1445.71 L2087.57 1445.72 L2161.69 1445.72 L2269.35 1445.72 L2291.44 1445.72 L2291.44 1445.72 L2269.35 1445.72 L2161.69 1445.72 L2087.57 1445.72 L2019.92 1445.72 L1953.93 1445.72 L1885.97 1445.72 L1851.5 1445.72 L1817.03 1445.72 L1779.8 1445.72 L1742.57 1445.72 L1726.31 1445.72 L1710.06 1445.72 L1693.8 1445.72 L1677.54 1445.72 L1668.57 1445.72 L1659.6 1445.72 L1650.63 1445.72 L1641.66 1445.72 L1632.69 1445.72 L1623.72 1445.72 L1614.75 1445.72 L1605.77 1445.72 L1597.77 1445.72 L1589.77 1445.72 L1581.76 1445.72 L1573.76 1445.72 L1565.75 1445.72 L1557.75 1445.72 L1549.74 1445.72 L1541.74 1445.72 L1533.84 1445.72 L1525.94 1445.72 L1518.03 1445.72 L1510.13 1445.72 L1502.23 1445.72 L1494.33 1445.72 L1486.43 1445.72 L1478.52 1445.72 L1469.97 1445.72 L1461.41 1445.72 L1452.86 1445.72 L1444.3 1445.72 L1427.19 1445.72 L1410.08 1445.72 L1400.74 1445.72 L1391.4 1445.72 L1382.06 1445.72 L1372.72 1445.72 L1363.38 1445.72 L1354.04 1445.72 L1349.37 1445.72 L1344.7 1445.72 L1340.03 1445.72 L1335.36 1445.72 L1327.71 1445.72 L1320.06 1445.72 L1312.41 1445.72 L1304.76 1445.72 L1300.94 1445.72 L1297.11 1445.72 L1293.29 1445.72 L1289.46 1445.72 L1285.64 1445.72 L1281.81 1445.72 L1277.99 1445.72 L1274.16 1445.72 L1269.62 1445.72 L1265.07 1445.72 L1260.53 1445.72 L1255.99 1445.72 L1251.44 1445.72 L1246.9 1445.72 L1242.35 1445.72 L1237.81 1445.72 L1233.27 1445.72 L1228.72 1445.72 L1224.18 1445.72 L1219.63 1445.72 L1215.09 1445.72 L1210.55 1445.72 L1206 1445.72 L1201.46 1445.72 L1192.72 1445.72 L1183.98 1445.72 L1175.24 1445.72 L1166.5 1445.72 L1157.76 1445.72 L1149.02 1445.72 L1140.28 1445.72 L1131.54 1445.72 L1113.17 1445.72 L1094.79 1445.72 L1085.61 1445.72 L1076.42 1445.72 L1067.24 1445.72 L1058.05 1445.72 L1049.74 1445.72 L1041.43 1445.72 L1033.13 1445.72 L1024.82 1445.72 L1016.51 1445.72 L1008.2 1445.72 L999.893 1445.72 L991.585 1445.72 L983.325 1445.72 L975.066 1445.72 L966.807 1445.72 L958.548 1445.72 L950.288 1445.72 L942.029 1445.72 L933.77 1445.72 L925.511 1445.72 L910.36 1445.72 L895.209 1445.72 L880.058 1445.72 L864.908 1445.72 L847.63 1445.72 L830.353 1445.72 L813.075 1445.72 L795.798 1445.72 L756.914 1445.72 L718.031 1445.72 L684.47 1445.72 L650.909 1445.72 L588.302 1445.72 L520.392 1445.72 L457.876 1445.72 L383.935 1445.72 L260.896 1445.72 L247.59 1445.72  Z\" fill=\"#009af9\" fill-rule=\"evenodd\" fill-opacity=\"0.3\"/>\n",
       "<polyline clip-path=\"url(#clip402)\" style=\"stroke:#009af9; stroke-linecap:round; stroke-linejoin:round; stroke-width:0; stroke-opacity:0.3; fill:none\" points=\"247.59,1445.72 260.896,1445.72 383.935,1445.72 457.876,1445.72 520.392,1445.71 588.302,1445.7 650.909,1445.57 684.47,1445.34 718.031,1444.78 756.914,1443.2 795.798,1439.41 813.075,1436.45 830.353,1432.3 847.63,1426.56 864.908,1418.75 880.058,1409.75 895.209,1398.27 910.36,1383.81 925.511,1365.82 933.77,1354.33 942.029,1341.53 950.288,1327.31 958.548,1311.6 966.807,1294.3 975.066,1275.33 983.325,1254.6 991.585,1232.05 999.893,1207.47 1008.2,1180.93 1016.51,1152.41 1024.82,1121.89 1033.13,1089.38 1041.43,1054.89 1049.74,1018.48 1058.05,980.218 1067.24,935.88 1076.42,889.57 1085.61,841.5 1094.79,791.921 1113.17,689.447 1131.54,584.934 1140.28,535.438 1149.02,486.611 1157.76,438.853 1166.5,392.576 1175.24,348.194 1183.98,306.117 1192.72,266.746 1201.46,230.468 1206,212.952 1210.55,196.418 1215.09,180.914 1219.63,166.482 1224.18,153.164 1228.72,140.998 1233.27,130.018 1237.81,120.257 1242.35,111.743 1246.9,104.5 1251.44,98.551 1255.99,93.9122 1260.53,90.5975 1265.07,88.6169 1269.62,87.9763 1274.16,88.6774 1277.99,90.3064 1281.81,92.8813 1285.64,96.3969 1289.46,100.846 1293.29,106.218 1297.11,112.504 1300.94,119.689 1304.76,127.759 1312.41,146.485 1320.06,168.528 1327.71,193.71 1335.36,221.83 1340.03,240.345 1344.7,259.819 1349.37,280.196 1354.04,301.418 1363.38,346.16 1372.72,393.555 1382.06,443.104 1391.4,494.301 1400.74,546.647 1410.08,599.653 1427.19,696.949 1444.3,792.282 1452.86,838.495 1461.41,883.415 1469.97,926.833 1478.52,968.574 1486.43,1005.51 1494.33,1040.8 1502.23,1074.37 1510.13,1106.17 1518.03,1136.18 1525.94,1164.38 1533.84,1190.77 1541.74,1215.37 1549.74,1238.51 1557.75,1259.9 1565.75,1279.58 1573.76,1297.64 1581.76,1314.14 1589.77,1329.16 1597.77,1342.78 1605.77,1355.08 1614.75,1367.42 1623.72,1378.34 1632.69,1387.96 1641.66,1396.4 1650.63,1403.76 1659.6,1410.17 1668.57,1415.71 1677.54,1420.48 1693.8,1427.46 1710.06,1432.68 1726.31,1436.52 1742.57,1439.31 1779.8,1443.05 1817.03,1444.68 1851.5,1445.31 1885.97,1445.56 1953.93,1445.7 2019.92,1445.71 2087.57,1445.72 2161.69,1445.72 2269.35,1445.72 2291.44,1445.72 \"/>\n",
       "<polyline clip-path=\"url(#clip402)\" style=\"stroke:#0000ff; stroke-linecap:round; stroke-linejoin:round; stroke-width:12; stroke-opacity:1; fill:none\" points=\"247.59,1445.72 260.896,1445.72 383.935,1445.72 457.876,1445.72 520.392,1445.71 588.302,1445.7 650.909,1445.57 684.47,1445.34 718.031,1444.78 756.914,1443.2 795.798,1439.41 813.075,1436.45 830.353,1432.3 847.63,1426.56 864.908,1418.75 880.058,1409.75 895.209,1398.27 910.36,1383.81 925.511,1365.82 933.77,1354.33 942.029,1341.53 950.288,1327.31 958.548,1311.6 966.807,1294.3 975.066,1275.33 983.325,1254.6 991.585,1232.05 999.893,1207.47 1008.2,1180.93 1016.51,1152.41 1024.82,1121.89 1033.13,1089.38 1041.43,1054.89 1049.74,1018.48 1058.05,980.218 1067.24,935.88 1076.42,889.57 1085.61,841.5 1094.79,791.921 1113.17,689.447 1131.54,584.934 1140.28,535.438 1149.02,486.611 1157.76,438.853 1166.5,392.576 1175.24,348.194 1183.98,306.117 1192.72,266.746 1201.46,230.468 1206,212.952 1210.55,196.418 1215.09,180.914 1219.63,166.482 1224.18,153.164 1228.72,140.998 1233.27,130.018 1237.81,120.257 1242.35,111.743 1246.9,104.5 1251.44,98.551 1255.99,93.9122 1260.53,90.5975 1265.07,88.6169 1269.62,87.9763 1274.16,88.6774 1277.99,90.3064 1281.81,92.8813 1285.64,96.3969 1289.46,100.846 1293.29,106.218 1297.11,112.504 1300.94,119.689 1304.76,127.759 1312.41,146.485 1320.06,168.528 1327.71,193.71 1335.36,221.83 1340.03,240.345 1344.7,259.819 1349.37,280.196 1354.04,301.418 1363.38,346.16 1372.72,393.555 1382.06,443.104 1391.4,494.301 1400.74,546.647 1410.08,599.653 1427.19,696.949 1444.3,792.282 1452.86,838.495 1461.41,883.415 1469.97,926.833 1478.52,968.574 1486.43,1005.51 1494.33,1040.8 1502.23,1074.37 1510.13,1106.17 1518.03,1136.18 1525.94,1164.38 1533.84,1190.77 1541.74,1215.37 1549.74,1238.51 1557.75,1259.9 1565.75,1279.58 1573.76,1297.64 1581.76,1314.14 1589.77,1329.16 1597.77,1342.78 1605.77,1355.08 1614.75,1367.42 1623.72,1378.34 1632.69,1387.96 1641.66,1396.4 1650.63,1403.76 1659.6,1410.17 1668.57,1415.71 1677.54,1420.48 1693.8,1427.46 1710.06,1432.68 1726.31,1436.52 1742.57,1439.31 1779.8,1443.05 1817.03,1444.68 1851.5,1445.31 1885.97,1445.56 1953.93,1445.7 2019.92,1445.71 2087.57,1445.72 2161.69,1445.72 2269.35,1445.72 2291.44,1445.72 \"/>\n",
       "</svg>\n"
      ],
      "text/html": [
       "<?xml version=\"1.0\" encoding=\"utf-8\"?>\n",
       "<svg xmlns=\"http://www.w3.org/2000/svg\" xmlns:xlink=\"http://www.w3.org/1999/xlink\" width=\"600\" height=\"400\" viewBox=\"0 0 2400 1600\">\n",
       "<defs>\n",
       "  <clipPath id=\"clip450\">\n",
       "    <rect x=\"0\" y=\"0\" width=\"2400\" height=\"1600\"/>\n",
       "  </clipPath>\n",
       "</defs>\n",
       "<path clip-path=\"url(#clip450)\" d=\"M0 1600 L2400 1600 L2400 0 L0 0  Z\" fill=\"#ffffff\" fill-rule=\"evenodd\" fill-opacity=\"1\"/>\n",
       "<defs>\n",
       "  <clipPath id=\"clip451\">\n",
       "    <rect x=\"480\" y=\"0\" width=\"1681\" height=\"1600\"/>\n",
       "  </clipPath>\n",
       "</defs>\n",
       "<path clip-path=\"url(#clip450)\" d=\"M186.274 1486.45 L2352.76 1486.45 L2352.76 47.2441 L186.274 47.2441  Z\" fill=\"#ffffff\" fill-rule=\"evenodd\" fill-opacity=\"1\"/>\n",
       "<defs>\n",
       "  <clipPath id=\"clip452\">\n",
       "    <rect x=\"186\" y=\"47\" width=\"2167\" height=\"1440\"/>\n",
       "  </clipPath>\n",
       "</defs>\n",
       "<polyline clip-path=\"url(#clip452)\" style=\"stroke:#000000; stroke-linecap:round; stroke-linejoin:round; stroke-width:2; stroke-opacity:0.1; fill:none\" points=\"451.975,1486.45 451.975,47.2441 \"/>\n",
       "<polyline clip-path=\"url(#clip452)\" style=\"stroke:#000000; stroke-linecap:round; stroke-linejoin:round; stroke-width:2; stroke-opacity:0.1; fill:none\" points=\"860.745,1486.45 860.745,47.2441 \"/>\n",
       "<polyline clip-path=\"url(#clip452)\" style=\"stroke:#000000; stroke-linecap:round; stroke-linejoin:round; stroke-width:2; stroke-opacity:0.1; fill:none\" points=\"1269.51,1486.45 1269.51,47.2441 \"/>\n",
       "<polyline clip-path=\"url(#clip452)\" style=\"stroke:#000000; stroke-linecap:round; stroke-linejoin:round; stroke-width:2; stroke-opacity:0.1; fill:none\" points=\"1678.29,1486.45 1678.29,47.2441 \"/>\n",
       "<polyline clip-path=\"url(#clip452)\" style=\"stroke:#000000; stroke-linecap:round; stroke-linejoin:round; stroke-width:2; stroke-opacity:0.1; fill:none\" points=\"2087.06,1486.45 2087.06,47.2441 \"/>\n",
       "<polyline clip-path=\"url(#clip450)\" style=\"stroke:#000000; stroke-linecap:round; stroke-linejoin:round; stroke-width:4; stroke-opacity:1; fill:none\" points=\"186.274,1486.45 2352.76,1486.45 \"/>\n",
       "<polyline clip-path=\"url(#clip450)\" style=\"stroke:#000000; stroke-linecap:round; stroke-linejoin:round; stroke-width:4; stroke-opacity:1; fill:none\" points=\"451.975,1486.45 451.975,1467.55 \"/>\n",
       "<polyline clip-path=\"url(#clip450)\" style=\"stroke:#000000; stroke-linecap:round; stroke-linejoin:round; stroke-width:4; stroke-opacity:1; fill:none\" points=\"860.745,1486.45 860.745,1467.55 \"/>\n",
       "<polyline clip-path=\"url(#clip450)\" style=\"stroke:#000000; stroke-linecap:round; stroke-linejoin:round; stroke-width:4; stroke-opacity:1; fill:none\" points=\"1269.51,1486.45 1269.51,1467.55 \"/>\n",
       "<polyline clip-path=\"url(#clip450)\" style=\"stroke:#000000; stroke-linecap:round; stroke-linejoin:round; stroke-width:4; stroke-opacity:1; fill:none\" points=\"1678.29,1486.45 1678.29,1467.55 \"/>\n",
       "<polyline clip-path=\"url(#clip450)\" style=\"stroke:#000000; stroke-linecap:round; stroke-linejoin:round; stroke-width:4; stroke-opacity:1; fill:none\" points=\"2087.06,1486.45 2087.06,1467.55 \"/>\n",
       "<path clip-path=\"url(#clip450)\" d=\"M420.875 1532.02 L450.551 1532.02 L450.551 1535.95 L420.875 1535.95 L420.875 1532.02 Z\" fill=\"#000000\" fill-rule=\"nonzero\" fill-opacity=\"1\" /><path clip-path=\"url(#clip450)\" d=\"M473.491 1518.36 L461.685 1536.81 L473.491 1536.81 L473.491 1518.36 M472.264 1514.29 L478.143 1514.29 L478.143 1536.81 L483.074 1536.81 L483.074 1540.7 L478.143 1540.7 L478.143 1548.85 L473.491 1548.85 L473.491 1540.7 L457.889 1540.7 L457.889 1536.19 L472.264 1514.29 Z\" fill=\"#000000\" fill-rule=\"nonzero\" fill-opacity=\"1\" /><path clip-path=\"url(#clip450)\" d=\"M830.687 1532.02 L860.363 1532.02 L860.363 1535.95 L830.687 1535.95 L830.687 1532.02 Z\" fill=\"#000000\" fill-rule=\"nonzero\" fill-opacity=\"1\" /><path clip-path=\"url(#clip450)\" d=\"M874.483 1544.91 L890.802 1544.91 L890.802 1548.85 L868.858 1548.85 L868.858 1544.91 Q871.52 1542.16 876.103 1537.53 Q880.71 1532.88 881.891 1531.53 Q884.136 1529.01 885.015 1527.27 Q885.918 1525.51 885.918 1523.82 Q885.918 1521.07 883.974 1519.33 Q882.053 1517.6 878.951 1517.6 Q876.752 1517.6 874.298 1518.36 Q871.867 1519.13 869.09 1520.68 L869.09 1515.95 Q871.914 1514.82 874.367 1514.24 Q876.821 1513.66 878.858 1513.66 Q884.228 1513.66 887.423 1516.35 Q890.617 1519.03 890.617 1523.52 Q890.617 1525.65 889.807 1527.57 Q889.02 1529.47 886.914 1532.07 Q886.335 1532.74 883.233 1535.95 Q880.131 1539.15 874.483 1544.91 Z\" fill=\"#000000\" fill-rule=\"nonzero\" fill-opacity=\"1\" /><path clip-path=\"url(#clip450)\" d=\"M1269.51 1517.37 Q1265.9 1517.37 1264.08 1520.93 Q1262.27 1524.47 1262.27 1531.6 Q1262.27 1538.71 1264.08 1542.27 Q1265.9 1545.82 1269.51 1545.82 Q1273.15 1545.82 1274.95 1542.27 Q1276.78 1538.71 1276.78 1531.6 Q1276.78 1524.47 1274.95 1520.93 Q1273.15 1517.37 1269.51 1517.37 M1269.51 1513.66 Q1275.33 1513.66 1278.38 1518.27 Q1281.46 1522.85 1281.46 1531.6 Q1281.46 1540.33 1278.38 1544.94 Q1275.33 1549.52 1269.51 1549.52 Q1263.7 1549.52 1260.63 1544.94 Q1257.57 1540.33 1257.57 1531.6 Q1257.57 1522.85 1260.63 1518.27 Q1263.7 1513.66 1269.51 1513.66 Z\" fill=\"#000000\" fill-rule=\"nonzero\" fill-opacity=\"1\" /><path clip-path=\"url(#clip450)\" d=\"M1672.94 1544.91 L1689.26 1544.91 L1689.26 1548.85 L1667.31 1548.85 L1667.31 1544.91 Q1669.97 1542.16 1674.56 1537.53 Q1679.16 1532.88 1680.35 1531.53 Q1682.59 1529.01 1683.47 1527.27 Q1684.37 1525.51 1684.37 1523.82 Q1684.37 1521.07 1682.43 1519.33 Q1680.51 1517.6 1677.41 1517.6 Q1675.21 1517.6 1672.75 1518.36 Q1670.32 1519.13 1667.54 1520.68 L1667.54 1515.95 Q1670.37 1514.82 1672.82 1514.24 Q1675.28 1513.66 1677.31 1513.66 Q1682.68 1513.66 1685.88 1516.35 Q1689.07 1519.03 1689.07 1523.52 Q1689.07 1525.65 1688.26 1527.57 Q1687.47 1529.47 1685.37 1532.07 Q1684.79 1532.74 1681.69 1535.95 Q1678.59 1539.15 1672.94 1544.91 Z\" fill=\"#000000\" fill-rule=\"nonzero\" fill-opacity=\"1\" /><path clip-path=\"url(#clip450)\" d=\"M2090.06 1518.36 L2078.26 1536.81 L2090.06 1536.81 L2090.06 1518.36 M2088.84 1514.29 L2094.72 1514.29 L2094.72 1536.81 L2099.65 1536.81 L2099.65 1540.7 L2094.72 1540.7 L2094.72 1548.85 L2090.06 1548.85 L2090.06 1540.7 L2074.46 1540.7 L2074.46 1536.19 L2088.84 1514.29 Z\" fill=\"#000000\" fill-rule=\"nonzero\" fill-opacity=\"1\" /><polyline clip-path=\"url(#clip452)\" style=\"stroke:#000000; stroke-linecap:round; stroke-linejoin:round; stroke-width:2; stroke-opacity:0.1; fill:none\" points=\"186.274,1445.72 2352.76,1445.72 \"/>\n",
       "<polyline clip-path=\"url(#clip452)\" style=\"stroke:#000000; stroke-linecap:round; stroke-linejoin:round; stroke-width:2; stroke-opacity:0.1; fill:none\" points=\"186.274,1106.28 2352.76,1106.28 \"/>\n",
       "<polyline clip-path=\"url(#clip452)\" style=\"stroke:#000000; stroke-linecap:round; stroke-linejoin:round; stroke-width:2; stroke-opacity:0.1; fill:none\" points=\"186.274,766.846 2352.76,766.846 \"/>\n",
       "<polyline clip-path=\"url(#clip452)\" style=\"stroke:#000000; stroke-linecap:round; stroke-linejoin:round; stroke-width:2; stroke-opacity:0.1; fill:none\" points=\"186.274,427.411 2352.76,427.411 \"/>\n",
       "<polyline clip-path=\"url(#clip452)\" style=\"stroke:#000000; stroke-linecap:round; stroke-linejoin:round; stroke-width:2; stroke-opacity:0.1; fill:none\" points=\"186.274,87.9759 2352.76,87.9759 \"/>\n",
       "<polyline clip-path=\"url(#clip450)\" style=\"stroke:#000000; stroke-linecap:round; stroke-linejoin:round; stroke-width:4; stroke-opacity:1; fill:none\" points=\"186.274,1486.45 186.274,47.2441 \"/>\n",
       "<polyline clip-path=\"url(#clip450)\" style=\"stroke:#000000; stroke-linecap:round; stroke-linejoin:round; stroke-width:4; stroke-opacity:1; fill:none\" points=\"186.274,1445.72 205.172,1445.72 \"/>\n",
       "<polyline clip-path=\"url(#clip450)\" style=\"stroke:#000000; stroke-linecap:round; stroke-linejoin:round; stroke-width:4; stroke-opacity:1; fill:none\" points=\"186.274,1106.28 205.172,1106.28 \"/>\n",
       "<polyline clip-path=\"url(#clip450)\" style=\"stroke:#000000; stroke-linecap:round; stroke-linejoin:round; stroke-width:4; stroke-opacity:1; fill:none\" points=\"186.274,766.846 205.172,766.846 \"/>\n",
       "<polyline clip-path=\"url(#clip450)\" style=\"stroke:#000000; stroke-linecap:round; stroke-linejoin:round; stroke-width:4; stroke-opacity:1; fill:none\" points=\"186.274,427.411 205.172,427.411 \"/>\n",
       "<polyline clip-path=\"url(#clip450)\" style=\"stroke:#000000; stroke-linecap:round; stroke-linejoin:round; stroke-width:4; stroke-opacity:1; fill:none\" points=\"186.274,87.9759 205.172,87.9759 \"/>\n",
       "<path clip-path=\"url(#clip450)\" d=\"M62.9365 1431.51 Q59.3254 1431.51 57.4967 1435.08 Q55.6912 1438.62 55.6912 1445.75 Q55.6912 1452.86 57.4967 1456.42 Q59.3254 1459.96 62.9365 1459.96 Q66.5707 1459.96 68.3763 1456.42 Q70.205 1452.86 70.205 1445.75 Q70.205 1438.62 68.3763 1435.08 Q66.5707 1431.51 62.9365 1431.51 M62.9365 1427.81 Q68.7467 1427.81 71.8022 1432.42 Q74.8809 1437 74.8809 1445.75 Q74.8809 1454.48 71.8022 1459.08 Q68.7467 1463.67 62.9365 1463.67 Q57.1264 1463.67 54.0477 1459.08 Q50.9921 1454.48 50.9921 1445.75 Q50.9921 1437 54.0477 1432.42 Q57.1264 1427.81 62.9365 1427.81 Z\" fill=\"#000000\" fill-rule=\"nonzero\" fill-opacity=\"1\" /><path clip-path=\"url(#clip450)\" d=\"M83.0984 1457.12 L87.9827 1457.12 L87.9827 1463 L83.0984 1463 L83.0984 1457.12 Z\" fill=\"#000000\" fill-rule=\"nonzero\" fill-opacity=\"1\" /><path clip-path=\"url(#clip450)\" d=\"M108.168 1431.51 Q104.557 1431.51 102.728 1435.08 Q100.922 1438.62 100.922 1445.75 Q100.922 1452.86 102.728 1456.42 Q104.557 1459.96 108.168 1459.96 Q111.802 1459.96 113.608 1456.42 Q115.436 1452.86 115.436 1445.75 Q115.436 1438.62 113.608 1435.08 Q111.802 1431.51 108.168 1431.51 M108.168 1427.81 Q113.978 1427.81 117.033 1432.42 Q120.112 1437 120.112 1445.75 Q120.112 1454.48 117.033 1459.08 Q113.978 1463.67 108.168 1463.67 Q102.358 1463.67 99.2789 1459.08 Q96.2234 1454.48 96.2234 1445.75 Q96.2234 1437 99.2789 1432.42 Q102.358 1427.81 108.168 1427.81 Z\" fill=\"#000000\" fill-rule=\"nonzero\" fill-opacity=\"1\" /><path clip-path=\"url(#clip450)\" d=\"M138.33 1431.51 Q134.719 1431.51 132.89 1435.08 Q131.084 1438.62 131.084 1445.75 Q131.084 1452.86 132.89 1456.42 Q134.719 1459.96 138.33 1459.96 Q141.964 1459.96 143.769 1456.42 Q145.598 1452.86 145.598 1445.75 Q145.598 1438.62 143.769 1435.08 Q141.964 1431.51 138.33 1431.51 M138.33 1427.81 Q144.14 1427.81 147.195 1432.42 Q150.274 1437 150.274 1445.75 Q150.274 1454.48 147.195 1459.08 Q144.14 1463.67 138.33 1463.67 Q132.519 1463.67 129.441 1459.08 Q126.385 1454.48 126.385 1445.75 Q126.385 1437 129.441 1432.42 Q132.519 1427.81 138.33 1427.81 Z\" fill=\"#000000\" fill-rule=\"nonzero\" fill-opacity=\"1\" /><path clip-path=\"url(#clip450)\" d=\"M63.9319 1092.08 Q60.3208 1092.08 58.4921 1095.64 Q56.6865 1099.19 56.6865 1106.32 Q56.6865 1113.42 58.4921 1116.99 Q60.3208 1120.53 63.9319 1120.53 Q67.5661 1120.53 69.3717 1116.99 Q71.2004 1113.42 71.2004 1106.32 Q71.2004 1099.19 69.3717 1095.64 Q67.5661 1092.08 63.9319 1092.08 M63.9319 1088.38 Q69.742 1088.38 72.7976 1092.98 Q75.8763 1097.57 75.8763 1106.32 Q75.8763 1115.04 72.7976 1119.65 Q69.742 1124.23 63.9319 1124.23 Q58.1217 1124.23 55.043 1119.65 Q51.9875 1115.04 51.9875 1106.32 Q51.9875 1097.57 55.043 1092.98 Q58.1217 1088.38 63.9319 1088.38 Z\" fill=\"#000000\" fill-rule=\"nonzero\" fill-opacity=\"1\" /><path clip-path=\"url(#clip450)\" d=\"M84.0938 1117.68 L88.978 1117.68 L88.978 1123.56 L84.0938 1123.56 L84.0938 1117.68 Z\" fill=\"#000000\" fill-rule=\"nonzero\" fill-opacity=\"1\" /><path clip-path=\"url(#clip450)\" d=\"M103.191 1119.63 L119.51 1119.63 L119.51 1123.56 L97.566 1123.56 L97.566 1119.63 Q100.228 1116.87 104.811 1112.24 Q109.418 1107.59 110.598 1106.25 Q112.844 1103.72 113.723 1101.99 Q114.626 1100.23 114.626 1098.54 Q114.626 1095.78 112.682 1094.05 Q110.76 1092.31 107.658 1092.31 Q105.459 1092.31 103.006 1093.07 Q100.575 1093.84 97.7974 1095.39 L97.7974 1090.67 Q100.621 1089.53 103.075 1088.95 Q105.529 1088.38 107.566 1088.38 Q112.936 1088.38 116.131 1091.06 Q119.325 1093.75 119.325 1098.24 Q119.325 1100.37 118.515 1102.29 Q117.728 1104.19 115.621 1106.78 Q115.043 1107.45 111.941 1110.67 Q108.839 1113.86 103.191 1119.63 Z\" fill=\"#000000\" fill-rule=\"nonzero\" fill-opacity=\"1\" /><path clip-path=\"url(#clip450)\" d=\"M129.371 1089 L147.728 1089 L147.728 1092.94 L133.654 1092.94 L133.654 1101.41 Q134.672 1101.06 135.691 1100.9 Q136.709 1100.71 137.728 1100.71 Q143.515 1100.71 146.894 1103.88 Q150.274 1107.06 150.274 1112.47 Q150.274 1118.05 146.802 1121.15 Q143.33 1124.23 137.01 1124.23 Q134.834 1124.23 132.566 1123.86 Q130.32 1123.49 127.913 1122.75 L127.913 1118.05 Q129.996 1119.19 132.219 1119.74 Q134.441 1120.3 136.918 1120.3 Q140.922 1120.3 143.26 1118.19 Q145.598 1116.08 145.598 1112.47 Q145.598 1108.86 143.26 1106.76 Q140.922 1104.65 136.918 1104.65 Q135.043 1104.65 133.168 1105.07 Q131.316 1105.48 129.371 1106.36 L129.371 1089 Z\" fill=\"#000000\" fill-rule=\"nonzero\" fill-opacity=\"1\" /><path clip-path=\"url(#clip450)\" d=\"M62.9365 752.645 Q59.3254 752.645 57.4967 756.209 Q55.6912 759.751 55.6912 766.881 Q55.6912 773.987 57.4967 777.552 Q59.3254 781.093 62.9365 781.093 Q66.5707 781.093 68.3763 777.552 Q70.205 773.987 70.205 766.881 Q70.205 759.751 68.3763 756.209 Q66.5707 752.645 62.9365 752.645 M62.9365 748.941 Q68.7467 748.941 71.8022 753.547 Q74.8809 758.131 74.8809 766.881 Q74.8809 775.607 71.8022 780.214 Q68.7467 784.797 62.9365 784.797 Q57.1264 784.797 54.0477 780.214 Q50.9921 775.607 50.9921 766.881 Q50.9921 758.131 54.0477 753.547 Q57.1264 748.941 62.9365 748.941 Z\" fill=\"#000000\" fill-rule=\"nonzero\" fill-opacity=\"1\" /><path clip-path=\"url(#clip450)\" d=\"M83.0984 778.246 L87.9827 778.246 L87.9827 784.126 L83.0984 784.126 L83.0984 778.246 Z\" fill=\"#000000\" fill-rule=\"nonzero\" fill-opacity=\"1\" /><path clip-path=\"url(#clip450)\" d=\"M98.2141 749.566 L116.57 749.566 L116.57 753.501 L102.496 753.501 L102.496 761.973 Q103.515 761.626 104.534 761.464 Q105.552 761.279 106.571 761.279 Q112.358 761.279 115.737 764.45 Q119.117 767.621 119.117 773.038 Q119.117 778.617 115.645 781.718 Q112.172 784.797 105.853 784.797 Q103.677 784.797 101.409 784.427 Q99.1632 784.056 96.7558 783.316 L96.7558 778.617 Q98.8391 779.751 101.061 780.306 Q103.284 780.862 105.76 780.862 Q109.765 780.862 112.103 778.755 Q114.441 776.649 114.441 773.038 Q114.441 769.427 112.103 767.32 Q109.765 765.214 105.76 765.214 Q103.885 765.214 102.01 765.631 Q100.159 766.047 98.2141 766.927 L98.2141 749.566 Z\" fill=\"#000000\" fill-rule=\"nonzero\" fill-opacity=\"1\" /><path clip-path=\"url(#clip450)\" d=\"M138.33 752.645 Q134.719 752.645 132.89 756.209 Q131.084 759.751 131.084 766.881 Q131.084 773.987 132.89 777.552 Q134.719 781.093 138.33 781.093 Q141.964 781.093 143.769 777.552 Q145.598 773.987 145.598 766.881 Q145.598 759.751 143.769 756.209 Q141.964 752.645 138.33 752.645 M138.33 748.941 Q144.14 748.941 147.195 753.547 Q150.274 758.131 150.274 766.881 Q150.274 775.607 147.195 780.214 Q144.14 784.797 138.33 784.797 Q132.519 784.797 129.441 780.214 Q126.385 775.607 126.385 766.881 Q126.385 758.131 129.441 753.547 Q132.519 748.941 138.33 748.941 Z\" fill=\"#000000\" fill-rule=\"nonzero\" fill-opacity=\"1\" /><path clip-path=\"url(#clip450)\" d=\"M63.9319 413.21 Q60.3208 413.21 58.4921 416.774 Q56.6865 420.316 56.6865 427.446 Q56.6865 434.552 58.4921 438.117 Q60.3208 441.658 63.9319 441.658 Q67.5661 441.658 69.3717 438.117 Q71.2004 434.552 71.2004 427.446 Q71.2004 420.316 69.3717 416.774 Q67.5661 413.21 63.9319 413.21 M63.9319 409.506 Q69.742 409.506 72.7976 414.112 Q75.8763 418.696 75.8763 427.446 Q75.8763 436.172 72.7976 440.779 Q69.742 445.362 63.9319 445.362 Q58.1217 445.362 55.043 440.779 Q51.9875 436.172 51.9875 427.446 Q51.9875 418.696 55.043 414.112 Q58.1217 409.506 63.9319 409.506 Z\" fill=\"#000000\" fill-rule=\"nonzero\" fill-opacity=\"1\" /><path clip-path=\"url(#clip450)\" d=\"M84.0938 438.811 L88.978 438.811 L88.978 444.691 L84.0938 444.691 L84.0938 438.811 Z\" fill=\"#000000\" fill-rule=\"nonzero\" fill-opacity=\"1\" /><path clip-path=\"url(#clip450)\" d=\"M97.9826 410.131 L120.205 410.131 L120.205 412.122 L107.658 444.691 L102.774 444.691 L114.58 414.066 L97.9826 414.066 L97.9826 410.131 Z\" fill=\"#000000\" fill-rule=\"nonzero\" fill-opacity=\"1\" /><path clip-path=\"url(#clip450)\" d=\"M129.371 410.131 L147.728 410.131 L147.728 414.066 L133.654 414.066 L133.654 422.538 Q134.672 422.191 135.691 422.029 Q136.709 421.844 137.728 421.844 Q143.515 421.844 146.894 425.015 Q150.274 428.186 150.274 433.603 Q150.274 439.182 146.802 442.283 Q143.33 445.362 137.01 445.362 Q134.834 445.362 132.566 444.992 Q130.32 444.621 127.913 443.881 L127.913 439.182 Q129.996 440.316 132.219 440.871 Q134.441 441.427 136.918 441.427 Q140.922 441.427 143.26 439.321 Q145.598 437.214 145.598 433.603 Q145.598 429.992 143.26 427.885 Q140.922 425.779 136.918 425.779 Q135.043 425.779 133.168 426.196 Q131.316 426.612 129.371 427.492 L129.371 410.131 Z\" fill=\"#000000\" fill-rule=\"nonzero\" fill-opacity=\"1\" /><path clip-path=\"url(#clip450)\" d=\"M53.7467 101.321 L61.3856 101.321 L61.3856 74.9552 L53.0754 76.6218 L53.0754 72.3626 L61.3393 70.6959 L66.0152 70.6959 L66.0152 101.321 L73.654 101.321 L73.654 105.256 L53.7467 105.256 L53.7467 101.321 Z\" fill=\"#000000\" fill-rule=\"nonzero\" fill-opacity=\"1\" /><path clip-path=\"url(#clip450)\" d=\"M83.0984 99.3763 L87.9827 99.3763 L87.9827 105.256 L83.0984 105.256 L83.0984 99.3763 Z\" fill=\"#000000\" fill-rule=\"nonzero\" fill-opacity=\"1\" /><path clip-path=\"url(#clip450)\" d=\"M108.168 73.7746 Q104.557 73.7746 102.728 77.3394 Q100.922 80.8811 100.922 88.0107 Q100.922 95.1171 102.728 98.6819 Q104.557 102.224 108.168 102.224 Q111.802 102.224 113.608 98.6819 Q115.436 95.1171 115.436 88.0107 Q115.436 80.8811 113.608 77.3394 Q111.802 73.7746 108.168 73.7746 M108.168 70.0709 Q113.978 70.0709 117.033 74.6774 Q120.112 79.2607 120.112 88.0107 Q120.112 96.7375 117.033 101.344 Q113.978 105.927 108.168 105.927 Q102.358 105.927 99.2789 101.344 Q96.2234 96.7375 96.2234 88.0107 Q96.2234 79.2607 99.2789 74.6774 Q102.358 70.0709 108.168 70.0709 Z\" fill=\"#000000\" fill-rule=\"nonzero\" fill-opacity=\"1\" /><path clip-path=\"url(#clip450)\" d=\"M138.33 73.7746 Q134.719 73.7746 132.89 77.3394 Q131.084 80.8811 131.084 88.0107 Q131.084 95.1171 132.89 98.6819 Q134.719 102.224 138.33 102.224 Q141.964 102.224 143.769 98.6819 Q145.598 95.1171 145.598 88.0107 Q145.598 80.8811 143.769 77.3394 Q141.964 73.7746 138.33 73.7746 M138.33 70.0709 Q144.14 70.0709 147.195 74.6774 Q150.274 79.2607 150.274 88.0107 Q150.274 96.7375 147.195 101.344 Q144.14 105.927 138.33 105.927 Q132.519 105.927 129.441 101.344 Q126.385 96.7375 126.385 88.0107 Q126.385 79.2607 129.441 74.6774 Q132.519 70.0709 138.33 70.0709 Z\" fill=\"#000000\" fill-rule=\"nonzero\" fill-opacity=\"1\" /><path clip-path=\"url(#clip452)\" d=\"M247.59 1445.72 L260.896 1445.72 L383.935 1445.72 L457.876 1445.72 L520.392 1445.71 L588.302 1445.7 L650.909 1445.57 L684.47 1445.34 L718.031 1444.78 L756.914 1443.2 L795.798 1439.41 L813.075 1436.45 L830.353 1432.3 L847.63 1426.56 L864.908 1418.75 L880.058 1409.75 L895.209 1398.27 L910.36 1383.81 L925.511 1365.82 L933.77 1354.33 L942.029 1341.53 L950.288 1327.31 L958.548 1311.6 L966.807 1294.3 L975.066 1275.33 L983.325 1254.6 L991.585 1232.05 L999.893 1207.47 L1008.2 1180.93 L1016.51 1152.41 L1024.82 1121.89 L1033.13 1089.38 L1041.43 1054.89 L1049.74 1018.48 L1058.05 980.218 L1067.24 935.88 L1076.42 889.57 L1085.61 841.5 L1094.79 791.921 L1113.17 689.447 L1131.54 584.934 L1140.28 535.438 L1149.02 486.611 L1157.76 438.853 L1166.5 392.576 L1175.24 348.194 L1183.98 306.117 L1192.72 266.746 L1201.46 230.468 L1206 212.952 L1210.55 196.418 L1215.09 180.914 L1219.63 166.482 L1224.18 153.164 L1228.72 140.998 L1233.27 130.018 L1237.81 120.257 L1242.35 111.743 L1246.9 104.5 L1251.44 98.551 L1255.99 93.9122 L1260.53 90.5975 L1265.07 88.6169 L1269.62 87.9763 L1274.16 88.6774 L1277.99 90.3064 L1281.81 92.8813 L1285.64 96.3969 L1289.46 100.846 L1293.29 106.218 L1297.11 112.504 L1300.94 119.689 L1304.76 127.759 L1312.41 146.485 L1320.06 168.528 L1327.71 193.71 L1335.36 221.83 L1340.03 240.345 L1344.7 259.819 L1349.37 280.196 L1354.04 301.418 L1363.38 346.16 L1372.72 393.555 L1382.06 443.104 L1391.4 494.301 L1400.74 546.647 L1410.08 599.653 L1427.19 696.949 L1444.3 792.282 L1452.86 838.495 L1461.41 883.415 L1469.97 926.833 L1478.52 968.574 L1486.43 1005.51 L1494.33 1040.8 L1502.23 1074.37 L1510.13 1106.17 L1518.03 1136.18 L1525.94 1164.38 L1533.84 1190.77 L1541.74 1215.37 L1549.74 1238.51 L1557.75 1259.9 L1565.75 1279.58 L1573.76 1297.64 L1581.76 1314.14 L1589.77 1329.16 L1597.77 1342.78 L1605.77 1355.08 L1614.75 1367.42 L1623.72 1378.34 L1632.69 1387.96 L1641.66 1396.4 L1650.63 1403.76 L1659.6 1410.17 L1668.57 1415.71 L1677.54 1420.48 L1693.8 1427.46 L1710.06 1432.68 L1726.31 1436.52 L1742.57 1439.31 L1779.8 1443.05 L1817.03 1444.68 L1851.5 1445.31 L1885.97 1445.56 L1953.93 1445.7 L2019.92 1445.71 L2087.57 1445.72 L2161.69 1445.72 L2269.35 1445.72 L2291.44 1445.72 L2291.44 1445.72 L2269.35 1445.72 L2161.69 1445.72 L2087.57 1445.72 L2019.92 1445.72 L1953.93 1445.72 L1885.97 1445.72 L1851.5 1445.72 L1817.03 1445.72 L1779.8 1445.72 L1742.57 1445.72 L1726.31 1445.72 L1710.06 1445.72 L1693.8 1445.72 L1677.54 1445.72 L1668.57 1445.72 L1659.6 1445.72 L1650.63 1445.72 L1641.66 1445.72 L1632.69 1445.72 L1623.72 1445.72 L1614.75 1445.72 L1605.77 1445.72 L1597.77 1445.72 L1589.77 1445.72 L1581.76 1445.72 L1573.76 1445.72 L1565.75 1445.72 L1557.75 1445.72 L1549.74 1445.72 L1541.74 1445.72 L1533.84 1445.72 L1525.94 1445.72 L1518.03 1445.72 L1510.13 1445.72 L1502.23 1445.72 L1494.33 1445.72 L1486.43 1445.72 L1478.52 1445.72 L1469.97 1445.72 L1461.41 1445.72 L1452.86 1445.72 L1444.3 1445.72 L1427.19 1445.72 L1410.08 1445.72 L1400.74 1445.72 L1391.4 1445.72 L1382.06 1445.72 L1372.72 1445.72 L1363.38 1445.72 L1354.04 1445.72 L1349.37 1445.72 L1344.7 1445.72 L1340.03 1445.72 L1335.36 1445.72 L1327.71 1445.72 L1320.06 1445.72 L1312.41 1445.72 L1304.76 1445.72 L1300.94 1445.72 L1297.11 1445.72 L1293.29 1445.72 L1289.46 1445.72 L1285.64 1445.72 L1281.81 1445.72 L1277.99 1445.72 L1274.16 1445.72 L1269.62 1445.72 L1265.07 1445.72 L1260.53 1445.72 L1255.99 1445.72 L1251.44 1445.72 L1246.9 1445.72 L1242.35 1445.72 L1237.81 1445.72 L1233.27 1445.72 L1228.72 1445.72 L1224.18 1445.72 L1219.63 1445.72 L1215.09 1445.72 L1210.55 1445.72 L1206 1445.72 L1201.46 1445.72 L1192.72 1445.72 L1183.98 1445.72 L1175.24 1445.72 L1166.5 1445.72 L1157.76 1445.72 L1149.02 1445.72 L1140.28 1445.72 L1131.54 1445.72 L1113.17 1445.72 L1094.79 1445.72 L1085.61 1445.72 L1076.42 1445.72 L1067.24 1445.72 L1058.05 1445.72 L1049.74 1445.72 L1041.43 1445.72 L1033.13 1445.72 L1024.82 1445.72 L1016.51 1445.72 L1008.2 1445.72 L999.893 1445.72 L991.585 1445.72 L983.325 1445.72 L975.066 1445.72 L966.807 1445.72 L958.548 1445.72 L950.288 1445.72 L942.029 1445.72 L933.77 1445.72 L925.511 1445.72 L910.36 1445.72 L895.209 1445.72 L880.058 1445.72 L864.908 1445.72 L847.63 1445.72 L830.353 1445.72 L813.075 1445.72 L795.798 1445.72 L756.914 1445.72 L718.031 1445.72 L684.47 1445.72 L650.909 1445.72 L588.302 1445.72 L520.392 1445.72 L457.876 1445.72 L383.935 1445.72 L260.896 1445.72 L247.59 1445.72  Z\" fill=\"#009af9\" fill-rule=\"evenodd\" fill-opacity=\"0.3\"/>\n",
       "<polyline clip-path=\"url(#clip452)\" style=\"stroke:#009af9; stroke-linecap:round; stroke-linejoin:round; stroke-width:0; stroke-opacity:0.3; fill:none\" points=\"247.59,1445.72 260.896,1445.72 383.935,1445.72 457.876,1445.72 520.392,1445.71 588.302,1445.7 650.909,1445.57 684.47,1445.34 718.031,1444.78 756.914,1443.2 795.798,1439.41 813.075,1436.45 830.353,1432.3 847.63,1426.56 864.908,1418.75 880.058,1409.75 895.209,1398.27 910.36,1383.81 925.511,1365.82 933.77,1354.33 942.029,1341.53 950.288,1327.31 958.548,1311.6 966.807,1294.3 975.066,1275.33 983.325,1254.6 991.585,1232.05 999.893,1207.47 1008.2,1180.93 1016.51,1152.41 1024.82,1121.89 1033.13,1089.38 1041.43,1054.89 1049.74,1018.48 1058.05,980.218 1067.24,935.88 1076.42,889.57 1085.61,841.5 1094.79,791.921 1113.17,689.447 1131.54,584.934 1140.28,535.438 1149.02,486.611 1157.76,438.853 1166.5,392.576 1175.24,348.194 1183.98,306.117 1192.72,266.746 1201.46,230.468 1206,212.952 1210.55,196.418 1215.09,180.914 1219.63,166.482 1224.18,153.164 1228.72,140.998 1233.27,130.018 1237.81,120.257 1242.35,111.743 1246.9,104.5 1251.44,98.551 1255.99,93.9122 1260.53,90.5975 1265.07,88.6169 1269.62,87.9763 1274.16,88.6774 1277.99,90.3064 1281.81,92.8813 1285.64,96.3969 1289.46,100.846 1293.29,106.218 1297.11,112.504 1300.94,119.689 1304.76,127.759 1312.41,146.485 1320.06,168.528 1327.71,193.71 1335.36,221.83 1340.03,240.345 1344.7,259.819 1349.37,280.196 1354.04,301.418 1363.38,346.16 1372.72,393.555 1382.06,443.104 1391.4,494.301 1400.74,546.647 1410.08,599.653 1427.19,696.949 1444.3,792.282 1452.86,838.495 1461.41,883.415 1469.97,926.833 1478.52,968.574 1486.43,1005.51 1494.33,1040.8 1502.23,1074.37 1510.13,1106.17 1518.03,1136.18 1525.94,1164.38 1533.84,1190.77 1541.74,1215.37 1549.74,1238.51 1557.75,1259.9 1565.75,1279.58 1573.76,1297.64 1581.76,1314.14 1589.77,1329.16 1597.77,1342.78 1605.77,1355.08 1614.75,1367.42 1623.72,1378.34 1632.69,1387.96 1641.66,1396.4 1650.63,1403.76 1659.6,1410.17 1668.57,1415.71 1677.54,1420.48 1693.8,1427.46 1710.06,1432.68 1726.31,1436.52 1742.57,1439.31 1779.8,1443.05 1817.03,1444.68 1851.5,1445.31 1885.97,1445.56 1953.93,1445.7 2019.92,1445.71 2087.57,1445.72 2161.69,1445.72 2269.35,1445.72 2291.44,1445.72 \"/>\n",
       "<polyline clip-path=\"url(#clip452)\" style=\"stroke:#0000ff; stroke-linecap:round; stroke-linejoin:round; stroke-width:12; stroke-opacity:1; fill:none\" points=\"247.59,1445.72 260.896,1445.72 383.935,1445.72 457.876,1445.72 520.392,1445.71 588.302,1445.7 650.909,1445.57 684.47,1445.34 718.031,1444.78 756.914,1443.2 795.798,1439.41 813.075,1436.45 830.353,1432.3 847.63,1426.56 864.908,1418.75 880.058,1409.75 895.209,1398.27 910.36,1383.81 925.511,1365.82 933.77,1354.33 942.029,1341.53 950.288,1327.31 958.548,1311.6 966.807,1294.3 975.066,1275.33 983.325,1254.6 991.585,1232.05 999.893,1207.47 1008.2,1180.93 1016.51,1152.41 1024.82,1121.89 1033.13,1089.38 1041.43,1054.89 1049.74,1018.48 1058.05,980.218 1067.24,935.88 1076.42,889.57 1085.61,841.5 1094.79,791.921 1113.17,689.447 1131.54,584.934 1140.28,535.438 1149.02,486.611 1157.76,438.853 1166.5,392.576 1175.24,348.194 1183.98,306.117 1192.72,266.746 1201.46,230.468 1206,212.952 1210.55,196.418 1215.09,180.914 1219.63,166.482 1224.18,153.164 1228.72,140.998 1233.27,130.018 1237.81,120.257 1242.35,111.743 1246.9,104.5 1251.44,98.551 1255.99,93.9122 1260.53,90.5975 1265.07,88.6169 1269.62,87.9763 1274.16,88.6774 1277.99,90.3064 1281.81,92.8813 1285.64,96.3969 1289.46,100.846 1293.29,106.218 1297.11,112.504 1300.94,119.689 1304.76,127.759 1312.41,146.485 1320.06,168.528 1327.71,193.71 1335.36,221.83 1340.03,240.345 1344.7,259.819 1349.37,280.196 1354.04,301.418 1363.38,346.16 1372.72,393.555 1382.06,443.104 1391.4,494.301 1400.74,546.647 1410.08,599.653 1427.19,696.949 1444.3,792.282 1452.86,838.495 1461.41,883.415 1469.97,926.833 1478.52,968.574 1486.43,1005.51 1494.33,1040.8 1502.23,1074.37 1510.13,1106.17 1518.03,1136.18 1525.94,1164.38 1533.84,1190.77 1541.74,1215.37 1549.74,1238.51 1557.75,1259.9 1565.75,1279.58 1573.76,1297.64 1581.76,1314.14 1589.77,1329.16 1597.77,1342.78 1605.77,1355.08 1614.75,1367.42 1623.72,1378.34 1632.69,1387.96 1641.66,1396.4 1650.63,1403.76 1659.6,1410.17 1668.57,1415.71 1677.54,1420.48 1693.8,1427.46 1710.06,1432.68 1726.31,1436.52 1742.57,1439.31 1779.8,1443.05 1817.03,1444.68 1851.5,1445.31 1885.97,1445.56 1953.93,1445.7 2019.92,1445.71 2087.57,1445.72 2161.69,1445.72 2269.35,1445.72 2291.44,1445.72 \"/>\n",
       "</svg>\n"
      ]
     },
     "execution_count": 46,
     "metadata": {},
     "output_type": "execute_result"
    }
   ],
   "source": [
    "plot(normal, fill=true, lw=0, legend=false, alpha=.3)\n",
    "plot!(normal, lw=3, color=\"blue\")"
   ]
  }
 ],
 "metadata": {
  "kernelspec": {
   "display_name": "Julia 1.9.3",
   "language": "julia",
   "name": "julia-1.9"
  },
  "language_info": {
   "file_extension": ".jl",
   "mimetype": "application/julia",
   "name": "julia",
   "version": "1.9.3"
  }
 },
 "nbformat": 4,
 "nbformat_minor": 2
}
